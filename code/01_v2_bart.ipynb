{
 "cells": [
  {
   "cell_type": "markdown",
   "metadata": {},
   "source": [
    "# 1.2 | Data Acquisition: Manual BART Addendum\n",
    "* [01 API Data Requests](01_API_pulls.ipynb)\n",
    "* _[01.1 Additional BART Data](01_v2_bart.ipynb.ipynb)_\n",
    "* [02 Initial EDA](02_EDA.ipynb)\n",
    "* [03 First Model: PROPHET](03_prophet.ipynb)\n",
    "---"
   ]
  },
  {
   "cell_type": "markdown",
   "metadata": {},
   "source": [
    "### [BART](bart.gov) Reporting changed in mid-2018\n",
    "* this notebook extracts monthly ridership counts for `August 2018` through `April 2022` from monthly reports archived in yearly directories, appends all to file that is appened to data obtained in previous API requests. \n"
   ]
  },
  {
   "cell_type": "code",
   "execution_count": 2,
   "metadata": {},
   "outputs": [],
   "source": [
    "##### BASIC IMPORTS \n",
    "import numpy as np\n",
    "import pandas as pd\n",
    "import glob\n",
    "import os"
   ]
  },
  {
   "cell_type": "code",
   "execution_count": 8,
   "metadata": {},
   "outputs": [
    {
     "ename": "FileNotFoundError",
     "evalue": "[Errno 2] No such file or directory: '../data/raw/bart/customer-ridership.csv'",
     "output_type": "error",
     "traceback": [
      "\u001b[0;31m---------------------------------------------------------------------------\u001b[0m",
      "\u001b[0;31mFileNotFoundError\u001b[0m                         Traceback (most recent call last)",
      "\u001b[1;32m/Users/gx/my_git/05_capstone/code/01_v2_bart.ipynb Cell 4\u001b[0m in \u001b[0;36m<cell line: 5>\u001b[0;34m()\u001b[0m\n\u001b[1;32m      <a href='vscode-notebook-cell:/Users/gx/my_git/05_capstone/code/01_v2_bart.ipynb#ch0000003?line=1'>2</a>\u001b[0m file \u001b[39m=\u001b[39m \u001b[39m'\u001b[39m\u001b[39mcustomer-ridership.csv\u001b[39m\u001b[39m'\u001b[39m\n\u001b[1;32m      <a href='vscode-notebook-cell:/Users/gx/my_git/05_capstone/code/01_v2_bart.ipynb#ch0000003?line=3'>4</a>\u001b[0m filename \u001b[39m=\u001b[39m path \u001b[39m+\u001b[39m file\n\u001b[0;32m----> <a href='vscode-notebook-cell:/Users/gx/my_git/05_capstone/code/01_v2_bart.ipynb#ch0000003?line=4'>5</a>\u001b[0m df \u001b[39m=\u001b[39m pd\u001b[39m.\u001b[39;49mread_csv(filename)\n\u001b[1;32m      <a href='vscode-notebook-cell:/Users/gx/my_git/05_capstone/code/01_v2_bart.ipynb#ch0000003?line=6'>7</a>\u001b[0m df\u001b[39m.\u001b[39mshape\n",
      "File \u001b[0;32m~/my_git/05_capstone/newenv/lib/python3.8/site-packages/pandas/io/parsers.py:610\u001b[0m, in \u001b[0;36mread_csv\u001b[0;34m(filepath_or_buffer, sep, delimiter, header, names, index_col, usecols, squeeze, prefix, mangle_dupe_cols, dtype, engine, converters, true_values, false_values, skipinitialspace, skiprows, skipfooter, nrows, na_values, keep_default_na, na_filter, verbose, skip_blank_lines, parse_dates, infer_datetime_format, keep_date_col, date_parser, dayfirst, cache_dates, iterator, chunksize, compression, thousands, decimal, lineterminator, quotechar, quoting, doublequote, escapechar, comment, encoding, dialect, error_bad_lines, warn_bad_lines, delim_whitespace, low_memory, memory_map, float_precision, storage_options)\u001b[0m\n\u001b[1;32m    605\u001b[0m kwds_defaults \u001b[39m=\u001b[39m _refine_defaults_read(\n\u001b[1;32m    606\u001b[0m     dialect, delimiter, delim_whitespace, engine, sep, defaults\u001b[39m=\u001b[39m{\u001b[39m\"\u001b[39m\u001b[39mdelimiter\u001b[39m\u001b[39m\"\u001b[39m: \u001b[39m\"\u001b[39m\u001b[39m,\u001b[39m\u001b[39m\"\u001b[39m}\n\u001b[1;32m    607\u001b[0m )\n\u001b[1;32m    608\u001b[0m kwds\u001b[39m.\u001b[39mupdate(kwds_defaults)\n\u001b[0;32m--> 610\u001b[0m \u001b[39mreturn\u001b[39;00m _read(filepath_or_buffer, kwds)\n",
      "File \u001b[0;32m~/my_git/05_capstone/newenv/lib/python3.8/site-packages/pandas/io/parsers.py:462\u001b[0m, in \u001b[0;36m_read\u001b[0;34m(filepath_or_buffer, kwds)\u001b[0m\n\u001b[1;32m    459\u001b[0m _validate_names(kwds\u001b[39m.\u001b[39mget(\u001b[39m\"\u001b[39m\u001b[39mnames\u001b[39m\u001b[39m\"\u001b[39m, \u001b[39mNone\u001b[39;00m))\n\u001b[1;32m    461\u001b[0m \u001b[39m# Create the parser.\u001b[39;00m\n\u001b[0;32m--> 462\u001b[0m parser \u001b[39m=\u001b[39m TextFileReader(filepath_or_buffer, \u001b[39m*\u001b[39;49m\u001b[39m*\u001b[39;49mkwds)\n\u001b[1;32m    464\u001b[0m \u001b[39mif\u001b[39;00m chunksize \u001b[39mor\u001b[39;00m iterator:\n\u001b[1;32m    465\u001b[0m     \u001b[39mreturn\u001b[39;00m parser\n",
      "File \u001b[0;32m~/my_git/05_capstone/newenv/lib/python3.8/site-packages/pandas/io/parsers.py:819\u001b[0m, in \u001b[0;36mTextFileReader.__init__\u001b[0;34m(self, f, engine, **kwds)\u001b[0m\n\u001b[1;32m    816\u001b[0m \u001b[39mif\u001b[39;00m \u001b[39m\"\u001b[39m\u001b[39mhas_index_names\u001b[39m\u001b[39m\"\u001b[39m \u001b[39min\u001b[39;00m kwds:\n\u001b[1;32m    817\u001b[0m     \u001b[39mself\u001b[39m\u001b[39m.\u001b[39moptions[\u001b[39m\"\u001b[39m\u001b[39mhas_index_names\u001b[39m\u001b[39m\"\u001b[39m] \u001b[39m=\u001b[39m kwds[\u001b[39m\"\u001b[39m\u001b[39mhas_index_names\u001b[39m\u001b[39m\"\u001b[39m]\n\u001b[0;32m--> 819\u001b[0m \u001b[39mself\u001b[39m\u001b[39m.\u001b[39m_engine \u001b[39m=\u001b[39m \u001b[39mself\u001b[39;49m\u001b[39m.\u001b[39;49m_make_engine(\u001b[39mself\u001b[39;49m\u001b[39m.\u001b[39;49mengine)\n",
      "File \u001b[0;32m~/my_git/05_capstone/newenv/lib/python3.8/site-packages/pandas/io/parsers.py:1050\u001b[0m, in \u001b[0;36mTextFileReader._make_engine\u001b[0;34m(self, engine)\u001b[0m\n\u001b[1;32m   1046\u001b[0m     \u001b[39mraise\u001b[39;00m \u001b[39mValueError\u001b[39;00m(\n\u001b[1;32m   1047\u001b[0m         \u001b[39mf\u001b[39m\u001b[39m\"\u001b[39m\u001b[39mUnknown engine: \u001b[39m\u001b[39m{\u001b[39;00mengine\u001b[39m}\u001b[39;00m\u001b[39m (valid options are \u001b[39m\u001b[39m{\u001b[39;00mmapping\u001b[39m.\u001b[39mkeys()\u001b[39m}\u001b[39;00m\u001b[39m)\u001b[39m\u001b[39m\"\u001b[39m\n\u001b[1;32m   1048\u001b[0m     )\n\u001b[1;32m   1049\u001b[0m \u001b[39m# error: Too many arguments for \"ParserBase\"\u001b[39;00m\n\u001b[0;32m-> 1050\u001b[0m \u001b[39mreturn\u001b[39;00m mapping[engine](\u001b[39mself\u001b[39;49m\u001b[39m.\u001b[39;49mf, \u001b[39m*\u001b[39;49m\u001b[39m*\u001b[39;49m\u001b[39mself\u001b[39;49m\u001b[39m.\u001b[39;49moptions)\n",
      "File \u001b[0;32m~/my_git/05_capstone/newenv/lib/python3.8/site-packages/pandas/io/parsers.py:1867\u001b[0m, in \u001b[0;36mCParserWrapper.__init__\u001b[0;34m(self, src, **kwds)\u001b[0m\n\u001b[1;32m   1864\u001b[0m kwds[\u001b[39m\"\u001b[39m\u001b[39musecols\u001b[39m\u001b[39m\"\u001b[39m] \u001b[39m=\u001b[39m \u001b[39mself\u001b[39m\u001b[39m.\u001b[39musecols\n\u001b[1;32m   1866\u001b[0m \u001b[39m# open handles\u001b[39;00m\n\u001b[0;32m-> 1867\u001b[0m \u001b[39mself\u001b[39;49m\u001b[39m.\u001b[39;49m_open_handles(src, kwds)\n\u001b[1;32m   1868\u001b[0m \u001b[39massert\u001b[39;00m \u001b[39mself\u001b[39m\u001b[39m.\u001b[39mhandles \u001b[39mis\u001b[39;00m \u001b[39mnot\u001b[39;00m \u001b[39mNone\u001b[39;00m\n\u001b[1;32m   1869\u001b[0m \u001b[39mfor\u001b[39;00m key \u001b[39min\u001b[39;00m (\u001b[39m\"\u001b[39m\u001b[39mstorage_options\u001b[39m\u001b[39m\"\u001b[39m, \u001b[39m\"\u001b[39m\u001b[39mencoding\u001b[39m\u001b[39m\"\u001b[39m, \u001b[39m\"\u001b[39m\u001b[39mmemory_map\u001b[39m\u001b[39m\"\u001b[39m, \u001b[39m\"\u001b[39m\u001b[39mcompression\u001b[39m\u001b[39m\"\u001b[39m):\n",
      "File \u001b[0;32m~/my_git/05_capstone/newenv/lib/python3.8/site-packages/pandas/io/parsers.py:1362\u001b[0m, in \u001b[0;36mParserBase._open_handles\u001b[0;34m(self, src, kwds)\u001b[0m\n\u001b[1;32m   1358\u001b[0m \u001b[39mdef\u001b[39;00m \u001b[39m_open_handles\u001b[39m(\u001b[39mself\u001b[39m, src: FilePathOrBuffer, kwds: Dict[\u001b[39mstr\u001b[39m, Any]) \u001b[39m-\u001b[39m\u001b[39m>\u001b[39m \u001b[39mNone\u001b[39;00m:\n\u001b[1;32m   1359\u001b[0m     \u001b[39m\"\"\"\u001b[39;00m\n\u001b[1;32m   1360\u001b[0m \u001b[39m    Let the readers open IOHanldes after they are done with their potential raises.\u001b[39;00m\n\u001b[1;32m   1361\u001b[0m \u001b[39m    \"\"\"\u001b[39;00m\n\u001b[0;32m-> 1362\u001b[0m     \u001b[39mself\u001b[39m\u001b[39m.\u001b[39mhandles \u001b[39m=\u001b[39m get_handle(\n\u001b[1;32m   1363\u001b[0m         src,\n\u001b[1;32m   1364\u001b[0m         \u001b[39m\"\u001b[39;49m\u001b[39mr\u001b[39;49m\u001b[39m\"\u001b[39;49m,\n\u001b[1;32m   1365\u001b[0m         encoding\u001b[39m=\u001b[39;49mkwds\u001b[39m.\u001b[39;49mget(\u001b[39m\"\u001b[39;49m\u001b[39mencoding\u001b[39;49m\u001b[39m\"\u001b[39;49m, \u001b[39mNone\u001b[39;49;00m),\n\u001b[1;32m   1366\u001b[0m         compression\u001b[39m=\u001b[39;49mkwds\u001b[39m.\u001b[39;49mget(\u001b[39m\"\u001b[39;49m\u001b[39mcompression\u001b[39;49m\u001b[39m\"\u001b[39;49m, \u001b[39mNone\u001b[39;49;00m),\n\u001b[1;32m   1367\u001b[0m         memory_map\u001b[39m=\u001b[39;49mkwds\u001b[39m.\u001b[39;49mget(\u001b[39m\"\u001b[39;49m\u001b[39mmemory_map\u001b[39;49m\u001b[39m\"\u001b[39;49m, \u001b[39mFalse\u001b[39;49;00m),\n\u001b[1;32m   1368\u001b[0m         storage_options\u001b[39m=\u001b[39;49mkwds\u001b[39m.\u001b[39;49mget(\u001b[39m\"\u001b[39;49m\u001b[39mstorage_options\u001b[39;49m\u001b[39m\"\u001b[39;49m, \u001b[39mNone\u001b[39;49;00m),\n\u001b[1;32m   1369\u001b[0m     )\n",
      "File \u001b[0;32m~/my_git/05_capstone/newenv/lib/python3.8/site-packages/pandas/io/common.py:647\u001b[0m, in \u001b[0;36mget_handle\u001b[0;34m(path_or_buf, mode, encoding, compression, memory_map, is_text, errors, storage_options)\u001b[0m\n\u001b[1;32m    645\u001b[0m         errors \u001b[39m=\u001b[39m \u001b[39m\"\u001b[39m\u001b[39mreplace\u001b[39m\u001b[39m\"\u001b[39m\n\u001b[1;32m    646\u001b[0m     \u001b[39m# Encoding\u001b[39;00m\n\u001b[0;32m--> 647\u001b[0m     handle \u001b[39m=\u001b[39m \u001b[39mopen\u001b[39;49m(\n\u001b[1;32m    648\u001b[0m         handle,\n\u001b[1;32m    649\u001b[0m         ioargs\u001b[39m.\u001b[39;49mmode,\n\u001b[1;32m    650\u001b[0m         encoding\u001b[39m=\u001b[39;49mioargs\u001b[39m.\u001b[39;49mencoding,\n\u001b[1;32m    651\u001b[0m         errors\u001b[39m=\u001b[39;49merrors,\n\u001b[1;32m    652\u001b[0m         newline\u001b[39m=\u001b[39;49m\u001b[39m\"\u001b[39;49m\u001b[39m\"\u001b[39;49m,\n\u001b[1;32m    653\u001b[0m     )\n\u001b[1;32m    654\u001b[0m \u001b[39melse\u001b[39;00m:\n\u001b[1;32m    655\u001b[0m     \u001b[39m# Binary mode\u001b[39;00m\n\u001b[1;32m    656\u001b[0m     handle \u001b[39m=\u001b[39m \u001b[39mopen\u001b[39m(handle, ioargs\u001b[39m.\u001b[39mmode)\n",
      "\u001b[0;31mFileNotFoundError\u001b[0m: [Errno 2] No such file or directory: '../data/raw/bart/customer-ridership.csv'"
     ]
    }
   ],
   "source": [
    "path = '../data/raw/bart/'\n",
    "file = 'customer-ridership.csv'\n",
    "\n",
    "filename = path + file\n",
    "df = pd.read_csv(filename)\n",
    "\n",
    "df.shape"
   ]
  },
  {
   "cell_type": "code",
   "execution_count": 7,
   "metadata": {},
   "outputs": [
    {
     "data": {
      "text/html": [
       "<div>\n",
       "<style scoped>\n",
       "    .dataframe tbody tr th:only-of-type {\n",
       "        vertical-align: middle;\n",
       "    }\n",
       "\n",
       "    .dataframe tbody tr th {\n",
       "        vertical-align: top;\n",
       "    }\n",
       "\n",
       "    .dataframe thead th {\n",
       "        text-align: right;\n",
       "    }\n",
       "</style>\n",
       "<table border=\"1\" class=\"dataframe\">\n",
       "  <thead>\n",
       "    <tr style=\"text-align: right;\">\n",
       "      <th></th>\n",
       "      <th>Unnamed: 0</th>\n",
       "      <th>RM</th>\n",
       "      <th>EN</th>\n",
       "      <th>EP</th>\n",
       "      <th>NB</th>\n",
       "      <th>BK</th>\n",
       "      <th>AS</th>\n",
       "      <th>MA</th>\n",
       "      <th>19</th>\n",
       "      <th>12</th>\n",
       "      <th>...</th>\n",
       "      <th>Unnamed: 55</th>\n",
       "      <th>Unnamed: 56</th>\n",
       "      <th>Unnamed: 57</th>\n",
       "      <th>Unnamed: 58</th>\n",
       "      <th>Unnamed: 59</th>\n",
       "      <th>Unnamed: 60</th>\n",
       "      <th>Unnamed: 61</th>\n",
       "      <th>Unnamed: 62</th>\n",
       "      <th>Unnamed: 63</th>\n",
       "      <th>Unnamed: 64</th>\n",
       "    </tr>\n",
       "  </thead>\n",
       "  <tbody>\n",
       "    <tr>\n",
       "      <th>46</th>\n",
       "      <td>ML</td>\n",
       "      <td>3.545455</td>\n",
       "      <td>9.500000</td>\n",
       "      <td>4.772727</td>\n",
       "      <td>5.409091</td>\n",
       "      <td>44.045455</td>\n",
       "      <td>10.636364</td>\n",
       "      <td>14.772727</td>\n",
       "      <td>20.909091</td>\n",
       "      <td>21.590909</td>\n",
       "      <td>...</td>\n",
       "      <td>NaN</td>\n",
       "      <td>NaN</td>\n",
       "      <td>NaN</td>\n",
       "      <td>NaN</td>\n",
       "      <td>NaN</td>\n",
       "      <td>NaN</td>\n",
       "      <td>NaN</td>\n",
       "      <td>NaN</td>\n",
       "      <td>NaN</td>\n",
       "      <td>NaN</td>\n",
       "    </tr>\n",
       "    <tr>\n",
       "      <th>47</th>\n",
       "      <td>BE</td>\n",
       "      <td>6.590909</td>\n",
       "      <td>11.727273</td>\n",
       "      <td>6.045455</td>\n",
       "      <td>6.500000</td>\n",
       "      <td>60.090909</td>\n",
       "      <td>11.045455</td>\n",
       "      <td>20.409091</td>\n",
       "      <td>18.772727</td>\n",
       "      <td>32.090909</td>\n",
       "      <td>...</td>\n",
       "      <td>NaN</td>\n",
       "      <td>NaN</td>\n",
       "      <td>NaN</td>\n",
       "      <td>NaN</td>\n",
       "      <td>NaN</td>\n",
       "      <td>NaN</td>\n",
       "      <td>NaN</td>\n",
       "      <td>NaN</td>\n",
       "      <td>NaN</td>\n",
       "      <td>NaN</td>\n",
       "    </tr>\n",
       "    <tr>\n",
       "      <th>48</th>\n",
       "      <td>PC</td>\n",
       "      <td>6.181818</td>\n",
       "      <td>3.363636</td>\n",
       "      <td>1.772727</td>\n",
       "      <td>1.363636</td>\n",
       "      <td>9.363636</td>\n",
       "      <td>1.500000</td>\n",
       "      <td>23.000000</td>\n",
       "      <td>7.818182</td>\n",
       "      <td>19.954545</td>\n",
       "      <td>...</td>\n",
       "      <td>NaN</td>\n",
       "      <td>NaN</td>\n",
       "      <td>NaN</td>\n",
       "      <td>NaN</td>\n",
       "      <td>NaN</td>\n",
       "      <td>NaN</td>\n",
       "      <td>NaN</td>\n",
       "      <td>NaN</td>\n",
       "      <td>NaN</td>\n",
       "      <td>NaN</td>\n",
       "    </tr>\n",
       "    <tr>\n",
       "      <th>49</th>\n",
       "      <td>AN</td>\n",
       "      <td>7.500000</td>\n",
       "      <td>9.045455</td>\n",
       "      <td>2.318182</td>\n",
       "      <td>3.545455</td>\n",
       "      <td>22.590909</td>\n",
       "      <td>5.954545</td>\n",
       "      <td>52.727273</td>\n",
       "      <td>39.636364</td>\n",
       "      <td>70.500000</td>\n",
       "      <td>...</td>\n",
       "      <td>NaN</td>\n",
       "      <td>NaN</td>\n",
       "      <td>NaN</td>\n",
       "      <td>NaN</td>\n",
       "      <td>NaN</td>\n",
       "      <td>NaN</td>\n",
       "      <td>NaN</td>\n",
       "      <td>NaN</td>\n",
       "      <td>NaN</td>\n",
       "      <td>NaN</td>\n",
       "    </tr>\n",
       "    <tr>\n",
       "      <th>50</th>\n",
       "      <td>Entries</td>\n",
       "      <td>2038.500000</td>\n",
       "      <td>3062.590909</td>\n",
       "      <td>1658.727273</td>\n",
       "      <td>1430.318182</td>\n",
       "      <td>4216.363636</td>\n",
       "      <td>1663.681818</td>\n",
       "      <td>3123.590909</td>\n",
       "      <td>3401.909091</td>\n",
       "      <td>3953.590909</td>\n",
       "      <td>...</td>\n",
       "      <td>NaN</td>\n",
       "      <td>NaN</td>\n",
       "      <td>NaN</td>\n",
       "      <td>NaN</td>\n",
       "      <td>NaN</td>\n",
       "      <td>NaN</td>\n",
       "      <td>NaN</td>\n",
       "      <td>NaN</td>\n",
       "      <td>NaN</td>\n",
       "      <td>NaN</td>\n",
       "    </tr>\n",
       "  </tbody>\n",
       "</table>\n",
       "<p>5 rows × 65 columns</p>\n",
       "</div>"
      ],
      "text/plain": [
       "   Unnamed: 0           RM           EN           EP           NB  \\\n",
       "46         ML     3.545455     9.500000     4.772727     5.409091   \n",
       "47         BE     6.590909    11.727273     6.045455     6.500000   \n",
       "48         PC     6.181818     3.363636     1.772727     1.363636   \n",
       "49         AN     7.500000     9.045455     2.318182     3.545455   \n",
       "50    Entries  2038.500000  3062.590909  1658.727273  1430.318182   \n",
       "\n",
       "             BK           AS           MA           19           12  ...  \\\n",
       "46    44.045455    10.636364    14.772727    20.909091    21.590909  ...   \n",
       "47    60.090909    11.045455    20.409091    18.772727    32.090909  ...   \n",
       "48     9.363636     1.500000    23.000000     7.818182    19.954545  ...   \n",
       "49    22.590909     5.954545    52.727273    39.636364    70.500000  ...   \n",
       "50  4216.363636  1663.681818  3123.590909  3401.909091  3953.590909  ...   \n",
       "\n",
       "    Unnamed: 55  Unnamed: 56  Unnamed: 57  Unnamed: 58  Unnamed: 59  \\\n",
       "46          NaN          NaN          NaN          NaN          NaN   \n",
       "47          NaN          NaN          NaN          NaN          NaN   \n",
       "48          NaN          NaN          NaN          NaN          NaN   \n",
       "49          NaN          NaN          NaN          NaN          NaN   \n",
       "50          NaN          NaN          NaN          NaN          NaN   \n",
       "\n",
       "    Unnamed: 60  Unnamed: 61  Unnamed: 62  Unnamed: 63  Unnamed: 64  \n",
       "46          NaN          NaN          NaN          NaN          NaN  \n",
       "47          NaN          NaN          NaN          NaN          NaN  \n",
       "48          NaN          NaN          NaN          NaN          NaN  \n",
       "49          NaN          NaN          NaN          NaN          NaN  \n",
       "50          NaN          NaN          NaN          NaN          NaN  \n",
       "\n",
       "[5 rows x 65 columns]"
      ]
     },
     "execution_count": 7,
     "metadata": {},
     "output_type": "execute_result"
    }
   ],
   "source": [
    "df.tail()"
   ]
  },
  {
   "cell_type": "code",
   "execution_count": null,
   "metadata": {},
   "outputs": [],
   "source": [
    "df.rename(columns = {'Unnamed: 0': 'exit '}, inplace=True)          # rename column 0 column to dictionary \n",
    "df.drop(columns = ['RIDERSHIP GOAL'], inplace = True)\n",
    "\n",
    "new_col = {\n",
    "    'RIDERSHIP WEEKAVG' : 'ridership',\n",
    "    'FiscalMonth':'month',\n",
    "    'FiscalYear':'year', \n",
    "}\n",
    "\n",
    "df.rename(columns = new_col, inplace = True)\n",
    "bart = df\n",
    "bart.head()"
   ]
  },
  {
   "cell_type": "code",
   "execution_count": null,
   "metadata": {},
   "outputs": [],
   "source": [
    "# add new cols from old date colum\n",
    "bart['day'] = '01'\n",
    "# bart['month'] = bart['month'].apply(lambda x: '0' + str(x) if x < 10 else x )\n",
    "bart['ds'] = bart['year'].astype(str) + '-' + bart['month'].astype(str) + '-01'\n",
    "\n",
    "bart['ridership'] = 4*bart['ridership'].astype(int) # ridershiop is weekly, assume 4-week months"
   ]
  },
  {
   "cell_type": "code",
   "execution_count": null,
   "metadata": {},
   "outputs": [],
   "source": [
    "bart['date'] = pd.to_datetime(bart['ds'])\n",
    "bart.index = bart['date']\n",
    "bart.sort_index(inplace=True)\n",
    "\n",
    "bart_out = bart[['ds', 'ridership']]"
   ]
  },
  {
   "cell_type": "code",
   "execution_count": null,
   "metadata": {},
   "outputs": [],
   "source": [
    "bart_out.tail()"
   ]
  },
  {
   "cell_type": "markdown",
   "metadata": {},
   "source": [
    "### Manually extracting data for BART 2018 forward "
   ]
  },
  {
   "cell_type": "markdown",
   "metadata": {},
   "source": [
    "This function: \n",
    "* goes through one folder\n",
    "* goes through each file \n",
    "* gets a monthly ridership value\n",
    "* returns values for a a year\n",
    "\n",
    "This function is called in a loop that iterates over a list of 5 years to concact all data"
   ]
  },
  {
   "cell_type": "code",
   "execution_count": null,
   "metadata": {},
   "outputs": [],
   "source": [
    "def get_monthly_bart(year):\n",
    "    path = '../data/raw/bart/'\n",
    "    folder = 'ridership_' + str(year) + '/'\n",
    "\n",
    "    files = os.listdir( path + folder )\n",
    "\n",
    "    df_year = []\n",
    "\n",
    "    for file in files:\n",
    "        filename = path + folder + file\n",
    "        df_in = pd.read_excel(filename, None, skiprows = 1) \n",
    "        \n",
    "        rides = df_in['Total Trips OD']['Exits'][50] \n",
    "        rides = int(rides/7)   # divide by 7 days\n",
    "\n",
    "        ds = str(year) + '-' + file[14:16] + '-01'\n",
    "\n",
    "        bart_month = (ds, rides)\n",
    "        df_year.append(bart_month)\n",
    "\n",
    "    return(df_year)"
   ]
  },
  {
   "cell_type": "code",
   "execution_count": null,
   "metadata": {},
   "outputs": [],
   "source": [
    "years = [2018, 2019, 2020, 2021, 2022]\n",
    "all_years = []\n",
    "\n",
    "for year in years:\n",
    "    each_year = get_monthly_bart(year)\n",
    "    all_years.extend(each_year)"
   ]
  },
  {
   "cell_type": "code",
   "execution_count": null,
   "metadata": {},
   "outputs": [],
   "source": [
    "pip install openpyxl"
   ]
  },
  {
   "cell_type": "code",
   "execution_count": null,
   "metadata": {},
   "outputs": [],
   "source": [
    "all_years = pd.DataFrame(all_years)\n",
    "all_years.columns = ('ds', 'ridership')\n",
    "all_years.head()\n",
    "\n",
    "all_years['date'] = pd.to_datetime(all_years['ds'])\n",
    "all_years.sort_index(inplace=True)\n",
    "all_years = all_years.set_index('date')"
   ]
  },
  {
   "cell_type": "code",
   "execution_count": null,
   "metadata": {},
   "outputs": [],
   "source": [
    "merged = pd.concat([bart_out['2000-01-01':], all_years])\n",
    "merged.sort_index(inplace=True)\n",
    "merged.info()"
   ]
  },
  {
   "cell_type": "code",
   "execution_count": null,
   "metadata": {},
   "outputs": [],
   "source": [
    "merged.head()"
   ]
  },
  {
   "cell_type": "code",
   "execution_count": null,
   "metadata": {},
   "outputs": [],
   "source": [
    "merged.tail()"
   ]
  },
  {
   "cell_type": "code",
   "execution_count": null,
   "metadata": {},
   "outputs": [],
   "source": [
    "merged.to_csv('../data/processed/bart.csv', index = False)"
   ]
  }
 ],
 "metadata": {
  "kernelspec": {
   "display_name": "Python 3.8.9 ('newenv')",
   "language": "python",
   "name": "python3"
  },
  "language_info": {
   "codemirror_mode": {
    "name": "ipython",
    "version": 3
   },
   "file_extension": ".py",
   "mimetype": "text/x-python",
   "name": "python",
   "nbconvert_exporter": "python",
   "pygments_lexer": "ipython3",
   "version": "3.8.9"
  },
  "orig_nbformat": 4,
  "vscode": {
   "interpreter": {
    "hash": "54cd39fd9ba0db70c26ee1f2e491e152bd9a28fb5822b400132d331233796439"
   }
  }
 },
 "nbformat": 4,
 "nbformat_minor": 2
}
