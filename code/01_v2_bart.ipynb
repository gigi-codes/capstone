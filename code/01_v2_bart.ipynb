{
 "cells": [
  {
   "cell_type": "markdown",
   "metadata": {},
   "source": [
    "# 1.2 | Data Acquisition: Manual BART Addendum\n",
    "* [01 API Data Requests](01_API_pulls.ipynb)\n",
    "* _[01.1 Additional BART Data](01_v2_bart.ipynb.ipynb)_\n",
    "* [02 Initial EDA](02_EDA.ipynb)\n",
    "* [03 First Model: PROPHET](03_prophet.ipynb)\n",
    "---"
   ]
  },
  {
   "cell_type": "markdown",
   "metadata": {},
   "source": [
    "### [BART](bart.gov) Reporting changed in mid-2018\n",
    "* this notebook extracts monthly ridership counts for `August 2018` through `April 2022` from monthly reports archived in yearly directories, appends all to file that is appened to data obtained in previous API requests. \n"
   ]
  },
  {
   "cell_type": "code",
   "execution_count": 2,
   "metadata": {},
   "outputs": [],
   "source": [
    "##### BASIC IMPORTS \n",
    "import numpy as np\n",
    "import pandas as pd\n",
    "import glob\n",
    "import os"
   ]
  },
  {
   "cell_type": "code",
   "execution_count": 9,
   "metadata": {},
   "outputs": [
    {
     "data": {
      "text/plain": [
       "(259, 4)"
      ]
     },
     "execution_count": 9,
     "metadata": {},
     "output_type": "execute_result"
    }
   ],
   "source": [
    "path = '../data/raw/bart/'\n",
    "file = 'customer-ridership.csv'\n",
    "\n",
    "filename = path + file\n",
    "df = pd.read_csv(filename)\n",
    "\n",
    "df.shape"
   ]
  },
  {
   "cell_type": "code",
   "execution_count": 10,
   "metadata": {},
   "outputs": [
    {
     "data": {
      "text/html": [
       "<div>\n",
       "<style scoped>\n",
       "    .dataframe tbody tr th:only-of-type {\n",
       "        vertical-align: middle;\n",
       "    }\n",
       "\n",
       "    .dataframe tbody tr th {\n",
       "        vertical-align: top;\n",
       "    }\n",
       "\n",
       "    .dataframe thead th {\n",
       "        text-align: right;\n",
       "    }\n",
       "</style>\n",
       "<table border=\"1\" class=\"dataframe\">\n",
       "  <thead>\n",
       "    <tr style=\"text-align: right;\">\n",
       "      <th></th>\n",
       "      <th>FiscalYear</th>\n",
       "      <th>FiscalMonth</th>\n",
       "      <th>RIDERSHIP WEEKAVG</th>\n",
       "      <th>RIDERSHIP GOAL</th>\n",
       "    </tr>\n",
       "  </thead>\n",
       "  <tbody>\n",
       "    <tr>\n",
       "      <th>254</th>\n",
       "      <td>2018</td>\n",
       "      <td>3</td>\n",
       "      <td>422201.0</td>\n",
       "      <td>437728.0</td>\n",
       "    </tr>\n",
       "    <tr>\n",
       "      <th>255</th>\n",
       "      <td>2018</td>\n",
       "      <td>4</td>\n",
       "      <td>426492.0</td>\n",
       "      <td>439970.0</td>\n",
       "    </tr>\n",
       "    <tr>\n",
       "      <th>256</th>\n",
       "      <td>2018</td>\n",
       "      <td>5</td>\n",
       "      <td>423264.0</td>\n",
       "      <td>430308.0</td>\n",
       "    </tr>\n",
       "    <tr>\n",
       "      <th>257</th>\n",
       "      <td>2018</td>\n",
       "      <td>6</td>\n",
       "      <td>391219.0</td>\n",
       "      <td>405048.0</td>\n",
       "    </tr>\n",
       "    <tr>\n",
       "      <th>258</th>\n",
       "      <td>2018</td>\n",
       "      <td>7</td>\n",
       "      <td>395222.0</td>\n",
       "      <td>423540.0</td>\n",
       "    </tr>\n",
       "  </tbody>\n",
       "</table>\n",
       "</div>"
      ],
      "text/plain": [
       "     FiscalYear  FiscalMonth  RIDERSHIP WEEKAVG  RIDERSHIP GOAL\n",
       "254        2018            3           422201.0        437728.0\n",
       "255        2018            4           426492.0        439970.0\n",
       "256        2018            5           423264.0        430308.0\n",
       "257        2018            6           391219.0        405048.0\n",
       "258        2018            7           395222.0        423540.0"
      ]
     },
     "execution_count": 10,
     "metadata": {},
     "output_type": "execute_result"
    }
   ],
   "source": [
    "df.tail()"
   ]
  },
  {
   "cell_type": "code",
   "execution_count": 11,
   "metadata": {},
   "outputs": [
    {
     "data": {
      "text/html": [
       "<div>\n",
       "<style scoped>\n",
       "    .dataframe tbody tr th:only-of-type {\n",
       "        vertical-align: middle;\n",
       "    }\n",
       "\n",
       "    .dataframe tbody tr th {\n",
       "        vertical-align: top;\n",
       "    }\n",
       "\n",
       "    .dataframe thead th {\n",
       "        text-align: right;\n",
       "    }\n",
       "</style>\n",
       "<table border=\"1\" class=\"dataframe\">\n",
       "  <thead>\n",
       "    <tr style=\"text-align: right;\">\n",
       "      <th></th>\n",
       "      <th>year</th>\n",
       "      <th>month</th>\n",
       "      <th>ridership</th>\n",
       "    </tr>\n",
       "  </thead>\n",
       "  <tbody>\n",
       "    <tr>\n",
       "      <th>0</th>\n",
       "      <td>1997</td>\n",
       "      <td>1</td>\n",
       "      <td>251524.0</td>\n",
       "    </tr>\n",
       "    <tr>\n",
       "      <th>1</th>\n",
       "      <td>1997</td>\n",
       "      <td>2</td>\n",
       "      <td>256261.0</td>\n",
       "    </tr>\n",
       "    <tr>\n",
       "      <th>2</th>\n",
       "      <td>1997</td>\n",
       "      <td>3</td>\n",
       "      <td>263602.0</td>\n",
       "    </tr>\n",
       "    <tr>\n",
       "      <th>3</th>\n",
       "      <td>1997</td>\n",
       "      <td>4</td>\n",
       "      <td>264442.0</td>\n",
       "    </tr>\n",
       "    <tr>\n",
       "      <th>4</th>\n",
       "      <td>1997</td>\n",
       "      <td>5</td>\n",
       "      <td>265244.0</td>\n",
       "    </tr>\n",
       "  </tbody>\n",
       "</table>\n",
       "</div>"
      ],
      "text/plain": [
       "   year  month  ridership\n",
       "0  1997      1   251524.0\n",
       "1  1997      2   256261.0\n",
       "2  1997      3   263602.0\n",
       "3  1997      4   264442.0\n",
       "4  1997      5   265244.0"
      ]
     },
     "execution_count": 11,
     "metadata": {},
     "output_type": "execute_result"
    }
   ],
   "source": [
    "df.rename(columns = {'Unnamed: 0': 'exit '}, inplace=True)          # rename column 0 column to dictionary \n",
    "df.drop(columns = ['RIDERSHIP GOAL'], inplace = True)\n",
    "\n",
    "new_col = {\n",
    "    'RIDERSHIP WEEKAVG' : 'ridership',\n",
    "    'FiscalMonth':'month',\n",
    "    'FiscalYear':'year', \n",
    "}\n",
    "\n",
    "df.rename(columns = new_col, inplace = True)\n",
    "bart = df\n",
    "bart.head()"
   ]
  },
  {
   "cell_type": "code",
   "execution_count": 12,
   "metadata": {},
   "outputs": [],
   "source": [
    "# add new cols from old date colum\n",
    "bart['day'] = '01'\n",
    "# bart['month'] = bart['month'].apply(lambda x: '0' + str(x) if x < 10 else x )\n",
    "bart['ds'] = bart['year'].astype(str) + '-' + bart['month'].astype(str) + '-01'\n",
    "\n",
    "bart['ridership'] = 4*bart['ridership'].astype(int) # ridershiop is weekly, assume 4-week months"
   ]
  },
  {
   "cell_type": "code",
   "execution_count": 13,
   "metadata": {},
   "outputs": [],
   "source": [
    "bart['date'] = pd.to_datetime(bart['ds'])\n",
    "bart.index = bart['date']\n",
    "bart.sort_index(inplace=True)\n",
    "\n",
    "bart_out = bart[['ds', 'ridership']]"
   ]
  },
  {
   "cell_type": "code",
   "execution_count": 14,
   "metadata": {},
   "outputs": [
    {
     "data": {
      "text/html": [
       "<div>\n",
       "<style scoped>\n",
       "    .dataframe tbody tr th:only-of-type {\n",
       "        vertical-align: middle;\n",
       "    }\n",
       "\n",
       "    .dataframe tbody tr th {\n",
       "        vertical-align: top;\n",
       "    }\n",
       "\n",
       "    .dataframe thead th {\n",
       "        text-align: right;\n",
       "    }\n",
       "</style>\n",
       "<table border=\"1\" class=\"dataframe\">\n",
       "  <thead>\n",
       "    <tr style=\"text-align: right;\">\n",
       "      <th></th>\n",
       "      <th>ds</th>\n",
       "      <th>ridership</th>\n",
       "    </tr>\n",
       "    <tr>\n",
       "      <th>date</th>\n",
       "      <th></th>\n",
       "      <th></th>\n",
       "    </tr>\n",
       "  </thead>\n",
       "  <tbody>\n",
       "    <tr>\n",
       "      <th>2018-03-01</th>\n",
       "      <td>2018-3-01</td>\n",
       "      <td>1688804</td>\n",
       "    </tr>\n",
       "    <tr>\n",
       "      <th>2018-04-01</th>\n",
       "      <td>2018-4-01</td>\n",
       "      <td>1705968</td>\n",
       "    </tr>\n",
       "    <tr>\n",
       "      <th>2018-05-01</th>\n",
       "      <td>2018-5-01</td>\n",
       "      <td>1693056</td>\n",
       "    </tr>\n",
       "    <tr>\n",
       "      <th>2018-06-01</th>\n",
       "      <td>2018-6-01</td>\n",
       "      <td>1564876</td>\n",
       "    </tr>\n",
       "    <tr>\n",
       "      <th>2018-07-01</th>\n",
       "      <td>2018-7-01</td>\n",
       "      <td>1580888</td>\n",
       "    </tr>\n",
       "  </tbody>\n",
       "</table>\n",
       "</div>"
      ],
      "text/plain": [
       "                   ds  ridership\n",
       "date                            \n",
       "2018-03-01  2018-3-01    1688804\n",
       "2018-04-01  2018-4-01    1705968\n",
       "2018-05-01  2018-5-01    1693056\n",
       "2018-06-01  2018-6-01    1564876\n",
       "2018-07-01  2018-7-01    1580888"
      ]
     },
     "execution_count": 14,
     "metadata": {},
     "output_type": "execute_result"
    }
   ],
   "source": [
    "bart_out.tail()"
   ]
  },
  {
   "cell_type": "markdown",
   "metadata": {},
   "source": [
    "### Manually extracting data for BART 2018 forward "
   ]
  },
  {
   "cell_type": "markdown",
   "metadata": {},
   "source": [
    "This function: \n",
    "* goes through one folder\n",
    "* goes through each file \n",
    "* gets a monthly ridership value\n",
    "* returns values for a a year\n",
    "\n",
    "This function is called in a loop that iterates over a list of 5 years to concact all data"
   ]
  },
  {
   "cell_type": "code",
   "execution_count": 15,
   "metadata": {},
   "outputs": [],
   "source": [
    "def get_monthly_bart(year):\n",
    "    path = '../data/raw/bart/'\n",
    "    folder = 'ridership_' + str(year) + '/'\n",
    "\n",
    "    files = os.listdir( path + folder )\n",
    "\n",
    "    df_year = []\n",
    "\n",
    "    for file in files:\n",
    "        filename = path + folder + file\n",
    "        df_in = pd.read_excel(filename, None, skiprows = 1) \n",
    "        \n",
    "        rides = df_in['Total Trips OD']['Exits'][50] \n",
    "        rides = int(rides/7)   # divide by 7 days\n",
    "\n",
    "        ds = str(year) + '-' + file[14:16] + '-01'\n",
    "\n",
    "        bart_month = (ds, rides)\n",
    "        df_year.append(bart_month)\n",
    "\n",
    "    return(df_year)"
   ]
  },
  {
   "cell_type": "code",
   "execution_count": 16,
   "metadata": {},
   "outputs": [],
   "source": [
    "years = [2018, 2019, 2020, 2021, 2022]\n",
    "all_years = []\n",
    "\n",
    "for year in years:\n",
    "    each_year = get_monthly_bart(year)\n",
    "    all_years.extend(each_year)"
   ]
  },
  {
   "cell_type": "code",
   "execution_count": null,
   "metadata": {},
   "outputs": [],
   "source": [
    "# pip install openpyxl"
   ]
  },
  {
   "cell_type": "code",
   "execution_count": 17,
   "metadata": {},
   "outputs": [],
   "source": [
    "all_years = pd.DataFrame(all_years)\n",
    "all_years.columns = ('ds', 'ridership')\n",
    "all_years.head()\n",
    "\n",
    "all_years['date'] = pd.to_datetime(all_years['ds'])\n",
    "all_years.sort_index(inplace=True)\n",
    "all_years = all_years.set_index('date')"
   ]
  },
  {
   "cell_type": "code",
   "execution_count": 18,
   "metadata": {},
   "outputs": [
    {
     "name": "stdout",
     "output_type": "stream",
     "text": [
      "<class 'pandas.core.frame.DataFrame'>\n",
      "DatetimeIndex: 268 entries, 2000-01-01 to 2022-04-01\n",
      "Data columns (total 2 columns):\n",
      " #   Column     Non-Null Count  Dtype \n",
      "---  ------     --------------  ----- \n",
      " 0   ds         268 non-null    object\n",
      " 1   ridership  268 non-null    int64 \n",
      "dtypes: int64(1), object(1)\n",
      "memory usage: 6.3+ KB\n"
     ]
    }
   ],
   "source": [
    "merged = pd.concat([bart_out['2000-01-01':], all_years])\n",
    "merged.sort_index(inplace=True)\n",
    "merged.info()"
   ]
  },
  {
   "cell_type": "code",
   "execution_count": 19,
   "metadata": {},
   "outputs": [
    {
     "data": {
      "text/html": [
       "<div>\n",
       "<style scoped>\n",
       "    .dataframe tbody tr th:only-of-type {\n",
       "        vertical-align: middle;\n",
       "    }\n",
       "\n",
       "    .dataframe tbody tr th {\n",
       "        vertical-align: top;\n",
       "    }\n",
       "\n",
       "    .dataframe thead th {\n",
       "        text-align: right;\n",
       "    }\n",
       "</style>\n",
       "<table border=\"1\" class=\"dataframe\">\n",
       "  <thead>\n",
       "    <tr style=\"text-align: right;\">\n",
       "      <th></th>\n",
       "      <th>ds</th>\n",
       "      <th>ridership</th>\n",
       "    </tr>\n",
       "    <tr>\n",
       "      <th>date</th>\n",
       "      <th></th>\n",
       "      <th></th>\n",
       "    </tr>\n",
       "  </thead>\n",
       "  <tbody>\n",
       "    <tr>\n",
       "      <th>2000-01-01</th>\n",
       "      <td>2000-1-01</td>\n",
       "      <td>1178324</td>\n",
       "    </tr>\n",
       "    <tr>\n",
       "      <th>2000-02-01</th>\n",
       "      <td>2000-2-01</td>\n",
       "      <td>1178420</td>\n",
       "    </tr>\n",
       "    <tr>\n",
       "      <th>2000-03-01</th>\n",
       "      <td>2000-3-01</td>\n",
       "      <td>1198004</td>\n",
       "    </tr>\n",
       "    <tr>\n",
       "      <th>2000-04-01</th>\n",
       "      <td>2000-4-01</td>\n",
       "      <td>1220648</td>\n",
       "    </tr>\n",
       "    <tr>\n",
       "      <th>2000-05-01</th>\n",
       "      <td>2000-5-01</td>\n",
       "      <td>1222712</td>\n",
       "    </tr>\n",
       "  </tbody>\n",
       "</table>\n",
       "</div>"
      ],
      "text/plain": [
       "                   ds  ridership\n",
       "date                            \n",
       "2000-01-01  2000-1-01    1178324\n",
       "2000-02-01  2000-2-01    1178420\n",
       "2000-03-01  2000-3-01    1198004\n",
       "2000-04-01  2000-4-01    1220648\n",
       "2000-05-01  2000-5-01    1222712"
      ]
     },
     "execution_count": 19,
     "metadata": {},
     "output_type": "execute_result"
    }
   ],
   "source": [
    "merged.head()"
   ]
  },
  {
   "cell_type": "code",
   "execution_count": 20,
   "metadata": {},
   "outputs": [
    {
     "data": {
      "text/html": [
       "<div>\n",
       "<style scoped>\n",
       "    .dataframe tbody tr th:only-of-type {\n",
       "        vertical-align: middle;\n",
       "    }\n",
       "\n",
       "    .dataframe tbody tr th {\n",
       "        vertical-align: top;\n",
       "    }\n",
       "\n",
       "    .dataframe thead th {\n",
       "        text-align: right;\n",
       "    }\n",
       "</style>\n",
       "<table border=\"1\" class=\"dataframe\">\n",
       "  <thead>\n",
       "    <tr style=\"text-align: right;\">\n",
       "      <th></th>\n",
       "      <th>ds</th>\n",
       "      <th>ridership</th>\n",
       "    </tr>\n",
       "    <tr>\n",
       "      <th>date</th>\n",
       "      <th></th>\n",
       "      <th></th>\n",
       "    </tr>\n",
       "  </thead>\n",
       "  <tbody>\n",
       "    <tr>\n",
       "      <th>2021-12-01</th>\n",
       "      <td>2021-12-01</td>\n",
       "      <td>380838</td>\n",
       "    </tr>\n",
       "    <tr>\n",
       "      <th>2022-01-01</th>\n",
       "      <td>2022-01-01</td>\n",
       "      <td>312346</td>\n",
       "    </tr>\n",
       "    <tr>\n",
       "      <th>2022-02-01</th>\n",
       "      <td>2022-02-01</td>\n",
       "      <td>360330</td>\n",
       "    </tr>\n",
       "    <tr>\n",
       "      <th>2022-03-01</th>\n",
       "      <td>2022-03-01</td>\n",
       "      <td>477714</td>\n",
       "    </tr>\n",
       "    <tr>\n",
       "      <th>2022-04-01</th>\n",
       "      <td>2022-04-01</td>\n",
       "      <td>482207</td>\n",
       "    </tr>\n",
       "  </tbody>\n",
       "</table>\n",
       "</div>"
      ],
      "text/plain": [
       "                    ds  ridership\n",
       "date                             \n",
       "2021-12-01  2021-12-01     380838\n",
       "2022-01-01  2022-01-01     312346\n",
       "2022-02-01  2022-02-01     360330\n",
       "2022-03-01  2022-03-01     477714\n",
       "2022-04-01  2022-04-01     482207"
      ]
     },
     "execution_count": 20,
     "metadata": {},
     "output_type": "execute_result"
    }
   ],
   "source": [
    "merged.tail()"
   ]
  },
  {
   "cell_type": "code",
   "execution_count": 21,
   "metadata": {},
   "outputs": [],
   "source": [
    "merged.to_csv('../data/processed/bart.csv', index = False)"
   ]
  }
 ],
 "metadata": {
  "kernelspec": {
   "display_name": "Python 3.8.9 ('newenv')",
   "language": "python",
   "name": "python3"
  },
  "language_info": {
   "codemirror_mode": {
    "name": "ipython",
    "version": 3
   },
   "file_extension": ".py",
   "mimetype": "text/x-python",
   "name": "python",
   "nbconvert_exporter": "python",
   "pygments_lexer": "ipython3",
   "version": "3.8.9"
  },
  "orig_nbformat": 4,
  "vscode": {
   "interpreter": {
    "hash": "54cd39fd9ba0db70c26ee1f2e491e152bd9a28fb5822b400132d331233796439"
   }
  }
 },
 "nbformat": 4,
 "nbformat_minor": 2
}
