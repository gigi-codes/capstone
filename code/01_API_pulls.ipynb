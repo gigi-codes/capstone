{
 "cells": [
  {
   "cell_type": "markdown",
   "metadata": {},
   "source": [
    "#  1 |  Data Acquisition: API Requests\n",
    "---\n",
    "\n",
    "* _[01 API Requests](01_API_pulls.ipynb)_\n",
    "* [02 Initial EDA](02_EDA.ipynb)\n",
    "* [03 First Model: PROPHET](03_prophet.ipynb)\n",
    "---\n"
   ]
  },
  {
   "cell_type": "markdown",
   "metadata": {},
   "source": [
    "### Requests for `4` datasets via respective APIs. \n",
    "\n",
    "* `PROPHET` requires `df` with `2` series, columns `ds` and `y`. \n",
    " In this notebook, I document API pulls and data manipulation to create new `csv` files in an appropriate format to slice as needed in modeling.\n",
    "\n",
    "#### <b>Data Sources</b>\n",
    "\n",
    "* [BART](https://data.bart.gov/dataset/customer-ridership/resource/6e653520-58cf-45c5-b40c-d37c8957ec77) publishes monthly ridership reports, using faregate information [monthly totals](bart.csv)- [source](https://data.bart.gov/group/ridership)\n",
    "\n",
    "* <b>Gas Prices</b> [Fuel data from US Energy Information Admininstration](https://www.eia.gov/opendata/qb.php?category=240839&sdid=PET.EMM_EPM0_PTE_SCA_DPG.M)\n",
    "    * weekly: [fuel_m.csv](../data/processed/fuel_w.csv) - [source](https://www.eia.gov/opendata/qb.php?category=240839&sdid=PET.EMM_EPM0_PTE_SCA_DPG.W)\n",
    "    * monthly data saved: [fuel_w.csv](../processed/fuel_m.csv) - [source](https://www.eia.gov/opendata/qb.php?category=240839&sdid=PET.EMM_EPM0_PTE_SCA_DPG.M)    \n",
    "<br>\n",
    "\n",
    "* <b>Car registrations </b> [total for state](cars.csv) - ([CA DMV Vehicle Annual Count](https://www.energy.ca.gov/data-reports/energy-almanac/zero-emission-vehicle-and-infrastructure-statistics/vehicle-population)) ([API for counts by zip code](https://data.ca.gov/api/3/action/datastore_search?resource_id=888bbb6c-09b4-469c-82e6-1b2a47439736' ))\n",
    "\n",
    "* <b>Consumer Debt</b> [annual](debt.csv) ([Annual Consumer Debt](https://www.federalreserve.gov/datadownload/Choose.aspx?rel=G19))\n",
    "\n",
    "> Will not be using: ~~[caltrain](caltrain.com)  Publishes yearly ridership counts, based on model validated with a yearly county daily in January.~~"
   ]
  },
  {
   "cell_type": "code",
   "execution_count": 12,
   "metadata": {},
   "outputs": [],
   "source": [
    "##### BASIC IMPORTS \n",
    "import numpy as np\n",
    "import pandas as pd\n",
    "import requests"
   ]
  },
  {
   "cell_type": "code",
   "execution_count": 13,
   "metadata": {},
   "outputs": [],
   "source": [
    "# CUSTOM IMPORTS AND SETTINGS \n",
    "pd.options.display.max_columns = 90                    \n",
    "pd.options.display.max_rows = 100"
   ]
  },
  {
   "cell_type": "markdown",
   "metadata": {},
   "source": [
    "## Function to format with date-time index"
   ]
  },
  {
   "cell_type": "code",
   "execution_count": 14,
   "metadata": {},
   "outputs": [],
   "source": [
    "def date_index(df): \n",
    "    # df.dropna(inplace=True)\n",
    "    df['d'] = df['date']\n",
    "    df['date'] = pd.to_datetime(df['date'])\n",
    "    df = df.set_index('date')\n",
    "    print(df.head(3))\n",
    "    return(df)"
   ]
  },
  {
   "cell_type": "markdown",
   "metadata": {},
   "source": [
    "## EIA DATA: Fuel Price History "
   ]
  },
  {
   "cell_type": "code",
   "execution_count": 15,
   "metadata": {},
   "outputs": [],
   "source": [
    "# EIA KEY - SET UP YOUR KEY TO USE EIA AIP # \n",
    "try:\n",
    "    KEY = os.environ['EIAAPI']\n",
    "except KeyError:\n",
    "    sys.exit('keys not found')"
   ]
  },
  {
   "cell_type": "markdown",
   "metadata": {},
   "source": [
    "#### Function for EIA requests takes KEY and CATEGORY"
   ]
  },
  {
   "cell_type": "code",
   "execution_count": 16,
   "metadata": {},
   "outputs": [],
   "source": [
    "# function for EIA data requests\n",
    "def eia_req(KEY, CATEGORY):\n",
    "    url = 'https://api.eia.gov/series/?api_key=' + KEY + '&series_id=' + CATEGORY\n",
    "    \n",
    "    # REQUEST \n",
    "    req = requests.get(url)\n",
    "    print ('Request Code:' + str(req.status_code))\n",
    "\n",
    "    # getting data \n",
    "    data = pd.DataFrame(req.json()['series'][0]['data'])\n",
    "\n",
    "    return (data)"
   ]
  },
  {
   "cell_type": "markdown",
   "metadata": {},
   "source": [
    "#### Fuel prices by month"
   ]
  },
  {
   "cell_type": "code",
   "execution_count": 17,
   "metadata": {},
   "outputs": [
    {
     "name": "stdout",
     "output_type": "stream",
     "text": [
      "Request Code:200\n"
     ]
    },
    {
     "ename": "JSONDecodeError",
     "evalue": "Expecting value: line 1 column 1 (char 0)",
     "output_type": "error",
     "traceback": [
      "\u001b[0;31m---------------------------------------------------------------------------\u001b[0m",
      "\u001b[0;31mJSONDecodeError\u001b[0m                           Traceback (most recent call last)",
      "File \u001b[0;32m~/my_git/05_capstone/newenv/lib/python3.8/site-packages/requests/models.py:971\u001b[0m, in \u001b[0;36mResponse.json\u001b[0;34m(self, **kwargs)\u001b[0m\n\u001b[1;32m    970\u001b[0m \u001b[39mtry\u001b[39;00m:\n\u001b[0;32m--> 971\u001b[0m     \u001b[39mreturn\u001b[39;00m complexjson\u001b[39m.\u001b[39;49mloads(\u001b[39mself\u001b[39;49m\u001b[39m.\u001b[39;49mtext, \u001b[39m*\u001b[39;49m\u001b[39m*\u001b[39;49mkwargs)\n\u001b[1;32m    972\u001b[0m \u001b[39mexcept\u001b[39;00m JSONDecodeError \u001b[39mas\u001b[39;00m e:\n\u001b[1;32m    973\u001b[0m     \u001b[39m# Catch JSON-related errors and raise as requests.JSONDecodeError\u001b[39;00m\n\u001b[1;32m    974\u001b[0m     \u001b[39m# This aliases json.JSONDecodeError and simplejson.JSONDecodeError\u001b[39;00m\n",
      "File \u001b[0;32m/Library/Developer/CommandLineTools/Library/Frameworks/Python3.framework/Versions/3.8/lib/python3.8/json/__init__.py:357\u001b[0m, in \u001b[0;36mloads\u001b[0;34m(s, cls, object_hook, parse_float, parse_int, parse_constant, object_pairs_hook, **kw)\u001b[0m\n\u001b[1;32m    354\u001b[0m \u001b[39mif\u001b[39;00m (\u001b[39mcls\u001b[39m \u001b[39mis\u001b[39;00m \u001b[39mNone\u001b[39;00m \u001b[39mand\u001b[39;00m object_hook \u001b[39mis\u001b[39;00m \u001b[39mNone\u001b[39;00m \u001b[39mand\u001b[39;00m\n\u001b[1;32m    355\u001b[0m         parse_int \u001b[39mis\u001b[39;00m \u001b[39mNone\u001b[39;00m \u001b[39mand\u001b[39;00m parse_float \u001b[39mis\u001b[39;00m \u001b[39mNone\u001b[39;00m \u001b[39mand\u001b[39;00m\n\u001b[1;32m    356\u001b[0m         parse_constant \u001b[39mis\u001b[39;00m \u001b[39mNone\u001b[39;00m \u001b[39mand\u001b[39;00m object_pairs_hook \u001b[39mis\u001b[39;00m \u001b[39mNone\u001b[39;00m \u001b[39mand\u001b[39;00m \u001b[39mnot\u001b[39;00m kw):\n\u001b[0;32m--> 357\u001b[0m     \u001b[39mreturn\u001b[39;00m _default_decoder\u001b[39m.\u001b[39;49mdecode(s)\n\u001b[1;32m    358\u001b[0m \u001b[39mif\u001b[39;00m \u001b[39mcls\u001b[39m \u001b[39mis\u001b[39;00m \u001b[39mNone\u001b[39;00m:\n",
      "File \u001b[0;32m/Library/Developer/CommandLineTools/Library/Frameworks/Python3.framework/Versions/3.8/lib/python3.8/json/decoder.py:337\u001b[0m, in \u001b[0;36mJSONDecoder.decode\u001b[0;34m(self, s, _w)\u001b[0m\n\u001b[1;32m    333\u001b[0m \u001b[39m\"\"\"Return the Python representation of ``s`` (a ``str`` instance\u001b[39;00m\n\u001b[1;32m    334\u001b[0m \u001b[39mcontaining a JSON document).\u001b[39;00m\n\u001b[1;32m    335\u001b[0m \n\u001b[1;32m    336\u001b[0m \u001b[39m\"\"\"\u001b[39;00m\n\u001b[0;32m--> 337\u001b[0m obj, end \u001b[39m=\u001b[39m \u001b[39mself\u001b[39;49m\u001b[39m.\u001b[39;49mraw_decode(s, idx\u001b[39m=\u001b[39;49m_w(s, \u001b[39m0\u001b[39;49m)\u001b[39m.\u001b[39;49mend())\n\u001b[1;32m    338\u001b[0m end \u001b[39m=\u001b[39m _w(s, end)\u001b[39m.\u001b[39mend()\n",
      "File \u001b[0;32m/Library/Developer/CommandLineTools/Library/Frameworks/Python3.framework/Versions/3.8/lib/python3.8/json/decoder.py:355\u001b[0m, in \u001b[0;36mJSONDecoder.raw_decode\u001b[0;34m(self, s, idx)\u001b[0m\n\u001b[1;32m    354\u001b[0m \u001b[39mexcept\u001b[39;00m \u001b[39mStopIteration\u001b[39;00m \u001b[39mas\u001b[39;00m err:\n\u001b[0;32m--> 355\u001b[0m     \u001b[39mraise\u001b[39;00m JSONDecodeError(\u001b[39m\"\u001b[39m\u001b[39mExpecting value\u001b[39m\u001b[39m\"\u001b[39m, s, err\u001b[39m.\u001b[39mvalue) \u001b[39mfrom\u001b[39;00m \u001b[39mNone\u001b[39m\n\u001b[1;32m    356\u001b[0m \u001b[39mreturn\u001b[39;00m obj, end\n",
      "\u001b[0;31mJSONDecodeError\u001b[0m: Expecting value: line 1 column 1 (char 0)",
      "\nDuring handling of the above exception, another exception occurred:\n",
      "\u001b[0;31mJSONDecodeError\u001b[0m                           Traceback (most recent call last)",
      "\u001b[1;32m/Users/gx/my_git/05_capstone/code/01_API_pulls.ipynb Cell 12\u001b[0m in \u001b[0;36m<cell line: 4>\u001b[0;34m()\u001b[0m\n\u001b[1;32m      <a href='vscode-notebook-cell:/Users/gx/my_git/05_capstone/code/01_API_pulls.ipynb#ch0000011?line=0'>1</a>\u001b[0m CATEGORY \u001b[39m=\u001b[39m \u001b[39m'\u001b[39m\u001b[39mPET.EMM_EPM0_PTE_SCA_DPG.M\u001b[39m\u001b[39m'\u001b[39m\n\u001b[1;32m      <a href='vscode-notebook-cell:/Users/gx/my_git/05_capstone/code/01_API_pulls.ipynb#ch0000011?line=2'>3</a>\u001b[0m \u001b[39m# call function for pull \u001b[39;00m\n\u001b[0;32m----> <a href='vscode-notebook-cell:/Users/gx/my_git/05_capstone/code/01_API_pulls.ipynb#ch0000011?line=3'>4</a>\u001b[0m fuel_m \u001b[39m=\u001b[39m eia_req(KEY, CATEGORY)\n\u001b[1;32m      <a href='vscode-notebook-cell:/Users/gx/my_git/05_capstone/code/01_API_pulls.ipynb#ch0000011?line=4'>5</a>\u001b[0m fuel_m\u001b[39m.\u001b[39mcolumns \u001b[39m=\u001b[39m [\u001b[39m'\u001b[39m\u001b[39mdate\u001b[39m\u001b[39m'\u001b[39m, \u001b[39m'\u001b[39m\u001b[39mfuel_m\u001b[39m\u001b[39m'\u001b[39m]\n\u001b[1;32m      <a href='vscode-notebook-cell:/Users/gx/my_git/05_capstone/code/01_API_pulls.ipynb#ch0000011?line=5'>6</a>\u001b[0m fuel_m\u001b[39m.\u001b[39mhead()\n",
      "\u001b[1;32m/Users/gx/my_git/05_capstone/code/01_API_pulls.ipynb Cell 12\u001b[0m in \u001b[0;36meia_req\u001b[0;34m(KEY, CATEGORY)\u001b[0m\n\u001b[1;32m      <a href='vscode-notebook-cell:/Users/gx/my_git/05_capstone/code/01_API_pulls.ipynb#ch0000011?line=6'>7</a>\u001b[0m \u001b[39mprint\u001b[39m (\u001b[39m'\u001b[39m\u001b[39mRequest Code:\u001b[39m\u001b[39m'\u001b[39m \u001b[39m+\u001b[39m \u001b[39mstr\u001b[39m(req\u001b[39m.\u001b[39mstatus_code))\n\u001b[1;32m      <a href='vscode-notebook-cell:/Users/gx/my_git/05_capstone/code/01_API_pulls.ipynb#ch0000011?line=8'>9</a>\u001b[0m \u001b[39m# getting data \u001b[39;00m\n\u001b[0;32m---> <a href='vscode-notebook-cell:/Users/gx/my_git/05_capstone/code/01_API_pulls.ipynb#ch0000011?line=9'>10</a>\u001b[0m data \u001b[39m=\u001b[39m pd\u001b[39m.\u001b[39mDataFrame(req\u001b[39m.\u001b[39;49mjson()[\u001b[39m'\u001b[39m\u001b[39mseries\u001b[39m\u001b[39m'\u001b[39m][\u001b[39m0\u001b[39m][\u001b[39m'\u001b[39m\u001b[39mdata\u001b[39m\u001b[39m'\u001b[39m])\n\u001b[1;32m     <a href='vscode-notebook-cell:/Users/gx/my_git/05_capstone/code/01_API_pulls.ipynb#ch0000011?line=11'>12</a>\u001b[0m \u001b[39mreturn\u001b[39;00m (data)\n",
      "File \u001b[0;32m~/my_git/05_capstone/newenv/lib/python3.8/site-packages/requests/models.py:975\u001b[0m, in \u001b[0;36mResponse.json\u001b[0;34m(self, **kwargs)\u001b[0m\n\u001b[1;32m    971\u001b[0m     \u001b[39mreturn\u001b[39;00m complexjson\u001b[39m.\u001b[39mloads(\u001b[39mself\u001b[39m\u001b[39m.\u001b[39mtext, \u001b[39m*\u001b[39m\u001b[39m*\u001b[39mkwargs)\n\u001b[1;32m    972\u001b[0m \u001b[39mexcept\u001b[39;00m JSONDecodeError \u001b[39mas\u001b[39;00m e:\n\u001b[1;32m    973\u001b[0m     \u001b[39m# Catch JSON-related errors and raise as requests.JSONDecodeError\u001b[39;00m\n\u001b[1;32m    974\u001b[0m     \u001b[39m# This aliases json.JSONDecodeError and simplejson.JSONDecodeError\u001b[39;00m\n\u001b[0;32m--> 975\u001b[0m     \u001b[39mraise\u001b[39;00m RequestsJSONDecodeError(e\u001b[39m.\u001b[39mmsg, e\u001b[39m.\u001b[39mdoc, e\u001b[39m.\u001b[39mpos)\n",
      "\u001b[0;31mJSONDecodeError\u001b[0m: Expecting value: line 1 column 1 (char 0)"
     ]
    }
   ],
   "source": [
    "CATEGORY = 'PET.EMM_EPM0_PTE_SCA_DPG.M'\n",
    "\n",
    "# call function for pull \n",
    "fuel_m = eia_req(KEY, CATEGORY)\n",
    "fuel_m.columns = ['date', 'fuel_m']\n",
    "fuel_m.head()"
   ]
  },
  {
   "cell_type": "code",
   "execution_count": null,
   "metadata": {},
   "outputs": [],
   "source": [
    "# add new columns with split data and reformatted date\n",
    "fuel_m['year'] = fuel_m['date'].str[:4]\n",
    "fuel_m['month'] = fuel_m['date'].str[-2:]\n",
    "fuel_m['day'] = '01'    # using day 01 for all monthly data\n",
    "fuel_m['date'] = fuel_m['year'] + '-' + fuel_m['month'] + '-01' \n",
    "\n",
    "fuel_m = date_index(fuel_m)\n",
    "fuel_m.sort_index(inplace=True)\n",
    "\n",
    "fuel_m_out = fuel_m[['d','fuel_m']]\n",
    "fuel_m_out.tail()"
   ]
  },
  {
   "cell_type": "code",
   "execution_count": null,
   "metadata": {},
   "outputs": [],
   "source": [
    "# print to file\n",
    "fuel_m_out.to_csv('../data/processed/fuel_m.csv', index = False)"
   ]
  },
  {
   "cell_type": "markdown",
   "metadata": {},
   "source": [
    "#### Fuel Prices by Week"
   ]
  },
  {
   "cell_type": "code",
   "execution_count": null,
   "metadata": {},
   "outputs": [],
   "source": [
    "CATEGORY = 'PET.EMM_EPM0_PTE_SCA_DPG.W'\n",
    "\n",
    "# call function for pull \n",
    "fuel_w = eia_req(KEY, CATEGORY)\n",
    "fuel_w.columns = ['date', 'fuel_w']\n",
    "fuel_w.head(12)"
   ]
  },
  {
   "cell_type": "code",
   "execution_count": null,
   "metadata": {},
   "outputs": [],
   "source": [
    "#add new cols from old date colum\n",
    "fuel_w['year'] = fuel_w['date'].str[:4]\n",
    "\n",
    "fuel_w['month'] = fuel_w['date'].str[4:6]\n",
    "fuel_w['day'] = fuel_w['date'].str[-2:]\n",
    "fuel_w['date'] = fuel_w['date'].str[:4] + '-' + fuel_w['month'] + '-' + fuel_w['day']\n",
    "\n",
    "fuel_w = date_index(fuel_w)\n",
    "fuel_w.sort_index(inplace=True)\n",
    "\n",
    "fuel_w_out = fuel_w[['d', 'fuel_w']]\n",
    "fuel_w_out.head()"
   ]
  },
  {
   "cell_type": "code",
   "execution_count": null,
   "metadata": {},
   "outputs": [],
   "source": [
    "# print to file\n",
    "fuel_w_out.to_csv('../data/processed/fuel_w.csv', index = False)"
   ]
  },
  {
   "cell_type": "markdown",
   "metadata": {},
   "source": [
    "## BART Data"
   ]
  },
  {
   "cell_type": "markdown",
   "metadata": {},
   "source": [
    "#### Weekly Ridership by Month `1997 - 2018`"
   ]
  },
  {
   "cell_type": "code",
   "execution_count": null,
   "metadata": {},
   "outputs": [],
   "source": [
    "url = 'https://data.bart.gov/api/3/action/datastore_search?resource_id=6e653520-58cf-45c5-b40c-d37c8957ec77&'\n",
    "#url = 'https://data.bart.gov/api/3/action/datastore_search?resource_id=6e653520-58cf-45c5-b40c-d37c8957ec77'\n",
    "\n",
    "bart_req = requests.get(url)\n",
    "bart_req.status_code"
   ]
  },
  {
   "cell_type": "code",
   "execution_count": null,
   "metadata": {},
   "outputs": [],
   "source": [
    "# getting data \n",
    "bart_data = pd.DataFrame(bart_req.json()['result']['records'])\n",
    "bart_data.tail()"
   ]
  },
  {
   "cell_type": "code",
   "execution_count": null,
   "metadata": {},
   "outputs": [],
   "source": [
    "path = '../data/raw/bart/'\n",
    "file = 'customer-ridership.csv'\n",
    "\n",
    "filename = path + file\n",
    "bart_date = pd.read_csv(filename)\n",
    "\n",
    "bart_date.tail()"
   ]
  },
  {
   "cell_type": "code",
   "execution_count": null,
   "metadata": {},
   "outputs": [],
   "source": [
    "bart_data.drop(columns = ['RIDERSHIP GOAL'], inplace = True)\n",
    "\n",
    "new_col = {\n",
    "    'RIDERSHIP WEEKAVG' : 'ridership',\n",
    "    'FiscalMonth':'month',\n",
    "    'FiscalYear':'year', \n",
    "}\n",
    "\n",
    "bart_data.rename(columns = new_col, inplace = True)\n",
    "bart = bart_data\n",
    "bart.head()"
   ]
  },
  {
   "cell_type": "code",
   "execution_count": null,
   "metadata": {},
   "outputs": [],
   "source": [
    "# add new cols from old date colum\n",
    "bart['day'] = '01'\n",
    "# bart['month'] = bart['month'].apply(lambda x: '0' + str(x) if x < 10 else x )\n",
    "bart['date'] = bart['year'].astype(str) + '-' + bart['month'].astype(str) + '-01'\n",
    "\n",
    "bart['ridership'] = 4*bart['ridership'].astype(int) # ridershiop is weekly, assume 4-week months\n",
    "\n",
    "bart = date_index(bart)\n",
    "bart_out = bart[['ds', 'ridership']]\n",
    "\n",
    "bart_out.tail()"
   ]
  },
  {
   "cell_type": "code",
   "execution_count": null,
   "metadata": {},
   "outputs": [],
   "source": [
    "bart_out.tail()"
   ]
  },
  {
   "cell_type": "code",
   "execution_count": null,
   "metadata": {},
   "outputs": [],
   "source": [
    "bart_out.to_csv('../data/processed/bart_2005.csv', index = False)"
   ]
  },
  {
   "cell_type": "markdown",
   "metadata": {},
   "source": [
    "## Vehicle Registration Counts"
   ]
  },
  {
   "cell_type": "code",
   "execution_count": null,
   "metadata": {},
   "outputs": [],
   "source": [
    "url = 'https://data.ca.gov/api/3/action/datastore_search?resource_id=888bbb6c-09b4-469c-82e6-1b2a47439736' \n",
    "\n",
    "veh_req = requests.get(url)\n",
    "veh_req.status_code"
   ]
  },
  {
   "cell_type": "code",
   "execution_count": null,
   "metadata": {},
   "outputs": [],
   "source": [
    "# getting data \n",
    "veh = pd.DataFrame((veh_req.json())['result']['records'])\n",
    "veh.head()"
   ]
  },
  {
   "cell_type": "code",
   "execution_count": null,
   "metadata": {},
   "outputs": [],
   "source": [
    "veh.drop(columns = ['_id', 'Duty', 'Make', 'Fuel', 'Model Year'], inplace = True)\n",
    "\n",
    "new_col = {\n",
    "    'Zip Code':'zip',\n",
    "    'Date':'ds', \n",
    "    'Vehicles' : 'vehs',\n",
    "}\n",
    "\n",
    "veh.rename(columns = new_col, inplace=True)"
   ]
  },
  {
   "cell_type": "code",
   "execution_count": null,
   "metadata": {},
   "outputs": [],
   "source": [
    "# add new cols from old date colum\n",
    "veh_date = veh['ds'].str.rpartition('/')\n",
    "\n",
    "veh['day'] = '01'\n",
    "veh['month'] = '01'\n",
    "veh['year'] = veh_date[2]\n",
    "veh['date'] = veh['year'].astype(str) + '-01-01'\n",
    "\n",
    "veh = date_index(veh)\n",
    "\n",
    "veh_out = veh[['d','zip', 'vehs']]\n",
    "veh_out.tail()"
   ]
  },
  {
   "cell_type": "code",
   "execution_count": null,
   "metadata": {},
   "outputs": [],
   "source": [
    "veh_out.to_csv('../data/processed/vehs_zip.csv', index = False)"
   ]
  },
  {
   "cell_type": "markdown",
   "metadata": {},
   "source": [
    "## CONSUMER DEBT"
   ]
  },
  {
   "cell_type": "code",
   "execution_count": null,
   "metadata": {},
   "outputs": [],
   "source": [
    "path = '../data/raw/debt/'\n",
    "\n",
    "filename = path + 'consumer_debt.csv'\n",
    "debt_df = pd.read_csv(filename)\n",
    "\n",
    "new_col = {\n",
    "    'DATE':'date',\n",
    "    'TOTALSL' : 'debt',\n",
    "}\n",
    "\n",
    "debt_df.rename(columns = new_col, inplace=True)\n",
    "debt_df.head()"
   ]
  },
  {
   "cell_type": "code",
   "execution_count": null,
   "metadata": {},
   "outputs": [],
   "source": [
    "debt_df.to_csv('../data/processed/debt.csv', index = False)"
   ]
  }
 ],
 "metadata": {
  "kernelspec": {
   "display_name": "Python 3.8.9 ('newenv')",
   "language": "python",
   "name": "python3"
  },
  "language_info": {
   "codemirror_mode": {
    "name": "ipython",
    "version": 3
   },
   "file_extension": ".py",
   "mimetype": "text/x-python",
   "name": "python",
   "nbconvert_exporter": "python",
   "pygments_lexer": "ipython3",
   "version": "3.8.9"
  },
  "orig_nbformat": 4,
  "vscode": {
   "interpreter": {
    "hash": "54cd39fd9ba0db70c26ee1f2e491e152bd9a28fb5822b400132d331233796439"
   }
  }
 },
 "nbformat": 4,
 "nbformat_minor": 2
}
