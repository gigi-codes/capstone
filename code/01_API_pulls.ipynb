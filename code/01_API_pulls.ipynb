{
 "cells": [
  {
   "cell_type": "markdown",
   "metadata": {},
   "source": [
    "#  1 _API_ Requests: Data Acquisition\n",
    "---\n",
    "\n",
    "* [02 the next notebook](02.ipynb)\n",
    "* [03 the one after](03.ipynb)\n",
    "\n",
    "---"
   ]
  },
  {
   "cell_type": "markdown",
   "metadata": {},
   "source": [
    "### Data Discussion\n",
    "\n",
    "* [Fuel data from US Energy Information Admininstration](https://www.eia.gov/opendata/qb.php?category=240839&sdid=PET.EMM_EPM0_PTE_SCA_DPG.M)\n",
    "    * weekly data: [fuel_m.csv](../data/processed/fuel_w.csv) - [source](https://www.eia.gov/opendata/qb.php?category=240839&sdid=PET.EMM_EPM0_PTE_SCA_DPG.W)\n",
    "    * monthly data: [fuel_w.csv](../processed/fuel_m.csv) - [source](https://www.eia.gov/opendata/qb.php?category=240839&sdid=PET.EMM_EPM0_PTE_SCA_DPG.M)\n",
    "    \n",
    "\n",
    "* [BART](https://data.bart.gov/dataset/customer-ridership/resource/6e653520-58cf-45c5-b40c-d37c8957ec77) Publishes monthly rerpots, with daily ridership that month, using faregate counts for on and off boarding. \n",
    "    * [montly totals](https://data.bart.gov/group/ridership)\n",
    "    * monthly by entrance and exit, saved \n",
    "\n",
    "* Car registration data from \n",
    "    * by county: []()\n",
    "    * totals : []()\n",
    "\n",
    "* will not be using: ~~[caltrain](caltrain.com)  Publishes yearly ridership counts, based on model validated with a yearly county daily in January.~~"
   ]
  },
  {
   "cell_type": "code",
   "execution_count": 1,
   "metadata": {},
   "outputs": [],
   "source": [
    "##### BASIC IMPORTS \n",
    "import numpy as np\n",
    "import pandas as pd\n",
    "import matplotlib.pyplot as plt\n",
    "import seaborn as sns\n",
    "\n",
    "import requests"
   ]
  },
  {
   "cell_type": "code",
   "execution_count": 2,
   "metadata": {},
   "outputs": [],
   "source": [
    "# CUSTOM IMPORTS AND SETTINGS \n",
    "plt.style.use('gstyle.mplstyle')\n",
    "\n",
    "pd.options.display.max_columns = 90                    \n",
    "pd.options.display.max_rows = 100"
   ]
  },
  {
   "cell_type": "markdown",
   "metadata": {},
   "source": [
    "## EIA DATA: Fuel Price History "
   ]
  },
  {
   "cell_type": "code",
   "execution_count": 22,
   "metadata": {},
   "outputs": [],
   "source": [
    "# EIA KEY \n",
    "try:\n",
    "    KEY = os.environ['EIAAPI']\n",
    "except KeyError:\n",
    "    sys.exit('keys not found')"
   ]
  },
  {
   "cell_type": "markdown",
   "metadata": {},
   "source": [
    "#### Function for EIA requests takes KEY and CATEGORY"
   ]
  },
  {
   "cell_type": "code",
   "execution_count": 28,
   "metadata": {},
   "outputs": [],
   "source": [
    "# function for EIA data requests\n",
    "def eia_req(KEY, CATEGORY):\n",
    "    url = 'https://api.eia.gov/series/?api_key=' + KEY + '&series_id=' + CATEGORY\n",
    "    \n",
    "    #REQUEST \n",
    "    req = requests.get(url)\n",
    "    req.status_code\n",
    "\n",
    "    # getting data \n",
    "    request = req.json()['series'][0]['data']\n",
    "    data = pd.DataFrame(request)\n",
    "\n",
    "    return (data)"
   ]
  },
  {
   "cell_type": "markdown",
   "metadata": {},
   "source": [
    "#### Fuel prices by month"
   ]
  },
  {
   "cell_type": "code",
   "execution_count": 38,
   "metadata": {},
   "outputs": [
    {
     "data": {
      "text/html": [
       "<div>\n",
       "<style scoped>\n",
       "    .dataframe tbody tr th:only-of-type {\n",
       "        vertical-align: middle;\n",
       "    }\n",
       "\n",
       "    .dataframe tbody tr th {\n",
       "        vertical-align: top;\n",
       "    }\n",
       "\n",
       "    .dataframe thead th {\n",
       "        text-align: right;\n",
       "    }\n",
       "</style>\n",
       "<table border=\"1\" class=\"dataframe\">\n",
       "  <thead>\n",
       "    <tr style=\"text-align: right;\">\n",
       "      <th></th>\n",
       "      <th>date</th>\n",
       "      <th>price</th>\n",
       "    </tr>\n",
       "  </thead>\n",
       "  <tbody>\n",
       "    <tr>\n",
       "      <th>0</th>\n",
       "      <td>202204</td>\n",
       "      <td>5.692</td>\n",
       "    </tr>\n",
       "    <tr>\n",
       "      <th>1</th>\n",
       "      <td>202203</td>\n",
       "      <td>5.655</td>\n",
       "    </tr>\n",
       "    <tr>\n",
       "      <th>2</th>\n",
       "      <td>202202</td>\n",
       "      <td>4.660</td>\n",
       "    </tr>\n",
       "    <tr>\n",
       "      <th>3</th>\n",
       "      <td>202201</td>\n",
       "      <td>4.584</td>\n",
       "    </tr>\n",
       "    <tr>\n",
       "      <th>4</th>\n",
       "      <td>202112</td>\n",
       "      <td>4.597</td>\n",
       "    </tr>\n",
       "  </tbody>\n",
       "</table>\n",
       "</div>"
      ],
      "text/plain": [
       "     date  price\n",
       "0  202204  5.692\n",
       "1  202203  5.655\n",
       "2  202202  4.660\n",
       "3  202201  4.584\n",
       "4  202112  4.597"
      ]
     },
     "execution_count": 38,
     "metadata": {},
     "output_type": "execute_result"
    }
   ],
   "source": [
    "CATEGORY = 'PET.EMM_EPM0_PTE_SCA_DPG.M'\n",
    "\n",
    "# call function for pull \n",
    "fuel_m = eia_req(KEY, CATEGORY)\n",
    "fuel_m.columns = ['date', 'price']\n",
    "fuel_m.head()"
   ]
  },
  {
   "cell_type": "code",
   "execution_count": 39,
   "metadata": {},
   "outputs": [
    {
     "data": {
      "text/html": [
       "<div>\n",
       "<style scoped>\n",
       "    .dataframe tbody tr th:only-of-type {\n",
       "        vertical-align: middle;\n",
       "    }\n",
       "\n",
       "    .dataframe tbody tr th {\n",
       "        vertical-align: top;\n",
       "    }\n",
       "\n",
       "    .dataframe thead th {\n",
       "        text-align: right;\n",
       "    }\n",
       "</style>\n",
       "<table border=\"1\" class=\"dataframe\">\n",
       "  <thead>\n",
       "    <tr style=\"text-align: right;\">\n",
       "      <th></th>\n",
       "      <th>price</th>\n",
       "      <th>year</th>\n",
       "      <th>month</th>\n",
       "    </tr>\n",
       "  </thead>\n",
       "  <tbody>\n",
       "    <tr>\n",
       "      <th>0</th>\n",
       "      <td>5.692</td>\n",
       "      <td>2022</td>\n",
       "      <td>04</td>\n",
       "    </tr>\n",
       "    <tr>\n",
       "      <th>1</th>\n",
       "      <td>5.655</td>\n",
       "      <td>2022</td>\n",
       "      <td>03</td>\n",
       "    </tr>\n",
       "    <tr>\n",
       "      <th>2</th>\n",
       "      <td>4.660</td>\n",
       "      <td>2022</td>\n",
       "      <td>02</td>\n",
       "    </tr>\n",
       "    <tr>\n",
       "      <th>3</th>\n",
       "      <td>4.584</td>\n",
       "      <td>2022</td>\n",
       "      <td>01</td>\n",
       "    </tr>\n",
       "    <tr>\n",
       "      <th>4</th>\n",
       "      <td>4.597</td>\n",
       "      <td>2021</td>\n",
       "      <td>12</td>\n",
       "    </tr>\n",
       "  </tbody>\n",
       "</table>\n",
       "</div>"
      ],
      "text/plain": [
       "   price  year month\n",
       "0  5.692  2022    04\n",
       "1  5.655  2022    03\n",
       "2  4.660  2022    02\n",
       "3  4.584  2022    01\n",
       "4  4.597  2021    12"
      ]
     },
     "execution_count": 39,
     "metadata": {},
     "output_type": "execute_result"
    }
   ],
   "source": [
    "# add new cols from old date colum\n",
    "fuel_m['year'] = fuel_m['date'].str[:4]\n",
    "fuel_m['month'] = fuel_m['date'].str[-2:]\n",
    "\n",
    "# drop old date info \n",
    "fuel_m.drop(columns = 'date', inplace = True)\n",
    "fuel_m.head()"
   ]
  },
  {
   "cell_type": "code",
   "execution_count": 40,
   "metadata": {},
   "outputs": [],
   "source": [
    "# print to file\n",
    "fuel_m.to_csv('../data/processed/fuel_m.csv')"
   ]
  },
  {
   "cell_type": "markdown",
   "metadata": {},
   "source": [
    "#### Fuel Prices by Week"
   ]
  },
  {
   "cell_type": "code",
   "execution_count": 41,
   "metadata": {},
   "outputs": [
    {
     "data": {
      "text/html": [
       "<div>\n",
       "<style scoped>\n",
       "    .dataframe tbody tr th:only-of-type {\n",
       "        vertical-align: middle;\n",
       "    }\n",
       "\n",
       "    .dataframe tbody tr th {\n",
       "        vertical-align: top;\n",
       "    }\n",
       "\n",
       "    .dataframe thead th {\n",
       "        text-align: right;\n",
       "    }\n",
       "</style>\n",
       "<table border=\"1\" class=\"dataframe\">\n",
       "  <thead>\n",
       "    <tr style=\"text-align: right;\">\n",
       "      <th></th>\n",
       "      <th>date</th>\n",
       "      <th>price</th>\n",
       "    </tr>\n",
       "  </thead>\n",
       "  <tbody>\n",
       "    <tr>\n",
       "      <th>0</th>\n",
       "      <td>20220502</td>\n",
       "      <td>5.629</td>\n",
       "    </tr>\n",
       "    <tr>\n",
       "      <th>1</th>\n",
       "      <td>20220425</td>\n",
       "      <td>5.609</td>\n",
       "    </tr>\n",
       "    <tr>\n",
       "      <th>2</th>\n",
       "      <td>20220418</td>\n",
       "      <td>5.641</td>\n",
       "    </tr>\n",
       "    <tr>\n",
       "      <th>3</th>\n",
       "      <td>20220411</td>\n",
       "      <td>5.715</td>\n",
       "    </tr>\n",
       "    <tr>\n",
       "      <th>4</th>\n",
       "      <td>20220404</td>\n",
       "      <td>5.804</td>\n",
       "    </tr>\n",
       "  </tbody>\n",
       "</table>\n",
       "</div>"
      ],
      "text/plain": [
       "       date  price\n",
       "0  20220502  5.629\n",
       "1  20220425  5.609\n",
       "2  20220418  5.641\n",
       "3  20220411  5.715\n",
       "4  20220404  5.804"
      ]
     },
     "execution_count": 41,
     "metadata": {},
     "output_type": "execute_result"
    }
   ],
   "source": [
    "CATEGORY = 'PET.EMM_EPM0_PTE_SCA_DPG.W'\n",
    "\n",
    "# call function for pull \n",
    "fuel_w = eia_req(KEY, CATEGORY)\n",
    "fuel_w.columns = ['date', 'price']\n",
    "fuel_w.head()"
   ]
  },
  {
   "cell_type": "code",
   "execution_count": 53,
   "metadata": {},
   "outputs": [
    {
     "data": {
      "text/html": [
       "<div>\n",
       "<style scoped>\n",
       "    .dataframe tbody tr th:only-of-type {\n",
       "        vertical-align: middle;\n",
       "    }\n",
       "\n",
       "    .dataframe tbody tr th {\n",
       "        vertical-align: top;\n",
       "    }\n",
       "\n",
       "    .dataframe thead th {\n",
       "        text-align: right;\n",
       "    }\n",
       "</style>\n",
       "<table border=\"1\" class=\"dataframe\">\n",
       "  <thead>\n",
       "    <tr style=\"text-align: right;\">\n",
       "      <th></th>\n",
       "      <th>price</th>\n",
       "      <th>year</th>\n",
       "      <th>month</th>\n",
       "      <th>day</th>\n",
       "    </tr>\n",
       "  </thead>\n",
       "  <tbody>\n",
       "    <tr>\n",
       "      <th>0</th>\n",
       "      <td>5.629</td>\n",
       "      <td>2022</td>\n",
       "      <td>05</td>\n",
       "      <td>02</td>\n",
       "    </tr>\n",
       "    <tr>\n",
       "      <th>1</th>\n",
       "      <td>5.609</td>\n",
       "      <td>2022</td>\n",
       "      <td>04</td>\n",
       "      <td>25</td>\n",
       "    </tr>\n",
       "    <tr>\n",
       "      <th>2</th>\n",
       "      <td>5.641</td>\n",
       "      <td>2022</td>\n",
       "      <td>04</td>\n",
       "      <td>18</td>\n",
       "    </tr>\n",
       "    <tr>\n",
       "      <th>3</th>\n",
       "      <td>5.715</td>\n",
       "      <td>2022</td>\n",
       "      <td>04</td>\n",
       "      <td>11</td>\n",
       "    </tr>\n",
       "    <tr>\n",
       "      <th>4</th>\n",
       "      <td>5.804</td>\n",
       "      <td>2022</td>\n",
       "      <td>04</td>\n",
       "      <td>04</td>\n",
       "    </tr>\n",
       "  </tbody>\n",
       "</table>\n",
       "</div>"
      ],
      "text/plain": [
       "   price  year month day\n",
       "0  5.629  2022    05  02\n",
       "1  5.609  2022    04  25\n",
       "2  5.641  2022    04  18\n",
       "3  5.715  2022    04  11\n",
       "4  5.804  2022    04  04"
      ]
     },
     "execution_count": 53,
     "metadata": {},
     "output_type": "execute_result"
    }
   ],
   "source": [
    "# add new cols from old date colum\n",
    "fuel_w['year'] = fuel_w['date'].str[:4]\n",
    "fuel_w['month'] = fuel_w['date'].str[4:6]\n",
    "fuel_w['day'] = fuel_w['date'].str[-2:]\n",
    "\n",
    "# drop old date info \n",
    "fuel_w.drop(columns = 'date', inplace = True)\n",
    "fuel_w.head()"
   ]
  },
  {
   "cell_type": "code",
   "execution_count": 54,
   "metadata": {},
   "outputs": [],
   "source": [
    "# print to file\n",
    "fuel_w.to_csv('../data/processed/fuel_w.csv')"
   ]
  },
  {
   "cell_type": "markdown",
   "metadata": {},
   "source": [
    "## BART Data"
   ]
  },
  {
   "cell_type": "markdown",
   "metadata": {},
   "source": [
    "#### Weekly Ridership by Month `1997 - 2018`"
   ]
  },
  {
   "cell_type": "code",
   "execution_count": 68,
   "metadata": {},
   "outputs": [],
   "source": [
    "url = 'https://data.bart.gov/api/3/action/datastore_search?resource_id=6e653520-58cf-45c5-b40c-d37c8957ec77&limit=5'\n",
    "\n",
    "bart_req = requests.get(url)\n",
    "bart_req.status_code\n",
    "\n",
    "# getting data \n",
    "request = bart_req.json()"
   ]
  },
  {
   "cell_type": "code",
   "execution_count": 70,
   "metadata": {},
   "outputs": [
    {
     "data": {
      "text/html": [
       "<div>\n",
       "<style scoped>\n",
       "    .dataframe tbody tr th:only-of-type {\n",
       "        vertical-align: middle;\n",
       "    }\n",
       "\n",
       "    .dataframe tbody tr th {\n",
       "        vertical-align: top;\n",
       "    }\n",
       "\n",
       "    .dataframe thead th {\n",
       "        text-align: right;\n",
       "    }\n",
       "</style>\n",
       "<table border=\"1\" class=\"dataframe\">\n",
       "  <thead>\n",
       "    <tr style=\"text-align: right;\">\n",
       "      <th></th>\n",
       "      <th>_id</th>\n",
       "      <th>FiscalYear</th>\n",
       "      <th>FiscalMonth</th>\n",
       "      <th>RIDERSHIP WEEKAVG</th>\n",
       "      <th>RIDERSHIP GOAL</th>\n",
       "    </tr>\n",
       "  </thead>\n",
       "  <tbody>\n",
       "    <tr>\n",
       "      <th>0</th>\n",
       "      <td>1</td>\n",
       "      <td>1997</td>\n",
       "      <td>1</td>\n",
       "      <td>251524</td>\n",
       "      <td>240720</td>\n",
       "    </tr>\n",
       "    <tr>\n",
       "      <th>1</th>\n",
       "      <td>2</td>\n",
       "      <td>1997</td>\n",
       "      <td>2</td>\n",
       "      <td>256261</td>\n",
       "      <td>243974</td>\n",
       "    </tr>\n",
       "    <tr>\n",
       "      <th>2</th>\n",
       "      <td>3</td>\n",
       "      <td>1997</td>\n",
       "      <td>3</td>\n",
       "      <td>263602</td>\n",
       "      <td>253309</td>\n",
       "    </tr>\n",
       "    <tr>\n",
       "      <th>3</th>\n",
       "      <td>4</td>\n",
       "      <td>1997</td>\n",
       "      <td>4</td>\n",
       "      <td>264442</td>\n",
       "      <td>254655</td>\n",
       "    </tr>\n",
       "    <tr>\n",
       "      <th>4</th>\n",
       "      <td>5</td>\n",
       "      <td>1997</td>\n",
       "      <td>5</td>\n",
       "      <td>265244</td>\n",
       "      <td>259090</td>\n",
       "    </tr>\n",
       "  </tbody>\n",
       "</table>\n",
       "</div>"
      ],
      "text/plain": [
       "   _id  FiscalYear  FiscalMonth  RIDERSHIP WEEKAVG  RIDERSHIP GOAL\n",
       "0    1        1997            1             251524          240720\n",
       "1    2        1997            2             256261          243974\n",
       "2    3        1997            3             263602          253309\n",
       "3    4        1997            4             264442          254655\n",
       "4    5        1997            5             265244          259090"
      ]
     },
     "execution_count": 70,
     "metadata": {},
     "output_type": "execute_result"
    }
   ],
   "source": [
    "bart_2018 = pd.DataFrame(request['result']['records'])\n",
    "bart_2018.to_csv('../data/processed/bart_2018.csv')\n",
    "bart_2018"
   ]
  },
  {
   "cell_type": "code",
   "execution_count": null,
   "metadata": {},
   "outputs": [],
   "source": [
    "# Weekly Ridership 2019 - 2022"
   ]
  },
  {
   "cell_type": "code",
   "execution_count": null,
   "metadata": {},
   "outputs": [],
   "source": []
  },
  {
   "cell_type": "code",
   "execution_count": null,
   "metadata": {},
   "outputs": [],
   "source": []
  },
  {
   "cell_type": "code",
   "execution_count": null,
   "metadata": {},
   "outputs": [],
   "source": [
    "# # CA DATASETS TEST \n",
    "# # \n",
    "# # # https://www.cdtfa.ca.gov/dataportal/api/#/Alcohol_Consumption_Per_Capita/Alcohol_Consumption_Per_Capita_Get\n",
    "\n",
    "# #url = 'https://www.cdtfa.ca.gov/dataportal/api/odata/Alcohol_Consumption_Per_Capita?%24filter=FiscalYearFrom%20gt%201987'\n",
    "# #url = 'https://www.cdtfa.ca.gov/dataportal/api/odata/Alcohol_Consumption_Per_Capita?'\n",
    "\n",
    "# url = 'https://www.cdtfa.ca.gov/dataportal/api/odata/Alcohol_Consumption_Per_Capita?%24filter=FiscalYearFrom%20gt%201935&%24select=FiscalYearFrom%2C%20PerCapitaDistilledSpiritsConsumptionGallons'\n",
    "\n",
    "# # Make request\n",
    "# req = requests.get(url)\n",
    "# req.status_code\n",
    "\n",
    "# sq = req.json()\n",
    "# type(sq)\n",
    "\n",
    "# sq.keys()\n",
    "\n",
    "# mydf = pd.DataFrame(sq['value'])\n",
    "\n",
    "# mydf.head()\n",
    "\n",
    "# data = mydf\n",
    "\n",
    "# # import seaborn as sns\n",
    "# # sns.scatterplot(data = data, \n",
    "# #         x = 'FiscalYearFrom', \n",
    "# #         y = 'PerCapitaDistilledSpiritsConsumptionGallons')"
   ]
  }
 ],
 "metadata": {
  "interpreter": {
   "hash": "40d3a090f54c6569ab1632332b64b2c03c39dcf918b08424e98f38b5ae0af88f"
  },
  "kernelspec": {
   "display_name": "Python 3.9.7 ('base')",
   "language": "python",
   "name": "python3"
  },
  "language_info": {
   "codemirror_mode": {
    "name": "ipython",
    "version": 3
   },
   "file_extension": ".py",
   "mimetype": "text/x-python",
   "name": "python",
   "nbconvert_exporter": "python",
   "pygments_lexer": "ipython3",
   "version": "3.9.7"
  },
  "orig_nbformat": 4
 },
 "nbformat": 4,
 "nbformat_minor": 2
}
