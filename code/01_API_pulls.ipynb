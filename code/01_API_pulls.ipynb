{
 "cells": [
  {
   "cell_type": "markdown",
   "metadata": {},
   "source": [
    "#  1 |  Data Acquisition: API Requests\n",
    "---\n",
    "\n",
    "* _[01 API Requests](01_API_pulls.ipynb)_\n",
    "* [02 Initial EDA](02_EDA.ipynb)\n",
    "* [03 First Model: PROPHET](03_prophet.ipynb)\n",
    "---\n"
   ]
  },
  {
   "cell_type": "markdown",
   "metadata": {},
   "source": [
    "### Requests for `4` datasets via respective APIs. \n",
    "\n",
    "* `PROPHET` requires `df` with `2` series, columns `ds` and `y`. \n",
    " In this notebook, I document API pulls and data manipulation to create new `csv` files in an appropriate format to slice as needed in modeling.\n",
    "\n",
    "#### <b>Data Sources</b>\n",
    "\n",
    "* [BART](https://data.bart.gov/dataset/customer-ridership/resource/6e653520-58cf-45c5-b40c-d37c8957ec77) publishes monthly ridership reports, using faregate information [monthly totals](bart.csv)- [source](https://data.bart.gov/group/ridership)\n",
    "\n",
    "* <b>Gas Prices</b> [Fuel data from US Energy Information Admininstration](https://www.eia.gov/opendata/qb.php?category=240839&sdid=PET.EMM_EPM0_PTE_SCA_DPG.M)\n",
    "    * weekly: [fuel_m.csv](../data/processed/fuel_w.csv) - [source](https://www.eia.gov/opendata/qb.php?category=240839&sdid=PET.EMM_EPM0_PTE_SCA_DPG.W)\n",
    "    * monthly data saved: [fuel_w.csv](../processed/fuel_m.csv) - [source](https://www.eia.gov/opendata/qb.php?category=240839&sdid=PET.EMM_EPM0_PTE_SCA_DPG.M)    \n",
    "<br>\n",
    "\n",
    "* <b>Car registrations </b> [total for state](cars.csv) - ([CA DMV Vehicle Annual Count](https://www.energy.ca.gov/data-reports/energy-almanac/zero-emission-vehicle-and-infrastructure-statistics/vehicle-population)) ([API for counts by zip code](https://data.ca.gov/api/3/action/datastore_search?resource_id=888bbb6c-09b4-469c-82e6-1b2a47439736' ))\n",
    "\n",
    "* <b>Consumer Debt</b> [annual](debt.csv) ([Annual Consumer Debt](https://www.federalreserve.gov/datadownload/Choose.aspx?rel=G19))\n",
    "\n",
    "> Will not be using: ~~[caltrain](caltrain.com)  Publishes yearly ridership counts, based on model validated with a yearly county daily in January.~~"
   ]
  },
  {
   "cell_type": "code",
   "execution_count": 3,
   "metadata": {},
   "outputs": [],
   "source": [
    "##### BASIC IMPORTS \n",
    "import numpy as np\n",
    "import pandas as pd\n",
    "import requests"
   ]
  },
  {
   "cell_type": "code",
   "execution_count": 4,
   "metadata": {},
   "outputs": [],
   "source": [
    "# CUSTOM IMPORTS AND SETTINGS \n",
    "pd.options.display.max_columns = 90                    \n",
    "pd.options.display.max_rows = 100"
   ]
  },
  {
   "cell_type": "markdown",
   "metadata": {},
   "source": [
    "## Function to format with date-time index"
   ]
  },
  {
   "cell_type": "code",
   "execution_count": 1,
   "metadata": {},
   "outputs": [],
   "source": [
    "def date_index(df): \n",
    "    # df.dropna(inplace=True)\n",
    "    df['ds'] = df['date']\n",
    "    df['date'] = pd.to_datetime(df['date'])\n",
    "    df = df.set_index('date')\n",
    "    print(df.head(3))\n",
    "    return(df)"
   ]
  },
  {
   "cell_type": "markdown",
   "metadata": {},
   "source": [
    "## EIA DATA: Fuel Price History "
   ]
  },
  {
   "cell_type": "code",
   "execution_count": 2,
   "metadata": {},
   "outputs": [],
   "source": [
    "# EIA KEY - SET UP YOUR KEY TO USE EIA AIP # \n",
    "try:\n",
    "    KEY = os.environ['EIAAPI']\n",
    "except KeyError:\n",
    "    sys.exit('keys not found')"
   ]
  },
  {
   "cell_type": "markdown",
   "metadata": {},
   "source": [
    "#### Function for EIA requests takes KEY and CATEGORY"
   ]
  },
  {
   "cell_type": "code",
   "execution_count": 5,
   "metadata": {},
   "outputs": [],
   "source": [
    "# function for EIA data requests\n",
    "def eia_req(KEY, CATEGORY):\n",
    "    url = 'https://api.eia.gov/series/?api_key=' + KEY + '&series_id=' + CATEGORY\n",
    "    \n",
    "    # REQUEST \n",
    "    req = requests.get(url)\n",
    "    print ('Request Code:' + str(req.status_code))\n",
    "\n",
    "    # getting data \n",
    "    data = pd.DataFrame(req.json()['series'][0]['data'])\n",
    "\n",
    "    return (data)"
   ]
  },
  {
   "cell_type": "markdown",
   "metadata": {},
   "source": [
    "#### Fuel prices by month"
   ]
  },
  {
   "cell_type": "code",
   "execution_count": 6,
   "metadata": {},
   "outputs": [
    {
     "name": "stdout",
     "output_type": "stream",
     "text": [
      "Request Code:200\n"
     ]
    },
    {
     "data": {
      "text/html": [
       "<div>\n",
       "<style scoped>\n",
       "    .dataframe tbody tr th:only-of-type {\n",
       "        vertical-align: middle;\n",
       "    }\n",
       "\n",
       "    .dataframe tbody tr th {\n",
       "        vertical-align: top;\n",
       "    }\n",
       "\n",
       "    .dataframe thead th {\n",
       "        text-align: right;\n",
       "    }\n",
       "</style>\n",
       "<table border=\"1\" class=\"dataframe\">\n",
       "  <thead>\n",
       "    <tr style=\"text-align: right;\">\n",
       "      <th></th>\n",
       "      <th>date</th>\n",
       "      <th>fuel_m</th>\n",
       "    </tr>\n",
       "  </thead>\n",
       "  <tbody>\n",
       "    <tr>\n",
       "      <th>0</th>\n",
       "      <td>202206</td>\n",
       "      <td>6.294</td>\n",
       "    </tr>\n",
       "    <tr>\n",
       "      <th>1</th>\n",
       "      <td>202205</td>\n",
       "      <td>5.871</td>\n",
       "    </tr>\n",
       "    <tr>\n",
       "      <th>2</th>\n",
       "      <td>202204</td>\n",
       "      <td>5.692</td>\n",
       "    </tr>\n",
       "    <tr>\n",
       "      <th>3</th>\n",
       "      <td>202203</td>\n",
       "      <td>5.655</td>\n",
       "    </tr>\n",
       "    <tr>\n",
       "      <th>4</th>\n",
       "      <td>202202</td>\n",
       "      <td>4.660</td>\n",
       "    </tr>\n",
       "  </tbody>\n",
       "</table>\n",
       "</div>"
      ],
      "text/plain": [
       "     date  fuel_m\n",
       "0  202206   6.294\n",
       "1  202205   5.871\n",
       "2  202204   5.692\n",
       "3  202203   5.655\n",
       "4  202202   4.660"
      ]
     },
     "execution_count": 6,
     "metadata": {},
     "output_type": "execute_result"
    }
   ],
   "source": [
    "CATEGORY = 'PET.EMM_EPM0_PTE_SCA_DPG.M'\n",
    "\n",
    "# call function for pull \n",
    "fuel_m = eia_req(KEY, CATEGORY)\n",
    "fuel_m.columns = ['date', 'fuel_m']\n",
    "fuel_m.head()"
   ]
  },
  {
   "cell_type": "code",
   "execution_count": 7,
   "metadata": {},
   "outputs": [
    {
     "name": "stdout",
     "output_type": "stream",
     "text": [
      "            fuel_m  year month day          ds\n",
      "date                                          \n",
      "2022-06-01   6.294  2022    06  01  2022-06-01\n",
      "2022-05-01   5.871  2022    05  01  2022-05-01\n",
      "2022-04-01   5.692  2022    04  01  2022-04-01\n"
     ]
    },
    {
     "data": {
      "text/html": [
       "<div>\n",
       "<style scoped>\n",
       "    .dataframe tbody tr th:only-of-type {\n",
       "        vertical-align: middle;\n",
       "    }\n",
       "\n",
       "    .dataframe tbody tr th {\n",
       "        vertical-align: top;\n",
       "    }\n",
       "\n",
       "    .dataframe thead th {\n",
       "        text-align: right;\n",
       "    }\n",
       "</style>\n",
       "<table border=\"1\" class=\"dataframe\">\n",
       "  <thead>\n",
       "    <tr style=\"text-align: right;\">\n",
       "      <th></th>\n",
       "      <th>ds</th>\n",
       "      <th>fuel_m</th>\n",
       "    </tr>\n",
       "    <tr>\n",
       "      <th>date</th>\n",
       "      <th></th>\n",
       "      <th></th>\n",
       "    </tr>\n",
       "  </thead>\n",
       "  <tbody>\n",
       "    <tr>\n",
       "      <th>2022-02-01</th>\n",
       "      <td>2022-02-01</td>\n",
       "      <td>4.660</td>\n",
       "    </tr>\n",
       "    <tr>\n",
       "      <th>2022-03-01</th>\n",
       "      <td>2022-03-01</td>\n",
       "      <td>5.655</td>\n",
       "    </tr>\n",
       "    <tr>\n",
       "      <th>2022-04-01</th>\n",
       "      <td>2022-04-01</td>\n",
       "      <td>5.692</td>\n",
       "    </tr>\n",
       "    <tr>\n",
       "      <th>2022-05-01</th>\n",
       "      <td>2022-05-01</td>\n",
       "      <td>5.871</td>\n",
       "    </tr>\n",
       "    <tr>\n",
       "      <th>2022-06-01</th>\n",
       "      <td>2022-06-01</td>\n",
       "      <td>6.294</td>\n",
       "    </tr>\n",
       "  </tbody>\n",
       "</table>\n",
       "</div>"
      ],
      "text/plain": [
       "                    ds  fuel_m\n",
       "date                          \n",
       "2022-02-01  2022-02-01   4.660\n",
       "2022-03-01  2022-03-01   5.655\n",
       "2022-04-01  2022-04-01   5.692\n",
       "2022-05-01  2022-05-01   5.871\n",
       "2022-06-01  2022-06-01   6.294"
      ]
     },
     "execution_count": 7,
     "metadata": {},
     "output_type": "execute_result"
    }
   ],
   "source": [
    "# add new columns with split data and reformatted date\n",
    "fuel_m['year'] = fuel_m['date'].str[:4]\n",
    "fuel_m['month'] = fuel_m['date'].str[-2:]\n",
    "fuel_m['day'] = '01'    # using day 01 for all monthly data\n",
    "fuel_m['date'] = fuel_m['year'] + '-' + fuel_m['month'] + '-01' \n",
    "\n",
    "fuel_m = date_index(fuel_m)\n",
    "fuel_m.sort_index(inplace=True)\n",
    "\n",
    "fuel_m_out = fuel_m[['ds','fuel_m']]\n",
    "fuel_m_out.tail()"
   ]
  },
  {
   "cell_type": "code",
   "execution_count": 8,
   "metadata": {},
   "outputs": [],
   "source": [
    "# print to file\n",
    "fuel_m_out.to_csv('../data/processed/fuel_m.csv', index = False)"
   ]
  },
  {
   "cell_type": "markdown",
   "metadata": {},
   "source": [
    "#### Fuel Prices by Week"
   ]
  },
  {
   "cell_type": "code",
   "execution_count": 13,
   "metadata": {},
   "outputs": [
    {
     "name": "stdout",
     "output_type": "stream",
     "text": [
      "Request Code:200\n"
     ]
    },
    {
     "data": {
      "text/html": [
       "<div>\n",
       "<style scoped>\n",
       "    .dataframe tbody tr th:only-of-type {\n",
       "        vertical-align: middle;\n",
       "    }\n",
       "\n",
       "    .dataframe tbody tr th {\n",
       "        vertical-align: top;\n",
       "    }\n",
       "\n",
       "    .dataframe thead th {\n",
       "        text-align: right;\n",
       "    }\n",
       "</style>\n",
       "<table border=\"1\" class=\"dataframe\">\n",
       "  <thead>\n",
       "    <tr style=\"text-align: right;\">\n",
       "      <th></th>\n",
       "      <th>date</th>\n",
       "      <th>fuel_w</th>\n",
       "    </tr>\n",
       "  </thead>\n",
       "  <tbody>\n",
       "    <tr>\n",
       "      <th>0</th>\n",
       "      <td>20220718</td>\n",
       "      <td>5.794</td>\n",
       "    </tr>\n",
       "    <tr>\n",
       "      <th>1</th>\n",
       "      <td>20220711</td>\n",
       "      <td>5.994</td>\n",
       "    </tr>\n",
       "    <tr>\n",
       "      <th>2</th>\n",
       "      <td>20220704</td>\n",
       "      <td>6.138</td>\n",
       "    </tr>\n",
       "    <tr>\n",
       "      <th>3</th>\n",
       "      <td>20220627</td>\n",
       "      <td>6.230</td>\n",
       "    </tr>\n",
       "    <tr>\n",
       "      <th>4</th>\n",
       "      <td>20220620</td>\n",
       "      <td>6.307</td>\n",
       "    </tr>\n",
       "    <tr>\n",
       "      <th>5</th>\n",
       "      <td>20220613</td>\n",
       "      <td>6.364</td>\n",
       "    </tr>\n",
       "    <tr>\n",
       "      <th>6</th>\n",
       "      <td>20220606</td>\n",
       "      <td>6.276</td>\n",
       "    </tr>\n",
       "    <tr>\n",
       "      <th>7</th>\n",
       "      <td>20220530</td>\n",
       "      <td>6.087</td>\n",
       "    </tr>\n",
       "    <tr>\n",
       "      <th>8</th>\n",
       "      <td>20220523</td>\n",
       "      <td>5.998</td>\n",
       "    </tr>\n",
       "    <tr>\n",
       "      <th>9</th>\n",
       "      <td>20220516</td>\n",
       "      <td>5.891</td>\n",
       "    </tr>\n",
       "    <tr>\n",
       "      <th>10</th>\n",
       "      <td>20220509</td>\n",
       "      <td>5.748</td>\n",
       "    </tr>\n",
       "    <tr>\n",
       "      <th>11</th>\n",
       "      <td>20220502</td>\n",
       "      <td>5.629</td>\n",
       "    </tr>\n",
       "  </tbody>\n",
       "</table>\n",
       "</div>"
      ],
      "text/plain": [
       "        date  fuel_w\n",
       "0   20220718   5.794\n",
       "1   20220711   5.994\n",
       "2   20220704   6.138\n",
       "3   20220627   6.230\n",
       "4   20220620   6.307\n",
       "5   20220613   6.364\n",
       "6   20220606   6.276\n",
       "7   20220530   6.087\n",
       "8   20220523   5.998\n",
       "9   20220516   5.891\n",
       "10  20220509   5.748\n",
       "11  20220502   5.629"
      ]
     },
     "execution_count": 13,
     "metadata": {},
     "output_type": "execute_result"
    }
   ],
   "source": [
    "CATEGORY = 'PET.EMM_EPM0_PTE_SCA_DPG.W'\n",
    "\n",
    "# call function for pull \n",
    "fuel_w = eia_req(KEY, CATEGORY)\n",
    "fuel_w.columns = ['date', 'fuel_w']\n",
    "fuel_w.head(12)"
   ]
  },
  {
   "cell_type": "code",
   "execution_count": 14,
   "metadata": {},
   "outputs": [
    {
     "name": "stdout",
     "output_type": "stream",
     "text": [
      "            fuel_w  year month day          ds\n",
      "date                                          \n",
      "2022-07-18   5.794  2022    07  18  2022-07-18\n",
      "2022-07-11   5.994  2022    07  11  2022-07-11\n",
      "2022-07-04   6.138  2022    07  04  2022-07-04\n"
     ]
    },
    {
     "data": {
      "text/html": [
       "<div>\n",
       "<style scoped>\n",
       "    .dataframe tbody tr th:only-of-type {\n",
       "        vertical-align: middle;\n",
       "    }\n",
       "\n",
       "    .dataframe tbody tr th {\n",
       "        vertical-align: top;\n",
       "    }\n",
       "\n",
       "    .dataframe thead th {\n",
       "        text-align: right;\n",
       "    }\n",
       "</style>\n",
       "<table border=\"1\" class=\"dataframe\">\n",
       "  <thead>\n",
       "    <tr style=\"text-align: right;\">\n",
       "      <th></th>\n",
       "      <th>ds</th>\n",
       "      <th>fuel_w</th>\n",
       "    </tr>\n",
       "    <tr>\n",
       "      <th>date</th>\n",
       "      <th></th>\n",
       "      <th></th>\n",
       "    </tr>\n",
       "  </thead>\n",
       "  <tbody>\n",
       "    <tr>\n",
       "      <th>2000-05-22</th>\n",
       "      <td>2000-05-22</td>\n",
       "      <td>1.679</td>\n",
       "    </tr>\n",
       "    <tr>\n",
       "      <th>2000-05-29</th>\n",
       "      <td>2000-05-29</td>\n",
       "      <td>1.673</td>\n",
       "    </tr>\n",
       "    <tr>\n",
       "      <th>2000-06-05</th>\n",
       "      <td>2000-06-05</td>\n",
       "      <td>1.661</td>\n",
       "    </tr>\n",
       "    <tr>\n",
       "      <th>2000-06-12</th>\n",
       "      <td>2000-06-12</td>\n",
       "      <td>1.662</td>\n",
       "    </tr>\n",
       "    <tr>\n",
       "      <th>2000-06-19</th>\n",
       "      <td>2000-06-19</td>\n",
       "      <td>1.664</td>\n",
       "    </tr>\n",
       "  </tbody>\n",
       "</table>\n",
       "</div>"
      ],
      "text/plain": [
       "                    ds  fuel_w\n",
       "date                          \n",
       "2000-05-22  2000-05-22   1.679\n",
       "2000-05-29  2000-05-29   1.673\n",
       "2000-06-05  2000-06-05   1.661\n",
       "2000-06-12  2000-06-12   1.662\n",
       "2000-06-19  2000-06-19   1.664"
      ]
     },
     "execution_count": 14,
     "metadata": {},
     "output_type": "execute_result"
    }
   ],
   "source": [
    "#add new cols from old date colum\n",
    "fuel_w['year'] = fuel_w['date'].str[:4]\n",
    "\n",
    "fuel_w['month'] = fuel_w['date'].str[4:6]\n",
    "fuel_w['day'] = fuel_w['date'].str[-2:]\n",
    "fuel_w['date'] = fuel_w['date'].str[:4] + '-' + fuel_w['month'] + '-' + fuel_w['day']\n",
    "\n",
    "fuel_w = date_index(fuel_w)\n",
    "fuel_w.sort_index(inplace=True)\n",
    "\n",
    "fuel_w_out = fuel_w[['ds', 'fuel_w']]\n",
    "fuel_w_out.head()"
   ]
  },
  {
   "cell_type": "code",
   "execution_count": 15,
   "metadata": {},
   "outputs": [],
   "source": [
    "# print to file\n",
    "fuel_w_out.to_csv('../data/processed/fuel_w.csv', index = False)"
   ]
  },
  {
   "cell_type": "markdown",
   "metadata": {},
   "source": [
    "## BART Data"
   ]
  },
  {
   "cell_type": "markdown",
   "metadata": {},
   "source": [
    "#### Weekly Ridership by Month `1997 - 2018`"
   ]
  },
  {
   "cell_type": "code",
   "execution_count": 17,
   "metadata": {},
   "outputs": [
    {
     "data": {
      "text/plain": [
       "200"
      ]
     },
     "execution_count": 17,
     "metadata": {},
     "output_type": "execute_result"
    }
   ],
   "source": [
    "url = 'https://data.bart.gov/api/3/action/datastore_search?resource_id=6e653520-58cf-45c5-b40c-d37c8957ec77&'\n",
    "#url = 'https://data.bart.gov/api/3/action/datastore_search?resource_id=6e653520-58cf-45c5-b40c-d37c8957ec77'\n",
    "\n",
    "bart_req = requests.get(url)\n",
    "bart_req.status_code"
   ]
  },
  {
   "cell_type": "code",
   "execution_count": 18,
   "metadata": {},
   "outputs": [
    {
     "data": {
      "text/html": [
       "<div>\n",
       "<style scoped>\n",
       "    .dataframe tbody tr th:only-of-type {\n",
       "        vertical-align: middle;\n",
       "    }\n",
       "\n",
       "    .dataframe tbody tr th {\n",
       "        vertical-align: top;\n",
       "    }\n",
       "\n",
       "    .dataframe thead th {\n",
       "        text-align: right;\n",
       "    }\n",
       "</style>\n",
       "<table border=\"1\" class=\"dataframe\">\n",
       "  <thead>\n",
       "    <tr style=\"text-align: right;\">\n",
       "      <th></th>\n",
       "      <th>_id</th>\n",
       "      <th>FiscalYear</th>\n",
       "      <th>FiscalMonth</th>\n",
       "      <th>RIDERSHIP WEEKAVG</th>\n",
       "      <th>RIDERSHIP GOAL</th>\n",
       "    </tr>\n",
       "  </thead>\n",
       "  <tbody>\n",
       "    <tr>\n",
       "      <th>95</th>\n",
       "      <td>96</td>\n",
       "      <td>2004</td>\n",
       "      <td>12</td>\n",
       "      <td>308792.5455</td>\n",
       "      <td>332874.1668</td>\n",
       "    </tr>\n",
       "    <tr>\n",
       "      <th>96</th>\n",
       "      <td>97</td>\n",
       "      <td>2005</td>\n",
       "      <td>1</td>\n",
       "      <td>308189.9524</td>\n",
       "      <td>308517.7023</td>\n",
       "    </tr>\n",
       "    <tr>\n",
       "      <th>97</th>\n",
       "      <td>98</td>\n",
       "      <td>2005</td>\n",
       "      <td>2</td>\n",
       "      <td>304724.3182</td>\n",
       "      <td>313073.2802</td>\n",
       "    </tr>\n",
       "    <tr>\n",
       "      <th>98</th>\n",
       "      <td>99</td>\n",
       "      <td>2005</td>\n",
       "      <td>3</td>\n",
       "      <td>323235.5714</td>\n",
       "      <td>318924.7632</td>\n",
       "    </tr>\n",
       "    <tr>\n",
       "      <th>99</th>\n",
       "      <td>100</td>\n",
       "      <td>2005</td>\n",
       "      <td>4</td>\n",
       "      <td>315753.4500</td>\n",
       "      <td>319959.4083</td>\n",
       "    </tr>\n",
       "  </tbody>\n",
       "</table>\n",
       "</div>"
      ],
      "text/plain": [
       "    _id  FiscalYear  FiscalMonth  RIDERSHIP WEEKAVG  RIDERSHIP GOAL\n",
       "95   96        2004           12        308792.5455     332874.1668\n",
       "96   97        2005            1        308189.9524     308517.7023\n",
       "97   98        2005            2        304724.3182     313073.2802\n",
       "98   99        2005            3        323235.5714     318924.7632\n",
       "99  100        2005            4        315753.4500     319959.4083"
      ]
     },
     "execution_count": 18,
     "metadata": {},
     "output_type": "execute_result"
    }
   ],
   "source": [
    "# getting data \n",
    "bart_data = pd.DataFrame(bart_req.json()['result']['records'])\n",
    "bart_data.tail()"
   ]
  },
  {
   "cell_type": "code",
   "execution_count": 19,
   "metadata": {},
   "outputs": [
    {
     "data": {
      "text/html": [
       "<div>\n",
       "<style scoped>\n",
       "    .dataframe tbody tr th:only-of-type {\n",
       "        vertical-align: middle;\n",
       "    }\n",
       "\n",
       "    .dataframe tbody tr th {\n",
       "        vertical-align: top;\n",
       "    }\n",
       "\n",
       "    .dataframe thead th {\n",
       "        text-align: right;\n",
       "    }\n",
       "</style>\n",
       "<table border=\"1\" class=\"dataframe\">\n",
       "  <thead>\n",
       "    <tr style=\"text-align: right;\">\n",
       "      <th></th>\n",
       "      <th>FiscalYear</th>\n",
       "      <th>FiscalMonth</th>\n",
       "      <th>RIDERSHIP WEEKAVG</th>\n",
       "      <th>RIDERSHIP GOAL</th>\n",
       "    </tr>\n",
       "  </thead>\n",
       "  <tbody>\n",
       "    <tr>\n",
       "      <th>254</th>\n",
       "      <td>2018</td>\n",
       "      <td>3</td>\n",
       "      <td>422201.0</td>\n",
       "      <td>437728.0</td>\n",
       "    </tr>\n",
       "    <tr>\n",
       "      <th>255</th>\n",
       "      <td>2018</td>\n",
       "      <td>4</td>\n",
       "      <td>426492.0</td>\n",
       "      <td>439970.0</td>\n",
       "    </tr>\n",
       "    <tr>\n",
       "      <th>256</th>\n",
       "      <td>2018</td>\n",
       "      <td>5</td>\n",
       "      <td>423264.0</td>\n",
       "      <td>430308.0</td>\n",
       "    </tr>\n",
       "    <tr>\n",
       "      <th>257</th>\n",
       "      <td>2018</td>\n",
       "      <td>6</td>\n",
       "      <td>391219.0</td>\n",
       "      <td>405048.0</td>\n",
       "    </tr>\n",
       "    <tr>\n",
       "      <th>258</th>\n",
       "      <td>2018</td>\n",
       "      <td>7</td>\n",
       "      <td>395222.0</td>\n",
       "      <td>423540.0</td>\n",
       "    </tr>\n",
       "  </tbody>\n",
       "</table>\n",
       "</div>"
      ],
      "text/plain": [
       "     FiscalYear  FiscalMonth  RIDERSHIP WEEKAVG  RIDERSHIP GOAL\n",
       "254        2018            3           422201.0        437728.0\n",
       "255        2018            4           426492.0        439970.0\n",
       "256        2018            5           423264.0        430308.0\n",
       "257        2018            6           391219.0        405048.0\n",
       "258        2018            7           395222.0        423540.0"
      ]
     },
     "execution_count": 19,
     "metadata": {},
     "output_type": "execute_result"
    }
   ],
   "source": [
    "path = '../data/raw/bart/'\n",
    "file = 'customer-ridership.csv'\n",
    "\n",
    "filename = path + file\n",
    "bart_date = pd.read_csv(filename)\n",
    "\n",
    "bart_date.tail()"
   ]
  },
  {
   "cell_type": "code",
   "execution_count": 20,
   "metadata": {},
   "outputs": [
    {
     "data": {
      "text/html": [
       "<div>\n",
       "<style scoped>\n",
       "    .dataframe tbody tr th:only-of-type {\n",
       "        vertical-align: middle;\n",
       "    }\n",
       "\n",
       "    .dataframe tbody tr th {\n",
       "        vertical-align: top;\n",
       "    }\n",
       "\n",
       "    .dataframe thead th {\n",
       "        text-align: right;\n",
       "    }\n",
       "</style>\n",
       "<table border=\"1\" class=\"dataframe\">\n",
       "  <thead>\n",
       "    <tr style=\"text-align: right;\">\n",
       "      <th></th>\n",
       "      <th>_id</th>\n",
       "      <th>year</th>\n",
       "      <th>month</th>\n",
       "      <th>ridership</th>\n",
       "    </tr>\n",
       "  </thead>\n",
       "  <tbody>\n",
       "    <tr>\n",
       "      <th>0</th>\n",
       "      <td>1</td>\n",
       "      <td>1997</td>\n",
       "      <td>1</td>\n",
       "      <td>251524.0</td>\n",
       "    </tr>\n",
       "    <tr>\n",
       "      <th>1</th>\n",
       "      <td>2</td>\n",
       "      <td>1997</td>\n",
       "      <td>2</td>\n",
       "      <td>256261.0</td>\n",
       "    </tr>\n",
       "    <tr>\n",
       "      <th>2</th>\n",
       "      <td>3</td>\n",
       "      <td>1997</td>\n",
       "      <td>3</td>\n",
       "      <td>263602.0</td>\n",
       "    </tr>\n",
       "    <tr>\n",
       "      <th>3</th>\n",
       "      <td>4</td>\n",
       "      <td>1997</td>\n",
       "      <td>4</td>\n",
       "      <td>264442.0</td>\n",
       "    </tr>\n",
       "    <tr>\n",
       "      <th>4</th>\n",
       "      <td>5</td>\n",
       "      <td>1997</td>\n",
       "      <td>5</td>\n",
       "      <td>265244.0</td>\n",
       "    </tr>\n",
       "  </tbody>\n",
       "</table>\n",
       "</div>"
      ],
      "text/plain": [
       "   _id  year  month  ridership\n",
       "0    1  1997      1   251524.0\n",
       "1    2  1997      2   256261.0\n",
       "2    3  1997      3   263602.0\n",
       "3    4  1997      4   264442.0\n",
       "4    5  1997      5   265244.0"
      ]
     },
     "execution_count": 20,
     "metadata": {},
     "output_type": "execute_result"
    }
   ],
   "source": [
    "bart_data.drop(columns = ['RIDERSHIP GOAL'], inplace = True)\n",
    "\n",
    "new_col = {\n",
    "    'RIDERSHIP WEEKAVG' : 'ridership',\n",
    "    'FiscalMonth':'month',\n",
    "    'FiscalYear':'year', \n",
    "}\n",
    "\n",
    "bart_data.rename(columns = new_col, inplace = True)\n",
    "bart = bart_data\n",
    "bart.head()"
   ]
  },
  {
   "cell_type": "code",
   "execution_count": 21,
   "metadata": {},
   "outputs": [
    {
     "name": "stdout",
     "output_type": "stream",
     "text": [
      "            _id  year  month  ridership day         ds\n",
      "date                                                  \n",
      "1997-01-01    1  1997      1    1006096  01  1997-1-01\n",
      "1997-02-01    2  1997      2    1025044  01  1997-2-01\n",
      "1997-03-01    3  1997      3    1054408  01  1997-3-01\n"
     ]
    },
    {
     "data": {
      "text/html": [
       "<div>\n",
       "<style scoped>\n",
       "    .dataframe tbody tr th:only-of-type {\n",
       "        vertical-align: middle;\n",
       "    }\n",
       "\n",
       "    .dataframe tbody tr th {\n",
       "        vertical-align: top;\n",
       "    }\n",
       "\n",
       "    .dataframe thead th {\n",
       "        text-align: right;\n",
       "    }\n",
       "</style>\n",
       "<table border=\"1\" class=\"dataframe\">\n",
       "  <thead>\n",
       "    <tr style=\"text-align: right;\">\n",
       "      <th></th>\n",
       "      <th>ds</th>\n",
       "      <th>ridership</th>\n",
       "    </tr>\n",
       "    <tr>\n",
       "      <th>date</th>\n",
       "      <th></th>\n",
       "      <th></th>\n",
       "    </tr>\n",
       "  </thead>\n",
       "  <tbody>\n",
       "    <tr>\n",
       "      <th>2004-12-01</th>\n",
       "      <td>2004-12-01</td>\n",
       "      <td>1235168</td>\n",
       "    </tr>\n",
       "    <tr>\n",
       "      <th>2005-01-01</th>\n",
       "      <td>2005-1-01</td>\n",
       "      <td>1232756</td>\n",
       "    </tr>\n",
       "    <tr>\n",
       "      <th>2005-02-01</th>\n",
       "      <td>2005-2-01</td>\n",
       "      <td>1218896</td>\n",
       "    </tr>\n",
       "    <tr>\n",
       "      <th>2005-03-01</th>\n",
       "      <td>2005-3-01</td>\n",
       "      <td>1292940</td>\n",
       "    </tr>\n",
       "    <tr>\n",
       "      <th>2005-04-01</th>\n",
       "      <td>2005-4-01</td>\n",
       "      <td>1263012</td>\n",
       "    </tr>\n",
       "  </tbody>\n",
       "</table>\n",
       "</div>"
      ],
      "text/plain": [
       "                    ds  ridership\n",
       "date                             \n",
       "2004-12-01  2004-12-01    1235168\n",
       "2005-01-01   2005-1-01    1232756\n",
       "2005-02-01   2005-2-01    1218896\n",
       "2005-03-01   2005-3-01    1292940\n",
       "2005-04-01   2005-4-01    1263012"
      ]
     },
     "execution_count": 21,
     "metadata": {},
     "output_type": "execute_result"
    }
   ],
   "source": [
    "# add new cols from old date colum\n",
    "bart['day'] = '01'\n",
    "# bart['month'] = bart['month'].apply(lambda x: '0' + str(x) if x < 10 else x )\n",
    "bart['date'] = bart['year'].astype(str) + '-' + bart['month'].astype(str) + '-01'\n",
    "\n",
    "bart['ridership'] = 4*bart['ridership'].astype(int) # ridershiop is weekly, assume 4-week months\n",
    "\n",
    "bart = date_index(bart)\n",
    "bart_out = bart[['ds', 'ridership']]\n",
    "\n",
    "bart_out.tail()"
   ]
  },
  {
   "cell_type": "code",
   "execution_count": 22,
   "metadata": {},
   "outputs": [
    {
     "data": {
      "text/html": [
       "<div>\n",
       "<style scoped>\n",
       "    .dataframe tbody tr th:only-of-type {\n",
       "        vertical-align: middle;\n",
       "    }\n",
       "\n",
       "    .dataframe tbody tr th {\n",
       "        vertical-align: top;\n",
       "    }\n",
       "\n",
       "    .dataframe thead th {\n",
       "        text-align: right;\n",
       "    }\n",
       "</style>\n",
       "<table border=\"1\" class=\"dataframe\">\n",
       "  <thead>\n",
       "    <tr style=\"text-align: right;\">\n",
       "      <th></th>\n",
       "      <th>ds</th>\n",
       "      <th>ridership</th>\n",
       "    </tr>\n",
       "    <tr>\n",
       "      <th>date</th>\n",
       "      <th></th>\n",
       "      <th></th>\n",
       "    </tr>\n",
       "  </thead>\n",
       "  <tbody>\n",
       "    <tr>\n",
       "      <th>2004-12-01</th>\n",
       "      <td>2004-12-01</td>\n",
       "      <td>1235168</td>\n",
       "    </tr>\n",
       "    <tr>\n",
       "      <th>2005-01-01</th>\n",
       "      <td>2005-1-01</td>\n",
       "      <td>1232756</td>\n",
       "    </tr>\n",
       "    <tr>\n",
       "      <th>2005-02-01</th>\n",
       "      <td>2005-2-01</td>\n",
       "      <td>1218896</td>\n",
       "    </tr>\n",
       "    <tr>\n",
       "      <th>2005-03-01</th>\n",
       "      <td>2005-3-01</td>\n",
       "      <td>1292940</td>\n",
       "    </tr>\n",
       "    <tr>\n",
       "      <th>2005-04-01</th>\n",
       "      <td>2005-4-01</td>\n",
       "      <td>1263012</td>\n",
       "    </tr>\n",
       "  </tbody>\n",
       "</table>\n",
       "</div>"
      ],
      "text/plain": [
       "                    ds  ridership\n",
       "date                             \n",
       "2004-12-01  2004-12-01    1235168\n",
       "2005-01-01   2005-1-01    1232756\n",
       "2005-02-01   2005-2-01    1218896\n",
       "2005-03-01   2005-3-01    1292940\n",
       "2005-04-01   2005-4-01    1263012"
      ]
     },
     "execution_count": 22,
     "metadata": {},
     "output_type": "execute_result"
    }
   ],
   "source": [
    "bart_out.tail()"
   ]
  },
  {
   "cell_type": "code",
   "execution_count": 23,
   "metadata": {},
   "outputs": [],
   "source": [
    "bart_out.to_csv('../data/processed/bart_2005.csv', index = False)"
   ]
  },
  {
   "cell_type": "markdown",
   "metadata": {},
   "source": [
    "## Vehicle Registration Counts"
   ]
  },
  {
   "cell_type": "code",
   "execution_count": 6,
   "metadata": {},
   "outputs": [
    {
     "data": {
      "text/plain": [
       "200"
      ]
     },
     "execution_count": 6,
     "metadata": {},
     "output_type": "execute_result"
    }
   ],
   "source": [
    "url = 'https://data.ca.gov/api/3/action/datastore_search?resource_id=888bbb6c-09b4-469c-82e6-1b2a47439736' \n",
    "\n",
    "veh_req = requests.get(url)\n",
    "veh_req.status_code"
   ]
  },
  {
   "cell_type": "code",
   "execution_count": 7,
   "metadata": {},
   "outputs": [
    {
     "data": {
      "text/html": [
       "<div>\n",
       "<style scoped>\n",
       "    .dataframe tbody tr th:only-of-type {\n",
       "        vertical-align: middle;\n",
       "    }\n",
       "\n",
       "    .dataframe tbody tr th {\n",
       "        vertical-align: top;\n",
       "    }\n",
       "\n",
       "    .dataframe thead th {\n",
       "        text-align: right;\n",
       "    }\n",
       "</style>\n",
       "<table border=\"1\" class=\"dataframe\">\n",
       "  <thead>\n",
       "    <tr style=\"text-align: right;\">\n",
       "      <th></th>\n",
       "      <th>Duty</th>\n",
       "      <th>Make</th>\n",
       "      <th>Vehicles</th>\n",
       "      <th>Zip Code</th>\n",
       "      <th>Fuel</th>\n",
       "      <th>Date</th>\n",
       "      <th>_id</th>\n",
       "      <th>Model Year</th>\n",
       "    </tr>\n",
       "  </thead>\n",
       "  <tbody>\n",
       "    <tr>\n",
       "      <th>0</th>\n",
       "      <td>Light</td>\n",
       "      <td>ACURA</td>\n",
       "      <td>12</td>\n",
       "      <td>90001</td>\n",
       "      <td>Gasoline</td>\n",
       "      <td>1/1/2021</td>\n",
       "      <td>1</td>\n",
       "      <td>2008</td>\n",
       "    </tr>\n",
       "    <tr>\n",
       "      <th>1</th>\n",
       "      <td>Light</td>\n",
       "      <td>ACURA</td>\n",
       "      <td>24</td>\n",
       "      <td>90003</td>\n",
       "      <td>Gasoline</td>\n",
       "      <td>1/1/2021</td>\n",
       "      <td>2</td>\n",
       "      <td>2008</td>\n",
       "    </tr>\n",
       "    <tr>\n",
       "      <th>2</th>\n",
       "      <td>Light</td>\n",
       "      <td>ACURA</td>\n",
       "      <td>20</td>\n",
       "      <td>90004</td>\n",
       "      <td>Gasoline</td>\n",
       "      <td>1/1/2021</td>\n",
       "      <td>3</td>\n",
       "      <td>2008</td>\n",
       "    </tr>\n",
       "    <tr>\n",
       "      <th>3</th>\n",
       "      <td>Light</td>\n",
       "      <td>ACURA</td>\n",
       "      <td>12</td>\n",
       "      <td>90005</td>\n",
       "      <td>Gasoline</td>\n",
       "      <td>1/1/2021</td>\n",
       "      <td>4</td>\n",
       "      <td>2008</td>\n",
       "    </tr>\n",
       "    <tr>\n",
       "      <th>4</th>\n",
       "      <td>Light</td>\n",
       "      <td>ACURA</td>\n",
       "      <td>15</td>\n",
       "      <td>90006</td>\n",
       "      <td>Gasoline</td>\n",
       "      <td>1/1/2021</td>\n",
       "      <td>5</td>\n",
       "      <td>2008</td>\n",
       "    </tr>\n",
       "  </tbody>\n",
       "</table>\n",
       "</div>"
      ],
      "text/plain": [
       "    Duty   Make Vehicles Zip Code      Fuel      Date  _id Model Year\n",
       "0  Light  ACURA       12    90001  Gasoline  1/1/2021    1       2008\n",
       "1  Light  ACURA       24    90003  Gasoline  1/1/2021    2       2008\n",
       "2  Light  ACURA       20    90004  Gasoline  1/1/2021    3       2008\n",
       "3  Light  ACURA       12    90005  Gasoline  1/1/2021    4       2008\n",
       "4  Light  ACURA       15    90006  Gasoline  1/1/2021    5       2008"
      ]
     },
     "execution_count": 7,
     "metadata": {},
     "output_type": "execute_result"
    }
   ],
   "source": [
    "# getting data \n",
    "veh = pd.DataFrame((veh_req.json())['result']['records'])\n",
    "veh.head()"
   ]
  },
  {
   "cell_type": "code",
   "execution_count": 8,
   "metadata": {},
   "outputs": [],
   "source": [
    "veh.drop(columns = ['_id', 'Duty', 'Make', 'Fuel', 'Model Year'], inplace = True)\n",
    "\n",
    "new_col = {\n",
    "    'Zip Code':'zip',\n",
    "    'Date':'ds', \n",
    "    'Vehicles' : 'vehs',\n",
    "}\n",
    "\n",
    "veh.rename(columns = new_col, inplace=True)"
   ]
  },
  {
   "cell_type": "code",
   "execution_count": 9,
   "metadata": {},
   "outputs": [
    {
     "name": "stdout",
     "output_type": "stream",
     "text": [
      "           vehs    zip          ds day month  year\n",
      "date                                              \n",
      "2021-01-01   12  90001  2021-01-01  01    01  2021\n",
      "2021-01-01   24  90003  2021-01-01  01    01  2021\n",
      "2021-01-01   20  90004  2021-01-01  01    01  2021\n"
     ]
    },
    {
     "data": {
      "text/html": [
       "<div>\n",
       "<style scoped>\n",
       "    .dataframe tbody tr th:only-of-type {\n",
       "        vertical-align: middle;\n",
       "    }\n",
       "\n",
       "    .dataframe tbody tr th {\n",
       "        vertical-align: top;\n",
       "    }\n",
       "\n",
       "    .dataframe thead th {\n",
       "        text-align: right;\n",
       "    }\n",
       "</style>\n",
       "<table border=\"1\" class=\"dataframe\">\n",
       "  <thead>\n",
       "    <tr style=\"text-align: right;\">\n",
       "      <th></th>\n",
       "      <th>ds</th>\n",
       "      <th>zip</th>\n",
       "      <th>vehs</th>\n",
       "    </tr>\n",
       "    <tr>\n",
       "      <th>date</th>\n",
       "      <th></th>\n",
       "      <th></th>\n",
       "      <th></th>\n",
       "    </tr>\n",
       "  </thead>\n",
       "  <tbody>\n",
       "    <tr>\n",
       "      <th>2021-01-01</th>\n",
       "      <td>2021-01-01</td>\n",
       "      <td>90806</td>\n",
       "      <td>17</td>\n",
       "    </tr>\n",
       "    <tr>\n",
       "      <th>2021-01-01</th>\n",
       "      <td>2021-01-01</td>\n",
       "      <td>90808</td>\n",
       "      <td>17</td>\n",
       "    </tr>\n",
       "    <tr>\n",
       "      <th>2021-01-01</th>\n",
       "      <td>2021-01-01</td>\n",
       "      <td>90810</td>\n",
       "      <td>13</td>\n",
       "    </tr>\n",
       "    <tr>\n",
       "      <th>2021-01-01</th>\n",
       "      <td>2021-01-01</td>\n",
       "      <td>90813</td>\n",
       "      <td>22</td>\n",
       "    </tr>\n",
       "    <tr>\n",
       "      <th>2021-01-01</th>\n",
       "      <td>2021-01-01</td>\n",
       "      <td>90815</td>\n",
       "      <td>19</td>\n",
       "    </tr>\n",
       "  </tbody>\n",
       "</table>\n",
       "</div>"
      ],
      "text/plain": [
       "                    ds    zip vehs\n",
       "date                              \n",
       "2021-01-01  2021-01-01  90806   17\n",
       "2021-01-01  2021-01-01  90808   17\n",
       "2021-01-01  2021-01-01  90810   13\n",
       "2021-01-01  2021-01-01  90813   22\n",
       "2021-01-01  2021-01-01  90815   19"
      ]
     },
     "execution_count": 9,
     "metadata": {},
     "output_type": "execute_result"
    }
   ],
   "source": [
    "# add new cols from old date colum\n",
    "veh_date = veh['ds'].str.rpartition('/')\n",
    "\n",
    "veh['day'] = '01'\n",
    "veh['month'] = '01'\n",
    "veh['year'] = veh_date[2]\n",
    "veh['date'] = veh['year'].astype(str) + '-01-01'\n",
    "\n",
    "veh = date_index(veh)\n",
    "\n",
    "veh_out = veh[['ds','zip', 'vehs']]\n",
    "veh_out.tail()"
   ]
  },
  {
   "cell_type": "code",
   "execution_count": 10,
   "metadata": {},
   "outputs": [],
   "source": [
    "veh_out.to_csv('../data/processed/vehs_zip.csv', index = False)"
   ]
  },
  {
   "cell_type": "markdown",
   "metadata": {},
   "source": [
    "## CONSUMER DEBT"
   ]
  },
  {
   "cell_type": "code",
   "execution_count": 12,
   "metadata": {},
   "outputs": [
    {
     "data": {
      "text/html": [
       "<div>\n",
       "<style scoped>\n",
       "    .dataframe tbody tr th:only-of-type {\n",
       "        vertical-align: middle;\n",
       "    }\n",
       "\n",
       "    .dataframe tbody tr th {\n",
       "        vertical-align: top;\n",
       "    }\n",
       "\n",
       "    .dataframe thead th {\n",
       "        text-align: right;\n",
       "    }\n",
       "</style>\n",
       "<table border=\"1\" class=\"dataframe\">\n",
       "  <thead>\n",
       "    <tr style=\"text-align: right;\">\n",
       "      <th></th>\n",
       "      <th>date</th>\n",
       "      <th>debt</th>\n",
       "    </tr>\n",
       "  </thead>\n",
       "  <tbody>\n",
       "    <tr>\n",
       "      <th>0</th>\n",
       "      <td>1943-01-01</td>\n",
       "      <td>6.57783</td>\n",
       "    </tr>\n",
       "    <tr>\n",
       "      <th>1</th>\n",
       "      <td>1943-02-01</td>\n",
       "      <td>6.46304</td>\n",
       "    </tr>\n",
       "    <tr>\n",
       "      <th>2</th>\n",
       "      <td>1943-03-01</td>\n",
       "      <td>6.23421</td>\n",
       "    </tr>\n",
       "    <tr>\n",
       "      <th>3</th>\n",
       "      <td>1943-04-01</td>\n",
       "      <td>6.12575</td>\n",
       "    </tr>\n",
       "    <tr>\n",
       "      <th>4</th>\n",
       "      <td>1943-05-01</td>\n",
       "      <td>5.93626</td>\n",
       "    </tr>\n",
       "  </tbody>\n",
       "</table>\n",
       "</div>"
      ],
      "text/plain": [
       "         date     debt\n",
       "0  1943-01-01  6.57783\n",
       "1  1943-02-01  6.46304\n",
       "2  1943-03-01  6.23421\n",
       "3  1943-04-01  6.12575\n",
       "4  1943-05-01  5.93626"
      ]
     },
     "execution_count": 12,
     "metadata": {},
     "output_type": "execute_result"
    }
   ],
   "source": [
    "path = '../data/raw/debt/'\n",
    "\n",
    "filename = path + 'consumer_debt.csv'\n",
    "debt_df = pd.read_csv(filename)\n",
    "\n",
    "new_col = {\n",
    "    'DATE':'date',\n",
    "    'TOTALSL' : 'debt',\n",
    "}\n",
    "\n",
    "debt_df.rename(columns = new_col, inplace=True)\n",
    "debt_df.head()"
   ]
  },
  {
   "cell_type": "code",
   "execution_count": 13,
   "metadata": {},
   "outputs": [],
   "source": [
    "debt_df.to_csv('../data/processed/debt.csv', index = False)"
   ]
  }
 ],
 "metadata": {
  "kernelspec": {
   "display_name": "Python 3.8.9 ('newenv')",
   "language": "python",
   "name": "python3"
  },
  "language_info": {
   "codemirror_mode": {
    "name": "ipython",
    "version": 3
   },
   "file_extension": ".py",
   "mimetype": "text/x-python",
   "name": "python",
   "nbconvert_exporter": "python",
   "pygments_lexer": "ipython3",
   "version": "3.8.9"
  },
  "orig_nbformat": 4,
  "vscode": {
   "interpreter": {
    "hash": "54cd39fd9ba0db70c26ee1f2e491e152bd9a28fb5822b400132d331233796439"
   }
  }
 },
 "nbformat": 4,
 "nbformat_minor": 2
}
