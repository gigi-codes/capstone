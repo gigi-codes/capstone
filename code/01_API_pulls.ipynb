{
 "cells": [
  {
   "cell_type": "markdown",
   "metadata": {},
   "source": [
    "#  1 | _API_ Requests: Data Acquisition\n",
    "<!-- ---\n",
    "\n",
    "* [02 the next notebook](02.ipynb)\n",
    "* [03 the one after](03.ipynb) -->\n",
    "\n",
    "---"
   ]
  },
  {
   "cell_type": "markdown",
   "metadata": {},
   "source": [
    "### Data Discussion\n",
    "\n",
    "* Requests for `4` datasets via respective APIs. \n",
    "\n",
    "`PROPHET` requires `df` with `2` series, columns `ds` and `y`. In this notebook, I document API pulls and data manipulation to create new `csv` files in the appropriate format. \n",
    "\n",
    "* [Fuel data from US Energy Information Admininstration](https://www.eia.gov/opendata/qb.php?category=240839&sdid=PET.EMM_EPM0_PTE_SCA_DPG.M)\n",
    "    * weekly data saved:[fuel_m.csv](../data/processed/fuel_w.csv) - [source](https://www.eia.gov/opendata/qb.php?category=240839&sdid=PET.EMM_EPM0_PTE_SCA_DPG.W)\n",
    "    * monthly data saved: [fuel_w.csv](../processed/fuel_m.csv) - [source](https://www.eia.gov/opendata/qb.php?category=240839&sdid=PET.EMM_EPM0_PTE_SCA_DPG.M)    \n",
    "<br>\n",
    "\n",
    "* [BART](https://data.bart.gov/dataset/customer-ridership/resource/6e653520-58cf-45c5-b40c-d37c8957ec77) Publishes monthly ridership reports, using faregate information\n",
    "    * [montly totals](https://data.bart.gov/group/ridership)\n",
    "    * monthly by entrance and exit, saved \n",
    "<br>\n",
    "\n",
    "* Car registration data from \n",
    "    * by county: [CA DMV Vehicle Annual Count](https://www.energy.ca.gov/data-reports/energy-almanac/zero-emission-vehicle-and-infrastructure-statistics/vehicle-population)\n",
    "\n",
    "<br>\n",
    "\n",
    "* will not be using: ~~[caltrain](caltrain.com)  Publishes yearly ridership counts, based on model validated with a yearly county daily in January.~~"
   ]
  },
  {
   "cell_type": "code",
   "execution_count": 95,
   "metadata": {},
   "outputs": [],
   "source": [
    "##### BASIC IMPORTS \n",
    "import numpy as np\n",
    "import pandas as pd\n",
    "import matplotlib.pyplot as plt\n",
    "import seaborn as sns\n",
    "import os \n",
    "import sys\n",
    "\n",
    "import requests"
   ]
  },
  {
   "cell_type": "code",
   "execution_count": 96,
   "metadata": {},
   "outputs": [],
   "source": [
    "# CUSTOM IMPORTS AND SETTINGS \n",
    "plt.style.use('gstyle.mplstyle')\n",
    "\n",
    "pd.options.display.max_columns = 90                    \n",
    "pd.options.display.max_rows = 100"
   ]
  },
  {
   "cell_type": "markdown",
   "metadata": {},
   "source": [
    "## EIA DATA: Fuel Price History "
   ]
  },
  {
   "cell_type": "code",
   "execution_count": 97,
   "metadata": {},
   "outputs": [],
   "source": [
    "# EIA KEY - SET UP YOUR KEY TO USE EIA AIP # \n",
    "try:\n",
    "    KEY = os.environ['EIAAPI']\n",
    "except KeyError:\n",
    "    sys.exit('keys not found')"
   ]
  },
  {
   "cell_type": "markdown",
   "metadata": {},
   "source": [
    "#### Function for EIA requests takes KEY and CATEGORY"
   ]
  },
  {
   "cell_type": "code",
   "execution_count": 98,
   "metadata": {},
   "outputs": [],
   "source": [
    "# function for EIA data requests\n",
    "def eia_req(KEY, CATEGORY):\n",
    "    url = 'https://api.eia.gov/series/?api_key=' + KEY + '&series_id=' + CATEGORY\n",
    "    \n",
    "    # REQUEST \n",
    "    req = requests.get(url)\n",
    "    print ('Request Code:' + str(req.status_code))\n",
    "\n",
    "    # getting data \n",
    "    data = pd.DataFrame(req.json()['series'][0]['data'])\n",
    "\n",
    "    return (data)"
   ]
  },
  {
   "cell_type": "markdown",
   "metadata": {},
   "source": [
    "#### Fuel prices by month"
   ]
  },
  {
   "cell_type": "code",
   "execution_count": 99,
   "metadata": {},
   "outputs": [
    {
     "name": "stdout",
     "output_type": "stream",
     "text": [
      "Request Code:200\n"
     ]
    },
    {
     "data": {
      "text/html": [
       "<div>\n",
       "<style scoped>\n",
       "    .dataframe tbody tr th:only-of-type {\n",
       "        vertical-align: middle;\n",
       "    }\n",
       "\n",
       "    .dataframe tbody tr th {\n",
       "        vertical-align: top;\n",
       "    }\n",
       "\n",
       "    .dataframe thead th {\n",
       "        text-align: right;\n",
       "    }\n",
       "</style>\n",
       "<table border=\"1\" class=\"dataframe\">\n",
       "  <thead>\n",
       "    <tr style=\"text-align: right;\">\n",
       "      <th></th>\n",
       "      <th>ds</th>\n",
       "      <th>y</th>\n",
       "    </tr>\n",
       "  </thead>\n",
       "  <tbody>\n",
       "    <tr>\n",
       "      <th>0</th>\n",
       "      <td>202204</td>\n",
       "      <td>5.692</td>\n",
       "    </tr>\n",
       "    <tr>\n",
       "      <th>1</th>\n",
       "      <td>202203</td>\n",
       "      <td>5.655</td>\n",
       "    </tr>\n",
       "    <tr>\n",
       "      <th>2</th>\n",
       "      <td>202202</td>\n",
       "      <td>4.660</td>\n",
       "    </tr>\n",
       "    <tr>\n",
       "      <th>3</th>\n",
       "      <td>202201</td>\n",
       "      <td>4.584</td>\n",
       "    </tr>\n",
       "    <tr>\n",
       "      <th>4</th>\n",
       "      <td>202112</td>\n",
       "      <td>4.597</td>\n",
       "    </tr>\n",
       "  </tbody>\n",
       "</table>\n",
       "</div>"
      ],
      "text/plain": [
       "       ds      y\n",
       "0  202204  5.692\n",
       "1  202203  5.655\n",
       "2  202202  4.660\n",
       "3  202201  4.584\n",
       "4  202112  4.597"
      ]
     },
     "execution_count": 99,
     "metadata": {},
     "output_type": "execute_result"
    }
   ],
   "source": [
    "CATEGORY = 'PET.EMM_EPM0_PTE_SCA_DPG.M'\n",
    "\n",
    "# call function for pull \n",
    "fuel_m = eia_req(KEY, CATEGORY)\n",
    "fuel_m.columns = ['ds', 'y']\n",
    "fuel_m.head()"
   ]
  },
  {
   "cell_type": "code",
   "execution_count": 100,
   "metadata": {},
   "outputs": [
    {
     "data": {
      "text/html": [
       "<div>\n",
       "<style scoped>\n",
       "    .dataframe tbody tr th:only-of-type {\n",
       "        vertical-align: middle;\n",
       "    }\n",
       "\n",
       "    .dataframe tbody tr th {\n",
       "        vertical-align: top;\n",
       "    }\n",
       "\n",
       "    .dataframe thead th {\n",
       "        text-align: right;\n",
       "    }\n",
       "</style>\n",
       "<table border=\"1\" class=\"dataframe\">\n",
       "  <thead>\n",
       "    <tr style=\"text-align: right;\">\n",
       "      <th></th>\n",
       "      <th>ds</th>\n",
       "      <th>y</th>\n",
       "      <th>year</th>\n",
       "      <th>month</th>\n",
       "      <th>day</th>\n",
       "    </tr>\n",
       "  </thead>\n",
       "  <tbody>\n",
       "    <tr>\n",
       "      <th>0</th>\n",
       "      <td>2022-04-01</td>\n",
       "      <td>5.692</td>\n",
       "      <td>2022</td>\n",
       "      <td>04</td>\n",
       "      <td>01</td>\n",
       "    </tr>\n",
       "    <tr>\n",
       "      <th>1</th>\n",
       "      <td>2022-03-01</td>\n",
       "      <td>5.655</td>\n",
       "      <td>2022</td>\n",
       "      <td>03</td>\n",
       "      <td>01</td>\n",
       "    </tr>\n",
       "    <tr>\n",
       "      <th>2</th>\n",
       "      <td>2022-02-01</td>\n",
       "      <td>4.660</td>\n",
       "      <td>2022</td>\n",
       "      <td>02</td>\n",
       "      <td>01</td>\n",
       "    </tr>\n",
       "    <tr>\n",
       "      <th>3</th>\n",
       "      <td>2022-01-01</td>\n",
       "      <td>4.584</td>\n",
       "      <td>2022</td>\n",
       "      <td>01</td>\n",
       "      <td>01</td>\n",
       "    </tr>\n",
       "    <tr>\n",
       "      <th>4</th>\n",
       "      <td>2021-12-01</td>\n",
       "      <td>4.597</td>\n",
       "      <td>2021</td>\n",
       "      <td>12</td>\n",
       "      <td>01</td>\n",
       "    </tr>\n",
       "  </tbody>\n",
       "</table>\n",
       "</div>"
      ],
      "text/plain": [
       "           ds      y  year month day\n",
       "0  2022-04-01  5.692  2022    04  01\n",
       "1  2022-03-01  5.655  2022    03  01\n",
       "2  2022-02-01  4.660  2022    02  01\n",
       "3  2022-01-01  4.584  2022    01  01\n",
       "4  2021-12-01  4.597  2021    12  01"
      ]
     },
     "execution_count": 100,
     "metadata": {},
     "output_type": "execute_result"
    }
   ],
   "source": [
    "# add new columns with split data and reformatted date\n",
    "fuel_m['year'] = fuel_m['ds'].str[:4]\n",
    "fuel_m['month'] = fuel_m['ds'].str[-2:]\n",
    "fuel_m['day'] = '01'    # using day 01 for all monthly data\n",
    "fuel_m['ds'] = fuel_m['year'] + '-' + fuel_m['month'] + '-01' \n",
    "\n",
    "#drop old date info \n",
    "fuel_m.head()"
   ]
  },
  {
   "cell_type": "code",
   "execution_count": 101,
   "metadata": {},
   "outputs": [],
   "source": [
    "# print to file\n",
    "fuel_m.to_csv('../data/processed/fuel_m.csv', index = False)"
   ]
  },
  {
   "cell_type": "markdown",
   "metadata": {},
   "source": [
    "#### Fuel Prices by Week"
   ]
  },
  {
   "cell_type": "code",
   "execution_count": 102,
   "metadata": {},
   "outputs": [
    {
     "name": "stdout",
     "output_type": "stream",
     "text": [
      "Request Code:200\n"
     ]
    },
    {
     "data": {
      "text/html": [
       "<div>\n",
       "<style scoped>\n",
       "    .dataframe tbody tr th:only-of-type {\n",
       "        vertical-align: middle;\n",
       "    }\n",
       "\n",
       "    .dataframe tbody tr th {\n",
       "        vertical-align: top;\n",
       "    }\n",
       "\n",
       "    .dataframe thead th {\n",
       "        text-align: right;\n",
       "    }\n",
       "</style>\n",
       "<table border=\"1\" class=\"dataframe\">\n",
       "  <thead>\n",
       "    <tr style=\"text-align: right;\">\n",
       "      <th></th>\n",
       "      <th>ds</th>\n",
       "      <th>y</th>\n",
       "    </tr>\n",
       "  </thead>\n",
       "  <tbody>\n",
       "    <tr>\n",
       "      <th>0</th>\n",
       "      <td>20220509</td>\n",
       "      <td>5.748</td>\n",
       "    </tr>\n",
       "    <tr>\n",
       "      <th>1</th>\n",
       "      <td>20220502</td>\n",
       "      <td>5.629</td>\n",
       "    </tr>\n",
       "    <tr>\n",
       "      <th>2</th>\n",
       "      <td>20220425</td>\n",
       "      <td>5.609</td>\n",
       "    </tr>\n",
       "    <tr>\n",
       "      <th>3</th>\n",
       "      <td>20220418</td>\n",
       "      <td>5.641</td>\n",
       "    </tr>\n",
       "    <tr>\n",
       "      <th>4</th>\n",
       "      <td>20220411</td>\n",
       "      <td>5.715</td>\n",
       "    </tr>\n",
       "  </tbody>\n",
       "</table>\n",
       "</div>"
      ],
      "text/plain": [
       "         ds      y\n",
       "0  20220509  5.748\n",
       "1  20220502  5.629\n",
       "2  20220425  5.609\n",
       "3  20220418  5.641\n",
       "4  20220411  5.715"
      ]
     },
     "execution_count": 102,
     "metadata": {},
     "output_type": "execute_result"
    }
   ],
   "source": [
    "CATEGORY = 'PET.EMM_EPM0_PTE_SCA_DPG.W'\n",
    "\n",
    "# call function for pull \n",
    "fuel_w = eia_req(KEY, CATEGORY)\n",
    "fuel_w.columns = ['ds', 'y']\n",
    "fuel_w.head()"
   ]
  },
  {
   "cell_type": "code",
   "execution_count": 103,
   "metadata": {},
   "outputs": [
    {
     "data": {
      "text/html": [
       "<div>\n",
       "<style scoped>\n",
       "    .dataframe tbody tr th:only-of-type {\n",
       "        vertical-align: middle;\n",
       "    }\n",
       "\n",
       "    .dataframe tbody tr th {\n",
       "        vertical-align: top;\n",
       "    }\n",
       "\n",
       "    .dataframe thead th {\n",
       "        text-align: right;\n",
       "    }\n",
       "</style>\n",
       "<table border=\"1\" class=\"dataframe\">\n",
       "  <thead>\n",
       "    <tr style=\"text-align: right;\">\n",
       "      <th></th>\n",
       "      <th>ds</th>\n",
       "      <th>y</th>\n",
       "      <th>year</th>\n",
       "      <th>month</th>\n",
       "      <th>day</th>\n",
       "    </tr>\n",
       "  </thead>\n",
       "  <tbody>\n",
       "    <tr>\n",
       "      <th>0</th>\n",
       "      <td>2022-05-09</td>\n",
       "      <td>5.748</td>\n",
       "      <td>2022</td>\n",
       "      <td>05</td>\n",
       "      <td>09</td>\n",
       "    </tr>\n",
       "    <tr>\n",
       "      <th>1</th>\n",
       "      <td>2022-05-02</td>\n",
       "      <td>5.629</td>\n",
       "      <td>2022</td>\n",
       "      <td>05</td>\n",
       "      <td>02</td>\n",
       "    </tr>\n",
       "    <tr>\n",
       "      <th>2</th>\n",
       "      <td>2022-04-25</td>\n",
       "      <td>5.609</td>\n",
       "      <td>2022</td>\n",
       "      <td>04</td>\n",
       "      <td>25</td>\n",
       "    </tr>\n",
       "    <tr>\n",
       "      <th>3</th>\n",
       "      <td>2022-04-18</td>\n",
       "      <td>5.641</td>\n",
       "      <td>2022</td>\n",
       "      <td>04</td>\n",
       "      <td>18</td>\n",
       "    </tr>\n",
       "    <tr>\n",
       "      <th>4</th>\n",
       "      <td>2022-04-11</td>\n",
       "      <td>5.715</td>\n",
       "      <td>2022</td>\n",
       "      <td>04</td>\n",
       "      <td>11</td>\n",
       "    </tr>\n",
       "  </tbody>\n",
       "</table>\n",
       "</div>"
      ],
      "text/plain": [
       "           ds      y  year month day\n",
       "0  2022-05-09  5.748  2022    05  09\n",
       "1  2022-05-02  5.629  2022    05  02\n",
       "2  2022-04-25  5.609  2022    04  25\n",
       "3  2022-04-18  5.641  2022    04  18\n",
       "4  2022-04-11  5.715  2022    04  11"
      ]
     },
     "execution_count": 103,
     "metadata": {},
     "output_type": "execute_result"
    }
   ],
   "source": [
    "# add new cols from old date colum\n",
    "fuel_w['year'] = fuel_w['ds'].str[:4]\n",
    "fuel_w['month'] = fuel_w['ds'].str[4:6]\n",
    "fuel_w['day'] = fuel_w['ds'].str[-2:]\n",
    "fuel_w['ds'] = fuel_w['ds'].str[:4] + '-' + fuel_w['month'] + '-' + fuel_w['day']\n",
    "\n",
    "# drop old date info \n",
    "fuel_w.head()"
   ]
  },
  {
   "cell_type": "code",
   "execution_count": 104,
   "metadata": {},
   "outputs": [],
   "source": [
    "# print to file\n",
    "fuel_w.to_csv('../data/processed/fuel_w.csv', index = False)"
   ]
  },
  {
   "cell_type": "markdown",
   "metadata": {},
   "source": [
    "## BART Data"
   ]
  },
  {
   "cell_type": "markdown",
   "metadata": {},
   "source": [
    "#### Weekly Ridership by Month `1997 - 2018`"
   ]
  },
  {
   "cell_type": "code",
   "execution_count": 105,
   "metadata": {},
   "outputs": [
    {
     "data": {
      "text/plain": [
       "200"
      ]
     },
     "execution_count": 105,
     "metadata": {},
     "output_type": "execute_result"
    }
   ],
   "source": [
    "url = 'https://data.bart.gov/api/3/action/datastore_search?resource_id=6e653520-58cf-45c5-b40c-d37c8957ec77&'\n",
    "#url = 'https://data.bart.gov/api/3/action/datastore_search?resource_id=6e653520-58cf-45c5-b40c-d37c8957ec77'\n",
    "\n",
    "bart_req = requests.get(url)\n",
    "bart_req.status_code"
   ]
  },
  {
   "cell_type": "code",
   "execution_count": 106,
   "metadata": {},
   "outputs": [
    {
     "data": {
      "text/html": [
       "<div>\n",
       "<style scoped>\n",
       "    .dataframe tbody tr th:only-of-type {\n",
       "        vertical-align: middle;\n",
       "    }\n",
       "\n",
       "    .dataframe tbody tr th {\n",
       "        vertical-align: top;\n",
       "    }\n",
       "\n",
       "    .dataframe thead th {\n",
       "        text-align: right;\n",
       "    }\n",
       "</style>\n",
       "<table border=\"1\" class=\"dataframe\">\n",
       "  <thead>\n",
       "    <tr style=\"text-align: right;\">\n",
       "      <th></th>\n",
       "      <th>_id</th>\n",
       "      <th>FiscalYear</th>\n",
       "      <th>FiscalMonth</th>\n",
       "      <th>RIDERSHIP WEEKAVG</th>\n",
       "      <th>RIDERSHIP GOAL</th>\n",
       "    </tr>\n",
       "  </thead>\n",
       "  <tbody>\n",
       "    <tr>\n",
       "      <th>95</th>\n",
       "      <td>96</td>\n",
       "      <td>2004</td>\n",
       "      <td>12</td>\n",
       "      <td>308792.5455</td>\n",
       "      <td>332874.1668</td>\n",
       "    </tr>\n",
       "    <tr>\n",
       "      <th>96</th>\n",
       "      <td>97</td>\n",
       "      <td>2005</td>\n",
       "      <td>1</td>\n",
       "      <td>308189.9524</td>\n",
       "      <td>308517.7023</td>\n",
       "    </tr>\n",
       "    <tr>\n",
       "      <th>97</th>\n",
       "      <td>98</td>\n",
       "      <td>2005</td>\n",
       "      <td>2</td>\n",
       "      <td>304724.3182</td>\n",
       "      <td>313073.2802</td>\n",
       "    </tr>\n",
       "    <tr>\n",
       "      <th>98</th>\n",
       "      <td>99</td>\n",
       "      <td>2005</td>\n",
       "      <td>3</td>\n",
       "      <td>323235.5714</td>\n",
       "      <td>318924.7632</td>\n",
       "    </tr>\n",
       "    <tr>\n",
       "      <th>99</th>\n",
       "      <td>100</td>\n",
       "      <td>2005</td>\n",
       "      <td>4</td>\n",
       "      <td>315753.4500</td>\n",
       "      <td>319959.4083</td>\n",
       "    </tr>\n",
       "  </tbody>\n",
       "</table>\n",
       "</div>"
      ],
      "text/plain": [
       "    _id  FiscalYear  FiscalMonth  RIDERSHIP WEEKAVG  RIDERSHIP GOAL\n",
       "95   96        2004           12        308792.5455     332874.1668\n",
       "96   97        2005            1        308189.9524     308517.7023\n",
       "97   98        2005            2        304724.3182     313073.2802\n",
       "98   99        2005            3        323235.5714     318924.7632\n",
       "99  100        2005            4        315753.4500     319959.4083"
      ]
     },
     "execution_count": 106,
     "metadata": {},
     "output_type": "execute_result"
    }
   ],
   "source": [
    "# getting data \n",
    "bart_data = pd.DataFrame(bart_req.json()['result']['records'])\n",
    "bart_data.tail()"
   ]
  },
  {
   "cell_type": "code",
   "execution_count": 107,
   "metadata": {},
   "outputs": [
    {
     "data": {
      "text/plain": [
       "(100, 5)"
      ]
     },
     "execution_count": 107,
     "metadata": {},
     "output_type": "execute_result"
    }
   ],
   "source": [
    "bart_data.shape"
   ]
  },
  {
   "cell_type": "code",
   "execution_count": 108,
   "metadata": {},
   "outputs": [
    {
     "data": {
      "text/html": [
       "<div>\n",
       "<style scoped>\n",
       "    .dataframe tbody tr th:only-of-type {\n",
       "        vertical-align: middle;\n",
       "    }\n",
       "\n",
       "    .dataframe tbody tr th {\n",
       "        vertical-align: top;\n",
       "    }\n",
       "\n",
       "    .dataframe thead th {\n",
       "        text-align: right;\n",
       "    }\n",
       "</style>\n",
       "<table border=\"1\" class=\"dataframe\">\n",
       "  <thead>\n",
       "    <tr style=\"text-align: right;\">\n",
       "      <th></th>\n",
       "      <th>year</th>\n",
       "      <th>month</th>\n",
       "      <th>y</th>\n",
       "    </tr>\n",
       "  </thead>\n",
       "  <tbody>\n",
       "    <tr>\n",
       "      <th>0</th>\n",
       "      <td>1997</td>\n",
       "      <td>1</td>\n",
       "      <td>251524.0</td>\n",
       "    </tr>\n",
       "    <tr>\n",
       "      <th>1</th>\n",
       "      <td>1997</td>\n",
       "      <td>2</td>\n",
       "      <td>256261.0</td>\n",
       "    </tr>\n",
       "    <tr>\n",
       "      <th>2</th>\n",
       "      <td>1997</td>\n",
       "      <td>3</td>\n",
       "      <td>263602.0</td>\n",
       "    </tr>\n",
       "    <tr>\n",
       "      <th>3</th>\n",
       "      <td>1997</td>\n",
       "      <td>4</td>\n",
       "      <td>264442.0</td>\n",
       "    </tr>\n",
       "    <tr>\n",
       "      <th>4</th>\n",
       "      <td>1997</td>\n",
       "      <td>5</td>\n",
       "      <td>265244.0</td>\n",
       "    </tr>\n",
       "  </tbody>\n",
       "</table>\n",
       "</div>"
      ],
      "text/plain": [
       "   year  month         y\n",
       "0  1997      1  251524.0\n",
       "1  1997      2  256261.0\n",
       "2  1997      3  263602.0\n",
       "3  1997      4  264442.0\n",
       "4  1997      5  265244.0"
      ]
     },
     "execution_count": 108,
     "metadata": {},
     "output_type": "execute_result"
    }
   ],
   "source": [
    "bart_data.drop(columns = ['_id', 'RIDERSHIP GOAL'], inplace = True)\n",
    "\n",
    "new_col = {\n",
    "    'FiscalMonth':'month',\n",
    "    'FiscalYear':'year', \n",
    "    'RIDERSHIP WEEKAVG' : 'y',\n",
    "}\n",
    "\n",
    "bart_data.rename(columns = new_col, inplace=True)\n",
    "bart = bart_data\n",
    "bart.head()"
   ]
  },
  {
   "cell_type": "code",
   "execution_count": 109,
   "metadata": {},
   "outputs": [],
   "source": [
    "# add new cols from old date colum\n",
    "bart['day'] = '01'\n",
    "bart['month'] = bart['month'].apply(lambda x: '0' + str(x) if x < 10 else x )\n",
    "\n",
    "bart['ds'] = bart['year'].astype(str) + '-' + bart['month'].astype(str) + '-01'"
   ]
  },
  {
   "cell_type": "code",
   "execution_count": 110,
   "metadata": {},
   "outputs": [
    {
     "data": {
      "text/html": [
       "<div>\n",
       "<style scoped>\n",
       "    .dataframe tbody tr th:only-of-type {\n",
       "        vertical-align: middle;\n",
       "    }\n",
       "\n",
       "    .dataframe tbody tr th {\n",
       "        vertical-align: top;\n",
       "    }\n",
       "\n",
       "    .dataframe thead th {\n",
       "        text-align: right;\n",
       "    }\n",
       "</style>\n",
       "<table border=\"1\" class=\"dataframe\">\n",
       "  <thead>\n",
       "    <tr style=\"text-align: right;\">\n",
       "      <th></th>\n",
       "      <th>year</th>\n",
       "      <th>month</th>\n",
       "      <th>y</th>\n",
       "      <th>day</th>\n",
       "      <th>ds</th>\n",
       "    </tr>\n",
       "  </thead>\n",
       "  <tbody>\n",
       "    <tr>\n",
       "      <th>0</th>\n",
       "      <td>1997</td>\n",
       "      <td>01</td>\n",
       "      <td>251524.0</td>\n",
       "      <td>01</td>\n",
       "      <td>1997-01-01</td>\n",
       "    </tr>\n",
       "    <tr>\n",
       "      <th>1</th>\n",
       "      <td>1997</td>\n",
       "      <td>02</td>\n",
       "      <td>256261.0</td>\n",
       "      <td>01</td>\n",
       "      <td>1997-02-01</td>\n",
       "    </tr>\n",
       "    <tr>\n",
       "      <th>2</th>\n",
       "      <td>1997</td>\n",
       "      <td>03</td>\n",
       "      <td>263602.0</td>\n",
       "      <td>01</td>\n",
       "      <td>1997-03-01</td>\n",
       "    </tr>\n",
       "    <tr>\n",
       "      <th>3</th>\n",
       "      <td>1997</td>\n",
       "      <td>04</td>\n",
       "      <td>264442.0</td>\n",
       "      <td>01</td>\n",
       "      <td>1997-04-01</td>\n",
       "    </tr>\n",
       "    <tr>\n",
       "      <th>4</th>\n",
       "      <td>1997</td>\n",
       "      <td>05</td>\n",
       "      <td>265244.0</td>\n",
       "      <td>01</td>\n",
       "      <td>1997-05-01</td>\n",
       "    </tr>\n",
       "  </tbody>\n",
       "</table>\n",
       "</div>"
      ],
      "text/plain": [
       "   year month         y day          ds\n",
       "0  1997    01  251524.0  01  1997-01-01\n",
       "1  1997    02  256261.0  01  1997-02-01\n",
       "2  1997    03  263602.0  01  1997-03-01\n",
       "3  1997    04  264442.0  01  1997-04-01\n",
       "4  1997    05  265244.0  01  1997-05-01"
      ]
     },
     "execution_count": 110,
     "metadata": {},
     "output_type": "execute_result"
    }
   ],
   "source": [
    "bart.head()"
   ]
  },
  {
   "cell_type": "code",
   "execution_count": 111,
   "metadata": {},
   "outputs": [],
   "source": [
    "bart.to_csv('../data/processed/bart_2018.csv', index = False)"
   ]
  },
  {
   "cell_type": "markdown",
   "metadata": {},
   "source": [
    "## Vehicle Registration Counts"
   ]
  },
  {
   "cell_type": "code",
   "execution_count": 112,
   "metadata": {},
   "outputs": [
    {
     "data": {
      "text/plain": [
       "200"
      ]
     },
     "execution_count": 112,
     "metadata": {},
     "output_type": "execute_result"
    }
   ],
   "source": [
    "url = 'https://data.ca.gov/api/3/action/datastore_search?resource_id=888bbb6c-09b4-469c-82e6-1b2a47439736' \n",
    "\n",
    "veh_req = requests.get(url)\n",
    "veh_req.status_code"
   ]
  },
  {
   "cell_type": "code",
   "execution_count": 113,
   "metadata": {},
   "outputs": [
    {
     "data": {
      "text/html": [
       "<div>\n",
       "<style scoped>\n",
       "    .dataframe tbody tr th:only-of-type {\n",
       "        vertical-align: middle;\n",
       "    }\n",
       "\n",
       "    .dataframe tbody tr th {\n",
       "        vertical-align: top;\n",
       "    }\n",
       "\n",
       "    .dataframe thead th {\n",
       "        text-align: right;\n",
       "    }\n",
       "</style>\n",
       "<table border=\"1\" class=\"dataframe\">\n",
       "  <thead>\n",
       "    <tr style=\"text-align: right;\">\n",
       "      <th></th>\n",
       "      <th>Duty</th>\n",
       "      <th>Make</th>\n",
       "      <th>Vehicles</th>\n",
       "      <th>Zip Code</th>\n",
       "      <th>Fuel</th>\n",
       "      <th>Date</th>\n",
       "      <th>_id</th>\n",
       "      <th>Model Year</th>\n",
       "    </tr>\n",
       "  </thead>\n",
       "  <tbody>\n",
       "    <tr>\n",
       "      <th>0</th>\n",
       "      <td>Light</td>\n",
       "      <td>ACURA</td>\n",
       "      <td>12</td>\n",
       "      <td>90001</td>\n",
       "      <td>Gasoline</td>\n",
       "      <td>1/1/2021</td>\n",
       "      <td>1</td>\n",
       "      <td>2008</td>\n",
       "    </tr>\n",
       "    <tr>\n",
       "      <th>1</th>\n",
       "      <td>Light</td>\n",
       "      <td>ACURA</td>\n",
       "      <td>24</td>\n",
       "      <td>90003</td>\n",
       "      <td>Gasoline</td>\n",
       "      <td>1/1/2021</td>\n",
       "      <td>2</td>\n",
       "      <td>2008</td>\n",
       "    </tr>\n",
       "    <tr>\n",
       "      <th>2</th>\n",
       "      <td>Light</td>\n",
       "      <td>ACURA</td>\n",
       "      <td>20</td>\n",
       "      <td>90004</td>\n",
       "      <td>Gasoline</td>\n",
       "      <td>1/1/2021</td>\n",
       "      <td>3</td>\n",
       "      <td>2008</td>\n",
       "    </tr>\n",
       "    <tr>\n",
       "      <th>3</th>\n",
       "      <td>Light</td>\n",
       "      <td>ACURA</td>\n",
       "      <td>12</td>\n",
       "      <td>90005</td>\n",
       "      <td>Gasoline</td>\n",
       "      <td>1/1/2021</td>\n",
       "      <td>4</td>\n",
       "      <td>2008</td>\n",
       "    </tr>\n",
       "    <tr>\n",
       "      <th>4</th>\n",
       "      <td>Light</td>\n",
       "      <td>ACURA</td>\n",
       "      <td>15</td>\n",
       "      <td>90006</td>\n",
       "      <td>Gasoline</td>\n",
       "      <td>1/1/2021</td>\n",
       "      <td>5</td>\n",
       "      <td>2008</td>\n",
       "    </tr>\n",
       "  </tbody>\n",
       "</table>\n",
       "</div>"
      ],
      "text/plain": [
       "    Duty   Make Vehicles Zip Code      Fuel      Date  _id Model Year\n",
       "0  Light  ACURA       12    90001  Gasoline  1/1/2021    1       2008\n",
       "1  Light  ACURA       24    90003  Gasoline  1/1/2021    2       2008\n",
       "2  Light  ACURA       20    90004  Gasoline  1/1/2021    3       2008\n",
       "3  Light  ACURA       12    90005  Gasoline  1/1/2021    4       2008\n",
       "4  Light  ACURA       15    90006  Gasoline  1/1/2021    5       2008"
      ]
     },
     "execution_count": 113,
     "metadata": {},
     "output_type": "execute_result"
    }
   ],
   "source": [
    "# getting data \n",
    "veh = pd.DataFrame((veh_req.json())['result']['records'])\n",
    "veh.head()"
   ]
  },
  {
   "cell_type": "code",
   "execution_count": 114,
   "metadata": {},
   "outputs": [],
   "source": [
    "veh.drop(columns = ['_id', 'Duty', 'Make', 'Fuel', 'Model Year'], inplace = True)\n",
    "\n",
    "new_col = {\n",
    "    'Zip Code':'zip',\n",
    "    'Date':'ds', \n",
    "    'Vehicles' : 'y',\n",
    "}\n",
    "\n",
    "veh.rename(columns = new_col, inplace=True)"
   ]
  },
  {
   "cell_type": "code",
   "execution_count": 115,
   "metadata": {},
   "outputs": [
    {
     "data": {
      "text/html": [
       "<div>\n",
       "<style scoped>\n",
       "    .dataframe tbody tr th:only-of-type {\n",
       "        vertical-align: middle;\n",
       "    }\n",
       "\n",
       "    .dataframe tbody tr th {\n",
       "        vertical-align: top;\n",
       "    }\n",
       "\n",
       "    .dataframe thead th {\n",
       "        text-align: right;\n",
       "    }\n",
       "</style>\n",
       "<table border=\"1\" class=\"dataframe\">\n",
       "  <thead>\n",
       "    <tr style=\"text-align: right;\">\n",
       "      <th></th>\n",
       "      <th>y</th>\n",
       "      <th>zip</th>\n",
       "      <th>ds</th>\n",
       "      <th>day</th>\n",
       "      <th>month</th>\n",
       "      <th>year</th>\n",
       "    </tr>\n",
       "  </thead>\n",
       "  <tbody>\n",
       "    <tr>\n",
       "      <th>0</th>\n",
       "      <td>12</td>\n",
       "      <td>90001</td>\n",
       "      <td>2021-01-01</td>\n",
       "      <td>01</td>\n",
       "      <td>01</td>\n",
       "      <td>2021</td>\n",
       "    </tr>\n",
       "    <tr>\n",
       "      <th>1</th>\n",
       "      <td>24</td>\n",
       "      <td>90003</td>\n",
       "      <td>2021-01-01</td>\n",
       "      <td>01</td>\n",
       "      <td>01</td>\n",
       "      <td>2021</td>\n",
       "    </tr>\n",
       "    <tr>\n",
       "      <th>2</th>\n",
       "      <td>20</td>\n",
       "      <td>90004</td>\n",
       "      <td>2021-01-01</td>\n",
       "      <td>01</td>\n",
       "      <td>01</td>\n",
       "      <td>2021</td>\n",
       "    </tr>\n",
       "    <tr>\n",
       "      <th>3</th>\n",
       "      <td>12</td>\n",
       "      <td>90005</td>\n",
       "      <td>2021-01-01</td>\n",
       "      <td>01</td>\n",
       "      <td>01</td>\n",
       "      <td>2021</td>\n",
       "    </tr>\n",
       "    <tr>\n",
       "      <th>4</th>\n",
       "      <td>15</td>\n",
       "      <td>90006</td>\n",
       "      <td>2021-01-01</td>\n",
       "      <td>01</td>\n",
       "      <td>01</td>\n",
       "      <td>2021</td>\n",
       "    </tr>\n",
       "  </tbody>\n",
       "</table>\n",
       "</div>"
      ],
      "text/plain": [
       "    y    zip          ds day month  year\n",
       "0  12  90001  2021-01-01  01    01  2021\n",
       "1  24  90003  2021-01-01  01    01  2021\n",
       "2  20  90004  2021-01-01  01    01  2021\n",
       "3  12  90005  2021-01-01  01    01  2021\n",
       "4  15  90006  2021-01-01  01    01  2021"
      ]
     },
     "execution_count": 115,
     "metadata": {},
     "output_type": "execute_result"
    }
   ],
   "source": [
    "# add new cols from old date colum\n",
    "veh_date = veh['ds'].str.rpartition('/')\n",
    "\n",
    "veh['day'] = '01'\n",
    "veh['month'] = '01'\n",
    "veh['year'] = veh_date[2]\n",
    "#bart['month'] = bart['month'].apply(lambda x: '0' + str(x) if x < 10 else x )\n",
    "\n",
    "veh['ds'] = veh['year'].astype(str) + '-01-01'\n",
    "veh.head()"
   ]
  },
  {
   "cell_type": "code",
   "execution_count": 116,
   "metadata": {},
   "outputs": [],
   "source": [
    "veh.to_csv('../data/processed/vehs_2018.csv')"
   ]
  },
  {
   "cell_type": "markdown",
   "metadata": {},
   "source": [
    "## CONSUMER DEBT"
   ]
  },
  {
   "cell_type": "code",
   "execution_count": 117,
   "metadata": {},
   "outputs": [
    {
     "data": {
      "text/html": [
       "<div>\n",
       "<style scoped>\n",
       "    .dataframe tbody tr th:only-of-type {\n",
       "        vertical-align: middle;\n",
       "    }\n",
       "\n",
       "    .dataframe tbody tr th {\n",
       "        vertical-align: top;\n",
       "    }\n",
       "\n",
       "    .dataframe thead th {\n",
       "        text-align: right;\n",
       "    }\n",
       "</style>\n",
       "<table border=\"1\" class=\"dataframe\">\n",
       "  <thead>\n",
       "    <tr style=\"text-align: right;\">\n",
       "      <th></th>\n",
       "      <th>ds</th>\n",
       "      <th>y</th>\n",
       "    </tr>\n",
       "  </thead>\n",
       "  <tbody>\n",
       "    <tr>\n",
       "      <th>0</th>\n",
       "      <td>1943-01-01</td>\n",
       "      <td>6.57783</td>\n",
       "    </tr>\n",
       "    <tr>\n",
       "      <th>1</th>\n",
       "      <td>1943-02-01</td>\n",
       "      <td>6.46304</td>\n",
       "    </tr>\n",
       "    <tr>\n",
       "      <th>2</th>\n",
       "      <td>1943-03-01</td>\n",
       "      <td>6.23421</td>\n",
       "    </tr>\n",
       "    <tr>\n",
       "      <th>3</th>\n",
       "      <td>1943-04-01</td>\n",
       "      <td>6.12575</td>\n",
       "    </tr>\n",
       "    <tr>\n",
       "      <th>4</th>\n",
       "      <td>1943-05-01</td>\n",
       "      <td>5.93626</td>\n",
       "    </tr>\n",
       "  </tbody>\n",
       "</table>\n",
       "</div>"
      ],
      "text/plain": [
       "           ds        y\n",
       "0  1943-01-01  6.57783\n",
       "1  1943-02-01  6.46304\n",
       "2  1943-03-01  6.23421\n",
       "3  1943-04-01  6.12575\n",
       "4  1943-05-01  5.93626"
      ]
     },
     "execution_count": 117,
     "metadata": {},
     "output_type": "execute_result"
    }
   ],
   "source": [
    "path = '../data/raw/debt/'\n",
    "\n",
    "filename = path + 'consumer_debt.csv'\n",
    "debt_df = pd.read_csv(filename)\n",
    "\n",
    "new_col = {\n",
    "    'DATE':'ds',\n",
    "    'TOTALSL' : 'y',\n",
    "}\n",
    "\n",
    "debt_df.rename(columns = new_col, inplace=True)\n",
    "debt_df.head()"
   ]
  },
  {
   "cell_type": "code",
   "execution_count": 118,
   "metadata": {},
   "outputs": [],
   "source": [
    "debt_df.to_csv('../data/processed/debt.csv')"
   ]
  }
 ],
 "metadata": {
  "interpreter": {
   "hash": "81f1dbfc92a047ffeff9f895a5dd14eda2a7b66728c7461a2bd50ee55648b736"
  },
  "kernelspec": {
   "display_name": "Python 3.8.9 64-bit",
   "language": "python",
   "name": "python3"
  },
  "language_info": {
   "codemirror_mode": {
    "name": "ipython",
    "version": 3
   },
   "file_extension": ".py",
   "mimetype": "text/x-python",
   "name": "python",
   "nbconvert_exporter": "python",
   "pygments_lexer": "ipython3",
   "version": "3.8.9"
  },
  "orig_nbformat": 4
 },
 "nbformat": 4,
 "nbformat_minor": 2
}
