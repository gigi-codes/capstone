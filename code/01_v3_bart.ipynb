{
 "cells": [
  {
   "cell_type": "markdown",
   "metadata": {},
   "source": [
    "# 1.3 | Data Acquisition: DAILY data\n",
    "* [01 API Data Requests](01_API_pulls.ipynb)\n",
    "* [01.1 Additional BART Data](01_v2_bart.ipynb.ipynb)\n",
    "* [01.3 Daily BART Data](01_v3_bart.ipynb.ipynb)\n",
    "* [02 Initial EDA](02_EDA.ipynb)\n",
    "* [03 First Model: PROPHET](03_prophet.ipynb)\n",
    "---"
   ]
  },
  {
   "cell_type": "markdown",
   "metadata": {},
   "source": [
    "### <b>Daily</b> BART ridership\n",
    "\n",
    "Pre-Processing a massive CSV from `bart.gov`\n",
    "* collapse from HOURLY to DAILY counts (sum)\n",
    "\n",
    "No header/header file, in format: \n",
    "date | hour (of day, 24hr) | origin station | destination station | riders\n",
    "---  |---                  | ---            | ---                   | ---\n",
    "\n",
    "<br>\n",
    "\n",
    "> for `datetime`, `pandas.DatetimeIndex.dayofweek` returns day of week, with `0 = Monday` and `6 = Sunday`. \n",
    "\n",
    "* Initial modeling will look at _daily_, _system-wide_ ridership. \n",
    "* Subsequent analysis will consider _hourly_\n",
    "* More granualar analysis consider fuel prices will consider trips `>10mi` to assess long-distance _commuter_ sensitivity to fuel prices without the intra-city _urban_ rides."
   ]
  },
  {
   "cell_type": "code",
   "execution_count": 1,
   "metadata": {},
   "outputs": [],
   "source": [
    "##### BASIC IMPORTS\n",
    "import glob\n",
    "import pandas as pd\n",
    "\n",
    "import gcutsoms as gf"
   ]
  },
  {
   "cell_type": "code",
   "execution_count": 2,
   "metadata": {},
   "outputs": [
    {
     "data": {
      "text/plain": [
       "['.DS_Store',\n",
       " 'date-hour-soo-dest-2019.csv',\n",
       " 'date-hour-soo-dest-2018.csv',\n",
       " 'date-hour-soo-dest-2022.csv',\n",
       " 'date-hour-soo-dest-2020.csv',\n",
       " 'date-hour-soo-dest-2021.csv',\n",
       " 'date-hour-soo-dest-2011.csv',\n",
       " 'date-hour-soo-dest-2013.csv',\n",
       " 'date-hour-soo-dest-2012.csv',\n",
       " 'date-hour-soo-dest-2016.csv',\n",
       " 'date-hour-soo-dest-2017.csv',\n",
       " 'date-hour-soo-dest-2015.csv',\n",
       " 'date-hour-soo-dest-2014.csv']"
      ]
     },
     "execution_count": 2,
     "metadata": {},
     "output_type": "execute_result"
    }
   ],
   "source": [
    "path = '../data/raw/bart/hourly/'\n",
    "files = os.listdir(path)\n",
    "\n",
    "# Print file list to verify file types, count \n",
    "files"
   ]
  },
  {
   "cell_type": "markdown",
   "metadata": {},
   "source": [
    "---\n",
    "This function iterates through directory holding yearly files: \n",
    "* eliminates same-station exits `origin = destination'\n",
    "* output is single `dataframe` with date as index, `ds` = date column, and ridership column\n",
    "* rider count is `aggregate` by: \n",
    "  * date & station\n",
    "  * _by data & by exit station_ * add this to analysis \n",
    "  * _by weekly sum of per weekday_  * add this to analysis "
   ]
  },
  {
   "cell_type": "code",
   "execution_count": 3,
   "metadata": {},
   "outputs": [],
   "source": [
    "def agg_station_day(path_name):\n",
    "\n",
    "    df1 = pd.DataFrame()\n",
    "    n = 0\n",
    "\n",
    "    # for file in os.listdir(path_name):\n",
    "    for file in glob.glob(path_name + '*.csv'):\n",
    "        n += 1\n",
    "        print(file)\n",
    "        \n",
    "        df = pd.read_csv(file) \n",
    "\n",
    "        # add columns header for ease of manipulation \n",
    "        df.columns = ['dt', 'hour', 'origin', 'exit', 'riders']\n",
    "\n",
    "        # ensure date is datetime format, set as index\n",
    "        df.set_index('dt')        \n",
    "        # df['ds'] = df_y.index\n",
    "        \n",
    "        # filter out origin = destination rides\n",
    "        df = df[ df['origin'] != df['exit'] ] \n",
    "        \n",
    "        #group / sum / aggregate data for each day \n",
    "        # df_1 = df_y_out.groupby(['date']).agg({'riders': ['sum']})\n",
    "        # df_1 = df_y['riders'].groupby(['date']).sum()\n",
    "\n",
    "        # Group / sum / aggregate data for each day BY STATION\n",
    "        # df = df.groupby(['dt', 'exit']).agg({'riders': ['sum']}).reset_index()\n",
    "        # df.groupby(\"dummy\")['returns'].agg(['mean', 'sum'])\n",
    "        df = df.groupby(['dt', 'exit'])['riders'].agg(['sum']).reset_index()\n",
    "        # df = df.groupby(['dt', 'exit']).agg({'riders': ['sum']}) ####\n",
    "        # df.groupby(\"dummy\")['returns'].agg(['mean', 'sum'])\n",
    "        # df_2 = df_y['riders'].groupby(['exit']).sum()\n",
    "        \n",
    "        # add each year to running list \n",
    "        df1 = pd.concat([df1, df])\n",
    "\n",
    "    df1.sort_index(inplace=True)\n",
    "    # df1.columns = ['ridership']\n",
    "\n",
    "    return(pd.DataFrame(df1))"
   ]
  },
  {
   "cell_type": "code",
   "execution_count": 4,
   "metadata": {},
   "outputs": [
    {
     "name": "stdout",
     "output_type": "stream",
     "text": [
      "../data/raw/bart/hourly/date-hour-soo-dest-2019.csv\n",
      "../data/raw/bart/hourly/date-hour-soo-dest-2018.csv\n",
      "../data/raw/bart/hourly/date-hour-soo-dest-2022.csv\n",
      "../data/raw/bart/hourly/date-hour-soo-dest-2020.csv\n",
      "../data/raw/bart/hourly/date-hour-soo-dest-2021.csv\n",
      "../data/raw/bart/hourly/date-hour-soo-dest-2011.csv\n",
      "../data/raw/bart/hourly/date-hour-soo-dest-2013.csv\n",
      "../data/raw/bart/hourly/date-hour-soo-dest-2012.csv\n",
      "../data/raw/bart/hourly/date-hour-soo-dest-2016.csv\n",
      "../data/raw/bart/hourly/date-hour-soo-dest-2017.csv\n",
      "../data/raw/bart/hourly/date-hour-soo-dest-2015.csv\n",
      "../data/raw/bart/hourly/date-hour-soo-dest-2014.csv\n"
     ]
    }
   ],
   "source": [
    "df_daily= agg_station_day(path)"
   ]
  },
  {
   "cell_type": "code",
   "execution_count": 5,
   "metadata": {},
   "outputs": [
    {
     "name": "stdout",
     "output_type": "stream",
     "text": [
      "<class 'pandas.core.frame.DataFrame'>\n",
      "Int64Index: 193689 entries, 0 to 18235\n",
      "Data columns (total 3 columns):\n",
      " #   Column  Non-Null Count   Dtype \n",
      "---  ------  --------------   ----- \n",
      " 0   dt      193689 non-null  object\n",
      " 1   exit    193689 non-null  object\n",
      " 2   sum     193689 non-null  int64 \n",
      "dtypes: int64(1), object(2)\n",
      "memory usage: 5.9+ MB\n"
     ]
    }
   ],
   "source": [
    "df_daily.info()"
   ]
  },
  {
   "cell_type": "code",
   "execution_count": 6,
   "metadata": {},
   "outputs": [
    {
     "data": {
      "text/html": [
       "<div>\n",
       "<style scoped>\n",
       "    .dataframe tbody tr th:only-of-type {\n",
       "        vertical-align: middle;\n",
       "    }\n",
       "\n",
       "    .dataframe tbody tr th {\n",
       "        vertical-align: top;\n",
       "    }\n",
       "\n",
       "    .dataframe thead th {\n",
       "        text-align: right;\n",
       "    }\n",
       "</style>\n",
       "<table border=\"1\" class=\"dataframe\">\n",
       "  <thead>\n",
       "    <tr style=\"text-align: right;\">\n",
       "      <th></th>\n",
       "      <th>dt</th>\n",
       "      <th>exit</th>\n",
       "      <th>sum</th>\n",
       "    </tr>\n",
       "  </thead>\n",
       "  <tbody>\n",
       "    <tr>\n",
       "      <th>0</th>\n",
       "      <td>2019-01-01</td>\n",
       "      <td>12TH</td>\n",
       "      <td>2098</td>\n",
       "    </tr>\n",
       "    <tr>\n",
       "      <th>0</th>\n",
       "      <td>2022-01-01</td>\n",
       "      <td>12TH</td>\n",
       "      <td>798</td>\n",
       "    </tr>\n",
       "    <tr>\n",
       "      <th>0</th>\n",
       "      <td>2020-01-01</td>\n",
       "      <td>12TH</td>\n",
       "      <td>2345</td>\n",
       "    </tr>\n",
       "    <tr>\n",
       "      <th>0</th>\n",
       "      <td>2021-01-01</td>\n",
       "      <td>12TH</td>\n",
       "      <td>382</td>\n",
       "    </tr>\n",
       "    <tr>\n",
       "      <th>0</th>\n",
       "      <td>2011-01-01</td>\n",
       "      <td>12TH</td>\n",
       "      <td>2582</td>\n",
       "    </tr>\n",
       "    <tr>\n",
       "      <th>0</th>\n",
       "      <td>2013-01-01</td>\n",
       "      <td>12TH</td>\n",
       "      <td>3179</td>\n",
       "    </tr>\n",
       "    <tr>\n",
       "      <th>0</th>\n",
       "      <td>2016-01-01</td>\n",
       "      <td>12TH</td>\n",
       "      <td>3138</td>\n",
       "    </tr>\n",
       "    <tr>\n",
       "      <th>0</th>\n",
       "      <td>2017-01-01</td>\n",
       "      <td>12TH</td>\n",
       "      <td>2641</td>\n",
       "    </tr>\n",
       "    <tr>\n",
       "      <th>0</th>\n",
       "      <td>2015-01-01</td>\n",
       "      <td>12TH</td>\n",
       "      <td>3147</td>\n",
       "    </tr>\n",
       "    <tr>\n",
       "      <th>0</th>\n",
       "      <td>2014-01-01</td>\n",
       "      <td>12TH</td>\n",
       "      <td>3129</td>\n",
       "    </tr>\n",
       "    <tr>\n",
       "      <th>0</th>\n",
       "      <td>2012-01-01</td>\n",
       "      <td>12TH</td>\n",
       "      <td>3477</td>\n",
       "    </tr>\n",
       "    <tr>\n",
       "      <th>0</th>\n",
       "      <td>2018-01-01</td>\n",
       "      <td>12TH</td>\n",
       "      <td>2524</td>\n",
       "    </tr>\n",
       "  </tbody>\n",
       "</table>\n",
       "</div>"
      ],
      "text/plain": [
       "           dt  exit   sum\n",
       "0  2019-01-01  12TH  2098\n",
       "0  2022-01-01  12TH   798\n",
       "0  2020-01-01  12TH  2345\n",
       "0  2021-01-01  12TH   382\n",
       "0  2011-01-01  12TH  2582\n",
       "0  2013-01-01  12TH  3179\n",
       "0  2016-01-01  12TH  3138\n",
       "0  2017-01-01  12TH  2641\n",
       "0  2015-01-01  12TH  3147\n",
       "0  2014-01-01  12TH  3129\n",
       "0  2012-01-01  12TH  3477\n",
       "0  2018-01-01  12TH  2524"
      ]
     },
     "execution_count": 6,
     "metadata": {},
     "output_type": "execute_result"
    }
   ],
   "source": [
    "df_daily.head(12)"
   ]
  },
  {
   "cell_type": "code",
   "execution_count": 16,
   "metadata": {},
   "outputs": [
    {
     "data": {
      "text/html": [
       "<div>\n",
       "<style scoped>\n",
       "    .dataframe tbody tr th:only-of-type {\n",
       "        vertical-align: middle;\n",
       "    }\n",
       "\n",
       "    .dataframe tbody tr th {\n",
       "        vertical-align: top;\n",
       "    }\n",
       "\n",
       "    .dataframe thead th {\n",
       "        text-align: right;\n",
       "    }\n",
       "</style>\n",
       "<table border=\"1\" class=\"dataframe\">\n",
       "  <thead>\n",
       "    <tr style=\"text-align: right;\">\n",
       "      <th></th>\n",
       "      <th>dt</th>\n",
       "      <th>exit</th>\n",
       "      <th>sum</th>\n",
       "    </tr>\n",
       "    <tr>\n",
       "      <th>date</th>\n",
       "      <th></th>\n",
       "      <th></th>\n",
       "      <th></th>\n",
       "    </tr>\n",
       "  </thead>\n",
       "  <tbody>\n",
       "    <tr>\n",
       "      <th>2011-01-01</th>\n",
       "      <td>2011-01-01</td>\n",
       "      <td>POWL</td>\n",
       "      <td>13640</td>\n",
       "    </tr>\n",
       "    <tr>\n",
       "      <th>2011-01-01</th>\n",
       "      <td>2011-01-01</td>\n",
       "      <td>24TH</td>\n",
       "      <td>5179</td>\n",
       "    </tr>\n",
       "    <tr>\n",
       "      <th>2011-01-01</th>\n",
       "      <td>2011-01-01</td>\n",
       "      <td>NBRK</td>\n",
       "      <td>2120</td>\n",
       "    </tr>\n",
       "    <tr>\n",
       "      <th>2011-01-01</th>\n",
       "      <td>2011-01-01</td>\n",
       "      <td>MONT</td>\n",
       "      <td>4155</td>\n",
       "    </tr>\n",
       "    <tr>\n",
       "      <th>2011-01-01</th>\n",
       "      <td>2011-01-01</td>\n",
       "      <td>MLBR</td>\n",
       "      <td>3739</td>\n",
       "    </tr>\n",
       "  </tbody>\n",
       "</table>\n",
       "</div>"
      ],
      "text/plain": [
       "                    dt  exit    sum\n",
       "date                               \n",
       "2011-01-01  2011-01-01  POWL  13640\n",
       "2011-01-01  2011-01-01  24TH   5179\n",
       "2011-01-01  2011-01-01  NBRK   2120\n",
       "2011-01-01  2011-01-01  MONT   4155\n",
       "2011-01-01  2011-01-01  MLBR   3739"
      ]
     },
     "execution_count": 16,
     "metadata": {},
     "output_type": "execute_result"
    }
   ],
   "source": [
    "# current name of column holding date \n",
    "col_title = 'dt'\n",
    "# sets date as time index\n",
    "df_daily2 = gf.dt_index(df_daily, col_title)\n",
    "# rename date column to either fb prophet or linkedin greykite format \n",
    "# df_daily.dt \n",
    "df_daily2.head()"
   ]
  },
  {
   "cell_type": "markdown",
   "metadata": {},
   "source": [
    "### Print out merged, clean csv."
   ]
  },
  {
   "cell_type": "code",
   "execution_count": 11,
   "metadata": {},
   "outputs": [
    {
     "data": {
      "text/html": [
       "<div>\n",
       "<style scoped>\n",
       "    .dataframe tbody tr th:only-of-type {\n",
       "        vertical-align: middle;\n",
       "    }\n",
       "\n",
       "    .dataframe tbody tr th {\n",
       "        vertical-align: top;\n",
       "    }\n",
       "\n",
       "    .dataframe thead th {\n",
       "        text-align: right;\n",
       "    }\n",
       "</style>\n",
       "<table border=\"1\" class=\"dataframe\">\n",
       "  <thead>\n",
       "    <tr style=\"text-align: right;\">\n",
       "      <th></th>\n",
       "      <th>dt</th>\n",
       "      <th>exit</th>\n",
       "      <th>sum</th>\n",
       "    </tr>\n",
       "    <tr>\n",
       "      <th>date</th>\n",
       "      <th></th>\n",
       "      <th></th>\n",
       "      <th></th>\n",
       "    </tr>\n",
       "  </thead>\n",
       "  <tbody>\n",
       "    <tr>\n",
       "      <th>2019-01-01</th>\n",
       "      <td>2019-01-01</td>\n",
       "      <td>12TH</td>\n",
       "      <td>2098</td>\n",
       "    </tr>\n",
       "    <tr>\n",
       "      <th>2022-01-01</th>\n",
       "      <td>2022-01-01</td>\n",
       "      <td>12TH</td>\n",
       "      <td>798</td>\n",
       "    </tr>\n",
       "    <tr>\n",
       "      <th>2020-01-01</th>\n",
       "      <td>2020-01-01</td>\n",
       "      <td>12TH</td>\n",
       "      <td>2345</td>\n",
       "    </tr>\n",
       "    <tr>\n",
       "      <th>2021-01-01</th>\n",
       "      <td>2021-01-01</td>\n",
       "      <td>12TH</td>\n",
       "      <td>382</td>\n",
       "    </tr>\n",
       "    <tr>\n",
       "      <th>2011-01-01</th>\n",
       "      <td>2011-01-01</td>\n",
       "      <td>12TH</td>\n",
       "      <td>2582</td>\n",
       "    </tr>\n",
       "  </tbody>\n",
       "</table>\n",
       "</div>"
      ],
      "text/plain": [
       "                    dt  exit   sum\n",
       "date                              \n",
       "2019-01-01  2019-01-01  12TH  2098\n",
       "2022-01-01  2022-01-01  12TH   798\n",
       "2020-01-01  2020-01-01  12TH  2345\n",
       "2021-01-01  2021-01-01  12TH   382\n",
       "2011-01-01  2011-01-01  12TH  2582"
      ]
     },
     "execution_count": 11,
     "metadata": {},
     "output_type": "execute_result"
    }
   ],
   "source": [
    "df_out = df_daily[['dt', 'exit', 'sum']]\n",
    "\n",
    "df_out.head()"
   ]
  },
  {
   "cell_type": "code",
   "execution_count": 12,
   "metadata": {},
   "outputs": [],
   "source": [
    "df_daily.to_csv('../data/processed/bart_daily_station.csv', index = False)"
   ]
  }
 ],
 "metadata": {
  "kernelspec": {
   "display_name": "Python 3.8.9 ('newenv')",
   "language": "python",
   "name": "python3"
  },
  "language_info": {
   "codemirror_mode": {
    "name": "ipython",
    "version": 3
   },
   "file_extension": ".py",
   "mimetype": "text/x-python",
   "name": "python",
   "nbconvert_exporter": "python",
   "pygments_lexer": "ipython3",
   "version": "3.8.9"
  },
  "orig_nbformat": 4,
  "vscode": {
   "interpreter": {
    "hash": "54cd39fd9ba0db70c26ee1f2e491e152bd9a28fb5822b400132d331233796439"
   }
  }
 },
 "nbformat": 4,
 "nbformat_minor": 2
}
