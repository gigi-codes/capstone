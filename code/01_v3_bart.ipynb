{
 "cells": [
  {
   "cell_type": "markdown",
   "metadata": {},
   "source": [
    "# 1.3 | Data Acquisition: DAILY data\n",
    "* [01 API Data Requests](01_API_pulls.ipynb)\n",
    "* [01.1 Additional BART Data](01_v2_bart.ipynb.ipynb)\n",
    "* _[01.3 Daily BART Data](01_v3_bart.ipynb.ipynb)_\n",
    "* [02 Initial EDA](02_EDA.ipynb)\n",
    "* [03 First Model: PROPHET](03_prophet.ipynb)\n",
    "---"
   ]
  },
  {
   "cell_type": "markdown",
   "metadata": {},
   "source": [
    "### <b>Daily</b> BART ridership\n",
    "\n",
    "Pre-Processing a massive CSV from `bart.gov`\n",
    "* collapse from HOURLY to DAILY counts (sum)\n",
    "\n",
    "No header/header file, in format: \n",
    "date | hour (of day, 24hr) | origin station | destination station | riders\n",
    "---  |---                  | ---            | ---                   | ---\n",
    "\n",
    "<br>\n",
    "\n",
    "> for `datetime`, `pandas.DatetimeIndex.dayofweek` returns day of week, with `0 = Monday` and `6 = Sunday`. \n",
    "\n",
    "* Initial modeling will look at _daily_, _system-wide_ ridership. \n",
    "* Subsequent analysis will consider _hourly_\n",
    "* More granualar analysis consider fuel prices will consider trips `>10mi` to assess long-distance _commuter_ sensitivity to fuel prices without the intra-city _urban_ rides."
   ]
  },
  {
   "cell_type": "code",
   "execution_count": 3,
   "metadata": {},
   "outputs": [],
   "source": [
    "##### BASIC IMPORTS\n",
    "import glob\n",
    "import pandas as pd\n",
    "\n",
    "import gcutsoms as gf"
   ]
  },
  {
   "cell_type": "code",
   "execution_count": 4,
   "metadata": {},
   "outputs": [
    {
     "data": {
      "text/plain": [
       "['.DS_Store',\n",
       " 'date-hour-soo-dest-2019.csv',\n",
       " 'date-hour-soo-dest-2018.csv',\n",
       " 'date-hour-soo-dest-2022.csv',\n",
       " 'date-hour-soo-dest-2020.csv',\n",
       " 'date-hour-soo-dest-2021.csv',\n",
       " 'date-hour-soo-dest-2011.csv',\n",
       " 'date-hour-soo-dest-2013.csv',\n",
       " 'date-hour-soo-dest-2012.csv',\n",
       " 'date-hour-soo-dest-2016.csv',\n",
       " 'date-hour-soo-dest-2017.csv',\n",
       " 'date-hour-soo-dest-2015.csv',\n",
       " 'date-hour-soo-dest-2014.csv']"
      ]
     },
     "execution_count": 4,
     "metadata": {},
     "output_type": "execute_result"
    }
   ],
   "source": [
    "path = '../data/raw/bart/hourly/'\n",
    "files = os.listdir(path)\n",
    "\n",
    "# Print file list to verify file types, count \n",
    "files"
   ]
  },
  {
   "cell_type": "markdown",
   "metadata": {},
   "source": [
    "---\n",
    "This function iterates through directory holding yearly files: \n",
    "* eliminates same-station exits `origin = destination'\n",
    "* output is single `dataframe` with date as index, `ds` = date column, and ridership column\n",
    "* rider count is `aggregate` by: \n",
    "  * date & station\n",
    "  * _by data & by exit station_ * add this to analysis \n",
    "  * _by weekly sum of per weekday_  * add this to analysis "
   ]
  },
  {
   "cell_type": "code",
   "execution_count": 35,
   "metadata": {},
   "outputs": [
    {
     "data": {
      "text/html": [
       "<div>\n",
       "<style scoped>\n",
       "    .dataframe tbody tr th:only-of-type {\n",
       "        vertical-align: middle;\n",
       "    }\n",
       "\n",
       "    .dataframe tbody tr th {\n",
       "        vertical-align: top;\n",
       "    }\n",
       "\n",
       "    .dataframe thead th {\n",
       "        text-align: right;\n",
       "    }\n",
       "</style>\n",
       "<table border=\"1\" class=\"dataframe\">\n",
       "  <thead>\n",
       "    <tr style=\"text-align: right;\">\n",
       "      <th></th>\n",
       "      <th>d</th>\n",
       "      <th>hour</th>\n",
       "      <th>origin</th>\n",
       "      <th>exit</th>\n",
       "      <th>y</th>\n",
       "    </tr>\n",
       "    <tr>\n",
       "      <th>date</th>\n",
       "      <th></th>\n",
       "      <th></th>\n",
       "      <th></th>\n",
       "      <th></th>\n",
       "      <th></th>\n",
       "    </tr>\n",
       "  </thead>\n",
       "  <tbody>\n",
       "    <tr>\n",
       "      <th>2019-01-01</th>\n",
       "      <td>2019-01-01</td>\n",
       "      <td>0</td>\n",
       "      <td>12TH</td>\n",
       "      <td>16TH</td>\n",
       "      <td>4</td>\n",
       "    </tr>\n",
       "    <tr>\n",
       "      <th>2019-01-01</th>\n",
       "      <td>2019-01-01</td>\n",
       "      <td>0</td>\n",
       "      <td>12TH</td>\n",
       "      <td>ANTC</td>\n",
       "      <td>1</td>\n",
       "    </tr>\n",
       "    <tr>\n",
       "      <th>2019-01-01</th>\n",
       "      <td>2019-01-01</td>\n",
       "      <td>0</td>\n",
       "      <td>12TH</td>\n",
       "      <td>BAYF</td>\n",
       "      <td>1</td>\n",
       "    </tr>\n",
       "    <tr>\n",
       "      <th>2019-01-01</th>\n",
       "      <td>2019-01-01</td>\n",
       "      <td>0</td>\n",
       "      <td>12TH</td>\n",
       "      <td>CIVC</td>\n",
       "      <td>2</td>\n",
       "    </tr>\n",
       "    <tr>\n",
       "      <th>2019-01-01</th>\n",
       "      <td>2019-01-01</td>\n",
       "      <td>0</td>\n",
       "      <td>12TH</td>\n",
       "      <td>COLM</td>\n",
       "      <td>1</td>\n",
       "    </tr>\n",
       "  </tbody>\n",
       "</table>\n",
       "</div>"
      ],
      "text/plain": [
       "                     d  hour origin  exit  y\n",
       "date                                        \n",
       "2019-01-01  2019-01-01     0   12TH  16TH  4\n",
       "2019-01-01  2019-01-01     0   12TH  ANTC  1\n",
       "2019-01-01  2019-01-01     0   12TH  BAYF  1\n",
       "2019-01-01  2019-01-01     0   12TH  CIVC  2\n",
       "2019-01-01  2019-01-01     0   12TH  COLM  1"
      ]
     },
     "execution_count": 35,
     "metadata": {},
     "output_type": "execute_result"
    }
   ],
   "source": [
    "filename = \"../data/raw/bart/hourly/date-hour-soo-dest-2019.csv\"\n",
    "df = pd.read_csv(filename)\n",
    "df.columns = ['d', 'hour', 'origin', 'exit', 'riders']\n",
    "\n",
    "df['date'] = pd.to_datetime(df['d'])\n",
    "df = df.set_index('date')\n",
    "\n",
    "df.rename(columns = {'riders' : 'y'}, inplace = True)\n",
    "df = df[ df['origin'] != df['exit'] ] \n",
    "df.head()"
   ]
  },
  {
   "cell_type": "code",
   "execution_count": 38,
   "metadata": {},
   "outputs": [
    {
     "data": {
      "text/plain": [
       "date\n",
       "2019-01-01     98940\n",
       "2019-01-02    328218\n",
       "2019-01-03    364931\n",
       "2019-01-04    340950\n",
       "2019-01-05    112630\n",
       "Name: y, dtype: int64"
      ]
     },
     "execution_count": 38,
     "metadata": {},
     "output_type": "execute_result"
    }
   ],
   "source": [
    "# df_2 = df['y'].groupby(['date']).sum()\n",
    "# df_2['d'] = \n",
    "# df_2.head()\n",
    "\n",
    "df = df['y'].groupby(['date']).sum()\n",
    "df.head(\n",
    "\n",
    ")\n",
    "# df_2 = df['riders'].groupby(['date']).sum()\n",
    "# df_2.head()\n",
    "\n",
    "# # desc_post = bart[split_date:].groupby(['day']).describe()"
   ]
  },
  {
   "cell_type": "code",
   "execution_count": 6,
   "metadata": {},
   "outputs": [],
   "source": [
    "def date_index(df): \n",
    "    # df.dropna(inplace=True)\n",
    "    df['d'] = df['date']\n",
    "    df['date'] = pd.to_datetime(df['date'])\n",
    "    df = df.set_index('date')\n",
    "    print(df.head(3))\n",
    "    return(df)"
   ]
  },
  {
   "cell_type": "code",
   "execution_count": 7,
   "metadata": {},
   "outputs": [],
   "source": [
    "def agg_station_day(path_name):\n",
    "\n",
    "    df1 = pd.DataFrame()\n",
    "    n = 0\n",
    "\n",
    "    # for file in os.listdir(path_name):\n",
    "    for file in glob.glob(path_name + '*.csv'):\n",
    "        n += 1\n",
    "        print(file)\n",
    "        \n",
    "        df = pd.read_csv(file) \n",
    "\n",
    "        # add columns header for ease of manipulation \n",
    "        df.columns = ['d', 'hour', 'origin', 'exit', 'riders']\n",
    "\n",
    "        # change date col to datetime format (from string/object type )\n",
    "        df['date'] = pd.to_datetime(df['d'])\n",
    "\n",
    "        # set date column as index\n",
    "        df = df.set_index('date')     \n",
    "        # df['ds'] = df_y.index\n",
    "        \n",
    "        # rename columns\n",
    "        # df.rename(columns = {'riders' : 'y'}, inplace = True)\n",
    "        \n",
    "        # filter out origin = destination rides\n",
    "        df = df[ df['origin'] != df['exit'] ] \n",
    "        \n",
    "        # group / sum / aggregate data for each day \n",
    "        # must use dt or numeric, doesn't seem like I can groub by objec/string? \n",
    "        # df_1 = df.groupby(['d']).agg({'riders': ['sum']})\n",
    "        # df_1 = df['riders'].groupby(['d']).sum()\n",
    "        # df_1 = df.groupby(['date']).agg({'riders': ['sum']})\n",
    "        df_1 = df['riders'].groupby(['date']).sum()\n",
    "\n",
    "        # Group / sum / aggregate data for each day BY STATION\n",
    "        # df = df.groupby(['dt', 'exit']).agg({'riders': ['sum']}).reset_index()\n",
    "        # df.groupby(\"dummy\")['returns'].agg(['mean', 'sum'])\n",
    "        # df = df.groupby(['dt', 'exit'])['riders'].agg(['sum']).reset_index()\n",
    "        # df = df.groupby(['dt', 'exit']).agg({'riders': ['sum']}) ####\n",
    "        # df.groupby(\"dummy\")['returns'].agg(['mean', 'sum'])\n",
    "        # df_2 = df_y['riders'].groupby(['exit']).sum()\n",
    "        \n",
    "        # add each year to running list \n",
    "        df1 = pd.concat([df1, df_1])\n",
    "\n",
    "    df1.sort_index(inplace=True)\n",
    "    # df1.columns = ['date', 'ridership']\n",
    "    df1.columns = ['d', 'ridership']\n",
    "\n",
    "    return(pd.DataFrame(df1))"
   ]
  },
  {
   "cell_type": "code",
   "execution_count": 8,
   "metadata": {},
   "outputs": [
    {
     "name": "stdout",
     "output_type": "stream",
     "text": [
      "../data/raw/bart/hourly/date-hour-soo-dest-2019.csv\n",
      "../data/raw/bart/hourly/date-hour-soo-dest-2018.csv\n",
      "../data/raw/bart/hourly/date-hour-soo-dest-2022.csv\n",
      "../data/raw/bart/hourly/date-hour-soo-dest-2020.csv\n",
      "../data/raw/bart/hourly/date-hour-soo-dest-2021.csv\n",
      "../data/raw/bart/hourly/date-hour-soo-dest-2011.csv\n",
      "../data/raw/bart/hourly/date-hour-soo-dest-2013.csv\n",
      "../data/raw/bart/hourly/date-hour-soo-dest-2012.csv\n",
      "../data/raw/bart/hourly/date-hour-soo-dest-2016.csv\n",
      "../data/raw/bart/hourly/date-hour-soo-dest-2017.csv\n",
      "../data/raw/bart/hourly/date-hour-soo-dest-2015.csv\n",
      "../data/raw/bart/hourly/date-hour-soo-dest-2014.csv\n"
     ]
    },
    {
     "ename": "ValueError",
     "evalue": "Length mismatch: Expected axis has 1 elements, new values have 2 elements",
     "output_type": "error",
     "traceback": [
      "\u001b[0;31m---------------------------------------------------------------------------\u001b[0m",
      "\u001b[0;31mValueError\u001b[0m                                Traceback (most recent call last)",
      "\u001b[1;32m/Users/gx/my_git/05_capstone/code/01_v3_bart.ipynb Cell 9\u001b[0m in \u001b[0;36m<cell line: 1>\u001b[0;34m()\u001b[0m\n\u001b[0;32m----> <a href='vscode-notebook-cell:/Users/gx/my_git/05_capstone/code/01_v3_bart.ipynb#ch0000007?line=0'>1</a>\u001b[0m df_daily\u001b[39m=\u001b[39m agg_station_day(path)\n",
      "\u001b[1;32m/Users/gx/my_git/05_capstone/code/01_v3_bart.ipynb Cell 9\u001b[0m in \u001b[0;36magg_station_day\u001b[0;34m(path_name)\u001b[0m\n\u001b[1;32m     <a href='vscode-notebook-cell:/Users/gx/my_git/05_capstone/code/01_v3_bart.ipynb#ch0000007?line=46'>47</a>\u001b[0m df1\u001b[39m.\u001b[39msort_index(inplace\u001b[39m=\u001b[39m\u001b[39mTrue\u001b[39;00m)\n\u001b[1;32m     <a href='vscode-notebook-cell:/Users/gx/my_git/05_capstone/code/01_v3_bart.ipynb#ch0000007?line=47'>48</a>\u001b[0m \u001b[39m# df1.columns = ['date', 'ridership']\u001b[39;00m\n\u001b[0;32m---> <a href='vscode-notebook-cell:/Users/gx/my_git/05_capstone/code/01_v3_bart.ipynb#ch0000007?line=48'>49</a>\u001b[0m df1\u001b[39m.\u001b[39mcolumns \u001b[39m=\u001b[39m [\u001b[39m'\u001b[39m\u001b[39md\u001b[39m\u001b[39m'\u001b[39m, \u001b[39m'\u001b[39m\u001b[39mridership\u001b[39m\u001b[39m'\u001b[39m]\n\u001b[1;32m     <a href='vscode-notebook-cell:/Users/gx/my_git/05_capstone/code/01_v3_bart.ipynb#ch0000007?line=50'>51</a>\u001b[0m \u001b[39mreturn\u001b[39;00m(pd\u001b[39m.\u001b[39mDataFrame(df1))\n",
      "File \u001b[0;32m~/my_git/05_capstone/newenv/lib/python3.8/site-packages/pandas/core/generic.py:5478\u001b[0m, in \u001b[0;36mNDFrame.__setattr__\u001b[0;34m(self, name, value)\u001b[0m\n\u001b[1;32m   5476\u001b[0m \u001b[39mtry\u001b[39;00m:\n\u001b[1;32m   5477\u001b[0m     \u001b[39mobject\u001b[39m\u001b[39m.\u001b[39m\u001b[39m__getattribute__\u001b[39m(\u001b[39mself\u001b[39m, name)\n\u001b[0;32m-> 5478\u001b[0m     \u001b[39mreturn\u001b[39;00m \u001b[39mobject\u001b[39;49m\u001b[39m.\u001b[39;49m\u001b[39m__setattr__\u001b[39;49m(\u001b[39mself\u001b[39;49m, name, value)\n\u001b[1;32m   5479\u001b[0m \u001b[39mexcept\u001b[39;00m \u001b[39mAttributeError\u001b[39;00m:\n\u001b[1;32m   5480\u001b[0m     \u001b[39mpass\u001b[39;00m\n",
      "File \u001b[0;32mpandas/_libs/properties.pyx:66\u001b[0m, in \u001b[0;36mpandas._libs.properties.AxisProperty.__set__\u001b[0;34m()\u001b[0m\n",
      "File \u001b[0;32m~/my_git/05_capstone/newenv/lib/python3.8/site-packages/pandas/core/generic.py:670\u001b[0m, in \u001b[0;36mNDFrame._set_axis\u001b[0;34m(self, axis, labels)\u001b[0m\n\u001b[1;32m    668\u001b[0m \u001b[39mdef\u001b[39;00m \u001b[39m_set_axis\u001b[39m(\u001b[39mself\u001b[39m, axis: \u001b[39mint\u001b[39m, labels: Index) \u001b[39m-\u001b[39m\u001b[39m>\u001b[39m \u001b[39mNone\u001b[39;00m:\n\u001b[1;32m    669\u001b[0m     labels \u001b[39m=\u001b[39m ensure_index(labels)\n\u001b[0;32m--> 670\u001b[0m     \u001b[39mself\u001b[39;49m\u001b[39m.\u001b[39;49m_mgr\u001b[39m.\u001b[39;49mset_axis(axis, labels)\n\u001b[1;32m    671\u001b[0m     \u001b[39mself\u001b[39m\u001b[39m.\u001b[39m_clear_item_cache()\n",
      "File \u001b[0;32m~/my_git/05_capstone/newenv/lib/python3.8/site-packages/pandas/core/internals/managers.py:220\u001b[0m, in \u001b[0;36mBlockManager.set_axis\u001b[0;34m(self, axis, new_labels)\u001b[0m\n\u001b[1;32m    217\u001b[0m new_len \u001b[39m=\u001b[39m \u001b[39mlen\u001b[39m(new_labels)\n\u001b[1;32m    219\u001b[0m \u001b[39mif\u001b[39;00m new_len \u001b[39m!=\u001b[39m old_len:\n\u001b[0;32m--> 220\u001b[0m     \u001b[39mraise\u001b[39;00m \u001b[39mValueError\u001b[39;00m(\n\u001b[1;32m    221\u001b[0m         \u001b[39mf\u001b[39m\u001b[39m\"\u001b[39m\u001b[39mLength mismatch: Expected axis has \u001b[39m\u001b[39m{\u001b[39;00mold_len\u001b[39m}\u001b[39;00m\u001b[39m elements, new \u001b[39m\u001b[39m\"\u001b[39m\n\u001b[1;32m    222\u001b[0m         \u001b[39mf\u001b[39m\u001b[39m\"\u001b[39m\u001b[39mvalues have \u001b[39m\u001b[39m{\u001b[39;00mnew_len\u001b[39m}\u001b[39;00m\u001b[39m elements\u001b[39m\u001b[39m\"\u001b[39m\n\u001b[1;32m    223\u001b[0m     )\n\u001b[1;32m    225\u001b[0m \u001b[39mself\u001b[39m\u001b[39m.\u001b[39maxes[axis] \u001b[39m=\u001b[39m new_labels\n",
      "\u001b[0;31mValueError\u001b[0m: Length mismatch: Expected axis has 1 elements, new values have 2 elements"
     ]
    }
   ],
   "source": [
    "df_daily= agg_station_day(path)"
   ]
  },
  {
   "cell_type": "code",
   "execution_count": 30,
   "metadata": {},
   "outputs": [
    {
     "data": {
      "text/html": [
       "<div>\n",
       "<style scoped>\n",
       "    .dataframe tbody tr th:only-of-type {\n",
       "        vertical-align: middle;\n",
       "    }\n",
       "\n",
       "    .dataframe tbody tr th {\n",
       "        vertical-align: top;\n",
       "    }\n",
       "\n",
       "    .dataframe thead th {\n",
       "        text-align: right;\n",
       "    }\n",
       "</style>\n",
       "<table border=\"1\" class=\"dataframe\">\n",
       "  <thead>\n",
       "    <tr style=\"text-align: right;\">\n",
       "      <th></th>\n",
       "      <th>ridership</th>\n",
       "    </tr>\n",
       "  </thead>\n",
       "  <tbody>\n",
       "    <tr>\n",
       "      <th>2011-01-01</th>\n",
       "      <td>124162.0</td>\n",
       "    </tr>\n",
       "    <tr>\n",
       "      <th>2011-01-02</th>\n",
       "      <td>93666.0</td>\n",
       "    </tr>\n",
       "    <tr>\n",
       "      <th>2011-01-03</th>\n",
       "      <td>285891.0</td>\n",
       "    </tr>\n",
       "    <tr>\n",
       "      <th>2011-01-04</th>\n",
       "      <td>322306.0</td>\n",
       "    </tr>\n",
       "    <tr>\n",
       "      <th>2011-01-05</th>\n",
       "      <td>327006.0</td>\n",
       "    </tr>\n",
       "    <tr>\n",
       "      <th>2011-01-06</th>\n",
       "      <td>329001.0</td>\n",
       "    </tr>\n",
       "    <tr>\n",
       "      <th>2011-01-07</th>\n",
       "      <td>323306.0</td>\n",
       "    </tr>\n",
       "    <tr>\n",
       "      <th>2011-01-08</th>\n",
       "      <td>142343.0</td>\n",
       "    </tr>\n",
       "    <tr>\n",
       "      <th>2011-01-09</th>\n",
       "      <td>109395.0</td>\n",
       "    </tr>\n",
       "    <tr>\n",
       "      <th>2011-01-10</th>\n",
       "      <td>316511.0</td>\n",
       "    </tr>\n",
       "    <tr>\n",
       "      <th>2011-01-11</th>\n",
       "      <td>323127.0</td>\n",
       "    </tr>\n",
       "    <tr>\n",
       "      <th>2011-01-12</th>\n",
       "      <td>335277.0</td>\n",
       "    </tr>\n",
       "  </tbody>\n",
       "</table>\n",
       "</div>"
      ],
      "text/plain": [
       "            ridership\n",
       "2011-01-01   124162.0\n",
       "2011-01-02    93666.0\n",
       "2011-01-03   285891.0\n",
       "2011-01-04   322306.0\n",
       "2011-01-05   327006.0\n",
       "2011-01-06   329001.0\n",
       "2011-01-07   323306.0\n",
       "2011-01-08   142343.0\n",
       "2011-01-09   109395.0\n",
       "2011-01-10   316511.0\n",
       "2011-01-11   323127.0\n",
       "2011-01-12   335277.0"
      ]
     },
     "execution_count": 30,
     "metadata": {},
     "output_type": "execute_result"
    }
   ],
   "source": [
    "df_daily.head(12)"
   ]
  },
  {
   "cell_type": "code",
   "execution_count": 31,
   "metadata": {},
   "outputs": [
    {
     "data": {
      "text/html": [
       "<div>\n",
       "<style scoped>\n",
       "    .dataframe tbody tr th:only-of-type {\n",
       "        vertical-align: middle;\n",
       "    }\n",
       "\n",
       "    .dataframe tbody tr th {\n",
       "        vertical-align: top;\n",
       "    }\n",
       "\n",
       "    .dataframe thead th {\n",
       "        text-align: right;\n",
       "    }\n",
       "</style>\n",
       "<table border=\"1\" class=\"dataframe\">\n",
       "  <thead>\n",
       "    <tr style=\"text-align: right;\">\n",
       "      <th></th>\n",
       "      <th>ridership</th>\n",
       "    </tr>\n",
       "  </thead>\n",
       "  <tbody>\n",
       "    <tr>\n",
       "      <th>2022-06-28</th>\n",
       "      <td>144133.0</td>\n",
       "    </tr>\n",
       "    <tr>\n",
       "      <th>2022-06-29</th>\n",
       "      <td>147056.0</td>\n",
       "    </tr>\n",
       "    <tr>\n",
       "      <th>2022-06-30</th>\n",
       "      <td>140010.0</td>\n",
       "    </tr>\n",
       "    <tr>\n",
       "      <th>2022-07-01</th>\n",
       "      <td>121914.0</td>\n",
       "    </tr>\n",
       "    <tr>\n",
       "      <th>2022-07-02</th>\n",
       "      <td>78063.0</td>\n",
       "    </tr>\n",
       "  </tbody>\n",
       "</table>\n",
       "</div>"
      ],
      "text/plain": [
       "            ridership\n",
       "2022-06-28   144133.0\n",
       "2022-06-29   147056.0\n",
       "2022-06-30   140010.0\n",
       "2022-07-01   121914.0\n",
       "2022-07-02    78063.0"
      ]
     },
     "execution_count": 31,
     "metadata": {},
     "output_type": "execute_result"
    }
   ],
   "source": [
    "df_daily.tail()"
   ]
  },
  {
   "cell_type": "code",
   "execution_count": 32,
   "metadata": {},
   "outputs": [
    {
     "name": "stdout",
     "output_type": "stream",
     "text": [
      "<class 'pandas.core.frame.DataFrame'>\n",
      "DatetimeIndex: 4195 entries, 2011-01-01 to 2022-07-02\n",
      "Data columns (total 1 columns):\n",
      " #   Column     Non-Null Count  Dtype  \n",
      "---  ------     --------------  -----  \n",
      " 0   ridership  4195 non-null   float64\n",
      "dtypes: float64(1)\n",
      "memory usage: 65.5 KB\n"
     ]
    }
   ],
   "source": [
    "df_daily.info()"
   ]
  },
  {
   "cell_type": "code",
   "execution_count": 33,
   "metadata": {},
   "outputs": [
    {
     "data": {
      "text/html": [
       "<div>\n",
       "<style scoped>\n",
       "    .dataframe tbody tr th:only-of-type {\n",
       "        vertical-align: middle;\n",
       "    }\n",
       "\n",
       "    .dataframe tbody tr th {\n",
       "        vertical-align: top;\n",
       "    }\n",
       "\n",
       "    .dataframe thead th {\n",
       "        text-align: right;\n",
       "    }\n",
       "</style>\n",
       "<table border=\"1\" class=\"dataframe\">\n",
       "  <thead>\n",
       "    <tr style=\"text-align: right;\">\n",
       "      <th></th>\n",
       "      <th>ridership</th>\n",
       "    </tr>\n",
       "  </thead>\n",
       "  <tbody>\n",
       "    <tr>\n",
       "      <th>count</th>\n",
       "      <td>4195.000000</td>\n",
       "    </tr>\n",
       "    <tr>\n",
       "      <th>mean</th>\n",
       "      <td>274235.952086</td>\n",
       "    </tr>\n",
       "    <tr>\n",
       "      <th>std</th>\n",
       "      <td>150632.711245</td>\n",
       "    </tr>\n",
       "    <tr>\n",
       "      <th>min</th>\n",
       "      <td>2795.000000</td>\n",
       "    </tr>\n",
       "    <tr>\n",
       "      <th>25%</th>\n",
       "      <td>131495.000000</td>\n",
       "    </tr>\n",
       "    <tr>\n",
       "      <th>50%</th>\n",
       "      <td>354215.000000</td>\n",
       "    </tr>\n",
       "    <tr>\n",
       "      <th>75%</th>\n",
       "      <td>413056.500000</td>\n",
       "    </tr>\n",
       "    <tr>\n",
       "      <th>max</th>\n",
       "      <td>567020.000000</td>\n",
       "    </tr>\n",
       "  </tbody>\n",
       "</table>\n",
       "</div>"
      ],
      "text/plain": [
       "           ridership\n",
       "count    4195.000000\n",
       "mean   274235.952086\n",
       "std    150632.711245\n",
       "min      2795.000000\n",
       "25%    131495.000000\n",
       "50%    354215.000000\n",
       "75%    413056.500000\n",
       "max    567020.000000"
      ]
     },
     "execution_count": 33,
     "metadata": {},
     "output_type": "execute_result"
    }
   ],
   "source": [
    "df_daily.describe()"
   ]
  },
  {
   "cell_type": "code",
   "execution_count": 36,
   "metadata": {},
   "outputs": [],
   "source": [
    "# # current name of column holding date \n",
    "# col_title = 'd'\n",
    "# # sets date as time index\n",
    "# df_daily2 = gf.dt_index(df_daily, col_title)\n",
    "# # rename date column to either fb prophet or linkedin greykite format \n",
    "# # df_daily.dt \n",
    "# df_daily2.head()"
   ]
  },
  {
   "cell_type": "markdown",
   "metadata": {},
   "source": [
    "### Print out merged, clean csv."
   ]
  },
  {
   "cell_type": "code",
   "execution_count": null,
   "metadata": {},
   "outputs": [],
   "source": [
    "# df_out = df_daily[['dt', 'exit', 'sum']]\n",
    "\n",
    "df_out.head()"
   ]
  },
  {
   "cell_type": "code",
   "execution_count": 37,
   "metadata": {},
   "outputs": [],
   "source": [
    "df_daily.to_csv('../data/processed/bart_daily_station.csv', index = False)"
   ]
  }
 ],
 "metadata": {
  "kernelspec": {
   "display_name": "Python 3.8.9 ('newenv')",
   "language": "python",
   "name": "python3"
  },
  "language_info": {
   "codemirror_mode": {
    "name": "ipython",
    "version": 3
   },
   "file_extension": ".py",
   "mimetype": "text/x-python",
   "name": "python",
   "nbconvert_exporter": "python",
   "pygments_lexer": "ipython3",
   "version": "3.8.9"
  },
  "orig_nbformat": 4,
  "vscode": {
   "interpreter": {
    "hash": "54cd39fd9ba0db70c26ee1f2e491e152bd9a28fb5822b400132d331233796439"
   }
  }
 },
 "nbformat": 4,
 "nbformat_minor": 2
}
