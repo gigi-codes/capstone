{
 "cells": [
  {
   "cell_type": "markdown",
   "metadata": {},
   "source": [
    "# 4 | _Greykite, Silver_: Autoregress\n",
    "* [01 API Data Requests](01_API_pulls.ipynb)\n",
    "* [02 Initial EDA](02_EDA.ipynb)\n",
    "* [03 Prophet](03_prophet.ipynb)\n",
    "* _[04 Greykite: Silverkite Fuel](04_greykite.ipynb)_\n",
    "---\n",
    "  "
   ]
  },
  {
   "cell_type": "code",
   "execution_count": 120,
   "metadata": {},
   "outputs": [],
   "source": [
    "import pandas as pd\n",
    "from prophet import Prophet"
   ]
  },
  {
   "cell_type": "code",
   "execution_count": 121,
   "metadata": {},
   "outputs": [],
   "source": [
    "from collections import defaultdict\n",
    "import pandas as pd\n",
    "import plotly\n",
    "\n",
    "from greykite.common.data_loader import DataLoader\n",
    "from greykite.framework.templates.autogen.forecast_config import ForecastConfig\n",
    "from greykite.framework.templates.autogen.forecast_config import MetadataParam\n",
    "from greykite.framework.templates.forecaster import Forecaster\n",
    "from greykite.framework.templates.model_templates import ModelTemplateEnum\n",
    "from greykite.framework.utils.result_summary import summarize_grid_search_results"
   ]
  },
  {
   "cell_type": "code",
   "execution_count": 122,
   "metadata": {},
   "outputs": [],
   "source": [
    "import warnings\n",
    "warnings.filterwarnings(\"ignore\")"
   ]
  },
  {
   "cell_type": "code",
   "execution_count": 123,
   "metadata": {},
   "outputs": [],
   "source": [
    "# function to ensure date-time is proper format and index\n",
    "def date_index(df): \n",
    "    df['date'] = pd.to_datetime(df['ds'])\n",
    "    df = df.set_index('date')\n",
    "    return(df)"
   ]
  },
  {
   "cell_type": "code",
   "execution_count": 124,
   "metadata": {},
   "outputs": [],
   "source": [
    "file = '../data/processed/bart.csv'\n",
    "bart_df = pd.read_csv(file)\n",
    "bart_df = bart_df[['ridership', 'ds']]\n",
    "\n",
    "bart_df = date_index(bart_df)"
   ]
  },
  {
   "cell_type": "code",
   "execution_count": 128,
   "metadata": {},
   "outputs": [],
   "source": [
    "# FUNCTION RETURNS PLOTLY TRACES\n",
    "# TAKES 3 ARGUMENTS: (dataframe, y, and title for plot)\n",
    "def plot_traces(df, y, title):\n",
    "    y_trace = go.Scatter(\n",
    "                    # x = df['date'],\n",
    "                    x = df.index,\n",
    "                    y = df[y], \n",
    "                    name = y + 'trace',\n",
    "                    line = dict(color = 'blue'),\n",
    "                    opacity = 0.4)\n",
    "\n",
    "    layout = dict(title = title)\n",
    "\n",
    "    fig = dict(data=[y_trace], layout=layout)\n",
    "    iplot(fig)\n",
    "    return (print ('done') )"
   ]
  },
  {
   "cell_type": "code",
   "execution_count": 160,
   "metadata": {},
   "outputs": [],
   "source": [
    "df = bart_df['2010-01-01':'2022-01-01']\n",
    "df.columns = ('y', 'ts')"
   ]
  },
  {
   "cell_type": "code",
   "execution_count": 162,
   "metadata": {},
   "outputs": [],
   "source": [
    "# specify dataset information\n",
    "metadata = MetadataParam(\n",
    "    time_col = 'ts',    # name of the time column (\"date\" in example above)\n",
    "    value_col=  'y',    # name of the value column (\"sessions\" in example above)\n",
    "    #freq = 'd'          # \"H\" for hourly, \"D\" for daily, \"W\" for weekly, etc.\n",
    "                        # Any format accepted by `pandas.date_range` ### USE LOWER CASE OR ERROR for w, m # or remove? dunno why w, m, don't work. \n",
    ")"
   ]
  },
  {
   "cell_type": "code",
   "execution_count": 163,
   "metadata": {},
   "outputs": [
    {
     "name": "stdout",
     "output_type": "stream",
     "text": [
      "Fitting 3 folds for each of 1 candidates, totalling 3 fits\n"
     ]
    }
   ],
   "source": [
    " forecaster = Forecaster()  # Creates forecasts and stores the result\n",
    " result = forecaster.run_forecast_config(  # result is also stored as `forecaster.forecast_result`.\n",
    "     df=df,\n",
    "     config=ForecastConfig(\n",
    "         model_template=ModelTemplateEnum.SILVERKITE.name,\n",
    "         forecast_horizon=10,  # forecasts 365 steps ahead\n",
    "         coverage=0.95,         # 95% prediction intervals\n",
    "         metadata_param=metadata\n",
    "     )\n",
    " )"
   ]
  },
  {
   "cell_type": "code",
   "execution_count": 164,
   "metadata": {},
   "outputs": [
    {
     "data": {
      "application/vnd.plotly.v1+json": {
       "config": {
        "plotlyServerURL": "https://plot.ly"
       },
       "data": [
        {
         "line": {
          "color": "rgb(32, 149, 212)"
         },
         "mode": "lines",
         "name": "y",
         "opacity": 0.8,
         "type": "scatter",
         "x": [
          "2010-01-01T00:00:00",
          "2010-02-01T00:00:00",
          "2010-03-01T00:00:00",
          "2010-04-01T00:00:00",
          "2010-05-01T00:00:00",
          "2010-06-01T00:00:00",
          "2010-07-01T00:00:00",
          "2010-08-01T00:00:00",
          "2010-09-01T00:00:00",
          "2010-10-01T00:00:00",
          "2010-11-01T00:00:00",
          "2010-12-01T00:00:00",
          "2011-01-01T00:00:00",
          "2011-02-01T00:00:00",
          "2011-03-01T00:00:00",
          "2011-04-01T00:00:00",
          "2011-05-01T00:00:00",
          "2011-06-01T00:00:00",
          "2011-07-01T00:00:00",
          "2011-08-01T00:00:00",
          "2011-09-01T00:00:00",
          "2011-10-01T00:00:00",
          "2011-11-01T00:00:00",
          "2011-12-01T00:00:00",
          "2012-01-01T00:00:00",
          "2012-02-01T00:00:00",
          "2012-03-01T00:00:00",
          "2012-04-01T00:00:00",
          "2012-05-01T00:00:00",
          "2012-06-01T00:00:00",
          "2012-07-01T00:00:00",
          "2012-08-01T00:00:00",
          "2012-09-01T00:00:00",
          "2012-10-01T00:00:00",
          "2012-11-01T00:00:00",
          "2012-12-01T00:00:00",
          "2013-01-01T00:00:00",
          "2013-02-01T00:00:00",
          "2013-03-01T00:00:00",
          "2013-04-01T00:00:00",
          "2013-05-01T00:00:00",
          "2013-06-01T00:00:00",
          "2013-07-01T00:00:00",
          "2013-08-01T00:00:00",
          "2013-09-01T00:00:00",
          "2013-10-01T00:00:00",
          "2013-11-01T00:00:00",
          "2013-12-01T00:00:00",
          "2014-01-01T00:00:00",
          "2014-02-01T00:00:00",
          "2014-03-01T00:00:00",
          "2014-04-01T00:00:00",
          "2014-05-01T00:00:00",
          "2014-06-01T00:00:00",
          "2014-07-01T00:00:00",
          "2014-08-01T00:00:00",
          "2014-09-01T00:00:00",
          "2014-10-01T00:00:00",
          "2014-11-01T00:00:00",
          "2014-12-01T00:00:00",
          "2015-01-01T00:00:00",
          "2015-02-01T00:00:00",
          "2015-03-01T00:00:00",
          "2015-04-01T00:00:00",
          "2015-05-01T00:00:00",
          "2015-06-01T00:00:00",
          "2015-07-01T00:00:00",
          "2015-08-01T00:00:00",
          "2015-09-01T00:00:00",
          "2015-10-01T00:00:00",
          "2015-11-01T00:00:00",
          "2015-12-01T00:00:00",
          "2016-01-01T00:00:00",
          "2016-02-01T00:00:00",
          "2016-03-01T00:00:00",
          "2016-04-01T00:00:00",
          "2016-05-01T00:00:00",
          "2016-06-01T00:00:00",
          "2016-07-01T00:00:00",
          "2016-08-01T00:00:00",
          "2016-09-01T00:00:00",
          "2016-10-01T00:00:00",
          "2016-11-01T00:00:00",
          "2016-12-01T00:00:00",
          "2017-01-01T00:00:00",
          "2017-02-01T00:00:00",
          "2017-03-01T00:00:00",
          "2017-04-01T00:00:00",
          "2017-05-01T00:00:00",
          "2017-06-01T00:00:00",
          "2017-07-01T00:00:00",
          "2017-08-01T00:00:00",
          "2017-09-01T00:00:00",
          "2017-10-01T00:00:00",
          "2017-11-01T00:00:00",
          "2017-12-01T00:00:00",
          "2018-01-01T00:00:00",
          "2018-02-01T00:00:00",
          "2018-03-01T00:00:00",
          "2018-04-01T00:00:00",
          "2018-05-01T00:00:00",
          "2018-06-01T00:00:00",
          "2018-07-01T00:00:00",
          "2018-08-01T00:00:00",
          "2018-09-01T00:00:00",
          "2018-10-01T00:00:00",
          "2018-11-01T00:00:00",
          "2018-12-01T00:00:00",
          "2019-01-01T00:00:00",
          "2019-02-01T00:00:00",
          "2019-03-01T00:00:00",
          "2019-04-01T00:00:00",
          "2019-05-01T00:00:00",
          "2019-06-01T00:00:00",
          "2019-07-01T00:00:00",
          "2019-08-01T00:00:00",
          "2019-09-01T00:00:00",
          "2019-10-01T00:00:00",
          "2019-11-01T00:00:00",
          "2019-12-01T00:00:00",
          "2020-01-01T00:00:00",
          "2020-02-01T00:00:00",
          "2020-03-01T00:00:00",
          "2020-04-01T00:00:00",
          "2020-05-01T00:00:00",
          "2020-06-01T00:00:00",
          "2020-07-01T00:00:00",
          "2020-08-01T00:00:00",
          "2020-09-01T00:00:00",
          "2020-10-01T00:00:00",
          "2020-11-01T00:00:00",
          "2020-12-01T00:00:00",
          "2021-01-01T00:00:00",
          "2021-02-01T00:00:00",
          "2021-03-01T00:00:00",
          "2021-04-01T00:00:00",
          "2021-05-01T00:00:00",
          "2021-06-01T00:00:00",
          "2021-07-01T00:00:00",
          "2021-08-01T00:00:00",
          "2021-09-01T00:00:00",
          "2021-10-01T00:00:00",
          "2021-11-01T00:00:00",
          "2021-12-01T00:00:00",
          "2022-01-01T00:00:00"
         ],
         "y": [
          1329472,
          1318752,
          1414724,
          1433632,
          1381416,
          1290232,
          1275304,
          1335164,
          1319240,
          1335460,
          1327736,
          1318160,
          1331576,
          1355384,
          1418312,
          1426176,
          1414008,
          1294672,
          1336176,
          1384780,
          1375880,
          1408640,
          1408204,
          1421744,
          1430776,
          1435804,
          1496528,
          1494376,
          1470364,
          1378588,
          1429084,
          1492904,
          1472224,
          1495892,
          1506620,
          1492188,
          1502756,
          1537180,
          1611820,
          1667728,
          1573312,
          1500368,
          1495780,
          1578768,
          1577520,
          1601740,
          1589584,
          1585656,
          1285528,
          1598848,
          1663212,
          1439616,
          1579588,
          1511568,
          1524360,
          1594676,
          1612708,
          1615592,
          1639708,
          1641248,
          1659584,
          1677020,
          1720652,
          1765712,
          1699052,
          1600284,
          1643388,
          1683624,
          1694104,
          1719640,
          1697248,
          1731476,
          1709868,
          1719000,
          1780412,
          1784032,
          1741588,
          1649136,
          1689256,
          1786600,
          1726140,
          1738940,
          1730828,
          1743892,
          1712812,
          1709812,
          1762416,
          1754008,
          1733536,
          1621136,
          1619308,
          1691048,
          1678840,
          1660064,
          1685116,
          1690616,
          1679788,
          1672280,
          1688804,
          1705968,
          1693056,
          1564876,
          1580888,
          1773265,
          1633436,
          1829799,
          1524645,
          1461470,
          1590125,
          1487721,
          1650099,
          1702928,
          1704785,
          1638553,
          1672906,
          1721642,
          1653261,
          1780084,
          1521233,
          1456963,
          1559801,
          1496135,
          681632,
          105228,
          122765,
          174954,
          198998,
          194876,
          202828,
          233368,
          208664,
          190821,
          174506,
          186102,
          232898,
          251324,
          279896,
          334434,
          375287,
          414514,
          458655,
          479018,
          466268,
          444311,
          364404
         ]
        }
       ],
       "layout": {
        "legend": {
         "traceorder": "reversed"
        },
        "showlegend": true,
        "template": {
         "data": {
          "bar": [
           {
            "error_x": {
             "color": "#2a3f5f"
            },
            "error_y": {
             "color": "#2a3f5f"
            },
            "marker": {
             "line": {
              "color": "#E5ECF6",
              "width": 0.5
             },
             "pattern": {
              "fillmode": "overlay",
              "size": 10,
              "solidity": 0.2
             }
            },
            "type": "bar"
           }
          ],
          "barpolar": [
           {
            "marker": {
             "line": {
              "color": "#E5ECF6",
              "width": 0.5
             },
             "pattern": {
              "fillmode": "overlay",
              "size": 10,
              "solidity": 0.2
             }
            },
            "type": "barpolar"
           }
          ],
          "carpet": [
           {
            "aaxis": {
             "endlinecolor": "#2a3f5f",
             "gridcolor": "white",
             "linecolor": "white",
             "minorgridcolor": "white",
             "startlinecolor": "#2a3f5f"
            },
            "baxis": {
             "endlinecolor": "#2a3f5f",
             "gridcolor": "white",
             "linecolor": "white",
             "minorgridcolor": "white",
             "startlinecolor": "#2a3f5f"
            },
            "type": "carpet"
           }
          ],
          "choropleth": [
           {
            "colorbar": {
             "outlinewidth": 0,
             "ticks": ""
            },
            "type": "choropleth"
           }
          ],
          "contour": [
           {
            "colorbar": {
             "outlinewidth": 0,
             "ticks": ""
            },
            "colorscale": [
             [
              0,
              "#0d0887"
             ],
             [
              0.1111111111111111,
              "#46039f"
             ],
             [
              0.2222222222222222,
              "#7201a8"
             ],
             [
              0.3333333333333333,
              "#9c179e"
             ],
             [
              0.4444444444444444,
              "#bd3786"
             ],
             [
              0.5555555555555556,
              "#d8576b"
             ],
             [
              0.6666666666666666,
              "#ed7953"
             ],
             [
              0.7777777777777778,
              "#fb9f3a"
             ],
             [
              0.8888888888888888,
              "#fdca26"
             ],
             [
              1,
              "#f0f921"
             ]
            ],
            "type": "contour"
           }
          ],
          "contourcarpet": [
           {
            "colorbar": {
             "outlinewidth": 0,
             "ticks": ""
            },
            "type": "contourcarpet"
           }
          ],
          "heatmap": [
           {
            "colorbar": {
             "outlinewidth": 0,
             "ticks": ""
            },
            "colorscale": [
             [
              0,
              "#0d0887"
             ],
             [
              0.1111111111111111,
              "#46039f"
             ],
             [
              0.2222222222222222,
              "#7201a8"
             ],
             [
              0.3333333333333333,
              "#9c179e"
             ],
             [
              0.4444444444444444,
              "#bd3786"
             ],
             [
              0.5555555555555556,
              "#d8576b"
             ],
             [
              0.6666666666666666,
              "#ed7953"
             ],
             [
              0.7777777777777778,
              "#fb9f3a"
             ],
             [
              0.8888888888888888,
              "#fdca26"
             ],
             [
              1,
              "#f0f921"
             ]
            ],
            "type": "heatmap"
           }
          ],
          "heatmapgl": [
           {
            "colorbar": {
             "outlinewidth": 0,
             "ticks": ""
            },
            "colorscale": [
             [
              0,
              "#0d0887"
             ],
             [
              0.1111111111111111,
              "#46039f"
             ],
             [
              0.2222222222222222,
              "#7201a8"
             ],
             [
              0.3333333333333333,
              "#9c179e"
             ],
             [
              0.4444444444444444,
              "#bd3786"
             ],
             [
              0.5555555555555556,
              "#d8576b"
             ],
             [
              0.6666666666666666,
              "#ed7953"
             ],
             [
              0.7777777777777778,
              "#fb9f3a"
             ],
             [
              0.8888888888888888,
              "#fdca26"
             ],
             [
              1,
              "#f0f921"
             ]
            ],
            "type": "heatmapgl"
           }
          ],
          "histogram": [
           {
            "marker": {
             "pattern": {
              "fillmode": "overlay",
              "size": 10,
              "solidity": 0.2
             }
            },
            "type": "histogram"
           }
          ],
          "histogram2d": [
           {
            "colorbar": {
             "outlinewidth": 0,
             "ticks": ""
            },
            "colorscale": [
             [
              0,
              "#0d0887"
             ],
             [
              0.1111111111111111,
              "#46039f"
             ],
             [
              0.2222222222222222,
              "#7201a8"
             ],
             [
              0.3333333333333333,
              "#9c179e"
             ],
             [
              0.4444444444444444,
              "#bd3786"
             ],
             [
              0.5555555555555556,
              "#d8576b"
             ],
             [
              0.6666666666666666,
              "#ed7953"
             ],
             [
              0.7777777777777778,
              "#fb9f3a"
             ],
             [
              0.8888888888888888,
              "#fdca26"
             ],
             [
              1,
              "#f0f921"
             ]
            ],
            "type": "histogram2d"
           }
          ],
          "histogram2dcontour": [
           {
            "colorbar": {
             "outlinewidth": 0,
             "ticks": ""
            },
            "colorscale": [
             [
              0,
              "#0d0887"
             ],
             [
              0.1111111111111111,
              "#46039f"
             ],
             [
              0.2222222222222222,
              "#7201a8"
             ],
             [
              0.3333333333333333,
              "#9c179e"
             ],
             [
              0.4444444444444444,
              "#bd3786"
             ],
             [
              0.5555555555555556,
              "#d8576b"
             ],
             [
              0.6666666666666666,
              "#ed7953"
             ],
             [
              0.7777777777777778,
              "#fb9f3a"
             ],
             [
              0.8888888888888888,
              "#fdca26"
             ],
             [
              1,
              "#f0f921"
             ]
            ],
            "type": "histogram2dcontour"
           }
          ],
          "mesh3d": [
           {
            "colorbar": {
             "outlinewidth": 0,
             "ticks": ""
            },
            "type": "mesh3d"
           }
          ],
          "parcoords": [
           {
            "line": {
             "colorbar": {
              "outlinewidth": 0,
              "ticks": ""
             }
            },
            "type": "parcoords"
           }
          ],
          "pie": [
           {
            "automargin": true,
            "type": "pie"
           }
          ],
          "scatter": [
           {
            "fillpattern": {
             "fillmode": "overlay",
             "size": 10,
             "solidity": 0.2
            },
            "type": "scatter"
           }
          ],
          "scatter3d": [
           {
            "line": {
             "colorbar": {
              "outlinewidth": 0,
              "ticks": ""
             }
            },
            "marker": {
             "colorbar": {
              "outlinewidth": 0,
              "ticks": ""
             }
            },
            "type": "scatter3d"
           }
          ],
          "scattercarpet": [
           {
            "marker": {
             "colorbar": {
              "outlinewidth": 0,
              "ticks": ""
             }
            },
            "type": "scattercarpet"
           }
          ],
          "scattergeo": [
           {
            "marker": {
             "colorbar": {
              "outlinewidth": 0,
              "ticks": ""
             }
            },
            "type": "scattergeo"
           }
          ],
          "scattergl": [
           {
            "marker": {
             "colorbar": {
              "outlinewidth": 0,
              "ticks": ""
             }
            },
            "type": "scattergl"
           }
          ],
          "scattermapbox": [
           {
            "marker": {
             "colorbar": {
              "outlinewidth": 0,
              "ticks": ""
             }
            },
            "type": "scattermapbox"
           }
          ],
          "scatterpolar": [
           {
            "marker": {
             "colorbar": {
              "outlinewidth": 0,
              "ticks": ""
             }
            },
            "type": "scatterpolar"
           }
          ],
          "scatterpolargl": [
           {
            "marker": {
             "colorbar": {
              "outlinewidth": 0,
              "ticks": ""
             }
            },
            "type": "scatterpolargl"
           }
          ],
          "scatterternary": [
           {
            "marker": {
             "colorbar": {
              "outlinewidth": 0,
              "ticks": ""
             }
            },
            "type": "scatterternary"
           }
          ],
          "surface": [
           {
            "colorbar": {
             "outlinewidth": 0,
             "ticks": ""
            },
            "colorscale": [
             [
              0,
              "#0d0887"
             ],
             [
              0.1111111111111111,
              "#46039f"
             ],
             [
              0.2222222222222222,
              "#7201a8"
             ],
             [
              0.3333333333333333,
              "#9c179e"
             ],
             [
              0.4444444444444444,
              "#bd3786"
             ],
             [
              0.5555555555555556,
              "#d8576b"
             ],
             [
              0.6666666666666666,
              "#ed7953"
             ],
             [
              0.7777777777777778,
              "#fb9f3a"
             ],
             [
              0.8888888888888888,
              "#fdca26"
             ],
             [
              1,
              "#f0f921"
             ]
            ],
            "type": "surface"
           }
          ],
          "table": [
           {
            "cells": {
             "fill": {
              "color": "#EBF0F8"
             },
             "line": {
              "color": "white"
             }
            },
            "header": {
             "fill": {
              "color": "#C8D4E3"
             },
             "line": {
              "color": "white"
             }
            },
            "type": "table"
           }
          ]
         },
         "layout": {
          "annotationdefaults": {
           "arrowcolor": "#2a3f5f",
           "arrowhead": 0,
           "arrowwidth": 1
          },
          "autotypenumbers": "strict",
          "coloraxis": {
           "colorbar": {
            "outlinewidth": 0,
            "ticks": ""
           }
          },
          "colorscale": {
           "diverging": [
            [
             0,
             "#8e0152"
            ],
            [
             0.1,
             "#c51b7d"
            ],
            [
             0.2,
             "#de77ae"
            ],
            [
             0.3,
             "#f1b6da"
            ],
            [
             0.4,
             "#fde0ef"
            ],
            [
             0.5,
             "#f7f7f7"
            ],
            [
             0.6,
             "#e6f5d0"
            ],
            [
             0.7,
             "#b8e186"
            ],
            [
             0.8,
             "#7fbc41"
            ],
            [
             0.9,
             "#4d9221"
            ],
            [
             1,
             "#276419"
            ]
           ],
           "sequential": [
            [
             0,
             "#0d0887"
            ],
            [
             0.1111111111111111,
             "#46039f"
            ],
            [
             0.2222222222222222,
             "#7201a8"
            ],
            [
             0.3333333333333333,
             "#9c179e"
            ],
            [
             0.4444444444444444,
             "#bd3786"
            ],
            [
             0.5555555555555556,
             "#d8576b"
            ],
            [
             0.6666666666666666,
             "#ed7953"
            ],
            [
             0.7777777777777778,
             "#fb9f3a"
            ],
            [
             0.8888888888888888,
             "#fdca26"
            ],
            [
             1,
             "#f0f921"
            ]
           ],
           "sequentialminus": [
            [
             0,
             "#0d0887"
            ],
            [
             0.1111111111111111,
             "#46039f"
            ],
            [
             0.2222222222222222,
             "#7201a8"
            ],
            [
             0.3333333333333333,
             "#9c179e"
            ],
            [
             0.4444444444444444,
             "#bd3786"
            ],
            [
             0.5555555555555556,
             "#d8576b"
            ],
            [
             0.6666666666666666,
             "#ed7953"
            ],
            [
             0.7777777777777778,
             "#fb9f3a"
            ],
            [
             0.8888888888888888,
             "#fdca26"
            ],
            [
             1,
             "#f0f921"
            ]
           ]
          },
          "colorway": [
           "#636efa",
           "#EF553B",
           "#00cc96",
           "#ab63fa",
           "#FFA15A",
           "#19d3f3",
           "#FF6692",
           "#B6E880",
           "#FF97FF",
           "#FECB52"
          ],
          "font": {
           "color": "#2a3f5f"
          },
          "geo": {
           "bgcolor": "white",
           "lakecolor": "white",
           "landcolor": "#E5ECF6",
           "showlakes": true,
           "showland": true,
           "subunitcolor": "white"
          },
          "hoverlabel": {
           "align": "left"
          },
          "hovermode": "closest",
          "mapbox": {
           "style": "light"
          },
          "paper_bgcolor": "white",
          "plot_bgcolor": "#E5ECF6",
          "polar": {
           "angularaxis": {
            "gridcolor": "white",
            "linecolor": "white",
            "ticks": ""
           },
           "bgcolor": "#E5ECF6",
           "radialaxis": {
            "gridcolor": "white",
            "linecolor": "white",
            "ticks": ""
           }
          },
          "scene": {
           "xaxis": {
            "backgroundcolor": "#E5ECF6",
            "gridcolor": "white",
            "gridwidth": 2,
            "linecolor": "white",
            "showbackground": true,
            "ticks": "",
            "zerolinecolor": "white"
           },
           "yaxis": {
            "backgroundcolor": "#E5ECF6",
            "gridcolor": "white",
            "gridwidth": 2,
            "linecolor": "white",
            "showbackground": true,
            "ticks": "",
            "zerolinecolor": "white"
           },
           "zaxis": {
            "backgroundcolor": "#E5ECF6",
            "gridcolor": "white",
            "gridwidth": 2,
            "linecolor": "white",
            "showbackground": true,
            "ticks": "",
            "zerolinecolor": "white"
           }
          },
          "shapedefaults": {
           "line": {
            "color": "#2a3f5f"
           }
          },
          "ternary": {
           "aaxis": {
            "gridcolor": "white",
            "linecolor": "white",
            "ticks": ""
           },
           "baxis": {
            "gridcolor": "white",
            "linecolor": "white",
            "ticks": ""
           },
           "bgcolor": "#E5ECF6",
           "caxis": {
            "gridcolor": "white",
            "linecolor": "white",
            "ticks": ""
           }
          },
          "title": {
           "x": 0.05
          },
          "xaxis": {
           "automargin": true,
           "gridcolor": "white",
           "linecolor": "white",
           "ticks": "",
           "title": {
            "standoff": 15
           },
           "zerolinecolor": "white",
           "zerolinewidth": 2
          },
          "yaxis": {
           "automargin": true,
           "gridcolor": "white",
           "linecolor": "white",
           "ticks": "",
           "title": {
            "standoff": 15
           },
           "zerolinecolor": "white",
           "zerolinewidth": 2
          }
         }
        },
        "title": {
         "text": "y vs ts",
         "x": 0.5
        },
        "xaxis": {
         "title": {
          "text": "ts"
         }
        },
        "yaxis": {
         "title": {
          "text": "y"
         }
        }
       }
      }
     },
     "metadata": {},
     "output_type": "display_data"
    }
   ],
   "source": [
    "ts = result.timeseries\n",
    "fig = ts.plot()\n",
    "plotly.io.show(fig)"
   ]
  },
  {
   "cell_type": "markdown",
   "metadata": {},
   "source": [
    "### GREYKITE EVALUATION \n",
    "* creates holdout(test) set by default \n",
    "* cross-validation is run on saved data "
   ]
  },
  {
   "cell_type": "code",
   "execution_count": 165,
   "metadata": {},
   "outputs": [
    {
     "data": {
      "text/html": [
       "<div>\n",
       "<style scoped>\n",
       "    .dataframe tbody tr th:only-of-type {\n",
       "        vertical-align: middle;\n",
       "    }\n",
       "\n",
       "    .dataframe tbody tr th {\n",
       "        vertical-align: top;\n",
       "    }\n",
       "\n",
       "    .dataframe thead th {\n",
       "        text-align: right;\n",
       "    }\n",
       "</style>\n",
       "<table border=\"1\" class=\"dataframe\">\n",
       "  <thead>\n",
       "    <tr style=\"text-align: right;\">\n",
       "      <th>params</th>\n",
       "      <th>[]</th>\n",
       "    </tr>\n",
       "  </thead>\n",
       "  <tbody>\n",
       "    <tr>\n",
       "      <th>rank_test_MAPE</th>\n",
       "      <td>1</td>\n",
       "    </tr>\n",
       "    <tr>\n",
       "      <th>mean_test_MAPE</th>\n",
       "      <td>335.17</td>\n",
       "    </tr>\n",
       "    <tr>\n",
       "      <th>split_test_MAPE</th>\n",
       "      <td>(4.06, 322.77, 678.66)</td>\n",
       "    </tr>\n",
       "    <tr>\n",
       "      <th>mean_train_MAPE</th>\n",
       "      <td>11.93</td>\n",
       "    </tr>\n",
       "    <tr>\n",
       "      <th>split_train_MAPE</th>\n",
       "      <td>(2.22, 4.32, 29.24)</td>\n",
       "    </tr>\n",
       "    <tr>\n",
       "      <th>mean_fit_time</th>\n",
       "      <td>7.96</td>\n",
       "    </tr>\n",
       "    <tr>\n",
       "      <th>mean_score_time</th>\n",
       "      <td>1.66</td>\n",
       "    </tr>\n",
       "  </tbody>\n",
       "</table>\n",
       "</div>"
      ],
      "text/plain": [
       "params                                []\n",
       "rank_test_MAPE                         1\n",
       "mean_test_MAPE                    335.17\n",
       "split_test_MAPE   (4.06, 322.77, 678.66)\n",
       "mean_train_MAPE                    11.93\n",
       "split_train_MAPE     (2.22, 4.32, 29.24)\n",
       "mean_fit_time                       7.96\n",
       "mean_score_time                     1.66"
      ]
     },
     "execution_count": 165,
     "metadata": {},
     "output_type": "execute_result"
    }
   ],
   "source": [
    " grid_search = result.grid_search\n",
    " cv_results = summarize_grid_search_results(\n",
    "     grid_search=grid_search,\n",
    "     decimals=2,\n",
    "     # code below collapse printed output: remove/comment out to show all available metrics and columns.\n",
    "     cv_report_metrics=None,\n",
    "     column_order=[\"rank\", \"mean_test\", \"split_test\", \"mean_train\", \"split_train\", \"mean_fit_time\", \"mean_score_time\", \"params\"])\n",
    " # Transposes to save space in the printed output\n",
    " cv_results[\"params\"] = cv_results[\"params\"].astype(str)\n",
    " cv_results.set_index(\"params\", drop=True, inplace=True)\n",
    " cv_results.transpose()"
   ]
  },
  {
   "cell_type": "code",
   "execution_count": 166,
   "metadata": {},
   "outputs": [
    {
     "data": {
      "application/vnd.plotly.v1+json": {
       "config": {
        "plotlyServerURL": "https://plot.ly"
       },
       "data": [
        {
         "legendgroup": "interval",
         "line": {
          "color": "rgba(0, 90, 181, 0.5)",
          "width": 0
         },
         "mode": "lines",
         "name": "Lower Bound",
         "type": "scatter",
         "x": [
          "2010-01-01T00:00:00",
          "2010-02-01T00:00:00",
          "2010-03-01T00:00:00",
          "2010-04-01T00:00:00",
          "2010-05-01T00:00:00",
          "2010-06-01T00:00:00",
          "2010-07-01T00:00:00",
          "2010-08-01T00:00:00",
          "2010-09-01T00:00:00",
          "2010-10-01T00:00:00",
          "2010-11-01T00:00:00",
          "2010-12-01T00:00:00",
          "2011-01-01T00:00:00",
          "2011-02-01T00:00:00",
          "2011-03-01T00:00:00",
          "2011-04-01T00:00:00",
          "2011-05-01T00:00:00",
          "2011-06-01T00:00:00",
          "2011-07-01T00:00:00",
          "2011-08-01T00:00:00",
          "2011-09-01T00:00:00",
          "2011-10-01T00:00:00",
          "2011-11-01T00:00:00",
          "2011-12-01T00:00:00",
          "2012-01-01T00:00:00",
          "2012-02-01T00:00:00",
          "2012-03-01T00:00:00",
          "2012-04-01T00:00:00",
          "2012-05-01T00:00:00",
          "2012-06-01T00:00:00",
          "2012-07-01T00:00:00",
          "2012-08-01T00:00:00",
          "2012-09-01T00:00:00",
          "2012-10-01T00:00:00",
          "2012-11-01T00:00:00",
          "2012-12-01T00:00:00",
          "2013-01-01T00:00:00",
          "2013-02-01T00:00:00",
          "2013-03-01T00:00:00",
          "2013-04-01T00:00:00",
          "2013-05-01T00:00:00",
          "2013-06-01T00:00:00",
          "2013-07-01T00:00:00",
          "2013-08-01T00:00:00",
          "2013-09-01T00:00:00",
          "2013-10-01T00:00:00",
          "2013-11-01T00:00:00",
          "2013-12-01T00:00:00",
          "2014-01-01T00:00:00",
          "2014-02-01T00:00:00",
          "2014-03-01T00:00:00",
          "2014-04-01T00:00:00",
          "2014-05-01T00:00:00",
          "2014-06-01T00:00:00",
          "2014-07-01T00:00:00",
          "2014-08-01T00:00:00",
          "2014-09-01T00:00:00",
          "2014-10-01T00:00:00",
          "2014-11-01T00:00:00",
          "2014-12-01T00:00:00",
          "2015-01-01T00:00:00",
          "2015-02-01T00:00:00",
          "2015-03-01T00:00:00",
          "2015-04-01T00:00:00",
          "2015-05-01T00:00:00",
          "2015-06-01T00:00:00",
          "2015-07-01T00:00:00",
          "2015-08-01T00:00:00",
          "2015-09-01T00:00:00",
          "2015-10-01T00:00:00",
          "2015-11-01T00:00:00",
          "2015-12-01T00:00:00",
          "2016-01-01T00:00:00",
          "2016-02-01T00:00:00",
          "2016-03-01T00:00:00",
          "2016-04-01T00:00:00",
          "2016-05-01T00:00:00",
          "2016-06-01T00:00:00",
          "2016-07-01T00:00:00",
          "2016-08-01T00:00:00",
          "2016-09-01T00:00:00",
          "2016-10-01T00:00:00",
          "2016-11-01T00:00:00",
          "2016-12-01T00:00:00",
          "2017-01-01T00:00:00",
          "2017-02-01T00:00:00",
          "2017-03-01T00:00:00",
          "2017-04-01T00:00:00",
          "2017-05-01T00:00:00",
          "2017-06-01T00:00:00",
          "2017-07-01T00:00:00",
          "2017-08-01T00:00:00",
          "2017-09-01T00:00:00",
          "2017-10-01T00:00:00",
          "2017-11-01T00:00:00",
          "2017-12-01T00:00:00",
          "2018-01-01T00:00:00",
          "2018-02-01T00:00:00",
          "2018-03-01T00:00:00",
          "2018-04-01T00:00:00",
          "2018-05-01T00:00:00",
          "2018-06-01T00:00:00",
          "2018-07-01T00:00:00",
          "2018-08-01T00:00:00",
          "2018-09-01T00:00:00",
          "2018-10-01T00:00:00",
          "2018-11-01T00:00:00",
          "2018-12-01T00:00:00",
          "2019-01-01T00:00:00",
          "2019-02-01T00:00:00",
          "2019-03-01T00:00:00",
          "2019-04-01T00:00:00",
          "2019-05-01T00:00:00",
          "2019-06-01T00:00:00",
          "2019-07-01T00:00:00",
          "2019-08-01T00:00:00",
          "2019-09-01T00:00:00",
          "2019-10-01T00:00:00",
          "2019-11-01T00:00:00",
          "2019-12-01T00:00:00",
          "2020-01-01T00:00:00",
          "2020-02-01T00:00:00",
          "2020-03-01T00:00:00",
          "2020-04-01T00:00:00",
          "2020-05-01T00:00:00",
          "2020-06-01T00:00:00",
          "2020-07-01T00:00:00",
          "2020-08-01T00:00:00",
          "2020-09-01T00:00:00",
          "2020-10-01T00:00:00",
          "2020-11-01T00:00:00",
          "2020-12-01T00:00:00",
          "2021-01-01T00:00:00",
          "2021-02-01T00:00:00",
          "2021-03-01T00:00:00",
          "2021-04-01T00:00:00",
          "2021-05-01T00:00:00",
          "2021-06-01T00:00:00",
          "2021-07-01T00:00:00",
          "2021-08-01T00:00:00",
          "2021-09-01T00:00:00",
          "2021-10-01T00:00:00",
          "2021-11-01T00:00:00",
          "2021-12-01T00:00:00",
          "2022-01-01T00:00:00"
         ],
         "y": [
          614186.8902685242,
          614126.3907258315,
          614062.7048207163,
          614045.9145452054,
          614000.0875994125,
          613932.2104085947,
          613916.1297081076,
          613886.6213290934,
          613833.2599958519,
          613795.2505664288,
          613759.9891828608,
          613677.2262882227,
          613642.6253834949,
          613613.8759647969,
          613575.5068593952,
          613532.0529157321,
          613514.6287560982,
          613465.1303767508,
          613404.4945649796,
          613363.3685659547,
          613295.477440485,
          613283.615423301,
          613248.3540397328,
          613165.5911450947,
          613155.4274221738,
          613103.2391661976,
          613062.699769611,
          613021.692497208,
          612984.0715499483,
          612934.0920287154,
          612892.1547219018,
          612848.8195048608,
          612807.7207885464,
          612747.1907483912,
          612736.485273252,
          612653.8372753449,
          612651.9848391407,
          612591.4852964478,
          612552.2365731392,
          612486.6733923075,
          612473.3747301234,
          612423.2764822687,
          612381.2242787238,
          612337.770335061,
          612297.8143049267,
          612260.345137045,
          612216.8911933822,
          612142.320858839,
          612140.3496960127,
          612084.5610990461,
          612040.6014300114,
          611997.1474863484,
          611961.7395869957,
          611925.5869037895,
          611869.5891355961,
          611830.1733670032,
          611786.9976078242,
          611748.7099939173,
          611705.2560502545,
          611630.685715711,
          611620.52199279,
          611568.215010192,
          611528.9662868835,
          611502.7026816956,
          611450.1044438677,
          611400.006196013,
          611349.7614323732,
          611306.3074887104,
          611246.6089233356,
          611237.0748507893,
          611201.8134672213,
          611119.0505725832,
          611117.0794097569,
          611056.6985936861,
          611016.1591970993,
          610972.8239800585,
          610951.4765420854,
          610892.1894997812,
          610845.61414939,
          610804.606876987,
          610758.9437153083,
          610725.0873576864,
          610693.9828758105,
          610607.2967028331,
          610597.2517065343,
          610547.6400483886,
          610505.6960006277,
          610462.2420569647,
          610426.834157612,
          610380.7740848272,
          610334.6837062123,
          610291.2297625495,
          610261.7213835351,
          610213.8045645335,
          610178.5431809654,
          610098.1082309652,
          610093.809123501,
          610033.3095808083,
          610008.0064221486,
          609969.5430885456,
          609915.199014484,
          609865.1007666292,
          609823.0485630843,
          609779.5946194215,
          609738.377176485,
          609702.1694214055,
          609666.9080378376,
          609584.1451431995,
          609582.1739803732,
          609521.6744376803,
          609482.425714372,
          609438.9717707089,
          609403.5638713562,
          609357.5037985714,
          609311.4134199566,
          609267.9594762935,
          609228.0034461592,
          609190.5342782778,
          609155.2728947096,
          609072.5100000715,
          609070.5388372452,
          609010.1580211744,
          608969.6186245878,
          608926.2834075468,
          608890.9904049251,
          608818.9016465235,
          608790.8810167836,
          608747.5457997429,
          608687.9659609899,
          608678.5467851749,
          608643.4041282288,
          608560.7561303216,
          608558.9036941174,
          608498.4041514245,
          608459.155428116,
          608417.9279707985,
          608372.1010250056,
          608304.2238341877,
          608288.1431337006,
          608258.6347546866,
          608205.2734214449,
          608167.263992022,
          608132.0026084539,
          608049.2397138157,
          608014.6388090879
         ]
        },
        {
         "fill": "tonexty",
         "fillcolor": "rgba(0, 90, 181, 0.15)",
         "legendgroup": "interval",
         "line": {
          "color": "rgba(0, 90, 181, 0.5)",
          "width": 0
         },
         "mode": "lines",
         "name": "Upper Bound",
         "type": "scatter",
         "x": [
          "2010-01-01T00:00:00",
          "2010-02-01T00:00:00",
          "2010-03-01T00:00:00",
          "2010-04-01T00:00:00",
          "2010-05-01T00:00:00",
          "2010-06-01T00:00:00",
          "2010-07-01T00:00:00",
          "2010-08-01T00:00:00",
          "2010-09-01T00:00:00",
          "2010-10-01T00:00:00",
          "2010-11-01T00:00:00",
          "2010-12-01T00:00:00",
          "2011-01-01T00:00:00",
          "2011-02-01T00:00:00",
          "2011-03-01T00:00:00",
          "2011-04-01T00:00:00",
          "2011-05-01T00:00:00",
          "2011-06-01T00:00:00",
          "2011-07-01T00:00:00",
          "2011-08-01T00:00:00",
          "2011-09-01T00:00:00",
          "2011-10-01T00:00:00",
          "2011-11-01T00:00:00",
          "2011-12-01T00:00:00",
          "2012-01-01T00:00:00",
          "2012-02-01T00:00:00",
          "2012-03-01T00:00:00",
          "2012-04-01T00:00:00",
          "2012-05-01T00:00:00",
          "2012-06-01T00:00:00",
          "2012-07-01T00:00:00",
          "2012-08-01T00:00:00",
          "2012-09-01T00:00:00",
          "2012-10-01T00:00:00",
          "2012-11-01T00:00:00",
          "2012-12-01T00:00:00",
          "2013-01-01T00:00:00",
          "2013-02-01T00:00:00",
          "2013-03-01T00:00:00",
          "2013-04-01T00:00:00",
          "2013-05-01T00:00:00",
          "2013-06-01T00:00:00",
          "2013-07-01T00:00:00",
          "2013-08-01T00:00:00",
          "2013-09-01T00:00:00",
          "2013-10-01T00:00:00",
          "2013-11-01T00:00:00",
          "2013-12-01T00:00:00",
          "2014-01-01T00:00:00",
          "2014-02-01T00:00:00",
          "2014-03-01T00:00:00",
          "2014-04-01T00:00:00",
          "2014-05-01T00:00:00",
          "2014-06-01T00:00:00",
          "2014-07-01T00:00:00",
          "2014-08-01T00:00:00",
          "2014-09-01T00:00:00",
          "2014-10-01T00:00:00",
          "2014-11-01T00:00:00",
          "2014-12-01T00:00:00",
          "2015-01-01T00:00:00",
          "2015-02-01T00:00:00",
          "2015-03-01T00:00:00",
          "2015-04-01T00:00:00",
          "2015-05-01T00:00:00",
          "2015-06-01T00:00:00",
          "2015-07-01T00:00:00",
          "2015-08-01T00:00:00",
          "2015-09-01T00:00:00",
          "2015-10-01T00:00:00",
          "2015-11-01T00:00:00",
          "2015-12-01T00:00:00",
          "2016-01-01T00:00:00",
          "2016-02-01T00:00:00",
          "2016-03-01T00:00:00",
          "2016-04-01T00:00:00",
          "2016-05-01T00:00:00",
          "2016-06-01T00:00:00",
          "2016-07-01T00:00:00",
          "2016-08-01T00:00:00",
          "2016-09-01T00:00:00",
          "2016-10-01T00:00:00",
          "2016-11-01T00:00:00",
          "2016-12-01T00:00:00",
          "2017-01-01T00:00:00",
          "2017-02-01T00:00:00",
          "2017-03-01T00:00:00",
          "2017-04-01T00:00:00",
          "2017-05-01T00:00:00",
          "2017-06-01T00:00:00",
          "2017-07-01T00:00:00",
          "2017-08-01T00:00:00",
          "2017-09-01T00:00:00",
          "2017-10-01T00:00:00",
          "2017-11-01T00:00:00",
          "2017-12-01T00:00:00",
          "2018-01-01T00:00:00",
          "2018-02-01T00:00:00",
          "2018-03-01T00:00:00",
          "2018-04-01T00:00:00",
          "2018-05-01T00:00:00",
          "2018-06-01T00:00:00",
          "2018-07-01T00:00:00",
          "2018-08-01T00:00:00",
          "2018-09-01T00:00:00",
          "2018-10-01T00:00:00",
          "2018-11-01T00:00:00",
          "2018-12-01T00:00:00",
          "2019-01-01T00:00:00",
          "2019-02-01T00:00:00",
          "2019-03-01T00:00:00",
          "2019-04-01T00:00:00",
          "2019-05-01T00:00:00",
          "2019-06-01T00:00:00",
          "2019-07-01T00:00:00",
          "2019-08-01T00:00:00",
          "2019-09-01T00:00:00",
          "2019-10-01T00:00:00",
          "2019-11-01T00:00:00",
          "2019-12-01T00:00:00",
          "2020-01-01T00:00:00",
          "2020-02-01T00:00:00",
          "2020-03-01T00:00:00",
          "2020-04-01T00:00:00",
          "2020-05-01T00:00:00",
          "2020-06-01T00:00:00",
          "2020-07-01T00:00:00",
          "2020-08-01T00:00:00",
          "2020-09-01T00:00:00",
          "2020-10-01T00:00:00",
          "2020-11-01T00:00:00",
          "2020-12-01T00:00:00",
          "2021-01-01T00:00:00",
          "2021-02-01T00:00:00",
          "2021-03-01T00:00:00",
          "2021-04-01T00:00:00",
          "2021-05-01T00:00:00",
          "2021-06-01T00:00:00",
          "2021-07-01T00:00:00",
          "2021-08-01T00:00:00",
          "2021-09-01T00:00:00",
          "2021-10-01T00:00:00",
          "2021-11-01T00:00:00",
          "2021-12-01T00:00:00",
          "2022-01-01T00:00:00"
         ],
         "y": [
          2273650.719656252,
          2273590.220113559,
          2273526.534208444,
          2273509.743932933,
          2273463.91698714,
          2273396.0397963226,
          2273379.959095835,
          2273350.450716821,
          2273297.08938358,
          2273259.0799541567,
          2273223.8185705887,
          2273141.0556759504,
          2273106.4547712225,
          2273077.7053525243,
          2273039.336247123,
          2272995.8823034596,
          2272978.4581438256,
          2272928.9597644787,
          2272868.3239527075,
          2272827.1979536824,
          2272759.306828213,
          2272747.4448110284,
          2272712.1834274605,
          2272629.4205328226,
          2272619.2568099014,
          2272567.0685539255,
          2272526.5291573387,
          2272485.521884936,
          2272447.900937676,
          2272397.921416443,
          2272355.9841096294,
          2272312.6488925884,
          2272271.550176274,
          2272211.020136119,
          2272200.3146609794,
          2272117.6666630725,
          2272115.8142268686,
          2272055.3146841754,
          2272016.065960867,
          2271950.502780035,
          2271937.2041178513,
          2271887.1058699964,
          2271845.0536664515,
          2271801.5997227887,
          2271761.6436926546,
          2271724.174524773,
          2271680.7205811096,
          2271606.1502465666,
          2271604.1790837403,
          2271548.390486774,
          2271504.430817739,
          2271460.976874076,
          2271425.568974723,
          2271389.416291517,
          2271333.4185233237,
          2271294.002754731,
          2271250.8269955516,
          2271212.5393816447,
          2271169.0854379823,
          2271094.515103439,
          2271084.3513805177,
          2271032.0443979194,
          2270992.795674611,
          2270966.5320694232,
          2270913.9338315954,
          2270863.835583741,
          2270813.590820101,
          2270770.136876438,
          2270710.438311063,
          2270700.904238517,
          2270665.642854949,
          2270582.8799603106,
          2270580.908797485,
          2270520.5279814135,
          2270479.9885848267,
          2270436.653367786,
          2270415.305929813,
          2270356.0188875087,
          2270309.443537118,
          2270268.4362647147,
          2270222.773103036,
          2270188.916745414,
          2270157.812263538,
          2270071.126090561,
          2270061.081094262,
          2270011.4694361165,
          2269969.5253883554,
          2269926.071444692,
          2269890.6635453394,
          2269844.603472555,
          2269798.51309394,
          2269755.059150277,
          2269725.5507712625,
          2269677.633952261,
          2269642.372568693,
          2269561.937618693,
          2269557.6385112284,
          2269497.1389685357,
          2269471.835809876,
          2269433.372476273,
          2269379.0284022116,
          2269328.930154357,
          2269286.8779508118,
          2269243.4240071494,
          2269202.2065642127,
          2269165.998809133,
          2269130.7374255653,
          2269047.974530927,
          2269046.003368101,
          2268985.503825408,
          2268946.2551021,
          2268902.8011584366,
          2268867.393259084,
          2268821.333186299,
          2268775.2428076845,
          2268731.788864021,
          2268691.832833887,
          2268654.3636660054,
          2268619.1022824375,
          2268536.339387799,
          2268534.368224973,
          2268473.987408902,
          2268433.4480123157,
          2268390.1127952747,
          2268354.8197926525,
          2268282.731034251,
          2268254.7104045115,
          2268211.3751874706,
          2268151.795348718,
          2268142.3761729025,
          2268107.2335159564,
          2268024.585518049,
          2268022.733081845,
          2267962.233539152,
          2267922.9848158434,
          2267881.757358526,
          2267835.930412733,
          2267768.0532219154,
          2267751.972521428,
          2267722.4641424143,
          2267669.1028091726,
          2267631.09337975,
          2267595.8319961815,
          2267513.069101543,
          2267478.468196816
         ]
        },
        {
         "line": {
          "color": "rgba(250, 43, 20, 0.7)"
         },
         "marker": {
          "color": "rgba(250, 43, 20, 0.7)",
          "size": 2
         },
         "mode": "lines+markers",
         "name": "Actual",
         "opacity": 1,
         "type": "scatter",
         "x": [
          "2010-01-01T00:00:00",
          "2010-02-01T00:00:00",
          "2010-03-01T00:00:00",
          "2010-04-01T00:00:00",
          "2010-05-01T00:00:00",
          "2010-06-01T00:00:00",
          "2010-07-01T00:00:00",
          "2010-08-01T00:00:00",
          "2010-09-01T00:00:00",
          "2010-10-01T00:00:00",
          "2010-11-01T00:00:00",
          "2010-12-01T00:00:00",
          "2011-01-01T00:00:00",
          "2011-02-01T00:00:00",
          "2011-03-01T00:00:00",
          "2011-04-01T00:00:00",
          "2011-05-01T00:00:00",
          "2011-06-01T00:00:00",
          "2011-07-01T00:00:00",
          "2011-08-01T00:00:00",
          "2011-09-01T00:00:00",
          "2011-10-01T00:00:00",
          "2011-11-01T00:00:00",
          "2011-12-01T00:00:00",
          "2012-01-01T00:00:00",
          "2012-02-01T00:00:00",
          "2012-03-01T00:00:00",
          "2012-04-01T00:00:00",
          "2012-05-01T00:00:00",
          "2012-06-01T00:00:00",
          "2012-07-01T00:00:00",
          "2012-08-01T00:00:00",
          "2012-09-01T00:00:00",
          "2012-10-01T00:00:00",
          "2012-11-01T00:00:00",
          "2012-12-01T00:00:00",
          "2013-01-01T00:00:00",
          "2013-02-01T00:00:00",
          "2013-03-01T00:00:00",
          "2013-04-01T00:00:00",
          "2013-05-01T00:00:00",
          "2013-06-01T00:00:00",
          "2013-07-01T00:00:00",
          "2013-08-01T00:00:00",
          "2013-09-01T00:00:00",
          "2013-10-01T00:00:00",
          "2013-11-01T00:00:00",
          "2013-12-01T00:00:00",
          "2014-01-01T00:00:00",
          "2014-02-01T00:00:00",
          "2014-03-01T00:00:00",
          "2014-04-01T00:00:00",
          "2014-05-01T00:00:00",
          "2014-06-01T00:00:00",
          "2014-07-01T00:00:00",
          "2014-08-01T00:00:00",
          "2014-09-01T00:00:00",
          "2014-10-01T00:00:00",
          "2014-11-01T00:00:00",
          "2014-12-01T00:00:00",
          "2015-01-01T00:00:00",
          "2015-02-01T00:00:00",
          "2015-03-01T00:00:00",
          "2015-04-01T00:00:00",
          "2015-05-01T00:00:00",
          "2015-06-01T00:00:00",
          "2015-07-01T00:00:00",
          "2015-08-01T00:00:00",
          "2015-09-01T00:00:00",
          "2015-10-01T00:00:00",
          "2015-11-01T00:00:00",
          "2015-12-01T00:00:00",
          "2016-01-01T00:00:00",
          "2016-02-01T00:00:00",
          "2016-03-01T00:00:00",
          "2016-04-01T00:00:00",
          "2016-05-01T00:00:00",
          "2016-06-01T00:00:00",
          "2016-07-01T00:00:00",
          "2016-08-01T00:00:00",
          "2016-09-01T00:00:00",
          "2016-10-01T00:00:00",
          "2016-11-01T00:00:00",
          "2016-12-01T00:00:00",
          "2017-01-01T00:00:00",
          "2017-02-01T00:00:00",
          "2017-03-01T00:00:00",
          "2017-04-01T00:00:00",
          "2017-05-01T00:00:00",
          "2017-06-01T00:00:00",
          "2017-07-01T00:00:00",
          "2017-08-01T00:00:00",
          "2017-09-01T00:00:00",
          "2017-10-01T00:00:00",
          "2017-11-01T00:00:00",
          "2017-12-01T00:00:00",
          "2018-01-01T00:00:00",
          "2018-02-01T00:00:00",
          "2018-03-01T00:00:00",
          "2018-04-01T00:00:00",
          "2018-05-01T00:00:00",
          "2018-06-01T00:00:00",
          "2018-07-01T00:00:00",
          "2018-08-01T00:00:00",
          "2018-09-01T00:00:00",
          "2018-10-01T00:00:00",
          "2018-11-01T00:00:00",
          "2018-12-01T00:00:00",
          "2019-01-01T00:00:00",
          "2019-02-01T00:00:00",
          "2019-03-01T00:00:00",
          "2019-04-01T00:00:00",
          "2019-05-01T00:00:00",
          "2019-06-01T00:00:00",
          "2019-07-01T00:00:00",
          "2019-08-01T00:00:00",
          "2019-09-01T00:00:00",
          "2019-10-01T00:00:00",
          "2019-11-01T00:00:00",
          "2019-12-01T00:00:00",
          "2020-01-01T00:00:00",
          "2020-02-01T00:00:00",
          "2020-03-01T00:00:00",
          "2020-04-01T00:00:00",
          "2020-05-01T00:00:00",
          "2020-06-01T00:00:00",
          "2020-07-01T00:00:00",
          "2020-08-01T00:00:00",
          "2020-09-01T00:00:00",
          "2020-10-01T00:00:00",
          "2020-11-01T00:00:00",
          "2020-12-01T00:00:00",
          "2021-01-01T00:00:00",
          "2021-02-01T00:00:00",
          "2021-03-01T00:00:00",
          "2021-04-01T00:00:00",
          "2021-05-01T00:00:00",
          "2021-06-01T00:00:00",
          "2021-07-01T00:00:00",
          "2021-08-01T00:00:00",
          "2021-09-01T00:00:00",
          "2021-10-01T00:00:00",
          "2021-11-01T00:00:00",
          "2021-12-01T00:00:00",
          "2022-01-01T00:00:00"
         ],
         "y": [
          1329472,
          1318752,
          1414724,
          1433632,
          1381416,
          1290232,
          1275304,
          1335164,
          1319240,
          1335460,
          1327736,
          1318160,
          1331576,
          1355384,
          1418312,
          1426176,
          1414008,
          1294672,
          1336176,
          1384780,
          1375880,
          1408640,
          1408204,
          1421744,
          1430776,
          1435804,
          1496528,
          1494376,
          1470364,
          1378588,
          1429084,
          1492904,
          1472224,
          1495892,
          1506620,
          1492188,
          1502756,
          1537180,
          1611820,
          1667728,
          1573312,
          1500368,
          1495780,
          1578768,
          1577520,
          1601740,
          1589584,
          1585656,
          1285528,
          1598848,
          1663212,
          1439616,
          1579588,
          1511568,
          1524360,
          1594676,
          1612708,
          1615592,
          1639708,
          1641248,
          1659584,
          1677020,
          1720652,
          1765712,
          1699052,
          1600284,
          1643388,
          1683624,
          1694104,
          1719640,
          1697248,
          1731476,
          1709868,
          1719000,
          1780412,
          1784032,
          1741588,
          1649136,
          1689256,
          1786600,
          1726140,
          1738940,
          1730828,
          1743892,
          1712812,
          1709812,
          1762416,
          1754008,
          1733536,
          1621136,
          1619308,
          1691048,
          1678840,
          1660064,
          1685116,
          1690616,
          1679788,
          1672280,
          1688804,
          1705968,
          1693056,
          1564876,
          1580888,
          1773265,
          1633436,
          1829799,
          1524645,
          1461470,
          1590125,
          1487721,
          1650099,
          1702928,
          1704785,
          1638553,
          1672906,
          1721642,
          1653261,
          1780084,
          1521233,
          1456963,
          1559801,
          1496135,
          681632,
          105228,
          122765,
          174954,
          198998,
          194876,
          202828,
          233368,
          208664,
          190821,
          174506,
          186102,
          232898,
          251324,
          279896,
          334434,
          375287,
          414514,
          458655,
          479018,
          466268,
          444311,
          364404
         ]
        },
        {
         "line": {
          "color": "rgba(0, 90, 181, 0.7)",
          "dash": "solid"
         },
         "name": "Forecast",
         "type": "scatter",
         "x": [
          "2010-01-01T00:00:00",
          "2010-02-01T00:00:00",
          "2010-03-01T00:00:00",
          "2010-04-01T00:00:00",
          "2010-05-01T00:00:00",
          "2010-06-01T00:00:00",
          "2010-07-01T00:00:00",
          "2010-08-01T00:00:00",
          "2010-09-01T00:00:00",
          "2010-10-01T00:00:00",
          "2010-11-01T00:00:00",
          "2010-12-01T00:00:00",
          "2011-01-01T00:00:00",
          "2011-02-01T00:00:00",
          "2011-03-01T00:00:00",
          "2011-04-01T00:00:00",
          "2011-05-01T00:00:00",
          "2011-06-01T00:00:00",
          "2011-07-01T00:00:00",
          "2011-08-01T00:00:00",
          "2011-09-01T00:00:00",
          "2011-10-01T00:00:00",
          "2011-11-01T00:00:00",
          "2011-12-01T00:00:00",
          "2012-01-01T00:00:00",
          "2012-02-01T00:00:00",
          "2012-03-01T00:00:00",
          "2012-04-01T00:00:00",
          "2012-05-01T00:00:00",
          "2012-06-01T00:00:00",
          "2012-07-01T00:00:00",
          "2012-08-01T00:00:00",
          "2012-09-01T00:00:00",
          "2012-10-01T00:00:00",
          "2012-11-01T00:00:00",
          "2012-12-01T00:00:00",
          "2013-01-01T00:00:00",
          "2013-02-01T00:00:00",
          "2013-03-01T00:00:00",
          "2013-04-01T00:00:00",
          "2013-05-01T00:00:00",
          "2013-06-01T00:00:00",
          "2013-07-01T00:00:00",
          "2013-08-01T00:00:00",
          "2013-09-01T00:00:00",
          "2013-10-01T00:00:00",
          "2013-11-01T00:00:00",
          "2013-12-01T00:00:00",
          "2014-01-01T00:00:00",
          "2014-02-01T00:00:00",
          "2014-03-01T00:00:00",
          "2014-04-01T00:00:00",
          "2014-05-01T00:00:00",
          "2014-06-01T00:00:00",
          "2014-07-01T00:00:00",
          "2014-08-01T00:00:00",
          "2014-09-01T00:00:00",
          "2014-10-01T00:00:00",
          "2014-11-01T00:00:00",
          "2014-12-01T00:00:00",
          "2015-01-01T00:00:00",
          "2015-02-01T00:00:00",
          "2015-03-01T00:00:00",
          "2015-04-01T00:00:00",
          "2015-05-01T00:00:00",
          "2015-06-01T00:00:00",
          "2015-07-01T00:00:00",
          "2015-08-01T00:00:00",
          "2015-09-01T00:00:00",
          "2015-10-01T00:00:00",
          "2015-11-01T00:00:00",
          "2015-12-01T00:00:00",
          "2016-01-01T00:00:00",
          "2016-02-01T00:00:00",
          "2016-03-01T00:00:00",
          "2016-04-01T00:00:00",
          "2016-05-01T00:00:00",
          "2016-06-01T00:00:00",
          "2016-07-01T00:00:00",
          "2016-08-01T00:00:00",
          "2016-09-01T00:00:00",
          "2016-10-01T00:00:00",
          "2016-11-01T00:00:00",
          "2016-12-01T00:00:00",
          "2017-01-01T00:00:00",
          "2017-02-01T00:00:00",
          "2017-03-01T00:00:00",
          "2017-04-01T00:00:00",
          "2017-05-01T00:00:00",
          "2017-06-01T00:00:00",
          "2017-07-01T00:00:00",
          "2017-08-01T00:00:00",
          "2017-09-01T00:00:00",
          "2017-10-01T00:00:00",
          "2017-11-01T00:00:00",
          "2017-12-01T00:00:00",
          "2018-01-01T00:00:00",
          "2018-02-01T00:00:00",
          "2018-03-01T00:00:00",
          "2018-04-01T00:00:00",
          "2018-05-01T00:00:00",
          "2018-06-01T00:00:00",
          "2018-07-01T00:00:00",
          "2018-08-01T00:00:00",
          "2018-09-01T00:00:00",
          "2018-10-01T00:00:00",
          "2018-11-01T00:00:00",
          "2018-12-01T00:00:00",
          "2019-01-01T00:00:00",
          "2019-02-01T00:00:00",
          "2019-03-01T00:00:00",
          "2019-04-01T00:00:00",
          "2019-05-01T00:00:00",
          "2019-06-01T00:00:00",
          "2019-07-01T00:00:00",
          "2019-08-01T00:00:00",
          "2019-09-01T00:00:00",
          "2019-10-01T00:00:00",
          "2019-11-01T00:00:00",
          "2019-12-01T00:00:00",
          "2020-01-01T00:00:00",
          "2020-02-01T00:00:00",
          "2020-03-01T00:00:00",
          "2020-04-01T00:00:00",
          "2020-05-01T00:00:00",
          "2020-06-01T00:00:00",
          "2020-07-01T00:00:00",
          "2020-08-01T00:00:00",
          "2020-09-01T00:00:00",
          "2020-10-01T00:00:00",
          "2020-11-01T00:00:00",
          "2020-12-01T00:00:00",
          "2021-01-01T00:00:00",
          "2021-02-01T00:00:00",
          "2021-03-01T00:00:00",
          "2021-04-01T00:00:00",
          "2021-05-01T00:00:00",
          "2021-06-01T00:00:00",
          "2021-07-01T00:00:00",
          "2021-08-01T00:00:00",
          "2021-09-01T00:00:00",
          "2021-10-01T00:00:00",
          "2021-11-01T00:00:00",
          "2021-12-01T00:00:00",
          "2022-01-01T00:00:00"
         ],
         "y": [
          1443918.804962388,
          1443858.3054196953,
          1443794.6195145801,
          1443777.8292390693,
          1443732.0022932764,
          1443664.1251024585,
          1443648.0444019714,
          1443618.5360229572,
          1443565.1746897157,
          1443527.1652602926,
          1443491.9038767247,
          1443409.1409820865,
          1443374.5400773587,
          1443345.7906586607,
          1443307.421553259,
          1443263.967609596,
          1443246.543449962,
          1443197.0450706147,
          1443136.4092588434,
          1443095.2832598186,
          1443027.3921343489,
          1443015.5301171648,
          1442980.2687335967,
          1442897.5058389585,
          1442887.3421160376,
          1442835.1538600614,
          1442794.6144634748,
          1442753.6071910718,
          1442715.9862438121,
          1442666.0067225792,
          1442624.0694157656,
          1442580.7341987246,
          1442539.6354824102,
          1442479.105442255,
          1442468.3999671158,
          1442385.7519692087,
          1442383.8995330045,
          1442323.3999903116,
          1442284.151267003,
          1442218.5880861713,
          1442205.2894239873,
          1442155.1911761325,
          1442113.1389725877,
          1442069.6850289248,
          1442029.7289987905,
          1441992.2598309088,
          1441948.805887246,
          1441874.2355527028,
          1441872.2643898765,
          1441816.47579291,
          1441772.5161238753,
          1441729.0621802122,
          1441693.6542808595,
          1441657.5015976534,
          1441601.50382946,
          1441562.088060867,
          1441518.912301688,
          1441480.624687781,
          1441437.1707441183,
          1441362.6004095748,
          1441352.4366866539,
          1441300.1297040558,
          1441260.8809807473,
          1441234.6173755594,
          1441182.0191377315,
          1441131.9208898768,
          1441081.676126237,
          1441038.2221825742,
          1440978.5236171994,
          1440968.989544653,
          1440933.7281610852,
          1440850.965266447,
          1440848.9941036208,
          1440788.61328755,
          1440748.073890963,
          1440704.7386739224,
          1440683.3912359492,
          1440624.104193645,
          1440577.5288432539,
          1440536.5215708509,
          1440490.8584091722,
          1440457.0020515502,
          1440425.8975696743,
          1440339.211396697,
          1440329.1664003981,
          1440279.5547422525,
          1440237.6106944915,
          1440194.1567508285,
          1440158.7488514758,
          1440112.688778691,
          1440066.5984000762,
          1440023.1444564133,
          1439993.636077399,
          1439945.7192583974,
          1439910.4578748292,
          1439830.022924829,
          1439825.7238173648,
          1439765.224274672,
          1439739.9211160124,
          1439701.4577824094,
          1439647.1137083478,
          1439597.015460493,
          1439554.9632569482,
          1439511.5093132854,
          1439470.2918703489,
          1439434.0841152694,
          1439398.8227317014,
          1439316.0598370633,
          1439314.088674237,
          1439253.589131544,
          1439214.3404082358,
          1439170.8864645727,
          1439135.47856522,
          1439089.4184924352,
          1439043.3281138204,
          1438999.8741701574,
          1438959.918140023,
          1438922.4489721416,
          1438887.1875885734,
          1438804.4246939353,
          1438802.453531109,
          1438742.0727150382,
          1438701.5333184516,
          1438658.1981014106,
          1438622.905098789,
          1438550.8163403873,
          1438522.7957106475,
          1438479.4604936067,
          1438419.8806548538,
          1438410.4614790387,
          1438375.3188220926,
          1438292.6708241855,
          1438290.8183879813,
          1438230.3188452884,
          1438191.0701219798,
          1438149.8426646623,
          1438104.0157188694,
          1438036.1385280516,
          1438020.0578275644,
          1437990.5494485504,
          1437937.1881153088,
          1437899.1786858859,
          1437863.9173023177,
          1437781.1544076796,
          1437746.5535029517
         ]
        }
       ],
       "layout": {
        "annotations": [
         {
          "arrowhead": 0,
          "ax": -60,
          "ay": 0,
          "showarrow": true,
          "text": "Train End Date",
          "x": "2021-03-01T00:00:00",
          "xref": "x",
          "y": 0.97,
          "yref": "paper"
         }
        ],
        "legend": {
         "traceorder": "reversed"
        },
        "shapes": [
         {
          "line": {
           "color": "rgba(100, 100, 100, 0.9)",
           "width": 1
          },
          "type": "line",
          "x0": "2021-03-01T00:00:00",
          "x1": "2021-03-01T00:00:00",
          "xref": "x",
          "y0": 0,
          "y1": 1,
          "yref": "paper"
         }
        ],
        "showlegend": true,
        "template": {
         "data": {
          "bar": [
           {
            "error_x": {
             "color": "#2a3f5f"
            },
            "error_y": {
             "color": "#2a3f5f"
            },
            "marker": {
             "line": {
              "color": "#E5ECF6",
              "width": 0.5
             },
             "pattern": {
              "fillmode": "overlay",
              "size": 10,
              "solidity": 0.2
             }
            },
            "type": "bar"
           }
          ],
          "barpolar": [
           {
            "marker": {
             "line": {
              "color": "#E5ECF6",
              "width": 0.5
             },
             "pattern": {
              "fillmode": "overlay",
              "size": 10,
              "solidity": 0.2
             }
            },
            "type": "barpolar"
           }
          ],
          "carpet": [
           {
            "aaxis": {
             "endlinecolor": "#2a3f5f",
             "gridcolor": "white",
             "linecolor": "white",
             "minorgridcolor": "white",
             "startlinecolor": "#2a3f5f"
            },
            "baxis": {
             "endlinecolor": "#2a3f5f",
             "gridcolor": "white",
             "linecolor": "white",
             "minorgridcolor": "white",
             "startlinecolor": "#2a3f5f"
            },
            "type": "carpet"
           }
          ],
          "choropleth": [
           {
            "colorbar": {
             "outlinewidth": 0,
             "ticks": ""
            },
            "type": "choropleth"
           }
          ],
          "contour": [
           {
            "colorbar": {
             "outlinewidth": 0,
             "ticks": ""
            },
            "colorscale": [
             [
              0,
              "#0d0887"
             ],
             [
              0.1111111111111111,
              "#46039f"
             ],
             [
              0.2222222222222222,
              "#7201a8"
             ],
             [
              0.3333333333333333,
              "#9c179e"
             ],
             [
              0.4444444444444444,
              "#bd3786"
             ],
             [
              0.5555555555555556,
              "#d8576b"
             ],
             [
              0.6666666666666666,
              "#ed7953"
             ],
             [
              0.7777777777777778,
              "#fb9f3a"
             ],
             [
              0.8888888888888888,
              "#fdca26"
             ],
             [
              1,
              "#f0f921"
             ]
            ],
            "type": "contour"
           }
          ],
          "contourcarpet": [
           {
            "colorbar": {
             "outlinewidth": 0,
             "ticks": ""
            },
            "type": "contourcarpet"
           }
          ],
          "heatmap": [
           {
            "colorbar": {
             "outlinewidth": 0,
             "ticks": ""
            },
            "colorscale": [
             [
              0,
              "#0d0887"
             ],
             [
              0.1111111111111111,
              "#46039f"
             ],
             [
              0.2222222222222222,
              "#7201a8"
             ],
             [
              0.3333333333333333,
              "#9c179e"
             ],
             [
              0.4444444444444444,
              "#bd3786"
             ],
             [
              0.5555555555555556,
              "#d8576b"
             ],
             [
              0.6666666666666666,
              "#ed7953"
             ],
             [
              0.7777777777777778,
              "#fb9f3a"
             ],
             [
              0.8888888888888888,
              "#fdca26"
             ],
             [
              1,
              "#f0f921"
             ]
            ],
            "type": "heatmap"
           }
          ],
          "heatmapgl": [
           {
            "colorbar": {
             "outlinewidth": 0,
             "ticks": ""
            },
            "colorscale": [
             [
              0,
              "#0d0887"
             ],
             [
              0.1111111111111111,
              "#46039f"
             ],
             [
              0.2222222222222222,
              "#7201a8"
             ],
             [
              0.3333333333333333,
              "#9c179e"
             ],
             [
              0.4444444444444444,
              "#bd3786"
             ],
             [
              0.5555555555555556,
              "#d8576b"
             ],
             [
              0.6666666666666666,
              "#ed7953"
             ],
             [
              0.7777777777777778,
              "#fb9f3a"
             ],
             [
              0.8888888888888888,
              "#fdca26"
             ],
             [
              1,
              "#f0f921"
             ]
            ],
            "type": "heatmapgl"
           }
          ],
          "histogram": [
           {
            "marker": {
             "pattern": {
              "fillmode": "overlay",
              "size": 10,
              "solidity": 0.2
             }
            },
            "type": "histogram"
           }
          ],
          "histogram2d": [
           {
            "colorbar": {
             "outlinewidth": 0,
             "ticks": ""
            },
            "colorscale": [
             [
              0,
              "#0d0887"
             ],
             [
              0.1111111111111111,
              "#46039f"
             ],
             [
              0.2222222222222222,
              "#7201a8"
             ],
             [
              0.3333333333333333,
              "#9c179e"
             ],
             [
              0.4444444444444444,
              "#bd3786"
             ],
             [
              0.5555555555555556,
              "#d8576b"
             ],
             [
              0.6666666666666666,
              "#ed7953"
             ],
             [
              0.7777777777777778,
              "#fb9f3a"
             ],
             [
              0.8888888888888888,
              "#fdca26"
             ],
             [
              1,
              "#f0f921"
             ]
            ],
            "type": "histogram2d"
           }
          ],
          "histogram2dcontour": [
           {
            "colorbar": {
             "outlinewidth": 0,
             "ticks": ""
            },
            "colorscale": [
             [
              0,
              "#0d0887"
             ],
             [
              0.1111111111111111,
              "#46039f"
             ],
             [
              0.2222222222222222,
              "#7201a8"
             ],
             [
              0.3333333333333333,
              "#9c179e"
             ],
             [
              0.4444444444444444,
              "#bd3786"
             ],
             [
              0.5555555555555556,
              "#d8576b"
             ],
             [
              0.6666666666666666,
              "#ed7953"
             ],
             [
              0.7777777777777778,
              "#fb9f3a"
             ],
             [
              0.8888888888888888,
              "#fdca26"
             ],
             [
              1,
              "#f0f921"
             ]
            ],
            "type": "histogram2dcontour"
           }
          ],
          "mesh3d": [
           {
            "colorbar": {
             "outlinewidth": 0,
             "ticks": ""
            },
            "type": "mesh3d"
           }
          ],
          "parcoords": [
           {
            "line": {
             "colorbar": {
              "outlinewidth": 0,
              "ticks": ""
             }
            },
            "type": "parcoords"
           }
          ],
          "pie": [
           {
            "automargin": true,
            "type": "pie"
           }
          ],
          "scatter": [
           {
            "fillpattern": {
             "fillmode": "overlay",
             "size": 10,
             "solidity": 0.2
            },
            "type": "scatter"
           }
          ],
          "scatter3d": [
           {
            "line": {
             "colorbar": {
              "outlinewidth": 0,
              "ticks": ""
             }
            },
            "marker": {
             "colorbar": {
              "outlinewidth": 0,
              "ticks": ""
             }
            },
            "type": "scatter3d"
           }
          ],
          "scattercarpet": [
           {
            "marker": {
             "colorbar": {
              "outlinewidth": 0,
              "ticks": ""
             }
            },
            "type": "scattercarpet"
           }
          ],
          "scattergeo": [
           {
            "marker": {
             "colorbar": {
              "outlinewidth": 0,
              "ticks": ""
             }
            },
            "type": "scattergeo"
           }
          ],
          "scattergl": [
           {
            "marker": {
             "colorbar": {
              "outlinewidth": 0,
              "ticks": ""
             }
            },
            "type": "scattergl"
           }
          ],
          "scattermapbox": [
           {
            "marker": {
             "colorbar": {
              "outlinewidth": 0,
              "ticks": ""
             }
            },
            "type": "scattermapbox"
           }
          ],
          "scatterpolar": [
           {
            "marker": {
             "colorbar": {
              "outlinewidth": 0,
              "ticks": ""
             }
            },
            "type": "scatterpolar"
           }
          ],
          "scatterpolargl": [
           {
            "marker": {
             "colorbar": {
              "outlinewidth": 0,
              "ticks": ""
             }
            },
            "type": "scatterpolargl"
           }
          ],
          "scatterternary": [
           {
            "marker": {
             "colorbar": {
              "outlinewidth": 0,
              "ticks": ""
             }
            },
            "type": "scatterternary"
           }
          ],
          "surface": [
           {
            "colorbar": {
             "outlinewidth": 0,
             "ticks": ""
            },
            "colorscale": [
             [
              0,
              "#0d0887"
             ],
             [
              0.1111111111111111,
              "#46039f"
             ],
             [
              0.2222222222222222,
              "#7201a8"
             ],
             [
              0.3333333333333333,
              "#9c179e"
             ],
             [
              0.4444444444444444,
              "#bd3786"
             ],
             [
              0.5555555555555556,
              "#d8576b"
             ],
             [
              0.6666666666666666,
              "#ed7953"
             ],
             [
              0.7777777777777778,
              "#fb9f3a"
             ],
             [
              0.8888888888888888,
              "#fdca26"
             ],
             [
              1,
              "#f0f921"
             ]
            ],
            "type": "surface"
           }
          ],
          "table": [
           {
            "cells": {
             "fill": {
              "color": "#EBF0F8"
             },
             "line": {
              "color": "white"
             }
            },
            "header": {
             "fill": {
              "color": "#C8D4E3"
             },
             "line": {
              "color": "white"
             }
            },
            "type": "table"
           }
          ]
         },
         "layout": {
          "annotationdefaults": {
           "arrowcolor": "#2a3f5f",
           "arrowhead": 0,
           "arrowwidth": 1
          },
          "autotypenumbers": "strict",
          "coloraxis": {
           "colorbar": {
            "outlinewidth": 0,
            "ticks": ""
           }
          },
          "colorscale": {
           "diverging": [
            [
             0,
             "#8e0152"
            ],
            [
             0.1,
             "#c51b7d"
            ],
            [
             0.2,
             "#de77ae"
            ],
            [
             0.3,
             "#f1b6da"
            ],
            [
             0.4,
             "#fde0ef"
            ],
            [
             0.5,
             "#f7f7f7"
            ],
            [
             0.6,
             "#e6f5d0"
            ],
            [
             0.7,
             "#b8e186"
            ],
            [
             0.8,
             "#7fbc41"
            ],
            [
             0.9,
             "#4d9221"
            ],
            [
             1,
             "#276419"
            ]
           ],
           "sequential": [
            [
             0,
             "#0d0887"
            ],
            [
             0.1111111111111111,
             "#46039f"
            ],
            [
             0.2222222222222222,
             "#7201a8"
            ],
            [
             0.3333333333333333,
             "#9c179e"
            ],
            [
             0.4444444444444444,
             "#bd3786"
            ],
            [
             0.5555555555555556,
             "#d8576b"
            ],
            [
             0.6666666666666666,
             "#ed7953"
            ],
            [
             0.7777777777777778,
             "#fb9f3a"
            ],
            [
             0.8888888888888888,
             "#fdca26"
            ],
            [
             1,
             "#f0f921"
            ]
           ],
           "sequentialminus": [
            [
             0,
             "#0d0887"
            ],
            [
             0.1111111111111111,
             "#46039f"
            ],
            [
             0.2222222222222222,
             "#7201a8"
            ],
            [
             0.3333333333333333,
             "#9c179e"
            ],
            [
             0.4444444444444444,
             "#bd3786"
            ],
            [
             0.5555555555555556,
             "#d8576b"
            ],
            [
             0.6666666666666666,
             "#ed7953"
            ],
            [
             0.7777777777777778,
             "#fb9f3a"
            ],
            [
             0.8888888888888888,
             "#fdca26"
            ],
            [
             1,
             "#f0f921"
            ]
           ]
          },
          "colorway": [
           "#636efa",
           "#EF553B",
           "#00cc96",
           "#ab63fa",
           "#FFA15A",
           "#19d3f3",
           "#FF6692",
           "#B6E880",
           "#FF97FF",
           "#FECB52"
          ],
          "font": {
           "color": "#2a3f5f"
          },
          "geo": {
           "bgcolor": "white",
           "lakecolor": "white",
           "landcolor": "#E5ECF6",
           "showlakes": true,
           "showland": true,
           "subunitcolor": "white"
          },
          "hoverlabel": {
           "align": "left"
          },
          "hovermode": "closest",
          "mapbox": {
           "style": "light"
          },
          "paper_bgcolor": "white",
          "plot_bgcolor": "#E5ECF6",
          "polar": {
           "angularaxis": {
            "gridcolor": "white",
            "linecolor": "white",
            "ticks": ""
           },
           "bgcolor": "#E5ECF6",
           "radialaxis": {
            "gridcolor": "white",
            "linecolor": "white",
            "ticks": ""
           }
          },
          "scene": {
           "xaxis": {
            "backgroundcolor": "#E5ECF6",
            "gridcolor": "white",
            "gridwidth": 2,
            "linecolor": "white",
            "showbackground": true,
            "ticks": "",
            "zerolinecolor": "white"
           },
           "yaxis": {
            "backgroundcolor": "#E5ECF6",
            "gridcolor": "white",
            "gridwidth": 2,
            "linecolor": "white",
            "showbackground": true,
            "ticks": "",
            "zerolinecolor": "white"
           },
           "zaxis": {
            "backgroundcolor": "#E5ECF6",
            "gridcolor": "white",
            "gridwidth": 2,
            "linecolor": "white",
            "showbackground": true,
            "ticks": "",
            "zerolinecolor": "white"
           }
          },
          "shapedefaults": {
           "line": {
            "color": "#2a3f5f"
           }
          },
          "ternary": {
           "aaxis": {
            "gridcolor": "white",
            "linecolor": "white",
            "ticks": ""
           },
           "baxis": {
            "gridcolor": "white",
            "linecolor": "white",
            "ticks": ""
           },
           "bgcolor": "#E5ECF6",
           "caxis": {
            "gridcolor": "white",
            "linecolor": "white",
            "ticks": ""
           }
          },
          "title": {
           "x": 0.05
          },
          "xaxis": {
           "automargin": true,
           "gridcolor": "white",
           "linecolor": "white",
           "ticks": "",
           "title": {
            "standoff": 15
           },
           "zerolinecolor": "white",
           "zerolinewidth": 2
          },
          "yaxis": {
           "automargin": true,
           "gridcolor": "white",
           "linecolor": "white",
           "ticks": "",
           "title": {
            "standoff": 15
           },
           "zerolinecolor": "white",
           "zerolinewidth": 2
          }
         }
        },
        "title": {
         "text": "Forecast vs Actual",
         "x": 0.5
        },
        "xaxis": {
         "title": {
          "text": "ts"
         }
        },
        "yaxis": {
         "title": {
          "text": "y"
         }
        }
       }
      }
     },
     "metadata": {},
     "output_type": "display_data"
    }
   ],
   "source": [
    " # Backtest: plot the historical forecast on the holdout test set. You can zoom in to see how it performed in any given period.\n",
    " backtest = result.backtest\n",
    " fig = backtest.plot()\n",
    " plotly.io.show(fig)"
   ]
  },
  {
   "cell_type": "code",
   "execution_count": 167,
   "metadata": {},
   "outputs": [
    {
     "data": {
      "text/html": [
       "<div>\n",
       "<style scoped>\n",
       "    .dataframe tbody tr th:only-of-type {\n",
       "        vertical-align: middle;\n",
       "    }\n",
       "\n",
       "    .dataframe tbody tr th {\n",
       "        vertical-align: top;\n",
       "    }\n",
       "\n",
       "    .dataframe thead th {\n",
       "        text-align: right;\n",
       "    }\n",
       "</style>\n",
       "<table border=\"1\" class=\"dataframe\">\n",
       "  <thead>\n",
       "    <tr style=\"text-align: right;\">\n",
       "      <th></th>\n",
       "      <th>train</th>\n",
       "      <th>test</th>\n",
       "    </tr>\n",
       "  </thead>\n",
       "  <tbody>\n",
       "    <tr>\n",
       "      <th>CORR</th>\n",
       "      <td>0.281402</td>\n",
       "      <td>-0.688016</td>\n",
       "    </tr>\n",
       "    <tr>\n",
       "      <th>R2</th>\n",
       "      <td>0.002199</td>\n",
       "      <td>-193.110463</td>\n",
       "    </tr>\n",
       "    <tr>\n",
       "      <th>MSE</th>\n",
       "      <td>177889550589.818298</td>\n",
       "      <td>1110633739830.197998</td>\n",
       "    </tr>\n",
       "    <tr>\n",
       "      <th>RMSE</th>\n",
       "      <td>421769.546779</td>\n",
       "      <td>1053866.091982</td>\n",
       "    </tr>\n",
       "    <tr>\n",
       "      <th>MAE</th>\n",
       "      <td>267175.903651</td>\n",
       "      <td>1051141.75962</td>\n",
       "    </tr>\n",
       "    <tr>\n",
       "      <th>MedAE</th>\n",
       "      <td>179241.4016</td>\n",
       "      <td>1043104.803638</td>\n",
       "    </tr>\n",
       "    <tr>\n",
       "      <th>MAPE</th>\n",
       "      <td>73.777434</td>\n",
       "      <td>288.631924</td>\n",
       "    </tr>\n",
       "    <tr>\n",
       "      <th>MedAPE</th>\n",
       "      <td>11.891825</td>\n",
       "      <td>265.044382</td>\n",
       "    </tr>\n",
       "    <tr>\n",
       "      <th>sMAPE</th>\n",
       "      <td>12.011315</td>\n",
       "      <td>57.880942</td>\n",
       "    </tr>\n",
       "    <tr>\n",
       "      <th>Q80</th>\n",
       "      <td>133587.951825</td>\n",
       "      <td>210228.351924</td>\n",
       "    </tr>\n",
       "    <tr>\n",
       "      <th>Q95</th>\n",
       "      <td>133587.951825</td>\n",
       "      <td>52557.087981</td>\n",
       "    </tr>\n",
       "    <tr>\n",
       "      <th>Q99</th>\n",
       "      <td>133587.951825</td>\n",
       "      <td>10511.417596</td>\n",
       "    </tr>\n",
       "    <tr>\n",
       "      <th>OutsideTolerance1p</th>\n",
       "      <td>0.962963</td>\n",
       "      <td>1.0</td>\n",
       "    </tr>\n",
       "    <tr>\n",
       "      <th>OutsideTolerance2p</th>\n",
       "      <td>0.918519</td>\n",
       "      <td>1.0</td>\n",
       "    </tr>\n",
       "    <tr>\n",
       "      <th>OutsideTolerance3p</th>\n",
       "      <td>0.881481</td>\n",
       "      <td>1.0</td>\n",
       "    </tr>\n",
       "    <tr>\n",
       "      <th>OutsideTolerance4p</th>\n",
       "      <td>0.814815</td>\n",
       "      <td>1.0</td>\n",
       "    </tr>\n",
       "    <tr>\n",
       "      <th>OutsideTolerance5p</th>\n",
       "      <td>0.762963</td>\n",
       "      <td>1.0</td>\n",
       "    </tr>\n",
       "    <tr>\n",
       "      <th>Outside Tolerance (fraction)</th>\n",
       "      <td>None</td>\n",
       "      <td>None</td>\n",
       "    </tr>\n",
       "    <tr>\n",
       "      <th>R2_null_model_score</th>\n",
       "      <td>None</td>\n",
       "      <td>None</td>\n",
       "    </tr>\n",
       "    <tr>\n",
       "      <th>Prediction Band Width (%)</th>\n",
       "      <td>181.905797</td>\n",
       "      <td>448.492755</td>\n",
       "    </tr>\n",
       "    <tr>\n",
       "      <th>Prediction Band Coverage (fraction)</th>\n",
       "      <td>0.911111</td>\n",
       "      <td>0.0</td>\n",
       "    </tr>\n",
       "    <tr>\n",
       "      <th>Coverage: Lower Band</th>\n",
       "      <td>0.22963</td>\n",
       "      <td>0.0</td>\n",
       "    </tr>\n",
       "    <tr>\n",
       "      <th>Coverage: Upper Band</th>\n",
       "      <td>0.681481</td>\n",
       "      <td>0.0</td>\n",
       "    </tr>\n",
       "    <tr>\n",
       "      <th>Coverage Diff: Actual_Coverage - Intended_Coverage</th>\n",
       "      <td>-0.038889</td>\n",
       "      <td>-0.95</td>\n",
       "    </tr>\n",
       "  </tbody>\n",
       "</table>\n",
       "</div>"
      ],
      "text/plain": [
       "                                                                  train  \\\n",
       "CORR                                                           0.281402   \n",
       "R2                                                             0.002199   \n",
       "MSE                                                 177889550589.818298   \n",
       "RMSE                                                      421769.546779   \n",
       "MAE                                                       267175.903651   \n",
       "MedAE                                                       179241.4016   \n",
       "MAPE                                                          73.777434   \n",
       "MedAPE                                                        11.891825   \n",
       "sMAPE                                                         12.011315   \n",
       "Q80                                                       133587.951825   \n",
       "Q95                                                       133587.951825   \n",
       "Q99                                                       133587.951825   \n",
       "OutsideTolerance1p                                             0.962963   \n",
       "OutsideTolerance2p                                             0.918519   \n",
       "OutsideTolerance3p                                             0.881481   \n",
       "OutsideTolerance4p                                             0.814815   \n",
       "OutsideTolerance5p                                             0.762963   \n",
       "Outside Tolerance (fraction)                                       None   \n",
       "R2_null_model_score                                                None   \n",
       "Prediction Band Width (%)                                    181.905797   \n",
       "Prediction Band Coverage (fraction)                            0.911111   \n",
       "Coverage: Lower Band                                            0.22963   \n",
       "Coverage: Upper Band                                           0.681481   \n",
       "Coverage Diff: Actual_Coverage - Intended_Coverage            -0.038889   \n",
       "\n",
       "                                                                    test  \n",
       "CORR                                                           -0.688016  \n",
       "R2                                                           -193.110463  \n",
       "MSE                                                 1110633739830.197998  \n",
       "RMSE                                                      1053866.091982  \n",
       "MAE                                                        1051141.75962  \n",
       "MedAE                                                     1043104.803638  \n",
       "MAPE                                                          288.631924  \n",
       "MedAPE                                                        265.044382  \n",
       "sMAPE                                                          57.880942  \n",
       "Q80                                                        210228.351924  \n",
       "Q95                                                         52557.087981  \n",
       "Q99                                                         10511.417596  \n",
       "OutsideTolerance1p                                                   1.0  \n",
       "OutsideTolerance2p                                                   1.0  \n",
       "OutsideTolerance3p                                                   1.0  \n",
       "OutsideTolerance4p                                                   1.0  \n",
       "OutsideTolerance5p                                                   1.0  \n",
       "Outside Tolerance (fraction)                                        None  \n",
       "R2_null_model_score                                                 None  \n",
       "Prediction Band Width (%)                                     448.492755  \n",
       "Prediction Band Coverage (fraction)                                  0.0  \n",
       "Coverage: Lower Band                                                 0.0  \n",
       "Coverage: Upper Band                                                 0.0  \n",
       "Coverage Diff: Actual_Coverage - Intended_Coverage                 -0.95  "
      ]
     },
     "execution_count": 167,
     "metadata": {},
     "output_type": "execute_result"
    }
   ],
   "source": [
    " # check historical evaluation metrics (on the historical training/test set).\n",
    " backtest_eval = defaultdict(list)\n",
    " for metric, value in backtest.train_evaluation.items():\n",
    "     backtest_eval[metric].append(value)\n",
    "     backtest_eval[metric].append(backtest.test_evaluation[metric])\n",
    " metrics = pd.DataFrame(backtest_eval, index=[\"train\", \"test\"]).T\n",
    " metrics"
   ]
  },
  {
   "cell_type": "markdown",
   "metadata": {},
   "source": [
    "ID      | MODEL   | DATA      | RMSE        | MSE       | MAE       | CV        | MAPE      | MASE      | AIC \n",
    "---     | ---     | ---        | ---       | ---       | ---       | ---       | ---       | ---       | ---  \n",
    "A       | PROPHET | < 2020   | 446 152   | 199 052 198 567| 375 686   |          \n",
    "B       | PROPHET | All BART   | 1 243 269   | 5 457 200 928 927| 1 181 450   |          \n",
    "C       | Greykite| All BART    | 911 443 | 830 729 769 011   |909 234 | | 205\n",
    "D       | Greykite| < 2020    | 1 053 866| 110 633 739 830  |1 051 141| | 5.25"
   ]
  },
  {
   "cell_type": "code",
   "execution_count": 168,
   "metadata": {},
   "outputs": [
    {
     "data": {
      "application/vnd.plotly.v1+json": {
       "config": {
        "plotlyServerURL": "https://plot.ly"
       },
       "data": [
        {
         "legendgroup": "interval",
         "line": {
          "color": "rgba(0, 90, 181, 0.5)",
          "width": 0
         },
         "mode": "lines",
         "name": "Lower Bound",
         "type": "scatter",
         "x": [
          "2010-01-01T00:00:00",
          "2010-02-01T00:00:00",
          "2010-03-01T00:00:00",
          "2010-04-01T00:00:00",
          "2010-05-01T00:00:00",
          "2010-06-01T00:00:00",
          "2010-07-01T00:00:00",
          "2010-08-01T00:00:00",
          "2010-09-01T00:00:00",
          "2010-10-01T00:00:00",
          "2010-11-01T00:00:00",
          "2010-12-01T00:00:00",
          "2011-01-01T00:00:00",
          "2011-02-01T00:00:00",
          "2011-03-01T00:00:00",
          "2011-04-01T00:00:00",
          "2011-05-01T00:00:00",
          "2011-06-01T00:00:00",
          "2011-07-01T00:00:00",
          "2011-08-01T00:00:00",
          "2011-09-01T00:00:00",
          "2011-10-01T00:00:00",
          "2011-11-01T00:00:00",
          "2011-12-01T00:00:00",
          "2012-01-01T00:00:00",
          "2012-02-01T00:00:00",
          "2012-03-01T00:00:00",
          "2012-04-01T00:00:00",
          "2012-05-01T00:00:00",
          "2012-06-01T00:00:00",
          "2012-07-01T00:00:00",
          "2012-08-01T00:00:00",
          "2012-09-01T00:00:00",
          "2012-10-01T00:00:00",
          "2012-11-01T00:00:00",
          "2012-12-01T00:00:00",
          "2013-01-01T00:00:00",
          "2013-02-01T00:00:00",
          "2013-03-01T00:00:00",
          "2013-04-01T00:00:00",
          "2013-05-01T00:00:00",
          "2013-06-01T00:00:00",
          "2013-07-01T00:00:00",
          "2013-08-01T00:00:00",
          "2013-09-01T00:00:00",
          "2013-10-01T00:00:00",
          "2013-11-01T00:00:00",
          "2013-12-01T00:00:00",
          "2014-01-01T00:00:00",
          "2014-02-01T00:00:00",
          "2014-03-01T00:00:00",
          "2014-04-01T00:00:00",
          "2014-05-01T00:00:00",
          "2014-06-01T00:00:00",
          "2014-07-01T00:00:00",
          "2014-08-01T00:00:00",
          "2014-09-01T00:00:00",
          "2014-10-01T00:00:00",
          "2014-11-01T00:00:00",
          "2014-12-01T00:00:00",
          "2015-01-01T00:00:00",
          "2015-02-01T00:00:00",
          "2015-03-01T00:00:00",
          "2015-04-01T00:00:00",
          "2015-05-01T00:00:00",
          "2015-06-01T00:00:00",
          "2015-07-01T00:00:00",
          "2015-08-01T00:00:00",
          "2015-09-01T00:00:00",
          "2015-10-01T00:00:00",
          "2015-11-01T00:00:00",
          "2015-12-01T00:00:00",
          "2016-01-01T00:00:00",
          "2016-02-01T00:00:00",
          "2016-03-01T00:00:00",
          "2016-04-01T00:00:00",
          "2016-05-01T00:00:00",
          "2016-06-01T00:00:00",
          "2016-07-01T00:00:00",
          "2016-08-01T00:00:00",
          "2016-09-01T00:00:00",
          "2016-10-01T00:00:00",
          "2016-11-01T00:00:00",
          "2016-12-01T00:00:00",
          "2017-01-01T00:00:00",
          "2017-02-01T00:00:00",
          "2017-03-01T00:00:00",
          "2017-04-01T00:00:00",
          "2017-05-01T00:00:00",
          "2017-06-01T00:00:00",
          "2017-07-01T00:00:00",
          "2017-08-01T00:00:00",
          "2017-09-01T00:00:00",
          "2017-10-01T00:00:00",
          "2017-11-01T00:00:00",
          "2017-12-01T00:00:00",
          "2018-01-01T00:00:00",
          "2018-02-01T00:00:00",
          "2018-03-01T00:00:00",
          "2018-04-01T00:00:00",
          "2018-05-01T00:00:00",
          "2018-06-01T00:00:00",
          "2018-07-01T00:00:00",
          "2018-08-01T00:00:00",
          "2018-09-01T00:00:00",
          "2018-10-01T00:00:00",
          "2018-11-01T00:00:00",
          "2018-12-01T00:00:00",
          "2019-01-01T00:00:00",
          "2019-02-01T00:00:00",
          "2019-03-01T00:00:00",
          "2019-04-01T00:00:00",
          "2019-05-01T00:00:00",
          "2019-06-01T00:00:00",
          "2019-07-01T00:00:00",
          "2019-08-01T00:00:00",
          "2019-09-01T00:00:00",
          "2019-10-01T00:00:00",
          "2019-11-01T00:00:00",
          "2019-12-01T00:00:00",
          "2020-01-01T00:00:00",
          "2020-02-01T00:00:00",
          "2020-03-01T00:00:00",
          "2020-04-01T00:00:00",
          "2020-05-01T00:00:00",
          "2020-06-01T00:00:00",
          "2020-07-01T00:00:00",
          "2020-08-01T00:00:00",
          "2020-09-01T00:00:00",
          "2020-10-01T00:00:00",
          "2020-11-01T00:00:00",
          "2020-12-01T00:00:00",
          "2021-01-01T00:00:00",
          "2021-02-01T00:00:00",
          "2021-03-01T00:00:00",
          "2021-04-01T00:00:00",
          "2021-05-01T00:00:00",
          "2021-06-01T00:00:00",
          "2021-07-01T00:00:00",
          "2021-08-01T00:00:00",
          "2021-09-01T00:00:00",
          "2021-10-01T00:00:00",
          "2021-11-01T00:00:00",
          "2021-12-01T00:00:00",
          "2022-01-01T00:00:00",
          "2022-02-01T00:00:00",
          "2022-03-01T00:00:00",
          "2022-04-01T00:00:00",
          "2022-05-01T00:00:00",
          "2022-06-01T00:00:00",
          "2022-07-01T00:00:00",
          "2022-08-01T00:00:00",
          "2022-09-01T00:00:00",
          "2022-10-01T00:00:00",
          "2022-11-01T00:00:00"
         ],
         "y": [
          419276.5088900302,
          419189.58922265354,
          419066.39805748337,
          418994.27219549334,
          418895.2949996069,
          418780.20911941957,
          418741.1092544738,
          418656.1846555313,
          418555.17536660796,
          418443.4674411847,
          418372.72464088025,
          418244.1847824871,
          418123.7896698972,
          418098.10466410173,
          418014.57170602283,
          417921.8858459322,
          417833.1358969519,
          417748.72852805303,
          417649.8079985699,
          417548.7298376453,
          417416.5690731113,
          417352.1661852808,
          417281.42338497634,
          417152.8835265832,
          417071.96331843664,
          417007.2399509009,
          416920.7707257061,
          416819.9458048362,
          416732.63413424813,
          416646.4545630198,
          416557.0036404049,
          416464.5710203694,
          416375.82062882744,
          416220.63847380294,
          416189.6238179968,
          416061.32903062436,
          416002.6051223187,
          415915.68545494205,
          415831.96919421526,
          415691.4161288468,
          415643.3342916812,
          415556.9014803984,
          415467.20548676234,
          415374.5196266719,
          415286.7889956741,
          415169.5636734732,
          415076.8778133828,
          414970.2810147756,
          414911.30386641505,
          414831.23621714767,
          414740.66793831135,
          414647.9820782207,
          414552.0330357775,
          414473.3614856424,
          414375.90423085843,
          414282.656203083,
          414192.6717627044,
          414078.2624175693,
          413985.5765574791,
          413878.9797588717,
          413798.05955072516,
          413733.0829431345,
          413649.36668240745,
          413568.40735779004,
          413460.7317798736,
          413374.2989685908,
          413262.65991516854,
          413169.97405507835,
          413059.7563503301,
          412986.9611616656,
          412916.2183613612,
          412787.6785029678,
          412728.70135460724,
          412642.0349272855,
          412555.56570209074,
          412463.13308205525,
          412375.19037178066,
          412282.71281410335,
          412191.7986167895,
          412090.97369591985,
          412006.9333767183,
          411894.90835463116,
          411823.85662669665,
          411696.1240070092,
          411615.4570389176,
          411553.90685065696,
          411466.76417059987,
          411374.0783105092,
          411278.129268066,
          411191.134289098,
          411102.00046314695,
          411009.3146030565,
          410924.390004114,
          410804.3586498578,
          410733.6158495534,
          410596.6836903258,
          410546.09884279966,
          410459.179175423,
          410383.2241758439,
          410285.5466778509,
          410186.8280121621,
          410100.3952008791,
          410010.69920724304,
          409918.0133471526,
          409829.00971555593,
          409713.0573939539,
          409642.31459364947,
          409513.77473525633,
          409454.79758689576,
          409367.8779195191,
          409284.16165879206,
          409191.47579870163,
          409095.5267562582,
          409008.5317772904,
          408919.39795133914,
          408826.71209124895,
          408738.98146025115,
          408621.75613805023,
          408551.0133377458,
          408422.4734793524,
          408363.49633099185,
          408276.8299036701,
          408190.36067847535,
          408097.92805843987,
          408002.22408701736,
          407868.17731051147,
          407804.65053338814,
          407712.21791335265,
          407602.25344865955,
          407529.7033310158,
          407459.21377076604,
          407330.9189833938,
          407272.1950750882,
          407185.2754077113,
          407101.5591469845,
          406989.9583805511,
          406890.98118466465,
          406775.8953044773,
          406736.79543953156,
          406651.87084058905,
          406550.8615516657,
          406439.1536262424,
          406368.410825938,
          406239.87096754485,
          406119.4758549549,
          406098.35886123264,
          406010.2578910806,
          405917.57203099015,
          405807.44118990866,
          405723.0338210098,
          405645.49418362766,
          405544.41602270305,
          405460.1224634468,
          405347.85237033875,
          405277.1095700343
         ]
        },
        {
         "fill": "tonexty",
         "fillcolor": "rgba(0, 90, 181, 0.15)",
         "legendgroup": "interval",
         "line": {
          "color": "rgba(0, 90, 181, 0.5)",
          "width": 0
         },
         "mode": "lines",
         "name": "Upper Bound",
         "type": "scatter",
         "x": [
          "2010-01-01T00:00:00",
          "2010-02-01T00:00:00",
          "2010-03-01T00:00:00",
          "2010-04-01T00:00:00",
          "2010-05-01T00:00:00",
          "2010-06-01T00:00:00",
          "2010-07-01T00:00:00",
          "2010-08-01T00:00:00",
          "2010-09-01T00:00:00",
          "2010-10-01T00:00:00",
          "2010-11-01T00:00:00",
          "2010-12-01T00:00:00",
          "2011-01-01T00:00:00",
          "2011-02-01T00:00:00",
          "2011-03-01T00:00:00",
          "2011-04-01T00:00:00",
          "2011-05-01T00:00:00",
          "2011-06-01T00:00:00",
          "2011-07-01T00:00:00",
          "2011-08-01T00:00:00",
          "2011-09-01T00:00:00",
          "2011-10-01T00:00:00",
          "2011-11-01T00:00:00",
          "2011-12-01T00:00:00",
          "2012-01-01T00:00:00",
          "2012-02-01T00:00:00",
          "2012-03-01T00:00:00",
          "2012-04-01T00:00:00",
          "2012-05-01T00:00:00",
          "2012-06-01T00:00:00",
          "2012-07-01T00:00:00",
          "2012-08-01T00:00:00",
          "2012-09-01T00:00:00",
          "2012-10-01T00:00:00",
          "2012-11-01T00:00:00",
          "2012-12-01T00:00:00",
          "2013-01-01T00:00:00",
          "2013-02-01T00:00:00",
          "2013-03-01T00:00:00",
          "2013-04-01T00:00:00",
          "2013-05-01T00:00:00",
          "2013-06-01T00:00:00",
          "2013-07-01T00:00:00",
          "2013-08-01T00:00:00",
          "2013-09-01T00:00:00",
          "2013-10-01T00:00:00",
          "2013-11-01T00:00:00",
          "2013-12-01T00:00:00",
          "2014-01-01T00:00:00",
          "2014-02-01T00:00:00",
          "2014-03-01T00:00:00",
          "2014-04-01T00:00:00",
          "2014-05-01T00:00:00",
          "2014-06-01T00:00:00",
          "2014-07-01T00:00:00",
          "2014-08-01T00:00:00",
          "2014-09-01T00:00:00",
          "2014-10-01T00:00:00",
          "2014-11-01T00:00:00",
          "2014-12-01T00:00:00",
          "2015-01-01T00:00:00",
          "2015-02-01T00:00:00",
          "2015-03-01T00:00:00",
          "2015-04-01T00:00:00",
          "2015-05-01T00:00:00",
          "2015-06-01T00:00:00",
          "2015-07-01T00:00:00",
          "2015-08-01T00:00:00",
          "2015-09-01T00:00:00",
          "2015-10-01T00:00:00",
          "2015-11-01T00:00:00",
          "2015-12-01T00:00:00",
          "2016-01-01T00:00:00",
          "2016-02-01T00:00:00",
          "2016-03-01T00:00:00",
          "2016-04-01T00:00:00",
          "2016-05-01T00:00:00",
          "2016-06-01T00:00:00",
          "2016-07-01T00:00:00",
          "2016-08-01T00:00:00",
          "2016-09-01T00:00:00",
          "2016-10-01T00:00:00",
          "2016-11-01T00:00:00",
          "2016-12-01T00:00:00",
          "2017-01-01T00:00:00",
          "2017-02-01T00:00:00",
          "2017-03-01T00:00:00",
          "2017-04-01T00:00:00",
          "2017-05-01T00:00:00",
          "2017-06-01T00:00:00",
          "2017-07-01T00:00:00",
          "2017-08-01T00:00:00",
          "2017-09-01T00:00:00",
          "2017-10-01T00:00:00",
          "2017-11-01T00:00:00",
          "2017-12-01T00:00:00",
          "2018-01-01T00:00:00",
          "2018-02-01T00:00:00",
          "2018-03-01T00:00:00",
          "2018-04-01T00:00:00",
          "2018-05-01T00:00:00",
          "2018-06-01T00:00:00",
          "2018-07-01T00:00:00",
          "2018-08-01T00:00:00",
          "2018-09-01T00:00:00",
          "2018-10-01T00:00:00",
          "2018-11-01T00:00:00",
          "2018-12-01T00:00:00",
          "2019-01-01T00:00:00",
          "2019-02-01T00:00:00",
          "2019-03-01T00:00:00",
          "2019-04-01T00:00:00",
          "2019-05-01T00:00:00",
          "2019-06-01T00:00:00",
          "2019-07-01T00:00:00",
          "2019-08-01T00:00:00",
          "2019-09-01T00:00:00",
          "2019-10-01T00:00:00",
          "2019-11-01T00:00:00",
          "2019-12-01T00:00:00",
          "2020-01-01T00:00:00",
          "2020-02-01T00:00:00",
          "2020-03-01T00:00:00",
          "2020-04-01T00:00:00",
          "2020-05-01T00:00:00",
          "2020-06-01T00:00:00",
          "2020-07-01T00:00:00",
          "2020-08-01T00:00:00",
          "2020-09-01T00:00:00",
          "2020-10-01T00:00:00",
          "2020-11-01T00:00:00",
          "2020-12-01T00:00:00",
          "2021-01-01T00:00:00",
          "2021-02-01T00:00:00",
          "2021-03-01T00:00:00",
          "2021-04-01T00:00:00",
          "2021-05-01T00:00:00",
          "2021-06-01T00:00:00",
          "2021-07-01T00:00:00",
          "2021-08-01T00:00:00",
          "2021-09-01T00:00:00",
          "2021-10-01T00:00:00",
          "2021-11-01T00:00:00",
          "2021-12-01T00:00:00",
          "2022-01-01T00:00:00",
          "2022-02-01T00:00:00",
          "2022-03-01T00:00:00",
          "2022-04-01T00:00:00",
          "2022-05-01T00:00:00",
          "2022-06-01T00:00:00",
          "2022-07-01T00:00:00",
          "2022-08-01T00:00:00",
          "2022-09-01T00:00:00",
          "2022-10-01T00:00:00",
          "2022-11-01T00:00:00"
         ],
         "y": [
          2330508.8291573003,
          2330421.909489924,
          2330298.7183247535,
          2330226.5924627637,
          2330127.615266877,
          2330012.52938669,
          2329973.429521744,
          2329888.5049228016,
          2329787.4956338783,
          2329675.7877084548,
          2329605.0449081506,
          2329476.5050497577,
          2329356.1099371677,
          2329330.424931372,
          2329246.8919732934,
          2329154.2061132025,
          2329065.456164222,
          2328981.0487953234,
          2328882.12826584,
          2328781.0501049156,
          2328648.8893403816,
          2328584.486452551,
          2328513.743652247,
          2328385.2037938535,
          2328304.2835857067,
          2328239.560218171,
          2328153.0909929764,
          2328052.2660721065,
          2327964.954401518,
          2327878.77483029,
          2327789.323907675,
          2327696.8912876397,
          2327608.1408960978,
          2327452.9587410735,
          2327421.9440852674,
          2327293.649297895,
          2327234.925389589,
          2327148.0057222126,
          2327064.2894614856,
          2326923.736396117,
          2326875.6545589515,
          2326789.2217476685,
          2326699.5257540327,
          2326606.8398939422,
          2326519.109262944,
          2326401.8839407433,
          2326309.1980806533,
          2326202.601282046,
          2326143.6241336856,
          2326063.556484418,
          2325972.988205582,
          2325880.302345491,
          2325784.353303048,
          2325705.6817529127,
          2325608.2244981285,
          2325514.976470353,
          2325424.9920299747,
          2325310.5826848396,
          2325217.896824749,
          2325111.300026142,
          2325030.3798179952,
          2324965.403210405,
          2324881.6869496778,
          2324800.7276250604,
          2324693.0520471437,
          2324606.619235861,
          2324494.980182439,
          2324402.2943223487,
          2324292.0766176004,
          2324219.281428936,
          2324148.5386286313,
          2324019.998770238,
          2323961.0216218773,
          2323874.3551945556,
          2323787.8859693613,
          2323695.453349326,
          2323607.510639051,
          2323515.0330813737,
          2323424.1188840596,
          2323323.29396319,
          2323239.2536439886,
          2323127.2286219015,
          2323056.176893967,
          2322928.4442742793,
          2322847.777306188,
          2322786.2271179273,
          2322699.0844378704,
          2322606.3985777795,
          2322510.4495353363,
          2322423.4545563683,
          2322334.320730417,
          2322241.634870327,
          2322156.7102713846,
          2322036.678917128,
          2321965.936116824,
          2321829.003957596,
          2321778.41911007,
          2321691.4994426933,
          2321615.544443114,
          2321517.8669451214,
          2321419.148279432,
          2321332.7154681496,
          2321243.0194745134,
          2321150.333614423,
          2321061.3299828265,
          2320945.3776612245,
          2320874.63486092,
          2320746.0950025264,
          2320687.117854166,
          2320600.1981867896,
          2320516.481926062,
          2320423.796065972,
          2320327.8470235285,
          2320240.852044561,
          2320151.7182186097,
          2320059.0323585193,
          2319971.3017275212,
          2319854.0764053203,
          2319783.333605016,
          2319654.7937466227,
          2319595.816598262,
          2319509.1501709404,
          2319422.6809457457,
          2319330.24832571,
          2319234.544354288,
          2319100.497577782,
          2319036.9708006587,
          2318944.538180623,
          2318834.57371593,
          2318762.0235982863,
          2318691.534038036,
          2318563.239250664,
          2318504.5153423585,
          2318417.5956749814,
          2318333.879414255,
          2318222.2786478214,
          2318123.301451935,
          2318008.2155717476,
          2317969.115706802,
          2317884.1911078594,
          2317783.181818936,
          2317671.473893513,
          2317600.7310932083,
          2317472.191234815,
          2317351.796122225,
          2317330.679128503,
          2317242.5781583507,
          2317149.8922982607,
          2317039.7614571787,
          2316955.3540882803,
          2316877.814450898,
          2316776.7362899734,
          2316692.4427307174,
          2316580.172637609,
          2316509.4298373046
         ]
        },
        {
         "line": {
          "color": "rgba(250, 43, 20, 0.7)"
         },
         "marker": {
          "color": "rgba(250, 43, 20, 0.7)",
          "size": 2
         },
         "mode": "lines+markers",
         "name": "Actual",
         "opacity": 1,
         "type": "scatter",
         "x": [
          "2010-01-01T00:00:00",
          "2010-02-01T00:00:00",
          "2010-03-01T00:00:00",
          "2010-04-01T00:00:00",
          "2010-05-01T00:00:00",
          "2010-06-01T00:00:00",
          "2010-07-01T00:00:00",
          "2010-08-01T00:00:00",
          "2010-09-01T00:00:00",
          "2010-10-01T00:00:00",
          "2010-11-01T00:00:00",
          "2010-12-01T00:00:00",
          "2011-01-01T00:00:00",
          "2011-02-01T00:00:00",
          "2011-03-01T00:00:00",
          "2011-04-01T00:00:00",
          "2011-05-01T00:00:00",
          "2011-06-01T00:00:00",
          "2011-07-01T00:00:00",
          "2011-08-01T00:00:00",
          "2011-09-01T00:00:00",
          "2011-10-01T00:00:00",
          "2011-11-01T00:00:00",
          "2011-12-01T00:00:00",
          "2012-01-01T00:00:00",
          "2012-02-01T00:00:00",
          "2012-03-01T00:00:00",
          "2012-04-01T00:00:00",
          "2012-05-01T00:00:00",
          "2012-06-01T00:00:00",
          "2012-07-01T00:00:00",
          "2012-08-01T00:00:00",
          "2012-09-01T00:00:00",
          "2012-10-01T00:00:00",
          "2012-11-01T00:00:00",
          "2012-12-01T00:00:00",
          "2013-01-01T00:00:00",
          "2013-02-01T00:00:00",
          "2013-03-01T00:00:00",
          "2013-04-01T00:00:00",
          "2013-05-01T00:00:00",
          "2013-06-01T00:00:00",
          "2013-07-01T00:00:00",
          "2013-08-01T00:00:00",
          "2013-09-01T00:00:00",
          "2013-10-01T00:00:00",
          "2013-11-01T00:00:00",
          "2013-12-01T00:00:00",
          "2014-01-01T00:00:00",
          "2014-02-01T00:00:00",
          "2014-03-01T00:00:00",
          "2014-04-01T00:00:00",
          "2014-05-01T00:00:00",
          "2014-06-01T00:00:00",
          "2014-07-01T00:00:00",
          "2014-08-01T00:00:00",
          "2014-09-01T00:00:00",
          "2014-10-01T00:00:00",
          "2014-11-01T00:00:00",
          "2014-12-01T00:00:00",
          "2015-01-01T00:00:00",
          "2015-02-01T00:00:00",
          "2015-03-01T00:00:00",
          "2015-04-01T00:00:00",
          "2015-05-01T00:00:00",
          "2015-06-01T00:00:00",
          "2015-07-01T00:00:00",
          "2015-08-01T00:00:00",
          "2015-09-01T00:00:00",
          "2015-10-01T00:00:00",
          "2015-11-01T00:00:00",
          "2015-12-01T00:00:00",
          "2016-01-01T00:00:00",
          "2016-02-01T00:00:00",
          "2016-03-01T00:00:00",
          "2016-04-01T00:00:00",
          "2016-05-01T00:00:00",
          "2016-06-01T00:00:00",
          "2016-07-01T00:00:00",
          "2016-08-01T00:00:00",
          "2016-09-01T00:00:00",
          "2016-10-01T00:00:00",
          "2016-11-01T00:00:00",
          "2016-12-01T00:00:00",
          "2017-01-01T00:00:00",
          "2017-02-01T00:00:00",
          "2017-03-01T00:00:00",
          "2017-04-01T00:00:00",
          "2017-05-01T00:00:00",
          "2017-06-01T00:00:00",
          "2017-07-01T00:00:00",
          "2017-08-01T00:00:00",
          "2017-09-01T00:00:00",
          "2017-10-01T00:00:00",
          "2017-11-01T00:00:00",
          "2017-12-01T00:00:00",
          "2018-01-01T00:00:00",
          "2018-02-01T00:00:00",
          "2018-03-01T00:00:00",
          "2018-04-01T00:00:00",
          "2018-05-01T00:00:00",
          "2018-06-01T00:00:00",
          "2018-07-01T00:00:00",
          "2018-08-01T00:00:00",
          "2018-09-01T00:00:00",
          "2018-10-01T00:00:00",
          "2018-11-01T00:00:00",
          "2018-12-01T00:00:00",
          "2019-01-01T00:00:00",
          "2019-02-01T00:00:00",
          "2019-03-01T00:00:00",
          "2019-04-01T00:00:00",
          "2019-05-01T00:00:00",
          "2019-06-01T00:00:00",
          "2019-07-01T00:00:00",
          "2019-08-01T00:00:00",
          "2019-09-01T00:00:00",
          "2019-10-01T00:00:00",
          "2019-11-01T00:00:00",
          "2019-12-01T00:00:00",
          "2020-01-01T00:00:00",
          "2020-02-01T00:00:00",
          "2020-03-01T00:00:00",
          "2020-04-01T00:00:00",
          "2020-05-01T00:00:00",
          "2020-06-01T00:00:00",
          "2020-07-01T00:00:00",
          "2020-08-01T00:00:00",
          "2020-09-01T00:00:00",
          "2020-10-01T00:00:00",
          "2020-11-01T00:00:00",
          "2020-12-01T00:00:00",
          "2021-01-01T00:00:00",
          "2021-02-01T00:00:00",
          "2021-03-01T00:00:00",
          "2021-04-01T00:00:00",
          "2021-05-01T00:00:00",
          "2021-06-01T00:00:00",
          "2021-07-01T00:00:00",
          "2021-08-01T00:00:00",
          "2021-09-01T00:00:00",
          "2021-10-01T00:00:00",
          "2021-11-01T00:00:00",
          "2021-12-01T00:00:00",
          "2022-01-01T00:00:00",
          "2022-02-01T00:00:00",
          "2022-03-01T00:00:00",
          "2022-04-01T00:00:00",
          "2022-05-01T00:00:00",
          "2022-06-01T00:00:00",
          "2022-07-01T00:00:00",
          "2022-08-01T00:00:00",
          "2022-09-01T00:00:00",
          "2022-10-01T00:00:00",
          "2022-11-01T00:00:00"
         ],
         "y": [
          1329472,
          1318752,
          1414724,
          1433632,
          1381416,
          1290232,
          1275304,
          1335164,
          1319240,
          1335460,
          1327736,
          1318160,
          1331576,
          1355384,
          1418312,
          1426176,
          1414008,
          1294672,
          1336176,
          1384780,
          1375880,
          1408640,
          1408204,
          1421744,
          1430776,
          1435804,
          1496528,
          1494376,
          1470364,
          1378588,
          1429084,
          1492904,
          1472224,
          1495892,
          1506620,
          1492188,
          1502756,
          1537180,
          1611820,
          1667728,
          1573312,
          1500368,
          1495780,
          1578768,
          1577520,
          1601740,
          1589584,
          1585656,
          1285528,
          1598848,
          1663212,
          1439616,
          1579588,
          1511568,
          1524360,
          1594676,
          1612708,
          1615592,
          1639708,
          1641248,
          1659584,
          1677020,
          1720652,
          1765712,
          1699052,
          1600284,
          1643388,
          1683624,
          1694104,
          1719640,
          1697248,
          1731476,
          1709868,
          1719000,
          1780412,
          1784032,
          1741588,
          1649136,
          1689256,
          1786600,
          1726140,
          1738940,
          1730828,
          1743892,
          1712812,
          1709812,
          1762416,
          1754008,
          1733536,
          1621136,
          1619308,
          1691048,
          1678840,
          1660064,
          1685116,
          1690616,
          1679788,
          1672280,
          1688804,
          1705968,
          1693056,
          1564876,
          1580888,
          1773265,
          1633436,
          1829799,
          1524645,
          1461470,
          1590125,
          1487721,
          1650099,
          1702928,
          1704785,
          1638553,
          1672906,
          1721642,
          1653261,
          1780084,
          1521233,
          1456963,
          1559801,
          1496135,
          681632,
          105228,
          122765,
          174954,
          198998,
          194876,
          202828,
          233368,
          208664,
          190821,
          174506,
          186102,
          232898,
          251324,
          279896,
          334434,
          375287,
          414514,
          458655,
          479018,
          466268,
          444311,
          364404,
          null,
          null,
          null,
          null,
          null,
          null,
          null,
          null,
          null,
          null
         ]
        },
        {
         "line": {
          "color": "rgba(0, 90, 181, 0.7)",
          "dash": "solid"
         },
         "name": "Forecast",
         "type": "scatter",
         "x": [
          "2010-01-01T00:00:00",
          "2010-02-01T00:00:00",
          "2010-03-01T00:00:00",
          "2010-04-01T00:00:00",
          "2010-05-01T00:00:00",
          "2010-06-01T00:00:00",
          "2010-07-01T00:00:00",
          "2010-08-01T00:00:00",
          "2010-09-01T00:00:00",
          "2010-10-01T00:00:00",
          "2010-11-01T00:00:00",
          "2010-12-01T00:00:00",
          "2011-01-01T00:00:00",
          "2011-02-01T00:00:00",
          "2011-03-01T00:00:00",
          "2011-04-01T00:00:00",
          "2011-05-01T00:00:00",
          "2011-06-01T00:00:00",
          "2011-07-01T00:00:00",
          "2011-08-01T00:00:00",
          "2011-09-01T00:00:00",
          "2011-10-01T00:00:00",
          "2011-11-01T00:00:00",
          "2011-12-01T00:00:00",
          "2012-01-01T00:00:00",
          "2012-02-01T00:00:00",
          "2012-03-01T00:00:00",
          "2012-04-01T00:00:00",
          "2012-05-01T00:00:00",
          "2012-06-01T00:00:00",
          "2012-07-01T00:00:00",
          "2012-08-01T00:00:00",
          "2012-09-01T00:00:00",
          "2012-10-01T00:00:00",
          "2012-11-01T00:00:00",
          "2012-12-01T00:00:00",
          "2013-01-01T00:00:00",
          "2013-02-01T00:00:00",
          "2013-03-01T00:00:00",
          "2013-04-01T00:00:00",
          "2013-05-01T00:00:00",
          "2013-06-01T00:00:00",
          "2013-07-01T00:00:00",
          "2013-08-01T00:00:00",
          "2013-09-01T00:00:00",
          "2013-10-01T00:00:00",
          "2013-11-01T00:00:00",
          "2013-12-01T00:00:00",
          "2014-01-01T00:00:00",
          "2014-02-01T00:00:00",
          "2014-03-01T00:00:00",
          "2014-04-01T00:00:00",
          "2014-05-01T00:00:00",
          "2014-06-01T00:00:00",
          "2014-07-01T00:00:00",
          "2014-08-01T00:00:00",
          "2014-09-01T00:00:00",
          "2014-10-01T00:00:00",
          "2014-11-01T00:00:00",
          "2014-12-01T00:00:00",
          "2015-01-01T00:00:00",
          "2015-02-01T00:00:00",
          "2015-03-01T00:00:00",
          "2015-04-01T00:00:00",
          "2015-05-01T00:00:00",
          "2015-06-01T00:00:00",
          "2015-07-01T00:00:00",
          "2015-08-01T00:00:00",
          "2015-09-01T00:00:00",
          "2015-10-01T00:00:00",
          "2015-11-01T00:00:00",
          "2015-12-01T00:00:00",
          "2016-01-01T00:00:00",
          "2016-02-01T00:00:00",
          "2016-03-01T00:00:00",
          "2016-04-01T00:00:00",
          "2016-05-01T00:00:00",
          "2016-06-01T00:00:00",
          "2016-07-01T00:00:00",
          "2016-08-01T00:00:00",
          "2016-09-01T00:00:00",
          "2016-10-01T00:00:00",
          "2016-11-01T00:00:00",
          "2016-12-01T00:00:00",
          "2017-01-01T00:00:00",
          "2017-02-01T00:00:00",
          "2017-03-01T00:00:00",
          "2017-04-01T00:00:00",
          "2017-05-01T00:00:00",
          "2017-06-01T00:00:00",
          "2017-07-01T00:00:00",
          "2017-08-01T00:00:00",
          "2017-09-01T00:00:00",
          "2017-10-01T00:00:00",
          "2017-11-01T00:00:00",
          "2017-12-01T00:00:00",
          "2018-01-01T00:00:00",
          "2018-02-01T00:00:00",
          "2018-03-01T00:00:00",
          "2018-04-01T00:00:00",
          "2018-05-01T00:00:00",
          "2018-06-01T00:00:00",
          "2018-07-01T00:00:00",
          "2018-08-01T00:00:00",
          "2018-09-01T00:00:00",
          "2018-10-01T00:00:00",
          "2018-11-01T00:00:00",
          "2018-12-01T00:00:00",
          "2019-01-01T00:00:00",
          "2019-02-01T00:00:00",
          "2019-03-01T00:00:00",
          "2019-04-01T00:00:00",
          "2019-05-01T00:00:00",
          "2019-06-01T00:00:00",
          "2019-07-01T00:00:00",
          "2019-08-01T00:00:00",
          "2019-09-01T00:00:00",
          "2019-10-01T00:00:00",
          "2019-11-01T00:00:00",
          "2019-12-01T00:00:00",
          "2020-01-01T00:00:00",
          "2020-02-01T00:00:00",
          "2020-03-01T00:00:00",
          "2020-04-01T00:00:00",
          "2020-05-01T00:00:00",
          "2020-06-01T00:00:00",
          "2020-07-01T00:00:00",
          "2020-08-01T00:00:00",
          "2020-09-01T00:00:00",
          "2020-10-01T00:00:00",
          "2020-11-01T00:00:00",
          "2020-12-01T00:00:00",
          "2021-01-01T00:00:00",
          "2021-02-01T00:00:00",
          "2021-03-01T00:00:00",
          "2021-04-01T00:00:00",
          "2021-05-01T00:00:00",
          "2021-06-01T00:00:00",
          "2021-07-01T00:00:00",
          "2021-08-01T00:00:00",
          "2021-09-01T00:00:00",
          "2021-10-01T00:00:00",
          "2021-11-01T00:00:00",
          "2021-12-01T00:00:00",
          "2022-01-01T00:00:00",
          "2022-02-01T00:00:00",
          "2022-03-01T00:00:00",
          "2022-04-01T00:00:00",
          "2022-05-01T00:00:00",
          "2022-06-01T00:00:00",
          "2022-07-01T00:00:00",
          "2022-08-01T00:00:00",
          "2022-09-01T00:00:00",
          "2022-10-01T00:00:00",
          "2022-11-01T00:00:00"
         ],
         "y": [
          1374892.6690236654,
          1374805.7493562887,
          1374682.5581911185,
          1374610.4323291285,
          1374511.455133242,
          1374396.3692530547,
          1374357.269388109,
          1374272.3447891665,
          1374171.3355002431,
          1374059.6275748198,
          1373988.8847745154,
          1373860.3449161223,
          1373739.9498035323,
          1373714.264797737,
          1373630.731839658,
          1373538.0459795673,
          1373449.296030587,
          1373364.8886616882,
          1373265.968132205,
          1373164.8899712805,
          1373032.7292067464,
          1372968.326318916,
          1372897.5835186115,
          1372769.0436602184,
          1372688.1234520718,
          1372623.400084536,
          1372536.9308593413,
          1372436.1059384714,
          1372348.7942678833,
          1372262.614696655,
          1372173.16377404,
          1372080.7311540046,
          1371991.9807624626,
          1371836.798607438,
          1371805.783951632,
          1371677.4891642595,
          1371618.765255954,
          1371531.8455885772,
          1371448.1293278504,
          1371307.576262482,
          1371259.4944253163,
          1371173.0616140335,
          1371083.3656203975,
          1370990.679760307,
          1370902.9491293093,
          1370785.7238071084,
          1370693.037947018,
          1370586.4411484108,
          1370527.4640000502,
          1370447.3963507828,
          1370356.8280719465,
          1370264.1422118559,
          1370168.1931694127,
          1370089.5216192775,
          1369992.0643644936,
          1369898.8163367182,
          1369808.8318963395,
          1369694.4225512045,
          1369601.7366911143,
          1369495.1398925069,
          1369414.2196843603,
          1369349.2430767696,
          1369265.5268160426,
          1369184.5674914252,
          1369076.8919135088,
          1368990.459102226,
          1368878.8200488037,
          1368786.1341887135,
          1368675.9164839652,
          1368603.1212953008,
          1368532.3784949963,
          1368403.838636603,
          1368344.8614882424,
          1368258.1950609207,
          1368171.725835726,
          1368079.2932156904,
          1367991.3505054158,
          1367898.8729477385,
          1367807.9587504247,
          1367707.133829555,
          1367623.0935103535,
          1367511.0684882663,
          1367440.0167603318,
          1367312.2841406444,
          1367231.6171725527,
          1367170.0669842921,
          1367082.924304235,
          1366990.2384441444,
          1366894.2894017012,
          1366807.2944227331,
          1366718.160596782,
          1366625.4747366917,
          1366540.5501377492,
          1366420.518783493,
          1366349.7759831885,
          1366212.843823961,
          1366162.2589764348,
          1366075.3393090582,
          1365999.384309479,
          1365901.706811486,
          1365802.9881457973,
          1365716.5553345142,
          1365626.8593408782,
          1365534.1734807878,
          1365445.169849191,
          1365329.217527589,
          1365258.4747272846,
          1365129.9348688915,
          1365070.957720531,
          1364984.0380531542,
          1364900.3217924272,
          1364807.6359323368,
          1364711.6868898934,
          1364624.6919109256,
          1364535.5580849743,
          1364442.872224884,
          1364355.1415938863,
          1364237.9162716854,
          1364167.173471381,
          1364038.6336129876,
          1363979.656464627,
          1363892.9900373053,
          1363806.5208121105,
          1363714.088192075,
          1363618.3842206525,
          1363484.3374441466,
          1363420.8106670233,
          1363328.3780469878,
          1363218.4135822947,
          1363145.863464651,
          1363075.3739044012,
          1362947.079117029,
          1362888.3552087233,
          1362801.4355413464,
          1362717.7192806196,
          1362606.1185141862,
          1362507.1413182998,
          1362392.0554381125,
          1362352.9555731667,
          1362268.0309742242,
          1362167.0216853009,
          1362055.3137598776,
          1361984.5709595731,
          1361856.03110118,
          1361735.63598859,
          1361714.5189948678,
          1361626.4180247157,
          1361533.7321646253,
          1361423.6013235438,
          1361339.193954645,
          1361261.6543172628,
          1361160.5761563382,
          1361076.282597082,
          1360964.012503974,
          1360893.2697036695
         ]
        }
       ],
       "layout": {
        "annotations": [
         {
          "arrowhead": 0,
          "ax": -60,
          "ay": 0,
          "showarrow": true,
          "text": "Train End Date",
          "x": "2022-01-01T00:00:00",
          "xref": "x",
          "y": 0.97,
          "yref": "paper"
         }
        ],
        "legend": {
         "traceorder": "reversed"
        },
        "shapes": [
         {
          "line": {
           "color": "rgba(100, 100, 100, 0.9)",
           "width": 1
          },
          "type": "line",
          "x0": "2022-01-01T00:00:00",
          "x1": "2022-01-01T00:00:00",
          "xref": "x",
          "y0": 0,
          "y1": 1,
          "yref": "paper"
         }
        ],
        "showlegend": true,
        "template": {
         "data": {
          "bar": [
           {
            "error_x": {
             "color": "#2a3f5f"
            },
            "error_y": {
             "color": "#2a3f5f"
            },
            "marker": {
             "line": {
              "color": "#E5ECF6",
              "width": 0.5
             },
             "pattern": {
              "fillmode": "overlay",
              "size": 10,
              "solidity": 0.2
             }
            },
            "type": "bar"
           }
          ],
          "barpolar": [
           {
            "marker": {
             "line": {
              "color": "#E5ECF6",
              "width": 0.5
             },
             "pattern": {
              "fillmode": "overlay",
              "size": 10,
              "solidity": 0.2
             }
            },
            "type": "barpolar"
           }
          ],
          "carpet": [
           {
            "aaxis": {
             "endlinecolor": "#2a3f5f",
             "gridcolor": "white",
             "linecolor": "white",
             "minorgridcolor": "white",
             "startlinecolor": "#2a3f5f"
            },
            "baxis": {
             "endlinecolor": "#2a3f5f",
             "gridcolor": "white",
             "linecolor": "white",
             "minorgridcolor": "white",
             "startlinecolor": "#2a3f5f"
            },
            "type": "carpet"
           }
          ],
          "choropleth": [
           {
            "colorbar": {
             "outlinewidth": 0,
             "ticks": ""
            },
            "type": "choropleth"
           }
          ],
          "contour": [
           {
            "colorbar": {
             "outlinewidth": 0,
             "ticks": ""
            },
            "colorscale": [
             [
              0,
              "#0d0887"
             ],
             [
              0.1111111111111111,
              "#46039f"
             ],
             [
              0.2222222222222222,
              "#7201a8"
             ],
             [
              0.3333333333333333,
              "#9c179e"
             ],
             [
              0.4444444444444444,
              "#bd3786"
             ],
             [
              0.5555555555555556,
              "#d8576b"
             ],
             [
              0.6666666666666666,
              "#ed7953"
             ],
             [
              0.7777777777777778,
              "#fb9f3a"
             ],
             [
              0.8888888888888888,
              "#fdca26"
             ],
             [
              1,
              "#f0f921"
             ]
            ],
            "type": "contour"
           }
          ],
          "contourcarpet": [
           {
            "colorbar": {
             "outlinewidth": 0,
             "ticks": ""
            },
            "type": "contourcarpet"
           }
          ],
          "heatmap": [
           {
            "colorbar": {
             "outlinewidth": 0,
             "ticks": ""
            },
            "colorscale": [
             [
              0,
              "#0d0887"
             ],
             [
              0.1111111111111111,
              "#46039f"
             ],
             [
              0.2222222222222222,
              "#7201a8"
             ],
             [
              0.3333333333333333,
              "#9c179e"
             ],
             [
              0.4444444444444444,
              "#bd3786"
             ],
             [
              0.5555555555555556,
              "#d8576b"
             ],
             [
              0.6666666666666666,
              "#ed7953"
             ],
             [
              0.7777777777777778,
              "#fb9f3a"
             ],
             [
              0.8888888888888888,
              "#fdca26"
             ],
             [
              1,
              "#f0f921"
             ]
            ],
            "type": "heatmap"
           }
          ],
          "heatmapgl": [
           {
            "colorbar": {
             "outlinewidth": 0,
             "ticks": ""
            },
            "colorscale": [
             [
              0,
              "#0d0887"
             ],
             [
              0.1111111111111111,
              "#46039f"
             ],
             [
              0.2222222222222222,
              "#7201a8"
             ],
             [
              0.3333333333333333,
              "#9c179e"
             ],
             [
              0.4444444444444444,
              "#bd3786"
             ],
             [
              0.5555555555555556,
              "#d8576b"
             ],
             [
              0.6666666666666666,
              "#ed7953"
             ],
             [
              0.7777777777777778,
              "#fb9f3a"
             ],
             [
              0.8888888888888888,
              "#fdca26"
             ],
             [
              1,
              "#f0f921"
             ]
            ],
            "type": "heatmapgl"
           }
          ],
          "histogram": [
           {
            "marker": {
             "pattern": {
              "fillmode": "overlay",
              "size": 10,
              "solidity": 0.2
             }
            },
            "type": "histogram"
           }
          ],
          "histogram2d": [
           {
            "colorbar": {
             "outlinewidth": 0,
             "ticks": ""
            },
            "colorscale": [
             [
              0,
              "#0d0887"
             ],
             [
              0.1111111111111111,
              "#46039f"
             ],
             [
              0.2222222222222222,
              "#7201a8"
             ],
             [
              0.3333333333333333,
              "#9c179e"
             ],
             [
              0.4444444444444444,
              "#bd3786"
             ],
             [
              0.5555555555555556,
              "#d8576b"
             ],
             [
              0.6666666666666666,
              "#ed7953"
             ],
             [
              0.7777777777777778,
              "#fb9f3a"
             ],
             [
              0.8888888888888888,
              "#fdca26"
             ],
             [
              1,
              "#f0f921"
             ]
            ],
            "type": "histogram2d"
           }
          ],
          "histogram2dcontour": [
           {
            "colorbar": {
             "outlinewidth": 0,
             "ticks": ""
            },
            "colorscale": [
             [
              0,
              "#0d0887"
             ],
             [
              0.1111111111111111,
              "#46039f"
             ],
             [
              0.2222222222222222,
              "#7201a8"
             ],
             [
              0.3333333333333333,
              "#9c179e"
             ],
             [
              0.4444444444444444,
              "#bd3786"
             ],
             [
              0.5555555555555556,
              "#d8576b"
             ],
             [
              0.6666666666666666,
              "#ed7953"
             ],
             [
              0.7777777777777778,
              "#fb9f3a"
             ],
             [
              0.8888888888888888,
              "#fdca26"
             ],
             [
              1,
              "#f0f921"
             ]
            ],
            "type": "histogram2dcontour"
           }
          ],
          "mesh3d": [
           {
            "colorbar": {
             "outlinewidth": 0,
             "ticks": ""
            },
            "type": "mesh3d"
           }
          ],
          "parcoords": [
           {
            "line": {
             "colorbar": {
              "outlinewidth": 0,
              "ticks": ""
             }
            },
            "type": "parcoords"
           }
          ],
          "pie": [
           {
            "automargin": true,
            "type": "pie"
           }
          ],
          "scatter": [
           {
            "fillpattern": {
             "fillmode": "overlay",
             "size": 10,
             "solidity": 0.2
            },
            "type": "scatter"
           }
          ],
          "scatter3d": [
           {
            "line": {
             "colorbar": {
              "outlinewidth": 0,
              "ticks": ""
             }
            },
            "marker": {
             "colorbar": {
              "outlinewidth": 0,
              "ticks": ""
             }
            },
            "type": "scatter3d"
           }
          ],
          "scattercarpet": [
           {
            "marker": {
             "colorbar": {
              "outlinewidth": 0,
              "ticks": ""
             }
            },
            "type": "scattercarpet"
           }
          ],
          "scattergeo": [
           {
            "marker": {
             "colorbar": {
              "outlinewidth": 0,
              "ticks": ""
             }
            },
            "type": "scattergeo"
           }
          ],
          "scattergl": [
           {
            "marker": {
             "colorbar": {
              "outlinewidth": 0,
              "ticks": ""
             }
            },
            "type": "scattergl"
           }
          ],
          "scattermapbox": [
           {
            "marker": {
             "colorbar": {
              "outlinewidth": 0,
              "ticks": ""
             }
            },
            "type": "scattermapbox"
           }
          ],
          "scatterpolar": [
           {
            "marker": {
             "colorbar": {
              "outlinewidth": 0,
              "ticks": ""
             }
            },
            "type": "scatterpolar"
           }
          ],
          "scatterpolargl": [
           {
            "marker": {
             "colorbar": {
              "outlinewidth": 0,
              "ticks": ""
             }
            },
            "type": "scatterpolargl"
           }
          ],
          "scatterternary": [
           {
            "marker": {
             "colorbar": {
              "outlinewidth": 0,
              "ticks": ""
             }
            },
            "type": "scatterternary"
           }
          ],
          "surface": [
           {
            "colorbar": {
             "outlinewidth": 0,
             "ticks": ""
            },
            "colorscale": [
             [
              0,
              "#0d0887"
             ],
             [
              0.1111111111111111,
              "#46039f"
             ],
             [
              0.2222222222222222,
              "#7201a8"
             ],
             [
              0.3333333333333333,
              "#9c179e"
             ],
             [
              0.4444444444444444,
              "#bd3786"
             ],
             [
              0.5555555555555556,
              "#d8576b"
             ],
             [
              0.6666666666666666,
              "#ed7953"
             ],
             [
              0.7777777777777778,
              "#fb9f3a"
             ],
             [
              0.8888888888888888,
              "#fdca26"
             ],
             [
              1,
              "#f0f921"
             ]
            ],
            "type": "surface"
           }
          ],
          "table": [
           {
            "cells": {
             "fill": {
              "color": "#EBF0F8"
             },
             "line": {
              "color": "white"
             }
            },
            "header": {
             "fill": {
              "color": "#C8D4E3"
             },
             "line": {
              "color": "white"
             }
            },
            "type": "table"
           }
          ]
         },
         "layout": {
          "annotationdefaults": {
           "arrowcolor": "#2a3f5f",
           "arrowhead": 0,
           "arrowwidth": 1
          },
          "autotypenumbers": "strict",
          "coloraxis": {
           "colorbar": {
            "outlinewidth": 0,
            "ticks": ""
           }
          },
          "colorscale": {
           "diverging": [
            [
             0,
             "#8e0152"
            ],
            [
             0.1,
             "#c51b7d"
            ],
            [
             0.2,
             "#de77ae"
            ],
            [
             0.3,
             "#f1b6da"
            ],
            [
             0.4,
             "#fde0ef"
            ],
            [
             0.5,
             "#f7f7f7"
            ],
            [
             0.6,
             "#e6f5d0"
            ],
            [
             0.7,
             "#b8e186"
            ],
            [
             0.8,
             "#7fbc41"
            ],
            [
             0.9,
             "#4d9221"
            ],
            [
             1,
             "#276419"
            ]
           ],
           "sequential": [
            [
             0,
             "#0d0887"
            ],
            [
             0.1111111111111111,
             "#46039f"
            ],
            [
             0.2222222222222222,
             "#7201a8"
            ],
            [
             0.3333333333333333,
             "#9c179e"
            ],
            [
             0.4444444444444444,
             "#bd3786"
            ],
            [
             0.5555555555555556,
             "#d8576b"
            ],
            [
             0.6666666666666666,
             "#ed7953"
            ],
            [
             0.7777777777777778,
             "#fb9f3a"
            ],
            [
             0.8888888888888888,
             "#fdca26"
            ],
            [
             1,
             "#f0f921"
            ]
           ],
           "sequentialminus": [
            [
             0,
             "#0d0887"
            ],
            [
             0.1111111111111111,
             "#46039f"
            ],
            [
             0.2222222222222222,
             "#7201a8"
            ],
            [
             0.3333333333333333,
             "#9c179e"
            ],
            [
             0.4444444444444444,
             "#bd3786"
            ],
            [
             0.5555555555555556,
             "#d8576b"
            ],
            [
             0.6666666666666666,
             "#ed7953"
            ],
            [
             0.7777777777777778,
             "#fb9f3a"
            ],
            [
             0.8888888888888888,
             "#fdca26"
            ],
            [
             1,
             "#f0f921"
            ]
           ]
          },
          "colorway": [
           "#636efa",
           "#EF553B",
           "#00cc96",
           "#ab63fa",
           "#FFA15A",
           "#19d3f3",
           "#FF6692",
           "#B6E880",
           "#FF97FF",
           "#FECB52"
          ],
          "font": {
           "color": "#2a3f5f"
          },
          "geo": {
           "bgcolor": "white",
           "lakecolor": "white",
           "landcolor": "#E5ECF6",
           "showlakes": true,
           "showland": true,
           "subunitcolor": "white"
          },
          "hoverlabel": {
           "align": "left"
          },
          "hovermode": "closest",
          "mapbox": {
           "style": "light"
          },
          "paper_bgcolor": "white",
          "plot_bgcolor": "#E5ECF6",
          "polar": {
           "angularaxis": {
            "gridcolor": "white",
            "linecolor": "white",
            "ticks": ""
           },
           "bgcolor": "#E5ECF6",
           "radialaxis": {
            "gridcolor": "white",
            "linecolor": "white",
            "ticks": ""
           }
          },
          "scene": {
           "xaxis": {
            "backgroundcolor": "#E5ECF6",
            "gridcolor": "white",
            "gridwidth": 2,
            "linecolor": "white",
            "showbackground": true,
            "ticks": "",
            "zerolinecolor": "white"
           },
           "yaxis": {
            "backgroundcolor": "#E5ECF6",
            "gridcolor": "white",
            "gridwidth": 2,
            "linecolor": "white",
            "showbackground": true,
            "ticks": "",
            "zerolinecolor": "white"
           },
           "zaxis": {
            "backgroundcolor": "#E5ECF6",
            "gridcolor": "white",
            "gridwidth": 2,
            "linecolor": "white",
            "showbackground": true,
            "ticks": "",
            "zerolinecolor": "white"
           }
          },
          "shapedefaults": {
           "line": {
            "color": "#2a3f5f"
           }
          },
          "ternary": {
           "aaxis": {
            "gridcolor": "white",
            "linecolor": "white",
            "ticks": ""
           },
           "baxis": {
            "gridcolor": "white",
            "linecolor": "white",
            "ticks": ""
           },
           "bgcolor": "#E5ECF6",
           "caxis": {
            "gridcolor": "white",
            "linecolor": "white",
            "ticks": ""
           }
          },
          "title": {
           "x": 0.05
          },
          "xaxis": {
           "automargin": true,
           "gridcolor": "white",
           "linecolor": "white",
           "ticks": "",
           "title": {
            "standoff": 15
           },
           "zerolinecolor": "white",
           "zerolinewidth": 2
          },
          "yaxis": {
           "automargin": true,
           "gridcolor": "white",
           "linecolor": "white",
           "ticks": "",
           "title": {
            "standoff": 15
           },
           "zerolinecolor": "white",
           "zerolinewidth": 2
          }
         }
        },
        "title": {
         "text": "Forecast vs Actual",
         "x": 0.5
        },
        "xaxis": {
         "title": {
          "text": "ts"
         }
        },
        "yaxis": {
         "title": {
          "text": "y"
         }
        }
       }
      }
     },
     "metadata": {},
     "output_type": "display_data"
    }
   ],
   "source": [
    "forecast = result.forecast\n",
    "fig = forecast.plot()\n",
    "plotly.io.show(fig)"
   ]
  },
  {
   "cell_type": "code",
   "execution_count": 169,
   "metadata": {},
   "outputs": [
    {
     "data": {
      "text/html": [
       "<div>\n",
       "<style scoped>\n",
       "    .dataframe tbody tr th:only-of-type {\n",
       "        vertical-align: middle;\n",
       "    }\n",
       "\n",
       "    .dataframe tbody tr th {\n",
       "        vertical-align: top;\n",
       "    }\n",
       "\n",
       "    .dataframe thead th {\n",
       "        text-align: right;\n",
       "    }\n",
       "</style>\n",
       "<table border=\"1\" class=\"dataframe\">\n",
       "  <thead>\n",
       "    <tr style=\"text-align: right;\">\n",
       "      <th></th>\n",
       "      <th>ts</th>\n",
       "      <th>actual</th>\n",
       "      <th>forecast</th>\n",
       "      <th>forecast_lower</th>\n",
       "      <th>forecast_upper</th>\n",
       "    </tr>\n",
       "  </thead>\n",
       "  <tbody>\n",
       "    <tr>\n",
       "      <th>0</th>\n",
       "      <td>2010-01-01</td>\n",
       "      <td>1329472.0</td>\n",
       "      <td>1374892.67</td>\n",
       "      <td>419276.51</td>\n",
       "      <td>2330508.83</td>\n",
       "    </tr>\n",
       "    <tr>\n",
       "      <th>1</th>\n",
       "      <td>2010-02-01</td>\n",
       "      <td>1318752.0</td>\n",
       "      <td>1374805.75</td>\n",
       "      <td>419189.59</td>\n",
       "      <td>2330421.91</td>\n",
       "    </tr>\n",
       "    <tr>\n",
       "      <th>2</th>\n",
       "      <td>2010-03-01</td>\n",
       "      <td>1414724.0</td>\n",
       "      <td>1374682.56</td>\n",
       "      <td>419066.40</td>\n",
       "      <td>2330298.72</td>\n",
       "    </tr>\n",
       "    <tr>\n",
       "      <th>3</th>\n",
       "      <td>2010-04-01</td>\n",
       "      <td>1433632.0</td>\n",
       "      <td>1374610.43</td>\n",
       "      <td>418994.27</td>\n",
       "      <td>2330226.59</td>\n",
       "    </tr>\n",
       "    <tr>\n",
       "      <th>4</th>\n",
       "      <td>2010-05-01</td>\n",
       "      <td>1381416.0</td>\n",
       "      <td>1374511.46</td>\n",
       "      <td>418895.29</td>\n",
       "      <td>2330127.62</td>\n",
       "    </tr>\n",
       "  </tbody>\n",
       "</table>\n",
       "</div>"
      ],
      "text/plain": [
       "          ts     actual    forecast  forecast_lower  forecast_upper\n",
       "0 2010-01-01  1329472.0  1374892.67       419276.51      2330508.83\n",
       "1 2010-02-01  1318752.0  1374805.75       419189.59      2330421.91\n",
       "2 2010-03-01  1414724.0  1374682.56       419066.40      2330298.72\n",
       "3 2010-04-01  1433632.0  1374610.43       418994.27      2330226.59\n",
       "4 2010-05-01  1381416.0  1374511.46       418895.29      2330127.62"
      ]
     },
     "execution_count": 169,
     "metadata": {},
     "output_type": "execute_result"
    }
   ],
   "source": [
    "# The forecasted values are available in `df`\n",
    "\n",
    "forecast.df.head().round(2)"
   ]
  },
  {
   "cell_type": "markdown",
   "metadata": {},
   "source": [
    "#### Model Diagnostics\n",
    "\n",
    "The component plot shows how your dataset’s trend, seasonality, and event / holiday patterns are handled in the model:"
   ]
  },
  {
   "cell_type": "code",
   "execution_count": 170,
   "metadata": {},
   "outputs": [
    {
     "data": {
      "application/vnd.plotly.v1+json": {
       "config": {
        "plotlyServerURL": "https://plot.ly"
       },
       "data": [
        {
         "mode": "lines",
         "name": "y",
         "opacity": 0.8,
         "showlegend": false,
         "type": "scatter",
         "x": [
          "2010-01-01T00:00:00",
          "2010-02-01T00:00:00",
          "2010-03-01T00:00:00",
          "2010-04-01T00:00:00",
          "2010-05-01T00:00:00",
          "2010-06-01T00:00:00",
          "2010-07-01T00:00:00",
          "2010-08-01T00:00:00",
          "2010-09-01T00:00:00",
          "2010-10-01T00:00:00",
          "2010-11-01T00:00:00",
          "2010-12-01T00:00:00",
          "2011-01-01T00:00:00",
          "2011-02-01T00:00:00",
          "2011-03-01T00:00:00",
          "2011-04-01T00:00:00",
          "2011-05-01T00:00:00",
          "2011-06-01T00:00:00",
          "2011-07-01T00:00:00",
          "2011-08-01T00:00:00",
          "2011-09-01T00:00:00",
          "2011-10-01T00:00:00",
          "2011-11-01T00:00:00",
          "2011-12-01T00:00:00",
          "2012-01-01T00:00:00",
          "2012-02-01T00:00:00",
          "2012-03-01T00:00:00",
          "2012-04-01T00:00:00",
          "2012-05-01T00:00:00",
          "2012-06-01T00:00:00",
          "2012-07-01T00:00:00",
          "2012-08-01T00:00:00",
          "2012-09-01T00:00:00",
          "2012-10-01T00:00:00",
          "2012-11-01T00:00:00",
          "2012-12-01T00:00:00",
          "2013-01-01T00:00:00",
          "2013-02-01T00:00:00",
          "2013-03-01T00:00:00",
          "2013-04-01T00:00:00",
          "2013-05-01T00:00:00",
          "2013-06-01T00:00:00",
          "2013-07-01T00:00:00",
          "2013-08-01T00:00:00",
          "2013-09-01T00:00:00",
          "2013-10-01T00:00:00",
          "2013-11-01T00:00:00",
          "2013-12-01T00:00:00",
          "2014-01-01T00:00:00",
          "2014-02-01T00:00:00",
          "2014-03-01T00:00:00",
          "2014-04-01T00:00:00",
          "2014-05-01T00:00:00",
          "2014-06-01T00:00:00",
          "2014-07-01T00:00:00",
          "2014-08-01T00:00:00",
          "2014-09-01T00:00:00",
          "2014-10-01T00:00:00",
          "2014-11-01T00:00:00",
          "2014-12-01T00:00:00",
          "2015-01-01T00:00:00",
          "2015-02-01T00:00:00",
          "2015-03-01T00:00:00",
          "2015-04-01T00:00:00",
          "2015-05-01T00:00:00",
          "2015-06-01T00:00:00",
          "2015-07-01T00:00:00",
          "2015-08-01T00:00:00",
          "2015-09-01T00:00:00",
          "2015-10-01T00:00:00",
          "2015-11-01T00:00:00",
          "2015-12-01T00:00:00",
          "2016-01-01T00:00:00",
          "2016-02-01T00:00:00",
          "2016-03-01T00:00:00",
          "2016-04-01T00:00:00",
          "2016-05-01T00:00:00",
          "2016-06-01T00:00:00",
          "2016-07-01T00:00:00",
          "2016-08-01T00:00:00",
          "2016-09-01T00:00:00",
          "2016-10-01T00:00:00",
          "2016-11-01T00:00:00",
          "2016-12-01T00:00:00",
          "2017-01-01T00:00:00",
          "2017-02-01T00:00:00",
          "2017-03-01T00:00:00",
          "2017-04-01T00:00:00",
          "2017-05-01T00:00:00",
          "2017-06-01T00:00:00",
          "2017-07-01T00:00:00",
          "2017-08-01T00:00:00",
          "2017-09-01T00:00:00",
          "2017-10-01T00:00:00",
          "2017-11-01T00:00:00",
          "2017-12-01T00:00:00",
          "2018-01-01T00:00:00",
          "2018-02-01T00:00:00",
          "2018-03-01T00:00:00",
          "2018-04-01T00:00:00",
          "2018-05-01T00:00:00",
          "2018-06-01T00:00:00",
          "2018-07-01T00:00:00",
          "2018-08-01T00:00:00",
          "2018-09-01T00:00:00",
          "2018-10-01T00:00:00",
          "2018-11-01T00:00:00",
          "2018-12-01T00:00:00",
          "2019-01-01T00:00:00",
          "2019-02-01T00:00:00",
          "2019-03-01T00:00:00",
          "2019-04-01T00:00:00",
          "2019-05-01T00:00:00",
          "2019-06-01T00:00:00",
          "2019-07-01T00:00:00",
          "2019-08-01T00:00:00",
          "2019-09-01T00:00:00",
          "2019-10-01T00:00:00",
          "2019-11-01T00:00:00",
          "2019-12-01T00:00:00",
          "2020-01-01T00:00:00",
          "2020-02-01T00:00:00",
          "2020-03-01T00:00:00",
          "2020-04-01T00:00:00",
          "2020-05-01T00:00:00",
          "2020-06-01T00:00:00",
          "2020-07-01T00:00:00",
          "2020-08-01T00:00:00",
          "2020-09-01T00:00:00",
          "2020-10-01T00:00:00",
          "2020-11-01T00:00:00",
          "2020-12-01T00:00:00",
          "2021-01-01T00:00:00",
          "2021-02-01T00:00:00",
          "2021-03-01T00:00:00",
          "2021-04-01T00:00:00",
          "2021-05-01T00:00:00",
          "2021-06-01T00:00:00",
          "2021-07-01T00:00:00",
          "2021-08-01T00:00:00",
          "2021-09-01T00:00:00",
          "2021-10-01T00:00:00",
          "2021-11-01T00:00:00",
          "2021-12-01T00:00:00",
          "2022-01-01T00:00:00"
         ],
         "xaxis": "x",
         "y": [
          1329472,
          1318752,
          1414724,
          1433632,
          1381416,
          1290232,
          1275304,
          1335164,
          1319240,
          1335460,
          1327736,
          1318160,
          1331576,
          1355384,
          1418312,
          1426176,
          1414008,
          1294672,
          1336176,
          1384780,
          1375880,
          1408640,
          1408204,
          1421744,
          1430776,
          1435804,
          1496528,
          1494376,
          1470364,
          1378588,
          1429084,
          1492904,
          1472224,
          1495892,
          1506620,
          1492188,
          1502756,
          1537180,
          1611820,
          1667728,
          1573312,
          1500368,
          1495780,
          1578768,
          1577520,
          1601740,
          1589584,
          1585656,
          1285528,
          1598848,
          1663212,
          1439616,
          1579588,
          1511568,
          1524360,
          1594676,
          1612708,
          1615592,
          1639708,
          1641248,
          1659584,
          1677020,
          1720652,
          1765712,
          1699052,
          1600284,
          1643388,
          1683624,
          1694104,
          1719640,
          1697248,
          1731476,
          1709868,
          1719000,
          1780412,
          1784032,
          1741588,
          1649136,
          1689256,
          1786600,
          1726140,
          1738940,
          1730828,
          1743892,
          1712812,
          1709812,
          1762416,
          1754008,
          1733536,
          1621136,
          1619308,
          1691048,
          1678840,
          1660064,
          1685116,
          1690616,
          1679788,
          1672280,
          1688804,
          1705968,
          1693056,
          1564876,
          1580888,
          1773265,
          1633436,
          1829799,
          1524645,
          1461470,
          1590125,
          1487721,
          1650099,
          1702928,
          1704785,
          1638553,
          1672906,
          1721642,
          1653261,
          1780084,
          1521233,
          1456963,
          1559801,
          1496135,
          681632,
          105228,
          122765,
          174954,
          198998,
          194876,
          202828,
          233368,
          208664,
          190821,
          174506,
          186102,
          232898,
          251324,
          279896,
          334434,
          375287,
          414514,
          458655,
          479018,
          466268,
          444311,
          364404
         ],
         "yaxis": "y"
        },
        {
         "mode": "lines",
         "name": "trend",
         "opacity": 0.8,
         "showlegend": false,
         "type": "scatter",
         "x": [
          "2010-01-01T00:00:00",
          "2010-02-01T00:00:00",
          "2010-03-01T00:00:00",
          "2010-04-01T00:00:00",
          "2010-05-01T00:00:00",
          "2010-06-01T00:00:00",
          "2010-07-01T00:00:00",
          "2010-08-01T00:00:00",
          "2010-09-01T00:00:00",
          "2010-10-01T00:00:00",
          "2010-11-01T00:00:00",
          "2010-12-01T00:00:00",
          "2011-01-01T00:00:00",
          "2011-02-01T00:00:00",
          "2011-03-01T00:00:00",
          "2011-04-01T00:00:00",
          "2011-05-01T00:00:00",
          "2011-06-01T00:00:00",
          "2011-07-01T00:00:00",
          "2011-08-01T00:00:00",
          "2011-09-01T00:00:00",
          "2011-10-01T00:00:00",
          "2011-11-01T00:00:00",
          "2011-12-01T00:00:00",
          "2012-01-01T00:00:00",
          "2012-02-01T00:00:00",
          "2012-03-01T00:00:00",
          "2012-04-01T00:00:00",
          "2012-05-01T00:00:00",
          "2012-06-01T00:00:00",
          "2012-07-01T00:00:00",
          "2012-08-01T00:00:00",
          "2012-09-01T00:00:00",
          "2012-10-01T00:00:00",
          "2012-11-01T00:00:00",
          "2012-12-01T00:00:00",
          "2013-01-01T00:00:00",
          "2013-02-01T00:00:00",
          "2013-03-01T00:00:00",
          "2013-04-01T00:00:00",
          "2013-05-01T00:00:00",
          "2013-06-01T00:00:00",
          "2013-07-01T00:00:00",
          "2013-08-01T00:00:00",
          "2013-09-01T00:00:00",
          "2013-10-01T00:00:00",
          "2013-11-01T00:00:00",
          "2013-12-01T00:00:00",
          "2014-01-01T00:00:00",
          "2014-02-01T00:00:00",
          "2014-03-01T00:00:00",
          "2014-04-01T00:00:00",
          "2014-05-01T00:00:00",
          "2014-06-01T00:00:00",
          "2014-07-01T00:00:00",
          "2014-08-01T00:00:00",
          "2014-09-01T00:00:00",
          "2014-10-01T00:00:00",
          "2014-11-01T00:00:00",
          "2014-12-01T00:00:00",
          "2015-01-01T00:00:00",
          "2015-02-01T00:00:00",
          "2015-03-01T00:00:00",
          "2015-04-01T00:00:00",
          "2015-05-01T00:00:00",
          "2015-06-01T00:00:00",
          "2015-07-01T00:00:00",
          "2015-08-01T00:00:00",
          "2015-09-01T00:00:00",
          "2015-10-01T00:00:00",
          "2015-11-01T00:00:00",
          "2015-12-01T00:00:00",
          "2016-01-01T00:00:00",
          "2016-02-01T00:00:00",
          "2016-03-01T00:00:00",
          "2016-04-01T00:00:00",
          "2016-05-01T00:00:00",
          "2016-06-01T00:00:00",
          "2016-07-01T00:00:00",
          "2016-08-01T00:00:00",
          "2016-09-01T00:00:00",
          "2016-10-01T00:00:00",
          "2016-11-01T00:00:00",
          "2016-12-01T00:00:00",
          "2017-01-01T00:00:00",
          "2017-02-01T00:00:00",
          "2017-03-01T00:00:00",
          "2017-04-01T00:00:00",
          "2017-05-01T00:00:00",
          "2017-06-01T00:00:00",
          "2017-07-01T00:00:00",
          "2017-08-01T00:00:00",
          "2017-09-01T00:00:00",
          "2017-10-01T00:00:00",
          "2017-11-01T00:00:00",
          "2017-12-01T00:00:00",
          "2018-01-01T00:00:00",
          "2018-02-01T00:00:00",
          "2018-03-01T00:00:00",
          "2018-04-01T00:00:00",
          "2018-05-01T00:00:00",
          "2018-06-01T00:00:00",
          "2018-07-01T00:00:00",
          "2018-08-01T00:00:00",
          "2018-09-01T00:00:00",
          "2018-10-01T00:00:00",
          "2018-11-01T00:00:00",
          "2018-12-01T00:00:00",
          "2019-01-01T00:00:00",
          "2019-02-01T00:00:00",
          "2019-03-01T00:00:00",
          "2019-04-01T00:00:00",
          "2019-05-01T00:00:00",
          "2019-06-01T00:00:00",
          "2019-07-01T00:00:00",
          "2019-08-01T00:00:00",
          "2019-09-01T00:00:00",
          "2019-10-01T00:00:00",
          "2019-11-01T00:00:00",
          "2019-12-01T00:00:00",
          "2020-01-01T00:00:00",
          "2020-02-01T00:00:00",
          "2020-03-01T00:00:00",
          "2020-04-01T00:00:00",
          "2020-05-01T00:00:00",
          "2020-06-01T00:00:00",
          "2020-07-01T00:00:00",
          "2020-08-01T00:00:00",
          "2020-09-01T00:00:00",
          "2020-10-01T00:00:00",
          "2020-11-01T00:00:00",
          "2020-12-01T00:00:00",
          "2021-01-01T00:00:00",
          "2021-02-01T00:00:00",
          "2021-03-01T00:00:00",
          "2021-04-01T00:00:00",
          "2021-05-01T00:00:00",
          "2021-06-01T00:00:00",
          "2021-07-01T00:00:00",
          "2021-08-01T00:00:00",
          "2021-09-01T00:00:00",
          "2021-10-01T00:00:00",
          "2021-11-01T00:00:00",
          "2021-12-01T00:00:00",
          "2022-01-01T00:00:00"
         ],
         "xaxis": "x2",
         "y": [
          0,
          -92.68586009035492,
          -176.40212081724715,
          -269.08798090785024,
          -358.7839745437176,
          -451.46983463407247,
          -541.165828270188,
          -633.8516883605429,
          -726.537548451146,
          -816.2335420870133,
          -908.9194021773683,
          -998.6153958134837,
          -1091.3012559038386,
          -1183.9871159941936,
          -1267.7033767210858,
          -1360.3892368116888,
          -1450.0852304475561,
          -1542.771090537911,
          -1632.4670841740267,
          -1725.1529442643816,
          -1817.8388043549846,
          -1907.534797990852,
          -2000.220658081207,
          -2089.9166517173226,
          -2182.6025118076773,
          -2275.035131843148,
          -2361.5043570379326,
          -2453.9369770734033,
          -2543.3878996884073,
          -2635.820519724126,
          -2725.2714423391294,
          -2817.7040623746,
          -2910.1366824103193,
          -2999.587605025323,
          -3092.0202250607936,
          -3181.4711476760453,
          -3273.9037677115157,
          -3366.589627801871,
          -3450.3058885287633,
          -3542.9917486193663,
          -3632.6877422552334,
          -3725.3736023455886,
          -3815.069595981704,
          -3907.7554560720587,
          -4000.4413161626617,
          -4090.1373097985293,
          -4182.823169888884,
          -4272.519163524999,
          -4365.205023615355,
          -4457.89088370571,
          -4541.607144432602,
          -4634.293004523205,
          -4723.988998159072,
          -4816.674858249427,
          -4906.370851885543,
          -4999.056711975897,
          -5091.7425720665005,
          -5181.438565702368,
          -5274.124425792723,
          -5363.820419428838,
          -5456.506279519193,
          -5549.192139609548,
          -5632.9084003364405,
          -5725.594260427043,
          -5815.290254062911,
          -5907.976114153265,
          -5997.672107789381,
          -6090.357967879736,
          -6183.043827970339,
          -6272.7398216062065,
          -6365.425681696562,
          -6455.121675332677,
          -6547.807535423031,
          -6640.240155458502,
          -6726.709380653288,
          -6819.142000688758,
          -6908.592923303761,
          -7001.0255433394805,
          -7090.476465954484,
          -7182.909085989955,
          -7275.341706025673,
          -7364.792628640677,
          -7457.225248676148,
          -7546.676171291399,
          -7639.10879132687,
          -7731.794651417225,
          -7815.510912144117,
          -7908.196772234721,
          -7997.892765870588,
          -8090.578625960943,
          -8180.2746195970585,
          -8272.960479687414,
          -8365.646339778017,
          -8455.342333413884,
          -8548.028193504239,
          -8637.724187140355,
          -8730.41004723071,
          -8823.095907321063,
          -8906.812168047956,
          -8999.49802813856,
          -9089.194021774427,
          -9181.879881864781,
          -9271.575875500897,
          -9364.261735591252,
          -9456.947595681855,
          -9546.643589317722,
          -9639.329449408076,
          -9729.025443044193,
          -9821.711303134547,
          -9914.397163224903,
          -9998.113423951794,
          -10090.799284042398,
          -10180.495277678265,
          -10273.18113776862,
          -10362.877131404735,
          -10455.562991495091,
          -10548.248851585693,
          -10637.94484522156,
          -10730.630705311916,
          -10820.32669894803,
          -10913.012559038387,
          -11005.445179073857,
          -11091.914404268642,
          -11184.347024304112,
          -11273.797946919116,
          -11366.230566954835,
          -11455.681489569839,
          -11548.114109605309,
          -11640.546729641028,
          -11729.997652256032,
          -11822.430272291502,
          -11911.881194906755,
          -12004.313814942225,
          -12096.999675032579,
          -12180.715935759472,
          -12273.401795850075,
          -12363.097789485942,
          -12455.783649576297,
          -12545.479643212413,
          -12638.165503302767,
          -12730.85136339337,
          -12820.547357029238,
          -12913.233217119594,
          -13002.929210755708,
          -13095.615070846063
         ],
         "yaxis": "y2"
        },
        {
         "mode": "lines",
         "name": "events",
         "opacity": 0.8,
         "showlegend": false,
         "type": "scatter",
         "x": [
          "2010-01-01T00:00:00",
          "2010-02-01T00:00:00",
          "2010-03-01T00:00:00",
          "2010-04-01T00:00:00",
          "2010-05-01T00:00:00",
          "2010-06-01T00:00:00",
          "2010-07-01T00:00:00",
          "2010-08-01T00:00:00",
          "2010-09-01T00:00:00",
          "2010-10-01T00:00:00",
          "2010-11-01T00:00:00",
          "2010-12-01T00:00:00",
          "2011-01-01T00:00:00",
          "2011-02-01T00:00:00",
          "2011-03-01T00:00:00",
          "2011-04-01T00:00:00",
          "2011-05-01T00:00:00",
          "2011-06-01T00:00:00",
          "2011-07-01T00:00:00",
          "2011-08-01T00:00:00",
          "2011-09-01T00:00:00",
          "2011-10-01T00:00:00",
          "2011-11-01T00:00:00",
          "2011-12-01T00:00:00",
          "2012-01-01T00:00:00",
          "2012-02-01T00:00:00",
          "2012-03-01T00:00:00",
          "2012-04-01T00:00:00",
          "2012-05-01T00:00:00",
          "2012-06-01T00:00:00",
          "2012-07-01T00:00:00",
          "2012-08-01T00:00:00",
          "2012-09-01T00:00:00",
          "2012-10-01T00:00:00",
          "2012-11-01T00:00:00",
          "2012-12-01T00:00:00",
          "2013-01-01T00:00:00",
          "2013-02-01T00:00:00",
          "2013-03-01T00:00:00",
          "2013-04-01T00:00:00",
          "2013-05-01T00:00:00",
          "2013-06-01T00:00:00",
          "2013-07-01T00:00:00",
          "2013-08-01T00:00:00",
          "2013-09-01T00:00:00",
          "2013-10-01T00:00:00",
          "2013-11-01T00:00:00",
          "2013-12-01T00:00:00",
          "2014-01-01T00:00:00",
          "2014-02-01T00:00:00",
          "2014-03-01T00:00:00",
          "2014-04-01T00:00:00",
          "2014-05-01T00:00:00",
          "2014-06-01T00:00:00",
          "2014-07-01T00:00:00",
          "2014-08-01T00:00:00",
          "2014-09-01T00:00:00",
          "2014-10-01T00:00:00",
          "2014-11-01T00:00:00",
          "2014-12-01T00:00:00",
          "2015-01-01T00:00:00",
          "2015-02-01T00:00:00",
          "2015-03-01T00:00:00",
          "2015-04-01T00:00:00",
          "2015-05-01T00:00:00",
          "2015-06-01T00:00:00",
          "2015-07-01T00:00:00",
          "2015-08-01T00:00:00",
          "2015-09-01T00:00:00",
          "2015-10-01T00:00:00",
          "2015-11-01T00:00:00",
          "2015-12-01T00:00:00",
          "2016-01-01T00:00:00",
          "2016-02-01T00:00:00",
          "2016-03-01T00:00:00",
          "2016-04-01T00:00:00",
          "2016-05-01T00:00:00",
          "2016-06-01T00:00:00",
          "2016-07-01T00:00:00",
          "2016-08-01T00:00:00",
          "2016-09-01T00:00:00",
          "2016-10-01T00:00:00",
          "2016-11-01T00:00:00",
          "2016-12-01T00:00:00",
          "2017-01-01T00:00:00",
          "2017-02-01T00:00:00",
          "2017-03-01T00:00:00",
          "2017-04-01T00:00:00",
          "2017-05-01T00:00:00",
          "2017-06-01T00:00:00",
          "2017-07-01T00:00:00",
          "2017-08-01T00:00:00",
          "2017-09-01T00:00:00",
          "2017-10-01T00:00:00",
          "2017-11-01T00:00:00",
          "2017-12-01T00:00:00",
          "2018-01-01T00:00:00",
          "2018-02-01T00:00:00",
          "2018-03-01T00:00:00",
          "2018-04-01T00:00:00",
          "2018-05-01T00:00:00",
          "2018-06-01T00:00:00",
          "2018-07-01T00:00:00",
          "2018-08-01T00:00:00",
          "2018-09-01T00:00:00",
          "2018-10-01T00:00:00",
          "2018-11-01T00:00:00",
          "2018-12-01T00:00:00",
          "2019-01-01T00:00:00",
          "2019-02-01T00:00:00",
          "2019-03-01T00:00:00",
          "2019-04-01T00:00:00",
          "2019-05-01T00:00:00",
          "2019-06-01T00:00:00",
          "2019-07-01T00:00:00",
          "2019-08-01T00:00:00",
          "2019-09-01T00:00:00",
          "2019-10-01T00:00:00",
          "2019-11-01T00:00:00",
          "2019-12-01T00:00:00",
          "2020-01-01T00:00:00",
          "2020-02-01T00:00:00",
          "2020-03-01T00:00:00",
          "2020-04-01T00:00:00",
          "2020-05-01T00:00:00",
          "2020-06-01T00:00:00",
          "2020-07-01T00:00:00",
          "2020-08-01T00:00:00",
          "2020-09-01T00:00:00",
          "2020-10-01T00:00:00",
          "2020-11-01T00:00:00",
          "2020-12-01T00:00:00",
          "2021-01-01T00:00:00",
          "2021-02-01T00:00:00",
          "2021-03-01T00:00:00",
          "2021-04-01T00:00:00",
          "2021-05-01T00:00:00",
          "2021-06-01T00:00:00",
          "2021-07-01T00:00:00",
          "2021-08-01T00:00:00",
          "2021-09-01T00:00:00",
          "2021-10-01T00:00:00",
          "2021-11-01T00:00:00",
          "2021-12-01T00:00:00",
          "2022-01-01T00:00:00"
         ],
         "xaxis": "x3",
         "y": [
          -5.766192713660605,
          0,
          -39.47490444344295,
          -18.91490634270204,
          -28.196108593375985,
          -50.596128690354625,
          0,
          7.7612611479576605,
          -0.562167684956022,
          -22.57409947223782,
          -0.6310396863112269,
          -39.47490444344295,
          -67.18415694303015,
          -0.18330264797736984,
          0,
          0,
          0.9460446555522477,
          9.22453584690737,
          0,
          -8.392300834268887,
          -47.86720527771184,
          -22.57409947223782,
          -0.6310396863112269,
          -39.47490444344295,
          -27.709252499587198,
          0,
          0,
          -8.392300834268887,
          -6.253048807449391,
          0,
          0,
          0,
          3.68222849388346,
          -62.04900391568077,
          -0.6310396863112269,
          -39.47490444344295,
          -5.766192713660605,
          0,
          0,
          -47.86720527771184,
          -6.253048807449391,
          0,
          0,
          0,
          4.955229092768046,
          -22.57409947223782,
          -22.57409947223782,
          -39.47490444344295,
          -5.766192713660605,
          6.852018109476512,
          0,
          0,
          -6.253048807449391,
          7.7612611479576605,
          0,
          -0.562167684956022,
          2.1392520268194963,
          -22.57409947223782,
          -22.57409947223782,
          -39.47490444344295,
          -27.709252499587198,
          0,
          0,
          11.72653547304341,
          -6.253048807449391,
          0,
          -21.943059785926593,
          -21.943059785926593,
          -39.47490444344295,
          -22.57409947223782,
          -0.6310396863112269,
          -39.47490444344295,
          -5.766192713660605,
          0,
          0,
          0,
          1.508212340508269,
          1.46327469894971,
          0,
          -8.392300834268887,
          0,
          -22.57409947223782,
          -1.193207371267249,
          -39.47490444344295,
          -27.709252499587198,
          3.4264193301570796,
          0,
          0,
          -6.253048807449391,
          -0.562167684956022,
          0,
          0,
          7.7612611479576605,
          -22.57409947223782,
          -0.6310396863112269,
          -47.86720527771184,
          -5.766192713660605,
          0,
          7.7612611479576605,
          2.7696232455739107,
          -6.253048807449391,
          0,
          0,
          0,
          3.68222849388346,
          -22.57409947223782,
          -0.6310396863112269,
          -39.47490444344295,
          -5.766192713660605,
          0,
          0,
          0,
          -6.253048807449391,
          -0.562167684956022,
          0,
          0,
          4.955229092768046,
          -22.57409947223782,
          -0.6310396863112269,
          -39.47490444344295,
          -5.766192713660605,
          0,
          0,
          0,
          -6.253048807449391,
          -47.86720527771184,
          -21.943059785926593,
          -21.943059785926593,
          -39.47490444344295,
          -22.57409947223782,
          -0.6310396863112269,
          -39.47490444344295,
          -5.766192713660605,
          0,
          0,
          -18.91490634270204,
          -28.196108593375985,
          -50.596128690354625,
          0,
          7.7612611479576605,
          -0.562167684956022,
          -22.57409947223782,
          -0.6310396863112269,
          -39.47490444344295,
          -67.18415694303015
         ],
         "yaxis": "y3"
        }
       ],
       "layout": {
        "height": 1050,
        "showlegend": true,
        "template": {
         "data": {
          "bar": [
           {
            "error_x": {
             "color": "#2a3f5f"
            },
            "error_y": {
             "color": "#2a3f5f"
            },
            "marker": {
             "line": {
              "color": "#E5ECF6",
              "width": 0.5
             },
             "pattern": {
              "fillmode": "overlay",
              "size": 10,
              "solidity": 0.2
             }
            },
            "type": "bar"
           }
          ],
          "barpolar": [
           {
            "marker": {
             "line": {
              "color": "#E5ECF6",
              "width": 0.5
             },
             "pattern": {
              "fillmode": "overlay",
              "size": 10,
              "solidity": 0.2
             }
            },
            "type": "barpolar"
           }
          ],
          "carpet": [
           {
            "aaxis": {
             "endlinecolor": "#2a3f5f",
             "gridcolor": "white",
             "linecolor": "white",
             "minorgridcolor": "white",
             "startlinecolor": "#2a3f5f"
            },
            "baxis": {
             "endlinecolor": "#2a3f5f",
             "gridcolor": "white",
             "linecolor": "white",
             "minorgridcolor": "white",
             "startlinecolor": "#2a3f5f"
            },
            "type": "carpet"
           }
          ],
          "choropleth": [
           {
            "colorbar": {
             "outlinewidth": 0,
             "ticks": ""
            },
            "type": "choropleth"
           }
          ],
          "contour": [
           {
            "colorbar": {
             "outlinewidth": 0,
             "ticks": ""
            },
            "colorscale": [
             [
              0,
              "#0d0887"
             ],
             [
              0.1111111111111111,
              "#46039f"
             ],
             [
              0.2222222222222222,
              "#7201a8"
             ],
             [
              0.3333333333333333,
              "#9c179e"
             ],
             [
              0.4444444444444444,
              "#bd3786"
             ],
             [
              0.5555555555555556,
              "#d8576b"
             ],
             [
              0.6666666666666666,
              "#ed7953"
             ],
             [
              0.7777777777777778,
              "#fb9f3a"
             ],
             [
              0.8888888888888888,
              "#fdca26"
             ],
             [
              1,
              "#f0f921"
             ]
            ],
            "type": "contour"
           }
          ],
          "contourcarpet": [
           {
            "colorbar": {
             "outlinewidth": 0,
             "ticks": ""
            },
            "type": "contourcarpet"
           }
          ],
          "heatmap": [
           {
            "colorbar": {
             "outlinewidth": 0,
             "ticks": ""
            },
            "colorscale": [
             [
              0,
              "#0d0887"
             ],
             [
              0.1111111111111111,
              "#46039f"
             ],
             [
              0.2222222222222222,
              "#7201a8"
             ],
             [
              0.3333333333333333,
              "#9c179e"
             ],
             [
              0.4444444444444444,
              "#bd3786"
             ],
             [
              0.5555555555555556,
              "#d8576b"
             ],
             [
              0.6666666666666666,
              "#ed7953"
             ],
             [
              0.7777777777777778,
              "#fb9f3a"
             ],
             [
              0.8888888888888888,
              "#fdca26"
             ],
             [
              1,
              "#f0f921"
             ]
            ],
            "type": "heatmap"
           }
          ],
          "heatmapgl": [
           {
            "colorbar": {
             "outlinewidth": 0,
             "ticks": ""
            },
            "colorscale": [
             [
              0,
              "#0d0887"
             ],
             [
              0.1111111111111111,
              "#46039f"
             ],
             [
              0.2222222222222222,
              "#7201a8"
             ],
             [
              0.3333333333333333,
              "#9c179e"
             ],
             [
              0.4444444444444444,
              "#bd3786"
             ],
             [
              0.5555555555555556,
              "#d8576b"
             ],
             [
              0.6666666666666666,
              "#ed7953"
             ],
             [
              0.7777777777777778,
              "#fb9f3a"
             ],
             [
              0.8888888888888888,
              "#fdca26"
             ],
             [
              1,
              "#f0f921"
             ]
            ],
            "type": "heatmapgl"
           }
          ],
          "histogram": [
           {
            "marker": {
             "pattern": {
              "fillmode": "overlay",
              "size": 10,
              "solidity": 0.2
             }
            },
            "type": "histogram"
           }
          ],
          "histogram2d": [
           {
            "colorbar": {
             "outlinewidth": 0,
             "ticks": ""
            },
            "colorscale": [
             [
              0,
              "#0d0887"
             ],
             [
              0.1111111111111111,
              "#46039f"
             ],
             [
              0.2222222222222222,
              "#7201a8"
             ],
             [
              0.3333333333333333,
              "#9c179e"
             ],
             [
              0.4444444444444444,
              "#bd3786"
             ],
             [
              0.5555555555555556,
              "#d8576b"
             ],
             [
              0.6666666666666666,
              "#ed7953"
             ],
             [
              0.7777777777777778,
              "#fb9f3a"
             ],
             [
              0.8888888888888888,
              "#fdca26"
             ],
             [
              1,
              "#f0f921"
             ]
            ],
            "type": "histogram2d"
           }
          ],
          "histogram2dcontour": [
           {
            "colorbar": {
             "outlinewidth": 0,
             "ticks": ""
            },
            "colorscale": [
             [
              0,
              "#0d0887"
             ],
             [
              0.1111111111111111,
              "#46039f"
             ],
             [
              0.2222222222222222,
              "#7201a8"
             ],
             [
              0.3333333333333333,
              "#9c179e"
             ],
             [
              0.4444444444444444,
              "#bd3786"
             ],
             [
              0.5555555555555556,
              "#d8576b"
             ],
             [
              0.6666666666666666,
              "#ed7953"
             ],
             [
              0.7777777777777778,
              "#fb9f3a"
             ],
             [
              0.8888888888888888,
              "#fdca26"
             ],
             [
              1,
              "#f0f921"
             ]
            ],
            "type": "histogram2dcontour"
           }
          ],
          "mesh3d": [
           {
            "colorbar": {
             "outlinewidth": 0,
             "ticks": ""
            },
            "type": "mesh3d"
           }
          ],
          "parcoords": [
           {
            "line": {
             "colorbar": {
              "outlinewidth": 0,
              "ticks": ""
             }
            },
            "type": "parcoords"
           }
          ],
          "pie": [
           {
            "automargin": true,
            "type": "pie"
           }
          ],
          "scatter": [
           {
            "fillpattern": {
             "fillmode": "overlay",
             "size": 10,
             "solidity": 0.2
            },
            "type": "scatter"
           }
          ],
          "scatter3d": [
           {
            "line": {
             "colorbar": {
              "outlinewidth": 0,
              "ticks": ""
             }
            },
            "marker": {
             "colorbar": {
              "outlinewidth": 0,
              "ticks": ""
             }
            },
            "type": "scatter3d"
           }
          ],
          "scattercarpet": [
           {
            "marker": {
             "colorbar": {
              "outlinewidth": 0,
              "ticks": ""
             }
            },
            "type": "scattercarpet"
           }
          ],
          "scattergeo": [
           {
            "marker": {
             "colorbar": {
              "outlinewidth": 0,
              "ticks": ""
             }
            },
            "type": "scattergeo"
           }
          ],
          "scattergl": [
           {
            "marker": {
             "colorbar": {
              "outlinewidth": 0,
              "ticks": ""
             }
            },
            "type": "scattergl"
           }
          ],
          "scattermapbox": [
           {
            "marker": {
             "colorbar": {
              "outlinewidth": 0,
              "ticks": ""
             }
            },
            "type": "scattermapbox"
           }
          ],
          "scatterpolar": [
           {
            "marker": {
             "colorbar": {
              "outlinewidth": 0,
              "ticks": ""
             }
            },
            "type": "scatterpolar"
           }
          ],
          "scatterpolargl": [
           {
            "marker": {
             "colorbar": {
              "outlinewidth": 0,
              "ticks": ""
             }
            },
            "type": "scatterpolargl"
           }
          ],
          "scatterternary": [
           {
            "marker": {
             "colorbar": {
              "outlinewidth": 0,
              "ticks": ""
             }
            },
            "type": "scatterternary"
           }
          ],
          "surface": [
           {
            "colorbar": {
             "outlinewidth": 0,
             "ticks": ""
            },
            "colorscale": [
             [
              0,
              "#0d0887"
             ],
             [
              0.1111111111111111,
              "#46039f"
             ],
             [
              0.2222222222222222,
              "#7201a8"
             ],
             [
              0.3333333333333333,
              "#9c179e"
             ],
             [
              0.4444444444444444,
              "#bd3786"
             ],
             [
              0.5555555555555556,
              "#d8576b"
             ],
             [
              0.6666666666666666,
              "#ed7953"
             ],
             [
              0.7777777777777778,
              "#fb9f3a"
             ],
             [
              0.8888888888888888,
              "#fdca26"
             ],
             [
              1,
              "#f0f921"
             ]
            ],
            "type": "surface"
           }
          ],
          "table": [
           {
            "cells": {
             "fill": {
              "color": "#EBF0F8"
             },
             "line": {
              "color": "white"
             }
            },
            "header": {
             "fill": {
              "color": "#C8D4E3"
             },
             "line": {
              "color": "white"
             }
            },
            "type": "table"
           }
          ]
         },
         "layout": {
          "annotationdefaults": {
           "arrowcolor": "#2a3f5f",
           "arrowhead": 0,
           "arrowwidth": 1
          },
          "autotypenumbers": "strict",
          "coloraxis": {
           "colorbar": {
            "outlinewidth": 0,
            "ticks": ""
           }
          },
          "colorscale": {
           "diverging": [
            [
             0,
             "#8e0152"
            ],
            [
             0.1,
             "#c51b7d"
            ],
            [
             0.2,
             "#de77ae"
            ],
            [
             0.3,
             "#f1b6da"
            ],
            [
             0.4,
             "#fde0ef"
            ],
            [
             0.5,
             "#f7f7f7"
            ],
            [
             0.6,
             "#e6f5d0"
            ],
            [
             0.7,
             "#b8e186"
            ],
            [
             0.8,
             "#7fbc41"
            ],
            [
             0.9,
             "#4d9221"
            ],
            [
             1,
             "#276419"
            ]
           ],
           "sequential": [
            [
             0,
             "#0d0887"
            ],
            [
             0.1111111111111111,
             "#46039f"
            ],
            [
             0.2222222222222222,
             "#7201a8"
            ],
            [
             0.3333333333333333,
             "#9c179e"
            ],
            [
             0.4444444444444444,
             "#bd3786"
            ],
            [
             0.5555555555555556,
             "#d8576b"
            ],
            [
             0.6666666666666666,
             "#ed7953"
            ],
            [
             0.7777777777777778,
             "#fb9f3a"
            ],
            [
             0.8888888888888888,
             "#fdca26"
            ],
            [
             1,
             "#f0f921"
            ]
           ],
           "sequentialminus": [
            [
             0,
             "#0d0887"
            ],
            [
             0.1111111111111111,
             "#46039f"
            ],
            [
             0.2222222222222222,
             "#7201a8"
            ],
            [
             0.3333333333333333,
             "#9c179e"
            ],
            [
             0.4444444444444444,
             "#bd3786"
            ],
            [
             0.5555555555555556,
             "#d8576b"
            ],
            [
             0.6666666666666666,
             "#ed7953"
            ],
            [
             0.7777777777777778,
             "#fb9f3a"
            ],
            [
             0.8888888888888888,
             "#fdca26"
            ],
            [
             1,
             "#f0f921"
            ]
           ]
          },
          "colorway": [
           "#636efa",
           "#EF553B",
           "#00cc96",
           "#ab63fa",
           "#FFA15A",
           "#19d3f3",
           "#FF6692",
           "#B6E880",
           "#FF97FF",
           "#FECB52"
          ],
          "font": {
           "color": "#2a3f5f"
          },
          "geo": {
           "bgcolor": "white",
           "lakecolor": "white",
           "landcolor": "#E5ECF6",
           "showlakes": true,
           "showland": true,
           "subunitcolor": "white"
          },
          "hoverlabel": {
           "align": "left"
          },
          "hovermode": "closest",
          "mapbox": {
           "style": "light"
          },
          "paper_bgcolor": "white",
          "plot_bgcolor": "#E5ECF6",
          "polar": {
           "angularaxis": {
            "gridcolor": "white",
            "linecolor": "white",
            "ticks": ""
           },
           "bgcolor": "#E5ECF6",
           "radialaxis": {
            "gridcolor": "white",
            "linecolor": "white",
            "ticks": ""
           }
          },
          "scene": {
           "xaxis": {
            "backgroundcolor": "#E5ECF6",
            "gridcolor": "white",
            "gridwidth": 2,
            "linecolor": "white",
            "showbackground": true,
            "ticks": "",
            "zerolinecolor": "white"
           },
           "yaxis": {
            "backgroundcolor": "#E5ECF6",
            "gridcolor": "white",
            "gridwidth": 2,
            "linecolor": "white",
            "showbackground": true,
            "ticks": "",
            "zerolinecolor": "white"
           },
           "zaxis": {
            "backgroundcolor": "#E5ECF6",
            "gridcolor": "white",
            "gridwidth": 2,
            "linecolor": "white",
            "showbackground": true,
            "ticks": "",
            "zerolinecolor": "white"
           }
          },
          "shapedefaults": {
           "line": {
            "color": "#2a3f5f"
           }
          },
          "ternary": {
           "aaxis": {
            "gridcolor": "white",
            "linecolor": "white",
            "ticks": ""
           },
           "baxis": {
            "gridcolor": "white",
            "linecolor": "white",
            "ticks": ""
           },
           "bgcolor": "#E5ECF6",
           "caxis": {
            "gridcolor": "white",
            "linecolor": "white",
            "ticks": ""
           }
          },
          "title": {
           "x": 0.05
          },
          "xaxis": {
           "automargin": true,
           "gridcolor": "white",
           "linecolor": "white",
           "ticks": "",
           "title": {
            "standoff": 15
           },
           "zerolinecolor": "white",
           "zerolinewidth": 2
          },
          "yaxis": {
           "automargin": true,
           "gridcolor": "white",
           "linecolor": "white",
           "ticks": "",
           "title": {
            "standoff": 15
           },
           "zerolinecolor": "white",
           "zerolinewidth": 2
          }
         }
        },
        "title": {
         "text": "Component plots",
         "x": 0.5
        },
        "xaxis": {
         "anchor": "y",
         "domain": [
          0,
          1
         ],
         "mirror": true,
         "showline": true,
         "title": {
          "text": "ts"
         }
        },
        "xaxis2": {
         "anchor": "y2",
         "domain": [
          0,
          1
         ],
         "mirror": true,
         "showline": true,
         "title": {
          "text": "ts"
         }
        },
        "xaxis3": {
         "anchor": "y3",
         "domain": [
          0,
          1
         ],
         "mirror": true,
         "showline": true,
         "title": {
          "text": "ts"
         }
        },
        "yaxis": {
         "anchor": "x",
         "domain": [
          0.7444444444444445,
          1
         ],
         "mirror": true,
         "showline": true,
         "title": {
          "text": "y"
         }
        },
        "yaxis2": {
         "anchor": "x2",
         "domain": [
          0.37222222222222223,
          0.6277777777777778
         ],
         "mirror": true,
         "showline": true,
         "title": {
          "text": "trend"
         }
        },
        "yaxis3": {
         "anchor": "x3",
         "domain": [
          0,
          0.2555555555555556
         ],
         "mirror": true,
         "showline": true,
         "title": {
          "text": "events"
         }
        }
       }
      }
     },
     "metadata": {},
     "output_type": "display_data"
    }
   ],
   "source": [
    " fig = forecast.plot_components()\n",
    " plotly.io.show(fig)     # fig.show() if you are using \"PROPHET\" template"
   ]
  },
  {
   "cell_type": "markdown",
   "metadata": {},
   "source": [
    "> Model summary allows inspection of individual model terms. Check parameter estimates and their significance for insights on how the model works and what can be further improved."
   ]
  },
  {
   "cell_type": "code",
   "execution_count": 171,
   "metadata": {},
   "outputs": [
    {
     "name": "stdout",
     "output_type": "stream",
     "text": [
      "================================ Model Summary =================================\n",
      "\n",
      "Number of observations: 145,   Number of features: 52\n",
      "Method: Ridge regression\n",
      "Number of nonzero features: 21\n",
      "Regularization parameter: 1.000e+05\n",
      "\n",
      "Residuals:\n",
      "         Min           1Q       Median           3Q          Max\n",
      "  -1.258e+06   -1.833e+04    1.656e+05    3.136e+05    4.645e+05\n",
      "\n",
      "            Pred_col  Estimate  Std. Err Pr(>)_boot sig. code                  95%CI\n",
      "           Intercept 1.375e+06 3.913e+04     <2e-16       *** (1.297e+06, 1.452e+06)\n",
      " events_C...New Year     2.284     2.315      0.170                      (0., 7.885)\n",
      " events_C...w Year-1     2.284     2.315      0.170                      (0., 7.885)\n",
      " events_C...w Year-2   -0.1833    0.5922      0.812                 (-1.602, 0.7487)\n",
      " events_C...w Year+1     2.284     2.315      0.170                      (0., 7.885)\n",
      " events_C...w Year+2     3.426      3.51      0.546                      (0., 11.89)\n",
      "events_Christmas Day        0.        0.      1.000                         (0., 0.)\n",
      " events_C...as Day-1        0.        0.      1.000                         (0., 0.)\n",
      " events_C...as Day-2        0.        0.      1.000                         (0., 0.)\n",
      " events_C...as Day+1        0.        0.      1.000                         (0., 0.)\n",
      " events_C...as Day+2        0.        0.      1.000                         (0., 0.)\n",
      "  events_Good Friday        0.        0.      1.000                         (0., 0.)\n",
      "events_Good Friday-1    -10.52     11.05      0.542                  (-37.51, 1.682)\n",
      "events_Good Friday-2     3.965     3.923      0.172                       (0., 13.2)\n",
      "events_Good Friday+1        0.        0.      1.000                         (0., 0.)\n",
      "events_Good Friday+2     3.401     3.262      0.180                      (0., 11.11)\n",
      " events_I...ence Day        0.        0.      1.000                         (0., 0.)\n",
      " events_I...ce Day-1        0.        0.      1.000                         (0., 0.)\n",
      " events_I...ce Day-2        0.        0.      1.000                         (0., 0.)\n",
      " events_I...ce Day+1        0.        0.      1.000                         (0., 0.)\n",
      " events_I...ce Day+2        0.        0.      1.000                         (0., 0.)\n",
      "    events_Labor Day     2.139     17.29      0.924                  (-32.61, 34.49)\n",
      "  events_Labor Day-1     4.955     3.441      0.092         .            (0., 12.67)\n",
      "  events_Labor Day-2     3.682     2.978      0.116                      (0., 10.18)\n",
      "  events_Labor Day+1        0.        0.      1.000                         (0., 0.)\n",
      "  events_Labor Day+2        0.        0.      1.000                         (0., 0.)\n",
      " events_Memorial Day        0.        0.      1.000                         (0., 0.)\n",
      " events_M...al Day-1        0.        0.      1.000                         (0., 0.)\n",
      " events_M...al Day-2        0.        0.      1.000                         (0., 0.)\n",
      " events_M...al Day+1    -11.12     10.28      0.266                     (-35.03, 0.)\n",
      " events_M...al Day+2     2.025     2.938      0.460                  (-2.297, 8.601)\n",
      "events_New Years Day    -4.573     15.96      0.752                  (-38.28, 24.27)\n",
      " events_N...rs Day-1        0.        0.      1.000                         (0., 0.)\n",
      " events_N...rs Day-2        0.        0.      1.000                         (0., 0.)\n",
      " events_N...rs Day+1        0.        0.      1.000                         (0., 0.)\n",
      " events_N...rs Day+2        0.        0.      1.000                         (0., 0.)\n",
      "        events_Other    -8.392     27.07      0.744                   (-64.34, 44.2)\n",
      "      events_Other-1     7.761     25.36      0.750                    (-42.9, 56.6)\n",
      "      events_Other-2    -21.94      25.0      0.362                  (-72.19, 26.51)\n",
      "      events_Other+1    -39.47      23.3      0.086         .        (-85.85, 2.098)\n",
      "      events_Other+2   -0.5622     18.39      0.978                  (-39.83, 31.73)\n",
      " events_Thanksgiving        0.        0.      1.000                         (0., 0.)\n",
      " events_T...giving-1        0.        0.      1.000                         (0., 0.)\n",
      " events_T...giving-2        0.        0.      1.000                         (0., 0.)\n",
      " events_T...giving+1        0.        0.      1.000                         (0., 0.)\n",
      " events_T...giving+2        0.        0.      1.000                         (0., 0.)\n",
      " events_Veterans Day        0.        0.      1.000                         (0., 0.)\n",
      " events_V...ns Day-1        0.        0.      1.000                         (0., 0.)\n",
      " events_V...ns Day-2        0.        0.      1.000                         (0., 0.)\n",
      " events_V...ns Day+1        0.        0.      1.000                         (0., 0.)\n",
      " events_V...ns Day+2        0.        0.      1.000                         (0., 0.)\n",
      "                 ct1   -1091.0     245.0     <2e-16       ***      (-1558.0, -564.7)\n",
      "Signif. Code: 0 '***' 0.001 '**' 0.01 '*' 0.05 '.' 0.1 ' ' 1\n",
      "\n",
      "Multiple R-squared: 0.006985,   Adjusted R-squared: 0.01337\n",
      "F-statistic: -0.0095521 on 0 and 144 DF,   p-value: nan\n",
      "Model AIC: 4518.9,   model BIC: 4519.1\n",
      "\n",
      "WARNING: the F-ratio and its p-value on regularized methods might be misleading, they are provided only for reference purposes.\n",
      "WARNING: the following columns have estimated coefficients equal to zero, while ridge is not supposed to have zero estimates. This is probably because these columns are degenerate in the design matrix. Make sure these columns do not have constant values.\n",
      "[\"C(Q('events_Christmas Day'), levels=['', 'event'])[T.event]\", \"C(Q('events_Christmas Day_minus_1'), levels=['', 'event'])[T.event]\", \"C(Q('events_Christmas Day_minus_2'), levels=['', 'event'])[T.event]\", \"C(Q('events_Christmas Day_plus_1'), levels=['', 'event'])[T.event]\", \"C(Q('events_Christmas Day_plus_2'), levels=['', 'event'])[T.event]\", \"C(Q('events_Good Friday'), levels=['', 'event'])[T.event]\", \"C(Q('events_Good Friday_plus_1'), levels=['', 'event'])[T.event]\", \"C(Q('events_Independence Day'), levels=['', 'event'])[T.event]\", \"C(Q('events_Independence Day_minus_1'), levels=['', 'event'])[T.event]\", \"C(Q('events_Independence Day_minus_2'), levels=['', 'event'])[T.event]\", \"C(Q('events_Independence Day_plus_1'), levels=['', 'event'])[T.event]\", \"C(Q('events_Independence Day_plus_2'), levels=['', 'event'])[T.event]\", \"C(Q('events_Labor Day_plus_1'), levels=['', 'event'])[T.event]\", \"C(Q('events_Labor Day_plus_2'), levels=['', 'event'])[T.event]\", \"C(Q('events_Memorial Day'), levels=['', 'event'])[T.event]\", \"C(Q('events_Memorial Day_minus_1'), levels=['', 'event'])[T.event]\", \"C(Q('events_Memorial Day_minus_2'), levels=['', 'event'])[T.event]\", \"C(Q('events_New Years Day_minus_1'), levels=['', 'event'])[T.event]\", \"C(Q('events_New Years Day_minus_2'), levels=['', 'event'])[T.event]\", \"C(Q('events_New Years Day_plus_1'), levels=['', 'event'])[T.event]\", \"C(Q('events_New Years Day_plus_2'), levels=['', 'event'])[T.event]\", \"C(Q('events_Thanksgiving'), levels=['', 'event'])[T.event]\", \"C(Q('events_Thanksgiving_minus_1'), levels=['', 'event'])[T.event]\", \"C(Q('events_Thanksgiving_minus_2'), levels=['', 'event'])[T.event]\", \"C(Q('events_Thanksgiving_plus_1'), levels=['', 'event'])[T.event]\", \"C(Q('events_Thanksgiving_plus_2'), levels=['', 'event'])[T.event]\", \"C(Q('events_Veterans Day'), levels=['', 'event'])[T.event]\", \"C(Q('events_Veterans Day_minus_1'), levels=['', 'event'])[T.event]\", \"C(Q('events_Veterans Day_minus_2'), levels=['', 'event'])[T.event]\", \"C(Q('events_Veterans Day_plus_1'), levels=['', 'event'])[T.event]\", \"C(Q('events_Veterans Day_plus_2'), levels=['', 'event'])[T.event]\"]\n",
      "WARNING: the following columns are degenerate, do you really want to include them in your model? This may cause some of them to show unrealistic significance. Consider using the `drop_degenerate` transformer.\n",
      "['Intercept', \"C(Q('events_Christmas Day'), levels=['', 'event'])[T.event]\", \"C(Q('events_Christmas Day_minus_1'), levels=['', 'event'])[T.event]\", \"C(Q('events_Christmas Day_minus_2'), levels=['', 'event'])[T.event]\", \"C(Q('events_Christmas Day_plus_1'), levels=['', 'event'])[T.event]\", \"C(Q('events_Christmas Day_plus_2'), levels=['', 'event'])[T.event]\", \"C(Q('events_Good Friday'), levels=['', 'event'])[T.event]\", \"C(Q('events_Good Friday_plus_1'), levels=['', 'event'])[T.event]\", \"C(Q('events_Independence Day'), levels=['', 'event'])[T.event]\", \"C(Q('events_Independence Day_minus_1'), levels=['', 'event'])[T.event]\", \"C(Q('events_Independence Day_minus_2'), levels=['', 'event'])[T.event]\", \"C(Q('events_Independence Day_plus_1'), levels=['', 'event'])[T.event]\", \"C(Q('events_Independence Day_plus_2'), levels=['', 'event'])[T.event]\", \"C(Q('events_Labor Day_plus_1'), levels=['', 'event'])[T.event]\", \"C(Q('events_Labor Day_plus_2'), levels=['', 'event'])[T.event]\", \"C(Q('events_Memorial Day'), levels=['', 'event'])[T.event]\", \"C(Q('events_Memorial Day_minus_1'), levels=['', 'event'])[T.event]\", \"C(Q('events_Memorial Day_minus_2'), levels=['', 'event'])[T.event]\", \"C(Q('events_New Years Day_minus_1'), levels=['', 'event'])[T.event]\", \"C(Q('events_New Years Day_minus_2'), levels=['', 'event'])[T.event]\", \"C(Q('events_New Years Day_plus_1'), levels=['', 'event'])[T.event]\", \"C(Q('events_New Years Day_plus_2'), levels=['', 'event'])[T.event]\", \"C(Q('events_Thanksgiving'), levels=['', 'event'])[T.event]\", \"C(Q('events_Thanksgiving_minus_1'), levels=['', 'event'])[T.event]\", \"C(Q('events_Thanksgiving_minus_2'), levels=['', 'event'])[T.event]\", \"C(Q('events_Thanksgiving_plus_1'), levels=['', 'event'])[T.event]\", \"C(Q('events_Thanksgiving_plus_2'), levels=['', 'event'])[T.event]\", \"C(Q('events_Veterans Day'), levels=['', 'event'])[T.event]\", \"C(Q('events_Veterans Day_minus_1'), levels=['', 'event'])[T.event]\", \"C(Q('events_Veterans Day_minus_2'), levels=['', 'event'])[T.event]\", \"C(Q('events_Veterans Day_plus_1'), levels=['', 'event'])[T.event]\", \"C(Q('events_Veterans Day_plus_2'), levels=['', 'event'])[T.event]\"]\n",
      "\n"
     ]
    }
   ],
   "source": [
    " summary = result.model[-1].summary()  # -1 retrieves the estimator from the pipeline\n",
    " print(summary)"
   ]
  },
  {
   "cell_type": "markdown",
   "metadata": {},
   "source": [
    "#### Apply the model\n",
    "\n",
    "The trained model is available as a fitted `sklearn.pipeline.Pipeline`"
   ]
  },
  {
   "cell_type": "code",
   "execution_count": 172,
   "metadata": {},
   "outputs": [
    {
     "data": {
      "text/plain": [
       "Pipeline(steps=[('input',\n",
       "                 PandasFeatureUnion(transformer_list=[('date',\n",
       "                                                       Pipeline(steps=[('select_date',\n",
       "                                                                        ColumnSelector(column_names=['ts']))])),\n",
       "                                                      ('response',\n",
       "                                                       Pipeline(steps=[('select_val',\n",
       "                                                                        ColumnSelector(column_names=['y'])),\n",
       "                                                                       ('outlier',\n",
       "                                                                        ZscoreOutlierTransformer()),\n",
       "                                                                       ('null',\n",
       "                                                                        NullTransformer(impute_algorithm='interpolate',\n",
       "                                                                                        impute_params={'axis': 0,\n",
       "                                                                                                       'limit_direct...\n",
       "                                                            'simple_freq': <SimpleTimeFrequencyEnum.MONTH: Frequency(default_horizon=12, seconds_per_observation=2592000, valid_seas={'YEARLY_SEASONALITY', 'QUARTERLY_SEASONALITY'})>,\n",
       "                                                            'start_year': 2010},\n",
       "                                           uncertainty_dict={'params': {'conditional_cols': None,\n",
       "                                                                        'quantile_estimation_method': 'normal_fit',\n",
       "                                                                        'quantiles': [0.025000000000000022,\n",
       "                                                                                      0.975],\n",
       "                                                                        'sample_size_thresh': 5,\n",
       "                                                                        'small_sample_size_method': 'std_quantiles',\n",
       "                                                                        'small_sample_size_quantile': 0.98},\n",
       "                                                             'uncertainty_method': 'simple_conditional_residuals'}))])"
      ]
     },
     "execution_count": 172,
     "metadata": {},
     "output_type": "execute_result"
    }
   ],
   "source": [
    " model = result.model\n",
    " model"
   ]
  },
  {
   "cell_type": "code",
   "execution_count": 173,
   "metadata": {},
   "outputs": [
    {
     "data": {
      "text/html": [
       "<div>\n",
       "<style scoped>\n",
       "    .dataframe tbody tr th:only-of-type {\n",
       "        vertical-align: middle;\n",
       "    }\n",
       "\n",
       "    .dataframe tbody tr th {\n",
       "        vertical-align: top;\n",
       "    }\n",
       "\n",
       "    .dataframe thead th {\n",
       "        text-align: right;\n",
       "    }\n",
       "</style>\n",
       "<table border=\"1\" class=\"dataframe\">\n",
       "  <thead>\n",
       "    <tr style=\"text-align: right;\">\n",
       "      <th></th>\n",
       "      <th>ts</th>\n",
       "      <th>y</th>\n",
       "    </tr>\n",
       "  </thead>\n",
       "  <tbody>\n",
       "    <tr>\n",
       "      <th>2022-02-01</th>\n",
       "      <td>2022-02-01</td>\n",
       "      <td>NaN</td>\n",
       "    </tr>\n",
       "    <tr>\n",
       "      <th>2022-03-01</th>\n",
       "      <td>2022-03-01</td>\n",
       "      <td>NaN</td>\n",
       "    </tr>\n",
       "    <tr>\n",
       "      <th>2022-04-01</th>\n",
       "      <td>2022-04-01</td>\n",
       "      <td>NaN</td>\n",
       "    </tr>\n",
       "    <tr>\n",
       "      <th>2022-05-01</th>\n",
       "      <td>2022-05-01</td>\n",
       "      <td>NaN</td>\n",
       "    </tr>\n",
       "  </tbody>\n",
       "</table>\n",
       "</div>"
      ],
      "text/plain": [
       "                   ts   y\n",
       "2022-02-01 2022-02-01 NaN\n",
       "2022-03-01 2022-03-01 NaN\n",
       "2022-04-01 2022-04-01 NaN\n",
       "2022-05-01 2022-05-01 NaN"
      ]
     },
     "execution_count": 173,
     "metadata": {},
     "output_type": "execute_result"
    }
   ],
   "source": [
    " future_df = result.timeseries.make_future_dataframe(\n",
    "     periods=4,\n",
    "     include_history=False)\n",
    " future_df"
   ]
  },
  {
   "cell_type": "markdown",
   "metadata": {},
   "source": [
    "> Call .predict() to compute predictions"
   ]
  },
  {
   "cell_type": "code",
   "execution_count": 174,
   "metadata": {},
   "outputs": [
    {
     "data": {
      "text/html": [
       "<div>\n",
       "<style scoped>\n",
       "    .dataframe tbody tr th:only-of-type {\n",
       "        vertical-align: middle;\n",
       "    }\n",
       "\n",
       "    .dataframe tbody tr th {\n",
       "        vertical-align: top;\n",
       "    }\n",
       "\n",
       "    .dataframe thead th {\n",
       "        text-align: right;\n",
       "    }\n",
       "</style>\n",
       "<table border=\"1\" class=\"dataframe\">\n",
       "  <thead>\n",
       "    <tr style=\"text-align: right;\">\n",
       "      <th></th>\n",
       "      <th>ts</th>\n",
       "      <th>forecast</th>\n",
       "      <th>forecast_lower</th>\n",
       "      <th>forecast_upper</th>\n",
       "      <th>y_quantile_summary</th>\n",
       "      <th>err_std</th>\n",
       "    </tr>\n",
       "  </thead>\n",
       "  <tbody>\n",
       "    <tr>\n",
       "      <th>0</th>\n",
       "      <td>2022-02-01</td>\n",
       "      <td>1.361715e+06</td>\n",
       "      <td>406098.358861</td>\n",
       "      <td>2.317331e+06</td>\n",
       "      <td>(406098.35886123264, 2317330.679128503)</td>\n",
       "      <td>487568.224555</td>\n",
       "    </tr>\n",
       "    <tr>\n",
       "      <th>1</th>\n",
       "      <td>2022-03-01</td>\n",
       "      <td>1.361626e+06</td>\n",
       "      <td>406010.257891</td>\n",
       "      <td>2.317243e+06</td>\n",
       "      <td>(406010.2578910806, 2317242.5781583507)</td>\n",
       "      <td>487568.224555</td>\n",
       "    </tr>\n",
       "    <tr>\n",
       "      <th>2</th>\n",
       "      <td>2022-04-01</td>\n",
       "      <td>1.361534e+06</td>\n",
       "      <td>405917.572031</td>\n",
       "      <td>2.317150e+06</td>\n",
       "      <td>(405917.57203099015, 2317149.8922982607)</td>\n",
       "      <td>487568.224555</td>\n",
       "    </tr>\n",
       "    <tr>\n",
       "      <th>3</th>\n",
       "      <td>2022-05-01</td>\n",
       "      <td>1.361424e+06</td>\n",
       "      <td>405807.441190</td>\n",
       "      <td>2.317040e+06</td>\n",
       "      <td>(405807.44118990866, 2317039.7614571787)</td>\n",
       "      <td>487568.224555</td>\n",
       "    </tr>\n",
       "  </tbody>\n",
       "</table>\n",
       "</div>"
      ],
      "text/plain": [
       "          ts      forecast  forecast_lower  forecast_upper  \\\n",
       "0 2022-02-01  1.361715e+06   406098.358861    2.317331e+06   \n",
       "1 2022-03-01  1.361626e+06   406010.257891    2.317243e+06   \n",
       "2 2022-04-01  1.361534e+06   405917.572031    2.317150e+06   \n",
       "3 2022-05-01  1.361424e+06   405807.441190    2.317040e+06   \n",
       "\n",
       "                         y_quantile_summary        err_std  \n",
       "0   (406098.35886123264, 2317330.679128503)  487568.224555  \n",
       "1   (406010.2578910806, 2317242.5781583507)  487568.224555  \n",
       "2  (405917.57203099015, 2317149.8922982607)  487568.224555  \n",
       "3  (405807.44118990866, 2317039.7614571787)  487568.224555  "
      ]
     },
     "execution_count": 174,
     "metadata": {},
     "output_type": "execute_result"
    }
   ],
   "source": [
    " model.predict(future_df)"
   ]
  }
 ],
 "metadata": {
  "interpreter": {
   "hash": "81f1dbfc92a047ffeff9f895a5dd14eda2a7b66728c7461a2bd50ee55648b736"
  },
  "kernelspec": {
   "display_name": "Python 3.8.9 64-bit",
   "language": "python",
   "name": "python3"
  },
  "language_info": {
   "codemirror_mode": {
    "name": "ipython",
    "version": 3
   },
   "file_extension": ".py",
   "mimetype": "text/x-python",
   "name": "python",
   "nbconvert_exporter": "python",
   "pygments_lexer": "ipython3",
   "version": "3.8.9"
  },
  "orig_nbformat": 4
 },
 "nbformat": 4,
 "nbformat_minor": 2
}
