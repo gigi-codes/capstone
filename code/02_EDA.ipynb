{
 "cells": [
  {
   "cell_type": "markdown",
   "metadata": {},
   "source": [
    "# 2 | Importing Data for Initial EDA, Visualizations\n",
    "---\n",
    "* [01 API Data Requests](01_API_pulls.ipynb)\n",
    "* _[02 Initial EDA](02_EDA.ipynb)_\n",
    "* [03 First Model: PROPHET](02.ipynb)\n",
    "---"
   ]
  },
  {
   "cell_type": "markdown",
   "metadata": {},
   "source": [
    "### Data Discussion\n",
    "\n",
    "* For `Prophet` and `greykite`, all data must be in format: ` date series  |  y `\n",
    "\n",
    "`Prophet` requires date column lable `ds`, whereas greykite requires `ts`; this will be edited in preprocessing. This notebook will append all `y` values to the date index `ds` in a `.csv ` which then can be sliced as needed in modelling. \n",
    "\n",
    "* [BART](bart.gov) Publishes monthly rerpots, with daily ridership that month, using faregate counts for on and off boarding. - use `weekly*4` 2010 - 2018 \n",
    "* [EIA](https://www.eia.gov/opendata/qb.php?category=240839&sdid=PET.EMM_EPM0_PTE_SCA_DPG.M) publishes monthly and weekly fuel rates - will turn to monthly 1943 - 2021\n",
    "* [CA Energy](https://www.energy.ca.gov/data-reports/energy-almanac/zero-emission-vehicle-and-infrastructure-statistics/vehicle-population) publishes vehicle counts annualy. DMV and CA Data only provide annual counts. - will turn to monthly. 2010 - 2021\n",
    "* [Fed Reserve](federalreserve.gov) publishes yearly consumer debt - will turn to monthly 1942 - 2021"
   ]
  },
  {
   "cell_type": "code",
   "execution_count": 1,
   "metadata": {},
   "outputs": [],
   "source": [
    "##### BASIC IMPORTS \n",
    "import numpy as np\n",
    "import pandas as pd\n",
    "import matplotlib.pyplot as plt\n",
    "import seaborn as sns"
   ]
  },
  {
   "cell_type": "code",
   "execution_count": 14,
   "metadata": {},
   "outputs": [
    {
     "data": {
      "text/html": [
       "        <script type=\"text/javascript\">\n",
       "        window.PlotlyConfig = {MathJaxConfig: 'local'};\n",
       "        if (window.MathJax) {MathJax.Hub.Config({SVG: {font: \"STIX-Web\"}});}\n",
       "        if (typeof require !== 'undefined') {\n",
       "        require.undef(\"plotly\");\n",
       "        requirejs.config({\n",
       "            paths: {\n",
       "                'plotly': ['https://cdn.plot.ly/plotly-2.11.1.min']\n",
       "            }\n",
       "        });\n",
       "        require(['plotly'], function(Plotly) {\n",
       "            window._Plotly = Plotly;\n",
       "        });\n",
       "        }\n",
       "        </script>\n",
       "        "
      ]
     },
     "metadata": {},
     "output_type": "display_data"
    }
   ],
   "source": [
    "# CUSTOM IMPORTS AND SETTINGS \n",
    "import plotly.graph_objs as go\n",
    "from plotly.offline import download_plotlyjs, init_notebook_mode, plot, iplot\n",
    "init_notebook_mode(connected=True)\n",
    "\n",
    "plt.style.use('gstyle.mplstyle')                        # stylesheet for sns\n",
    "\n",
    "pd.options.display.max_columns = 90                     # view settings\n",
    "pd.options.display.max_rows = 100\n",
    "\n",
    "path = '../data/processed/'"
   ]
  },
  {
   "cell_type": "code",
   "execution_count": 59,
   "metadata": {},
   "outputs": [],
   "source": [
    "# FUNCTION RETURNS PLOTLY TRACES\n",
    "# TAKES 3 ARGUMENTS: (dataframe, y, and title for plot)\n",
    "def plot_traces(df, y, title):\n",
    "    y_trace = go.Scatter(\n",
    "                    x = df.ds,\n",
    "                    y = df[y], \n",
    "                    name = y + 'trace',\n",
    "                    line = dict(color = 'blue'),\n",
    "                    opacity = 0.4)\n",
    "\n",
    "    layout = dict(title = title)\n",
    "\n",
    "    fig = dict(data=[y_trace], layout=layout)\n",
    "    iplot(fig)\n",
    "    return (print ('done') )"
   ]
  },
  {
   "cell_type": "markdown",
   "metadata": {},
   "source": [
    "> <br>\n",
    ">\n",
    "> 1. Manipulating BART file: \n",
    "> \n",
    "> <br>"
   ]
  },
  {
   "cell_type": "code",
   "execution_count": 6,
   "metadata": {},
   "outputs": [
    {
     "data": {
      "text/html": [
       "<div>\n",
       "<style scoped>\n",
       "    .dataframe tbody tr th:only-of-type {\n",
       "        vertical-align: middle;\n",
       "    }\n",
       "\n",
       "    .dataframe tbody tr th {\n",
       "        vertical-align: top;\n",
       "    }\n",
       "\n",
       "    .dataframe thead th {\n",
       "        text-align: right;\n",
       "    }\n",
       "</style>\n",
       "<table border=\"1\" class=\"dataframe\">\n",
       "  <thead>\n",
       "    <tr style=\"text-align: right;\">\n",
       "      <th></th>\n",
       "      <th>year</th>\n",
       "      <th>month</th>\n",
       "      <th>ridership</th>\n",
       "      <th>day</th>\n",
       "      <th>ds</th>\n",
       "    </tr>\n",
       "  </thead>\n",
       "  <tbody>\n",
       "    <tr>\n",
       "      <th>0</th>\n",
       "      <td>1997</td>\n",
       "      <td>1</td>\n",
       "      <td>1006096.0</td>\n",
       "      <td>1</td>\n",
       "      <td>1997-01-01</td>\n",
       "    </tr>\n",
       "    <tr>\n",
       "      <th>1</th>\n",
       "      <td>1997</td>\n",
       "      <td>2</td>\n",
       "      <td>1025044.0</td>\n",
       "      <td>1</td>\n",
       "      <td>1997-02-01</td>\n",
       "    </tr>\n",
       "    <tr>\n",
       "      <th>2</th>\n",
       "      <td>1997</td>\n",
       "      <td>3</td>\n",
       "      <td>1054408.0</td>\n",
       "      <td>1</td>\n",
       "      <td>1997-03-01</td>\n",
       "    </tr>\n",
       "    <tr>\n",
       "      <th>3</th>\n",
       "      <td>1997</td>\n",
       "      <td>4</td>\n",
       "      <td>1057768.0</td>\n",
       "      <td>1</td>\n",
       "      <td>1997-04-01</td>\n",
       "    </tr>\n",
       "    <tr>\n",
       "      <th>4</th>\n",
       "      <td>1997</td>\n",
       "      <td>5</td>\n",
       "      <td>1060976.0</td>\n",
       "      <td>1</td>\n",
       "      <td>1997-05-01</td>\n",
       "    </tr>\n",
       "  </tbody>\n",
       "</table>\n",
       "</div>"
      ],
      "text/plain": [
       "   year  month  ridership  day          ds\n",
       "0  1997      1  1006096.0    1  1997-01-01\n",
       "1  1997      2  1025044.0    1  1997-02-01\n",
       "2  1997      3  1054408.0    1  1997-03-01\n",
       "3  1997      4  1057768.0    1  1997-04-01\n",
       "4  1997      5  1060976.0    1  1997-05-01"
      ]
     },
     "execution_count": 6,
     "metadata": {},
     "output_type": "execute_result"
    }
   ],
   "source": [
    "filename = path + 'bart_2018.csv'\n",
    "bart = pd.read_csv(filename)\n",
    "bart.head()"
   ]
  },
  {
   "cell_type": "code",
   "execution_count": 60,
   "metadata": {},
   "outputs": [
    {
     "data": {
      "application/vnd.plotly.v1+json": {
       "config": {
        "linkText": "Export to plot.ly",
        "plotlyServerURL": "https://plot.ly",
        "showLink": false
       },
       "data": [
        {
         "line": {
          "color": "blue"
         },
         "name": "ridershiptrace",
         "opacity": 0.4,
         "type": "scatter",
         "x": [
          "1997-01-01",
          "1997-02-01",
          "1997-03-01",
          "1997-04-01",
          "1997-05-01",
          "1997-06-01",
          "1997-07-01",
          "1997-08-01",
          "1997-09-01",
          "1997-10-01",
          "1997-11-01",
          "1997-12-01",
          "1998-01-01",
          "1998-02-01",
          "1998-03-01",
          "1998-04-01",
          "1998-05-01",
          "1998-06-01",
          "1998-07-01",
          "1998-08-01",
          "1998-09-01",
          "1998-10-01",
          "1998-11-01",
          "1998-12-01",
          "1999-01-01",
          "1999-02-01",
          "1999-03-01",
          "1999-04-01",
          "1999-05-01",
          "1999-06-01",
          "1999-07-01",
          "1999-08-01",
          "1999-09-01",
          "1999-10-01",
          "1999-11-01",
          "1999-12-01",
          "2000-01-01",
          "2000-02-01",
          "2000-03-01",
          "2000-04-01",
          "2000-05-01",
          "2000-06-01",
          "2000-07-01",
          "2000-08-01",
          "2000-09-01",
          "2000-10-01",
          "2000-11-01",
          "2000-12-01",
          "2001-01-01",
          "2001-02-01",
          "2001-03-01",
          "2001-04-01",
          "2001-05-01",
          "2001-06-01",
          "2001-07-01",
          "2001-08-01",
          "2001-09-01",
          "2001-10-01",
          "2001-11-01",
          "2001-12-01",
          "2002-01-01",
          "2002-02-01",
          "2002-03-01",
          "2002-04-01",
          "2002-05-01",
          "2002-06-01",
          "2002-07-01",
          "2002-08-01",
          "2002-09-01",
          "2002-10-01",
          "2002-11-01",
          "2002-12-01",
          "2003-01-01",
          "2003-02-01",
          "2003-03-01",
          "2003-04-01",
          "2003-05-01",
          "2003-06-01",
          "2003-07-01",
          "2003-08-01",
          "2003-09-01",
          "2003-10-01",
          "2003-11-01",
          "2003-12-01",
          "2004-01-01",
          "2004-02-01",
          "2004-03-01",
          "2004-04-01",
          "2004-05-01",
          "2004-06-01",
          "2004-07-01",
          "2004-08-01",
          "2004-09-01",
          "2004-10-01",
          "2004-11-01",
          "2004-12-01",
          "2005-01-01",
          "2005-02-01",
          "2005-03-01",
          "2005-04-01"
         ],
         "y": [
          1006096,
          1025044,
          1054408,
          1057768,
          1060976,
          963096,
          1022740,
          1081216,
          1069884,
          1053164,
          1056232,
          1064320,
          1058424,
          1065824,
          1032024,
          1041568,
          1062944,
          1022708,
          1048372,
          1079240,
          1083312,
          1076644,
          1068464,
          1083948,
          1083636,
          1088540,
          1135116,
          1147420,
          1102928,
          1035064,
          1079624,
          1129776,
          1145780,
          1143672,
          1126176,
          1136368,
          1178324,
          1178420,
          1198004,
          1220648,
          1222712,
          1181840,
          1203196,
          1265656,
          1311496,
          1297072,
          1314200,
          1310109.0908,
          1308624,
          1319836,
          1364728,
          1343464,
          1330765.6844,
          1274772,
          1284724,
          1339540,
          1360088,
          1335177.7144,
          1335389.818,
          1317791.238,
          1295760,
          1287031.652,
          1285283.3684,
          1262284.7272,
          1271300,
          1169564,
          1203752,
          1230992,
          1222148,
          1247492,
          1217872,
          1210920,
          1203684,
          1185892,
          1238560,
          1215184,
          1177440,
          1130489.2632,
          1154550.476,
          1182101.8948,
          1184119.238,
          1171796.5456,
          1158723.6192,
          1161240,
          1195645.818,
          1209553.1428,
          1254727.8096,
          1263163.0908,
          1235863.5296,
          1185881.8948,
          1187280.842,
          1220993.0528,
          1232857.0436,
          1243486.3636,
          1243109,
          1235170.182,
          1232759.8096,
          1218897.2728,
          1292942.2856,
          1263013.8
         ]
        }
       ],
       "layout": {
        "template": {
         "data": {
          "bar": [
           {
            "error_x": {
             "color": "#2a3f5f"
            },
            "error_y": {
             "color": "#2a3f5f"
            },
            "marker": {
             "line": {
              "color": "#E5ECF6",
              "width": 0.5
             },
             "pattern": {
              "fillmode": "overlay",
              "size": 10,
              "solidity": 0.2
             }
            },
            "type": "bar"
           }
          ],
          "barpolar": [
           {
            "marker": {
             "line": {
              "color": "#E5ECF6",
              "width": 0.5
             },
             "pattern": {
              "fillmode": "overlay",
              "size": 10,
              "solidity": 0.2
             }
            },
            "type": "barpolar"
           }
          ],
          "carpet": [
           {
            "aaxis": {
             "endlinecolor": "#2a3f5f",
             "gridcolor": "white",
             "linecolor": "white",
             "minorgridcolor": "white",
             "startlinecolor": "#2a3f5f"
            },
            "baxis": {
             "endlinecolor": "#2a3f5f",
             "gridcolor": "white",
             "linecolor": "white",
             "minorgridcolor": "white",
             "startlinecolor": "#2a3f5f"
            },
            "type": "carpet"
           }
          ],
          "choropleth": [
           {
            "colorbar": {
             "outlinewidth": 0,
             "ticks": ""
            },
            "type": "choropleth"
           }
          ],
          "contour": [
           {
            "colorbar": {
             "outlinewidth": 0,
             "ticks": ""
            },
            "colorscale": [
             [
              0,
              "#0d0887"
             ],
             [
              0.1111111111111111,
              "#46039f"
             ],
             [
              0.2222222222222222,
              "#7201a8"
             ],
             [
              0.3333333333333333,
              "#9c179e"
             ],
             [
              0.4444444444444444,
              "#bd3786"
             ],
             [
              0.5555555555555556,
              "#d8576b"
             ],
             [
              0.6666666666666666,
              "#ed7953"
             ],
             [
              0.7777777777777778,
              "#fb9f3a"
             ],
             [
              0.8888888888888888,
              "#fdca26"
             ],
             [
              1,
              "#f0f921"
             ]
            ],
            "type": "contour"
           }
          ],
          "contourcarpet": [
           {
            "colorbar": {
             "outlinewidth": 0,
             "ticks": ""
            },
            "type": "contourcarpet"
           }
          ],
          "heatmap": [
           {
            "colorbar": {
             "outlinewidth": 0,
             "ticks": ""
            },
            "colorscale": [
             [
              0,
              "#0d0887"
             ],
             [
              0.1111111111111111,
              "#46039f"
             ],
             [
              0.2222222222222222,
              "#7201a8"
             ],
             [
              0.3333333333333333,
              "#9c179e"
             ],
             [
              0.4444444444444444,
              "#bd3786"
             ],
             [
              0.5555555555555556,
              "#d8576b"
             ],
             [
              0.6666666666666666,
              "#ed7953"
             ],
             [
              0.7777777777777778,
              "#fb9f3a"
             ],
             [
              0.8888888888888888,
              "#fdca26"
             ],
             [
              1,
              "#f0f921"
             ]
            ],
            "type": "heatmap"
           }
          ],
          "heatmapgl": [
           {
            "colorbar": {
             "outlinewidth": 0,
             "ticks": ""
            },
            "colorscale": [
             [
              0,
              "#0d0887"
             ],
             [
              0.1111111111111111,
              "#46039f"
             ],
             [
              0.2222222222222222,
              "#7201a8"
             ],
             [
              0.3333333333333333,
              "#9c179e"
             ],
             [
              0.4444444444444444,
              "#bd3786"
             ],
             [
              0.5555555555555556,
              "#d8576b"
             ],
             [
              0.6666666666666666,
              "#ed7953"
             ],
             [
              0.7777777777777778,
              "#fb9f3a"
             ],
             [
              0.8888888888888888,
              "#fdca26"
             ],
             [
              1,
              "#f0f921"
             ]
            ],
            "type": "heatmapgl"
           }
          ],
          "histogram": [
           {
            "marker": {
             "pattern": {
              "fillmode": "overlay",
              "size": 10,
              "solidity": 0.2
             }
            },
            "type": "histogram"
           }
          ],
          "histogram2d": [
           {
            "colorbar": {
             "outlinewidth": 0,
             "ticks": ""
            },
            "colorscale": [
             [
              0,
              "#0d0887"
             ],
             [
              0.1111111111111111,
              "#46039f"
             ],
             [
              0.2222222222222222,
              "#7201a8"
             ],
             [
              0.3333333333333333,
              "#9c179e"
             ],
             [
              0.4444444444444444,
              "#bd3786"
             ],
             [
              0.5555555555555556,
              "#d8576b"
             ],
             [
              0.6666666666666666,
              "#ed7953"
             ],
             [
              0.7777777777777778,
              "#fb9f3a"
             ],
             [
              0.8888888888888888,
              "#fdca26"
             ],
             [
              1,
              "#f0f921"
             ]
            ],
            "type": "histogram2d"
           }
          ],
          "histogram2dcontour": [
           {
            "colorbar": {
             "outlinewidth": 0,
             "ticks": ""
            },
            "colorscale": [
             [
              0,
              "#0d0887"
             ],
             [
              0.1111111111111111,
              "#46039f"
             ],
             [
              0.2222222222222222,
              "#7201a8"
             ],
             [
              0.3333333333333333,
              "#9c179e"
             ],
             [
              0.4444444444444444,
              "#bd3786"
             ],
             [
              0.5555555555555556,
              "#d8576b"
             ],
             [
              0.6666666666666666,
              "#ed7953"
             ],
             [
              0.7777777777777778,
              "#fb9f3a"
             ],
             [
              0.8888888888888888,
              "#fdca26"
             ],
             [
              1,
              "#f0f921"
             ]
            ],
            "type": "histogram2dcontour"
           }
          ],
          "mesh3d": [
           {
            "colorbar": {
             "outlinewidth": 0,
             "ticks": ""
            },
            "type": "mesh3d"
           }
          ],
          "parcoords": [
           {
            "line": {
             "colorbar": {
              "outlinewidth": 0,
              "ticks": ""
             }
            },
            "type": "parcoords"
           }
          ],
          "pie": [
           {
            "automargin": true,
            "type": "pie"
           }
          ],
          "scatter": [
           {
            "fillpattern": {
             "fillmode": "overlay",
             "size": 10,
             "solidity": 0.2
            },
            "type": "scatter"
           }
          ],
          "scatter3d": [
           {
            "line": {
             "colorbar": {
              "outlinewidth": 0,
              "ticks": ""
             }
            },
            "marker": {
             "colorbar": {
              "outlinewidth": 0,
              "ticks": ""
             }
            },
            "type": "scatter3d"
           }
          ],
          "scattercarpet": [
           {
            "marker": {
             "colorbar": {
              "outlinewidth": 0,
              "ticks": ""
             }
            },
            "type": "scattercarpet"
           }
          ],
          "scattergeo": [
           {
            "marker": {
             "colorbar": {
              "outlinewidth": 0,
              "ticks": ""
             }
            },
            "type": "scattergeo"
           }
          ],
          "scattergl": [
           {
            "marker": {
             "colorbar": {
              "outlinewidth": 0,
              "ticks": ""
             }
            },
            "type": "scattergl"
           }
          ],
          "scattermapbox": [
           {
            "marker": {
             "colorbar": {
              "outlinewidth": 0,
              "ticks": ""
             }
            },
            "type": "scattermapbox"
           }
          ],
          "scatterpolar": [
           {
            "marker": {
             "colorbar": {
              "outlinewidth": 0,
              "ticks": ""
             }
            },
            "type": "scatterpolar"
           }
          ],
          "scatterpolargl": [
           {
            "marker": {
             "colorbar": {
              "outlinewidth": 0,
              "ticks": ""
             }
            },
            "type": "scatterpolargl"
           }
          ],
          "scatterternary": [
           {
            "marker": {
             "colorbar": {
              "outlinewidth": 0,
              "ticks": ""
             }
            },
            "type": "scatterternary"
           }
          ],
          "surface": [
           {
            "colorbar": {
             "outlinewidth": 0,
             "ticks": ""
            },
            "colorscale": [
             [
              0,
              "#0d0887"
             ],
             [
              0.1111111111111111,
              "#46039f"
             ],
             [
              0.2222222222222222,
              "#7201a8"
             ],
             [
              0.3333333333333333,
              "#9c179e"
             ],
             [
              0.4444444444444444,
              "#bd3786"
             ],
             [
              0.5555555555555556,
              "#d8576b"
             ],
             [
              0.6666666666666666,
              "#ed7953"
             ],
             [
              0.7777777777777778,
              "#fb9f3a"
             ],
             [
              0.8888888888888888,
              "#fdca26"
             ],
             [
              1,
              "#f0f921"
             ]
            ],
            "type": "surface"
           }
          ],
          "table": [
           {
            "cells": {
             "fill": {
              "color": "#EBF0F8"
             },
             "line": {
              "color": "white"
             }
            },
            "header": {
             "fill": {
              "color": "#C8D4E3"
             },
             "line": {
              "color": "white"
             }
            },
            "type": "table"
           }
          ]
         },
         "layout": {
          "annotationdefaults": {
           "arrowcolor": "#2a3f5f",
           "arrowhead": 0,
           "arrowwidth": 1
          },
          "autotypenumbers": "strict",
          "coloraxis": {
           "colorbar": {
            "outlinewidth": 0,
            "ticks": ""
           }
          },
          "colorscale": {
           "diverging": [
            [
             0,
             "#8e0152"
            ],
            [
             0.1,
             "#c51b7d"
            ],
            [
             0.2,
             "#de77ae"
            ],
            [
             0.3,
             "#f1b6da"
            ],
            [
             0.4,
             "#fde0ef"
            ],
            [
             0.5,
             "#f7f7f7"
            ],
            [
             0.6,
             "#e6f5d0"
            ],
            [
             0.7,
             "#b8e186"
            ],
            [
             0.8,
             "#7fbc41"
            ],
            [
             0.9,
             "#4d9221"
            ],
            [
             1,
             "#276419"
            ]
           ],
           "sequential": [
            [
             0,
             "#0d0887"
            ],
            [
             0.1111111111111111,
             "#46039f"
            ],
            [
             0.2222222222222222,
             "#7201a8"
            ],
            [
             0.3333333333333333,
             "#9c179e"
            ],
            [
             0.4444444444444444,
             "#bd3786"
            ],
            [
             0.5555555555555556,
             "#d8576b"
            ],
            [
             0.6666666666666666,
             "#ed7953"
            ],
            [
             0.7777777777777778,
             "#fb9f3a"
            ],
            [
             0.8888888888888888,
             "#fdca26"
            ],
            [
             1,
             "#f0f921"
            ]
           ],
           "sequentialminus": [
            [
             0,
             "#0d0887"
            ],
            [
             0.1111111111111111,
             "#46039f"
            ],
            [
             0.2222222222222222,
             "#7201a8"
            ],
            [
             0.3333333333333333,
             "#9c179e"
            ],
            [
             0.4444444444444444,
             "#bd3786"
            ],
            [
             0.5555555555555556,
             "#d8576b"
            ],
            [
             0.6666666666666666,
             "#ed7953"
            ],
            [
             0.7777777777777778,
             "#fb9f3a"
            ],
            [
             0.8888888888888888,
             "#fdca26"
            ],
            [
             1,
             "#f0f921"
            ]
           ]
          },
          "colorway": [
           "#636efa",
           "#EF553B",
           "#00cc96",
           "#ab63fa",
           "#FFA15A",
           "#19d3f3",
           "#FF6692",
           "#B6E880",
           "#FF97FF",
           "#FECB52"
          ],
          "font": {
           "color": "#2a3f5f"
          },
          "geo": {
           "bgcolor": "white",
           "lakecolor": "white",
           "landcolor": "#E5ECF6",
           "showlakes": true,
           "showland": true,
           "subunitcolor": "white"
          },
          "hoverlabel": {
           "align": "left"
          },
          "hovermode": "closest",
          "mapbox": {
           "style": "light"
          },
          "paper_bgcolor": "white",
          "plot_bgcolor": "#E5ECF6",
          "polar": {
           "angularaxis": {
            "gridcolor": "white",
            "linecolor": "white",
            "ticks": ""
           },
           "bgcolor": "#E5ECF6",
           "radialaxis": {
            "gridcolor": "white",
            "linecolor": "white",
            "ticks": ""
           }
          },
          "scene": {
           "xaxis": {
            "backgroundcolor": "#E5ECF6",
            "gridcolor": "white",
            "gridwidth": 2,
            "linecolor": "white",
            "showbackground": true,
            "ticks": "",
            "zerolinecolor": "white"
           },
           "yaxis": {
            "backgroundcolor": "#E5ECF6",
            "gridcolor": "white",
            "gridwidth": 2,
            "linecolor": "white",
            "showbackground": true,
            "ticks": "",
            "zerolinecolor": "white"
           },
           "zaxis": {
            "backgroundcolor": "#E5ECF6",
            "gridcolor": "white",
            "gridwidth": 2,
            "linecolor": "white",
            "showbackground": true,
            "ticks": "",
            "zerolinecolor": "white"
           }
          },
          "shapedefaults": {
           "line": {
            "color": "#2a3f5f"
           }
          },
          "ternary": {
           "aaxis": {
            "gridcolor": "white",
            "linecolor": "white",
            "ticks": ""
           },
           "baxis": {
            "gridcolor": "white",
            "linecolor": "white",
            "ticks": ""
           },
           "bgcolor": "#E5ECF6",
           "caxis": {
            "gridcolor": "white",
            "linecolor": "white",
            "ticks": ""
           }
          },
          "title": {
           "x": 0.05
          },
          "xaxis": {
           "automargin": true,
           "gridcolor": "white",
           "linecolor": "white",
           "ticks": "",
           "title": {
            "standoff": 15
           },
           "zerolinecolor": "white",
           "zerolinewidth": 2
          },
          "yaxis": {
           "automargin": true,
           "gridcolor": "white",
           "linecolor": "white",
           "ticks": "",
           "title": {
            "standoff": 15
           },
           "zerolinecolor": "white",
           "zerolinewidth": 2
          }
         }
        },
        "title": {
         "text": "BART Monthly Ridership, 2010 - 2005 "
        }
       }
      },
      "text/html": [
       "<div>                            <div id=\"a5cce2fe-b27d-4af7-b318-7b7d81ed3c9b\" class=\"plotly-graph-div\" style=\"height:525px; width:100%;\"></div>            <script type=\"text/javascript\">                require([\"plotly\"], function(Plotly) {                    window.PLOTLYENV=window.PLOTLYENV || {};                                    if (document.getElementById(\"a5cce2fe-b27d-4af7-b318-7b7d81ed3c9b\")) {                    Plotly.newPlot(                        \"a5cce2fe-b27d-4af7-b318-7b7d81ed3c9b\",                        [{\"line\":{\"color\":\"blue\"},\"name\":\"ridershiptrace\",\"opacity\":0.4,\"x\":[\"1997-01-01\",\"1997-02-01\",\"1997-03-01\",\"1997-04-01\",\"1997-05-01\",\"1997-06-01\",\"1997-07-01\",\"1997-08-01\",\"1997-09-01\",\"1997-10-01\",\"1997-11-01\",\"1997-12-01\",\"1998-01-01\",\"1998-02-01\",\"1998-03-01\",\"1998-04-01\",\"1998-05-01\",\"1998-06-01\",\"1998-07-01\",\"1998-08-01\",\"1998-09-01\",\"1998-10-01\",\"1998-11-01\",\"1998-12-01\",\"1999-01-01\",\"1999-02-01\",\"1999-03-01\",\"1999-04-01\",\"1999-05-01\",\"1999-06-01\",\"1999-07-01\",\"1999-08-01\",\"1999-09-01\",\"1999-10-01\",\"1999-11-01\",\"1999-12-01\",\"2000-01-01\",\"2000-02-01\",\"2000-03-01\",\"2000-04-01\",\"2000-05-01\",\"2000-06-01\",\"2000-07-01\",\"2000-08-01\",\"2000-09-01\",\"2000-10-01\",\"2000-11-01\",\"2000-12-01\",\"2001-01-01\",\"2001-02-01\",\"2001-03-01\",\"2001-04-01\",\"2001-05-01\",\"2001-06-01\",\"2001-07-01\",\"2001-08-01\",\"2001-09-01\",\"2001-10-01\",\"2001-11-01\",\"2001-12-01\",\"2002-01-01\",\"2002-02-01\",\"2002-03-01\",\"2002-04-01\",\"2002-05-01\",\"2002-06-01\",\"2002-07-01\",\"2002-08-01\",\"2002-09-01\",\"2002-10-01\",\"2002-11-01\",\"2002-12-01\",\"2003-01-01\",\"2003-02-01\",\"2003-03-01\",\"2003-04-01\",\"2003-05-01\",\"2003-06-01\",\"2003-07-01\",\"2003-08-01\",\"2003-09-01\",\"2003-10-01\",\"2003-11-01\",\"2003-12-01\",\"2004-01-01\",\"2004-02-01\",\"2004-03-01\",\"2004-04-01\",\"2004-05-01\",\"2004-06-01\",\"2004-07-01\",\"2004-08-01\",\"2004-09-01\",\"2004-10-01\",\"2004-11-01\",\"2004-12-01\",\"2005-01-01\",\"2005-02-01\",\"2005-03-01\",\"2005-04-01\"],\"y\":[1006096.0,1025044.0,1054408.0,1057768.0,1060976.0,963096.0,1022740.0,1081216.0,1069884.0,1053164.0,1056232.0,1064320.0,1058424.0,1065824.0,1032024.0,1041568.0,1062944.0,1022708.0,1048372.0,1079240.0,1083312.0,1076644.0,1068464.0,1083948.0,1083636.0,1088540.0,1135116.0,1147420.0,1102928.0,1035064.0,1079624.0,1129776.0,1145780.0,1143672.0,1126176.0,1136368.0,1178324.0,1178420.0,1198004.0,1220648.0,1222712.0,1181840.0,1203196.0,1265656.0,1311496.0,1297072.0,1314200.0,1310109.0908,1308624.0,1319836.0,1364728.0,1343464.0,1330765.6844,1274772.0,1284724.0,1339540.0,1360088.0,1335177.7144,1335389.818,1317791.238,1295760.0,1287031.652,1285283.3684,1262284.7272,1271300.0,1169564.0,1203752.0,1230992.0,1222148.0,1247492.0,1217872.0,1210920.0,1203684.0,1185892.0,1238560.0,1215184.0,1177440.0,1130489.2632,1154550.476,1182101.8948,1184119.238,1171796.5456,1158723.6192,1161240.0,1195645.818,1209553.1428,1254727.8096,1263163.0908,1235863.5296,1185881.8948,1187280.842,1220993.0528,1232857.0436,1243486.3636,1243109.0,1235170.182,1232759.8096,1218897.2728,1292942.2856,1263013.8],\"type\":\"scatter\"}],                        {\"template\":{\"data\":{\"barpolar\":[{\"marker\":{\"line\":{\"color\":\"#E5ECF6\",\"width\":0.5},\"pattern\":{\"fillmode\":\"overlay\",\"size\":10,\"solidity\":0.2}},\"type\":\"barpolar\"}],\"bar\":[{\"error_x\":{\"color\":\"#2a3f5f\"},\"error_y\":{\"color\":\"#2a3f5f\"},\"marker\":{\"line\":{\"color\":\"#E5ECF6\",\"width\":0.5},\"pattern\":{\"fillmode\":\"overlay\",\"size\":10,\"solidity\":0.2}},\"type\":\"bar\"}],\"carpet\":[{\"aaxis\":{\"endlinecolor\":\"#2a3f5f\",\"gridcolor\":\"white\",\"linecolor\":\"white\",\"minorgridcolor\":\"white\",\"startlinecolor\":\"#2a3f5f\"},\"baxis\":{\"endlinecolor\":\"#2a3f5f\",\"gridcolor\":\"white\",\"linecolor\":\"white\",\"minorgridcolor\":\"white\",\"startlinecolor\":\"#2a3f5f\"},\"type\":\"carpet\"}],\"choropleth\":[{\"colorbar\":{\"outlinewidth\":0,\"ticks\":\"\"},\"type\":\"choropleth\"}],\"contourcarpet\":[{\"colorbar\":{\"outlinewidth\":0,\"ticks\":\"\"},\"type\":\"contourcarpet\"}],\"contour\":[{\"colorbar\":{\"outlinewidth\":0,\"ticks\":\"\"},\"colorscale\":[[0.0,\"#0d0887\"],[0.1111111111111111,\"#46039f\"],[0.2222222222222222,\"#7201a8\"],[0.3333333333333333,\"#9c179e\"],[0.4444444444444444,\"#bd3786\"],[0.5555555555555556,\"#d8576b\"],[0.6666666666666666,\"#ed7953\"],[0.7777777777777778,\"#fb9f3a\"],[0.8888888888888888,\"#fdca26\"],[1.0,\"#f0f921\"]],\"type\":\"contour\"}],\"heatmapgl\":[{\"colorbar\":{\"outlinewidth\":0,\"ticks\":\"\"},\"colorscale\":[[0.0,\"#0d0887\"],[0.1111111111111111,\"#46039f\"],[0.2222222222222222,\"#7201a8\"],[0.3333333333333333,\"#9c179e\"],[0.4444444444444444,\"#bd3786\"],[0.5555555555555556,\"#d8576b\"],[0.6666666666666666,\"#ed7953\"],[0.7777777777777778,\"#fb9f3a\"],[0.8888888888888888,\"#fdca26\"],[1.0,\"#f0f921\"]],\"type\":\"heatmapgl\"}],\"heatmap\":[{\"colorbar\":{\"outlinewidth\":0,\"ticks\":\"\"},\"colorscale\":[[0.0,\"#0d0887\"],[0.1111111111111111,\"#46039f\"],[0.2222222222222222,\"#7201a8\"],[0.3333333333333333,\"#9c179e\"],[0.4444444444444444,\"#bd3786\"],[0.5555555555555556,\"#d8576b\"],[0.6666666666666666,\"#ed7953\"],[0.7777777777777778,\"#fb9f3a\"],[0.8888888888888888,\"#fdca26\"],[1.0,\"#f0f921\"]],\"type\":\"heatmap\"}],\"histogram2dcontour\":[{\"colorbar\":{\"outlinewidth\":0,\"ticks\":\"\"},\"colorscale\":[[0.0,\"#0d0887\"],[0.1111111111111111,\"#46039f\"],[0.2222222222222222,\"#7201a8\"],[0.3333333333333333,\"#9c179e\"],[0.4444444444444444,\"#bd3786\"],[0.5555555555555556,\"#d8576b\"],[0.6666666666666666,\"#ed7953\"],[0.7777777777777778,\"#fb9f3a\"],[0.8888888888888888,\"#fdca26\"],[1.0,\"#f0f921\"]],\"type\":\"histogram2dcontour\"}],\"histogram2d\":[{\"colorbar\":{\"outlinewidth\":0,\"ticks\":\"\"},\"colorscale\":[[0.0,\"#0d0887\"],[0.1111111111111111,\"#46039f\"],[0.2222222222222222,\"#7201a8\"],[0.3333333333333333,\"#9c179e\"],[0.4444444444444444,\"#bd3786\"],[0.5555555555555556,\"#d8576b\"],[0.6666666666666666,\"#ed7953\"],[0.7777777777777778,\"#fb9f3a\"],[0.8888888888888888,\"#fdca26\"],[1.0,\"#f0f921\"]],\"type\":\"histogram2d\"}],\"histogram\":[{\"marker\":{\"pattern\":{\"fillmode\":\"overlay\",\"size\":10,\"solidity\":0.2}},\"type\":\"histogram\"}],\"mesh3d\":[{\"colorbar\":{\"outlinewidth\":0,\"ticks\":\"\"},\"type\":\"mesh3d\"}],\"parcoords\":[{\"line\":{\"colorbar\":{\"outlinewidth\":0,\"ticks\":\"\"}},\"type\":\"parcoords\"}],\"pie\":[{\"automargin\":true,\"type\":\"pie\"}],\"scatter3d\":[{\"line\":{\"colorbar\":{\"outlinewidth\":0,\"ticks\":\"\"}},\"marker\":{\"colorbar\":{\"outlinewidth\":0,\"ticks\":\"\"}},\"type\":\"scatter3d\"}],\"scattercarpet\":[{\"marker\":{\"colorbar\":{\"outlinewidth\":0,\"ticks\":\"\"}},\"type\":\"scattercarpet\"}],\"scattergeo\":[{\"marker\":{\"colorbar\":{\"outlinewidth\":0,\"ticks\":\"\"}},\"type\":\"scattergeo\"}],\"scattergl\":[{\"marker\":{\"colorbar\":{\"outlinewidth\":0,\"ticks\":\"\"}},\"type\":\"scattergl\"}],\"scattermapbox\":[{\"marker\":{\"colorbar\":{\"outlinewidth\":0,\"ticks\":\"\"}},\"type\":\"scattermapbox\"}],\"scatterpolargl\":[{\"marker\":{\"colorbar\":{\"outlinewidth\":0,\"ticks\":\"\"}},\"type\":\"scatterpolargl\"}],\"scatterpolar\":[{\"marker\":{\"colorbar\":{\"outlinewidth\":0,\"ticks\":\"\"}},\"type\":\"scatterpolar\"}],\"scatter\":[{\"fillpattern\":{\"fillmode\":\"overlay\",\"size\":10,\"solidity\":0.2},\"type\":\"scatter\"}],\"scatterternary\":[{\"marker\":{\"colorbar\":{\"outlinewidth\":0,\"ticks\":\"\"}},\"type\":\"scatterternary\"}],\"surface\":[{\"colorbar\":{\"outlinewidth\":0,\"ticks\":\"\"},\"colorscale\":[[0.0,\"#0d0887\"],[0.1111111111111111,\"#46039f\"],[0.2222222222222222,\"#7201a8\"],[0.3333333333333333,\"#9c179e\"],[0.4444444444444444,\"#bd3786\"],[0.5555555555555556,\"#d8576b\"],[0.6666666666666666,\"#ed7953\"],[0.7777777777777778,\"#fb9f3a\"],[0.8888888888888888,\"#fdca26\"],[1.0,\"#f0f921\"]],\"type\":\"surface\"}],\"table\":[{\"cells\":{\"fill\":{\"color\":\"#EBF0F8\"},\"line\":{\"color\":\"white\"}},\"header\":{\"fill\":{\"color\":\"#C8D4E3\"},\"line\":{\"color\":\"white\"}},\"type\":\"table\"}]},\"layout\":{\"annotationdefaults\":{\"arrowcolor\":\"#2a3f5f\",\"arrowhead\":0,\"arrowwidth\":1},\"autotypenumbers\":\"strict\",\"coloraxis\":{\"colorbar\":{\"outlinewidth\":0,\"ticks\":\"\"}},\"colorscale\":{\"diverging\":[[0,\"#8e0152\"],[0.1,\"#c51b7d\"],[0.2,\"#de77ae\"],[0.3,\"#f1b6da\"],[0.4,\"#fde0ef\"],[0.5,\"#f7f7f7\"],[0.6,\"#e6f5d0\"],[0.7,\"#b8e186\"],[0.8,\"#7fbc41\"],[0.9,\"#4d9221\"],[1,\"#276419\"]],\"sequential\":[[0.0,\"#0d0887\"],[0.1111111111111111,\"#46039f\"],[0.2222222222222222,\"#7201a8\"],[0.3333333333333333,\"#9c179e\"],[0.4444444444444444,\"#bd3786\"],[0.5555555555555556,\"#d8576b\"],[0.6666666666666666,\"#ed7953\"],[0.7777777777777778,\"#fb9f3a\"],[0.8888888888888888,\"#fdca26\"],[1.0,\"#f0f921\"]],\"sequentialminus\":[[0.0,\"#0d0887\"],[0.1111111111111111,\"#46039f\"],[0.2222222222222222,\"#7201a8\"],[0.3333333333333333,\"#9c179e\"],[0.4444444444444444,\"#bd3786\"],[0.5555555555555556,\"#d8576b\"],[0.6666666666666666,\"#ed7953\"],[0.7777777777777778,\"#fb9f3a\"],[0.8888888888888888,\"#fdca26\"],[1.0,\"#f0f921\"]]},\"colorway\":[\"#636efa\",\"#EF553B\",\"#00cc96\",\"#ab63fa\",\"#FFA15A\",\"#19d3f3\",\"#FF6692\",\"#B6E880\",\"#FF97FF\",\"#FECB52\"],\"font\":{\"color\":\"#2a3f5f\"},\"geo\":{\"bgcolor\":\"white\",\"lakecolor\":\"white\",\"landcolor\":\"#E5ECF6\",\"showlakes\":true,\"showland\":true,\"subunitcolor\":\"white\"},\"hoverlabel\":{\"align\":\"left\"},\"hovermode\":\"closest\",\"mapbox\":{\"style\":\"light\"},\"paper_bgcolor\":\"white\",\"plot_bgcolor\":\"#E5ECF6\",\"polar\":{\"angularaxis\":{\"gridcolor\":\"white\",\"linecolor\":\"white\",\"ticks\":\"\"},\"bgcolor\":\"#E5ECF6\",\"radialaxis\":{\"gridcolor\":\"white\",\"linecolor\":\"white\",\"ticks\":\"\"}},\"scene\":{\"xaxis\":{\"backgroundcolor\":\"#E5ECF6\",\"gridcolor\":\"white\",\"gridwidth\":2,\"linecolor\":\"white\",\"showbackground\":true,\"ticks\":\"\",\"zerolinecolor\":\"white\"},\"yaxis\":{\"backgroundcolor\":\"#E5ECF6\",\"gridcolor\":\"white\",\"gridwidth\":2,\"linecolor\":\"white\",\"showbackground\":true,\"ticks\":\"\",\"zerolinecolor\":\"white\"},\"zaxis\":{\"backgroundcolor\":\"#E5ECF6\",\"gridcolor\":\"white\",\"gridwidth\":2,\"linecolor\":\"white\",\"showbackground\":true,\"ticks\":\"\",\"zerolinecolor\":\"white\"}},\"shapedefaults\":{\"line\":{\"color\":\"#2a3f5f\"}},\"ternary\":{\"aaxis\":{\"gridcolor\":\"white\",\"linecolor\":\"white\",\"ticks\":\"\"},\"baxis\":{\"gridcolor\":\"white\",\"linecolor\":\"white\",\"ticks\":\"\"},\"bgcolor\":\"#E5ECF6\",\"caxis\":{\"gridcolor\":\"white\",\"linecolor\":\"white\",\"ticks\":\"\"}},\"title\":{\"x\":0.05},\"xaxis\":{\"automargin\":true,\"gridcolor\":\"white\",\"linecolor\":\"white\",\"ticks\":\"\",\"title\":{\"standoff\":15},\"zerolinecolor\":\"white\",\"zerolinewidth\":2},\"yaxis\":{\"automargin\":true,\"gridcolor\":\"white\",\"linecolor\":\"white\",\"ticks\":\"\",\"title\":{\"standoff\":15},\"zerolinecolor\":\"white\",\"zerolinewidth\":2}}},\"title\":{\"text\":\"BART Monthly Ridership, 2010 - 2005 \"}},                        {\"responsive\": true}                    ).then(function(){\n",
       "                            \n",
       "var gd = document.getElementById('a5cce2fe-b27d-4af7-b318-7b7d81ed3c9b');\n",
       "var x = new MutationObserver(function (mutations, observer) {{\n",
       "        var display = window.getComputedStyle(gd).display;\n",
       "        if (!display || display === 'none') {{\n",
       "            console.log([gd, 'removed!']);\n",
       "            Plotly.purge(gd);\n",
       "            observer.disconnect();\n",
       "        }}\n",
       "}});\n",
       "\n",
       "// Listen for the removal of the full notebook cells\n",
       "var notebookContainer = gd.closest('#notebook-container');\n",
       "if (notebookContainer) {{\n",
       "    x.observe(notebookContainer, {childList: true});\n",
       "}}\n",
       "\n",
       "// Listen for the clearing of the current output cell\n",
       "var outputEl = gd.closest('.output');\n",
       "if (outputEl) {{\n",
       "    x.observe(outputEl, {childList: true});\n",
       "}}\n",
       "\n",
       "                        })                };                });            </script>        </div>"
      ]
     },
     "metadata": {},
     "output_type": "display_data"
    },
    {
     "name": "stdout",
     "output_type": "stream",
     "text": [
      "done\n"
     ]
    }
   ],
   "source": [
    "bart_plot = plot_traces(bart, 'ridership', 'BART Monthly Ridership, 2010 - 2005 ')"
   ]
  },
  {
   "cell_type": "markdown",
   "metadata": {},
   "source": [
    "> <br>\n",
    ">\n",
    "> 2. Manipulating 'GAS' prices file: \n",
    "> \n",
    "> <br>"
   ]
  },
  {
   "cell_type": "code",
   "execution_count": 38,
   "metadata": {},
   "outputs": [
    {
     "data": {
      "text/html": [
       "<div>\n",
       "<style scoped>\n",
       "    .dataframe tbody tr th:only-of-type {\n",
       "        vertical-align: middle;\n",
       "    }\n",
       "\n",
       "    .dataframe tbody tr th {\n",
       "        vertical-align: top;\n",
       "    }\n",
       "\n",
       "    .dataframe thead th {\n",
       "        text-align: right;\n",
       "    }\n",
       "</style>\n",
       "<table border=\"1\" class=\"dataframe\">\n",
       "  <thead>\n",
       "    <tr style=\"text-align: right;\">\n",
       "      <th></th>\n",
       "      <th>ds</th>\n",
       "      <th>fuel_m</th>\n",
       "      <th>year</th>\n",
       "      <th>month</th>\n",
       "      <th>day</th>\n",
       "    </tr>\n",
       "  </thead>\n",
       "  <tbody>\n",
       "    <tr>\n",
       "      <th>0</th>\n",
       "      <td>2022-04-01</td>\n",
       "      <td>5.692</td>\n",
       "      <td>2022</td>\n",
       "      <td>4</td>\n",
       "      <td>1</td>\n",
       "    </tr>\n",
       "    <tr>\n",
       "      <th>1</th>\n",
       "      <td>2022-03-01</td>\n",
       "      <td>5.655</td>\n",
       "      <td>2022</td>\n",
       "      <td>3</td>\n",
       "      <td>1</td>\n",
       "    </tr>\n",
       "    <tr>\n",
       "      <th>2</th>\n",
       "      <td>2022-02-01</td>\n",
       "      <td>4.660</td>\n",
       "      <td>2022</td>\n",
       "      <td>2</td>\n",
       "      <td>1</td>\n",
       "    </tr>\n",
       "    <tr>\n",
       "      <th>3</th>\n",
       "      <td>2022-01-01</td>\n",
       "      <td>4.584</td>\n",
       "      <td>2022</td>\n",
       "      <td>1</td>\n",
       "      <td>1</td>\n",
       "    </tr>\n",
       "    <tr>\n",
       "      <th>4</th>\n",
       "      <td>2021-12-01</td>\n",
       "      <td>4.597</td>\n",
       "      <td>2021</td>\n",
       "      <td>12</td>\n",
       "      <td>1</td>\n",
       "    </tr>\n",
       "  </tbody>\n",
       "</table>\n",
       "</div>"
      ],
      "text/plain": [
       "           ds  fuel_m  year  month  day\n",
       "0  2022-04-01   5.692  2022      4    1\n",
       "1  2022-03-01   5.655  2022      3    1\n",
       "2  2022-02-01   4.660  2022      2    1\n",
       "3  2022-01-01   4.584  2022      1    1\n",
       "4  2021-12-01   4.597  2021     12    1"
      ]
     },
     "execution_count": 38,
     "metadata": {},
     "output_type": "execute_result"
    }
   ],
   "source": [
    "filename = path + 'fuel_m.csv'\n",
    "fuel = pd.read_csv(filename)\n",
    "\n",
    "# fuel = fuel_df.drop(columns = ['year', 'month', 'day'])\n",
    "fuel.head()"
   ]
  },
  {
   "cell_type": "code",
   "execution_count": 61,
   "metadata": {},
   "outputs": [
    {
     "data": {
      "application/vnd.plotly.v1+json": {
       "config": {
        "linkText": "Export to plot.ly",
        "plotlyServerURL": "https://plot.ly",
        "showLink": false
       },
       "data": [
        {
         "line": {
          "color": "blue"
         },
         "name": "fuel_mtrace",
         "opacity": 0.4,
         "type": "scatter",
         "x": [
          "2022-04-01",
          "2022-03-01",
          "2022-02-01",
          "2022-01-01",
          "2021-12-01",
          "2021-11-01",
          "2021-10-01",
          "2021-09-01",
          "2021-08-01",
          "2021-07-01",
          "2021-06-01",
          "2021-05-01",
          "2021-04-01",
          "2021-03-01",
          "2021-02-01",
          "2021-01-01",
          "2020-12-01",
          "2020-11-01",
          "2020-10-01",
          "2020-09-01",
          "2020-08-01",
          "2020-07-01",
          "2020-06-01",
          "2020-05-01",
          "2020-04-01",
          "2020-03-01",
          "2020-02-01",
          "2020-01-01",
          "2019-12-01",
          "2019-11-01",
          "2019-10-01",
          "2019-09-01",
          "2019-08-01",
          "2019-07-01",
          "2019-06-01",
          "2019-05-01",
          "2019-04-01",
          "2019-03-01",
          "2019-02-01",
          "2019-01-01",
          "2018-12-01",
          "2018-11-01",
          "2018-10-01",
          "2018-09-01",
          "2018-08-01",
          "2018-07-01",
          "2018-06-01",
          "2018-05-01",
          "2018-04-01",
          "2018-03-01",
          "2018-02-01",
          "2018-01-01",
          "2017-12-01",
          "2017-11-01",
          "2017-10-01",
          "2017-09-01",
          "2017-08-01",
          "2017-07-01",
          "2017-06-01",
          "2017-05-01",
          "2017-04-01",
          "2017-03-01",
          "2017-02-01",
          "2017-01-01",
          "2016-12-01",
          "2016-11-01",
          "2016-10-01",
          "2016-09-01",
          "2016-08-01",
          "2016-07-01",
          "2016-06-01",
          "2016-05-01",
          "2016-04-01",
          "2016-03-01",
          "2016-02-01",
          "2016-01-01",
          "2015-12-01",
          "2015-11-01",
          "2015-10-01",
          "2015-09-01",
          "2015-08-01",
          "2015-07-01",
          "2015-06-01",
          "2015-05-01",
          "2015-04-01",
          "2015-03-01",
          "2015-02-01",
          "2015-01-01",
          "2014-12-01",
          "2014-11-01",
          "2014-10-01",
          "2014-09-01",
          "2014-08-01",
          "2014-07-01",
          "2014-06-01",
          "2014-05-01",
          "2014-04-01",
          "2014-03-01",
          "2014-02-01",
          "2014-01-01",
          "2013-12-01",
          "2013-11-01",
          "2013-10-01",
          "2013-09-01",
          "2013-08-01",
          "2013-07-01",
          "2013-06-01",
          "2013-05-01",
          "2013-04-01",
          "2013-03-01",
          "2013-02-01",
          "2013-01-01",
          "2012-12-01",
          "2012-11-01",
          "2012-10-01",
          "2012-09-01",
          "2012-08-01",
          "2012-07-01",
          "2012-06-01",
          "2012-05-01",
          "2012-04-01",
          "2012-03-01",
          "2012-02-01",
          "2012-01-01",
          "2011-12-01",
          "2011-11-01",
          "2011-10-01",
          "2011-09-01",
          "2011-08-01",
          "2011-07-01",
          "2011-06-01",
          "2011-05-01",
          "2011-04-01",
          "2011-03-01",
          "2011-02-01",
          "2011-01-01",
          "2010-12-01",
          "2010-11-01",
          "2010-10-01",
          "2010-09-01",
          "2010-08-01",
          "2010-07-01",
          "2010-06-01",
          "2010-05-01",
          "2010-04-01",
          "2010-03-01",
          "2010-02-01",
          "2010-01-01",
          "2009-12-01",
          "2009-11-01",
          "2009-10-01",
          "2009-09-01",
          "2009-08-01",
          "2009-07-01",
          "2009-06-01",
          "2009-05-01",
          "2009-04-01",
          "2009-03-01",
          "2009-02-01",
          "2009-01-01",
          "2008-12-01",
          "2008-11-01",
          "2008-10-01",
          "2008-09-01",
          "2008-08-01",
          "2008-07-01",
          "2008-06-01",
          "2008-05-01",
          "2008-04-01",
          "2008-03-01",
          "2008-02-01",
          "2008-01-01",
          "2007-12-01",
          "2007-11-01",
          "2007-10-01",
          "2007-09-01",
          "2007-08-01",
          "2007-07-01",
          "2007-06-01",
          "2007-05-01",
          "2007-04-01",
          "2007-03-01",
          "2007-02-01",
          "2007-01-01",
          "2006-12-01",
          "2006-11-01",
          "2006-10-01",
          "2006-09-01",
          "2006-08-01",
          "2006-07-01",
          "2006-06-01",
          "2006-05-01",
          "2006-04-01",
          "2006-03-01",
          "2006-02-01",
          "2006-01-01",
          "2005-12-01",
          "2005-11-01",
          "2005-10-01",
          "2005-09-01",
          "2005-08-01",
          "2005-07-01",
          "2005-06-01",
          "2005-05-01",
          "2005-04-01",
          "2005-03-01",
          "2005-02-01",
          "2005-01-01",
          "2004-12-01",
          "2004-11-01",
          "2004-10-01",
          "2004-09-01",
          "2004-08-01",
          "2004-07-01",
          "2004-06-01",
          "2004-05-01",
          "2004-04-01",
          "2004-03-01",
          "2004-02-01",
          "2004-01-01",
          "2003-12-01",
          "2003-11-01",
          "2003-10-01",
          "2003-09-01",
          "2003-08-01",
          "2003-07-01",
          "2003-06-01",
          "2003-05-01",
          "2003-04-01",
          "2003-03-01",
          "2003-02-01",
          "2003-01-01",
          "2002-12-01",
          "2002-11-01",
          "2002-10-01",
          "2002-09-01",
          "2002-08-01",
          "2002-07-01",
          "2002-06-01",
          "2002-05-01",
          "2002-04-01",
          "2002-03-01",
          "2002-02-01",
          "2002-01-01",
          "2001-12-01",
          "2001-11-01",
          "2001-10-01",
          "2001-09-01",
          "2001-08-01",
          "2001-07-01",
          "2001-06-01",
          "2001-05-01",
          "2001-04-01",
          "2001-03-01",
          "2001-02-01",
          "2001-01-01",
          "2000-12-01",
          "2000-11-01",
          "2000-10-01",
          "2000-09-01",
          "2000-08-01",
          "2000-07-01",
          "2000-06-01",
          "2000-05-01"
         ],
         "y": [
          5.692,
          5.655,
          4.66,
          4.584,
          4.597,
          4.598,
          4.4,
          4.31,
          4.319,
          4.253,
          4.182,
          4.068,
          3.911,
          3.781,
          3.434,
          3.262,
          3.143,
          3.115,
          3.137,
          3.174,
          3.156,
          3.102,
          2.972,
          2.771,
          2.827,
          3.262,
          3.447,
          3.489,
          3.61,
          3.944,
          4.116,
          3.687,
          3.555,
          3.668,
          3.787,
          4.019,
          3.894,
          3.342,
          3.236,
          3.232,
          3.368,
          3.632,
          3.76,
          3.588,
          3.556,
          3.605,
          3.673,
          3.69,
          3.617,
          3.476,
          3.418,
          3.269,
          3.187,
          3.294,
          3.137,
          3.22,
          3.073,
          3.005,
          3.08,
          3.101,
          3.067,
          3.059,
          2.946,
          2.848,
          2.738,
          2.788,
          2.862,
          2.803,
          2.745,
          2.911,
          2.93,
          2.855,
          2.822,
          2.679,
          2.477,
          2.823,
          2.776,
          2.819,
          2.945,
          3.175,
          3.594,
          3.812,
          3.596,
          3.804,
          3.261,
          3.388,
          2.756,
          2.596,
          2.916,
          3.234,
          3.585,
          3.821,
          3.961,
          4.11,
          4.163,
          4.22,
          4.21,
          3.984,
          3.726,
          3.666,
          3.642,
          3.641,
          3.829,
          3.989,
          3.919,
          4.056,
          4.05,
          4.051,
          4.031,
          4.192,
          4.127,
          3.678,
          3.628,
          3.893,
          4.458,
          4.211,
          4.109,
          3.821,
          4.133,
          4.353,
          4.292,
          4.414,
          4.027,
          3.747,
          3.648,
          3.848,
          3.89,
          3.971,
          3.823,
          3.844,
          3.965,
          4.229,
          4.206,
          4.002,
          3.576,
          3.389,
          3.297,
          3.205,
          3.146,
          3.064,
          3.186,
          3.171,
          3.134,
          3.136,
          3.138,
          3.104,
          2.993,
          3.065,
          2.964,
          3.006,
          3.062,
          3.169,
          3.057,
          2.92,
          2.969,
          2.531,
          2.377,
          2.239,
          2.265,
          2.051,
          1.871,
          2.507,
          3.44,
          3.842,
          4.128,
          4.511,
          4.531,
          4.015,
          3.846,
          3.609,
          3.231,
          3.296,
          3.353,
          3.394,
          3.112,
          2.922,
          2.948,
          3.174,
          3.329,
          3.485,
          3.339,
          3.105,
          2.713,
          2.616,
          2.587,
          2.508,
          2.593,
          2.937,
          3.212,
          3.26,
          3.26,
          3.337,
          2.925,
          2.624,
          2.54,
          2.424,
          2.319,
          2.57,
          2.926,
          3.032,
          2.721,
          2.559,
          2.41,
          2.52,
          2.596,
          2.346,
          2.163,
          2.016,
          2.143,
          2.35,
          2.376,
          2.115,
          2.131,
          2.233,
          2.322,
          2.298,
          2.185,
          2.143,
          1.914,
          1.722,
          1.681,
          1.74,
          1.839,
          2.068,
          1.913,
          1.789,
          1.809,
          1.89,
          2.092,
          2.15,
          1.853,
          1.662,
          1.585,
          1.624,
          1.579,
          1.627,
          1.637,
          1.648,
          1.633,
          1.617,
          1.657,
          1.507,
          1.319,
          1.231,
          1.204,
          1.403,
          1.592,
          1.708,
          1.608,
          1.817,
          1.975,
          1.993,
          1.837,
          1.738,
          1.682,
          1.646,
          1.726,
          1.811,
          1.856,
          1.869,
          1.72,
          1.754,
          1.669,
          null
         ]
        }
       ],
       "layout": {
        "template": {
         "data": {
          "bar": [
           {
            "error_x": {
             "color": "#2a3f5f"
            },
            "error_y": {
             "color": "#2a3f5f"
            },
            "marker": {
             "line": {
              "color": "#E5ECF6",
              "width": 0.5
             },
             "pattern": {
              "fillmode": "overlay",
              "size": 10,
              "solidity": 0.2
             }
            },
            "type": "bar"
           }
          ],
          "barpolar": [
           {
            "marker": {
             "line": {
              "color": "#E5ECF6",
              "width": 0.5
             },
             "pattern": {
              "fillmode": "overlay",
              "size": 10,
              "solidity": 0.2
             }
            },
            "type": "barpolar"
           }
          ],
          "carpet": [
           {
            "aaxis": {
             "endlinecolor": "#2a3f5f",
             "gridcolor": "white",
             "linecolor": "white",
             "minorgridcolor": "white",
             "startlinecolor": "#2a3f5f"
            },
            "baxis": {
             "endlinecolor": "#2a3f5f",
             "gridcolor": "white",
             "linecolor": "white",
             "minorgridcolor": "white",
             "startlinecolor": "#2a3f5f"
            },
            "type": "carpet"
           }
          ],
          "choropleth": [
           {
            "colorbar": {
             "outlinewidth": 0,
             "ticks": ""
            },
            "type": "choropleth"
           }
          ],
          "contour": [
           {
            "colorbar": {
             "outlinewidth": 0,
             "ticks": ""
            },
            "colorscale": [
             [
              0,
              "#0d0887"
             ],
             [
              0.1111111111111111,
              "#46039f"
             ],
             [
              0.2222222222222222,
              "#7201a8"
             ],
             [
              0.3333333333333333,
              "#9c179e"
             ],
             [
              0.4444444444444444,
              "#bd3786"
             ],
             [
              0.5555555555555556,
              "#d8576b"
             ],
             [
              0.6666666666666666,
              "#ed7953"
             ],
             [
              0.7777777777777778,
              "#fb9f3a"
             ],
             [
              0.8888888888888888,
              "#fdca26"
             ],
             [
              1,
              "#f0f921"
             ]
            ],
            "type": "contour"
           }
          ],
          "contourcarpet": [
           {
            "colorbar": {
             "outlinewidth": 0,
             "ticks": ""
            },
            "type": "contourcarpet"
           }
          ],
          "heatmap": [
           {
            "colorbar": {
             "outlinewidth": 0,
             "ticks": ""
            },
            "colorscale": [
             [
              0,
              "#0d0887"
             ],
             [
              0.1111111111111111,
              "#46039f"
             ],
             [
              0.2222222222222222,
              "#7201a8"
             ],
             [
              0.3333333333333333,
              "#9c179e"
             ],
             [
              0.4444444444444444,
              "#bd3786"
             ],
             [
              0.5555555555555556,
              "#d8576b"
             ],
             [
              0.6666666666666666,
              "#ed7953"
             ],
             [
              0.7777777777777778,
              "#fb9f3a"
             ],
             [
              0.8888888888888888,
              "#fdca26"
             ],
             [
              1,
              "#f0f921"
             ]
            ],
            "type": "heatmap"
           }
          ],
          "heatmapgl": [
           {
            "colorbar": {
             "outlinewidth": 0,
             "ticks": ""
            },
            "colorscale": [
             [
              0,
              "#0d0887"
             ],
             [
              0.1111111111111111,
              "#46039f"
             ],
             [
              0.2222222222222222,
              "#7201a8"
             ],
             [
              0.3333333333333333,
              "#9c179e"
             ],
             [
              0.4444444444444444,
              "#bd3786"
             ],
             [
              0.5555555555555556,
              "#d8576b"
             ],
             [
              0.6666666666666666,
              "#ed7953"
             ],
             [
              0.7777777777777778,
              "#fb9f3a"
             ],
             [
              0.8888888888888888,
              "#fdca26"
             ],
             [
              1,
              "#f0f921"
             ]
            ],
            "type": "heatmapgl"
           }
          ],
          "histogram": [
           {
            "marker": {
             "pattern": {
              "fillmode": "overlay",
              "size": 10,
              "solidity": 0.2
             }
            },
            "type": "histogram"
           }
          ],
          "histogram2d": [
           {
            "colorbar": {
             "outlinewidth": 0,
             "ticks": ""
            },
            "colorscale": [
             [
              0,
              "#0d0887"
             ],
             [
              0.1111111111111111,
              "#46039f"
             ],
             [
              0.2222222222222222,
              "#7201a8"
             ],
             [
              0.3333333333333333,
              "#9c179e"
             ],
             [
              0.4444444444444444,
              "#bd3786"
             ],
             [
              0.5555555555555556,
              "#d8576b"
             ],
             [
              0.6666666666666666,
              "#ed7953"
             ],
             [
              0.7777777777777778,
              "#fb9f3a"
             ],
             [
              0.8888888888888888,
              "#fdca26"
             ],
             [
              1,
              "#f0f921"
             ]
            ],
            "type": "histogram2d"
           }
          ],
          "histogram2dcontour": [
           {
            "colorbar": {
             "outlinewidth": 0,
             "ticks": ""
            },
            "colorscale": [
             [
              0,
              "#0d0887"
             ],
             [
              0.1111111111111111,
              "#46039f"
             ],
             [
              0.2222222222222222,
              "#7201a8"
             ],
             [
              0.3333333333333333,
              "#9c179e"
             ],
             [
              0.4444444444444444,
              "#bd3786"
             ],
             [
              0.5555555555555556,
              "#d8576b"
             ],
             [
              0.6666666666666666,
              "#ed7953"
             ],
             [
              0.7777777777777778,
              "#fb9f3a"
             ],
             [
              0.8888888888888888,
              "#fdca26"
             ],
             [
              1,
              "#f0f921"
             ]
            ],
            "type": "histogram2dcontour"
           }
          ],
          "mesh3d": [
           {
            "colorbar": {
             "outlinewidth": 0,
             "ticks": ""
            },
            "type": "mesh3d"
           }
          ],
          "parcoords": [
           {
            "line": {
             "colorbar": {
              "outlinewidth": 0,
              "ticks": ""
             }
            },
            "type": "parcoords"
           }
          ],
          "pie": [
           {
            "automargin": true,
            "type": "pie"
           }
          ],
          "scatter": [
           {
            "fillpattern": {
             "fillmode": "overlay",
             "size": 10,
             "solidity": 0.2
            },
            "type": "scatter"
           }
          ],
          "scatter3d": [
           {
            "line": {
             "colorbar": {
              "outlinewidth": 0,
              "ticks": ""
             }
            },
            "marker": {
             "colorbar": {
              "outlinewidth": 0,
              "ticks": ""
             }
            },
            "type": "scatter3d"
           }
          ],
          "scattercarpet": [
           {
            "marker": {
             "colorbar": {
              "outlinewidth": 0,
              "ticks": ""
             }
            },
            "type": "scattercarpet"
           }
          ],
          "scattergeo": [
           {
            "marker": {
             "colorbar": {
              "outlinewidth": 0,
              "ticks": ""
             }
            },
            "type": "scattergeo"
           }
          ],
          "scattergl": [
           {
            "marker": {
             "colorbar": {
              "outlinewidth": 0,
              "ticks": ""
             }
            },
            "type": "scattergl"
           }
          ],
          "scattermapbox": [
           {
            "marker": {
             "colorbar": {
              "outlinewidth": 0,
              "ticks": ""
             }
            },
            "type": "scattermapbox"
           }
          ],
          "scatterpolar": [
           {
            "marker": {
             "colorbar": {
              "outlinewidth": 0,
              "ticks": ""
             }
            },
            "type": "scatterpolar"
           }
          ],
          "scatterpolargl": [
           {
            "marker": {
             "colorbar": {
              "outlinewidth": 0,
              "ticks": ""
             }
            },
            "type": "scatterpolargl"
           }
          ],
          "scatterternary": [
           {
            "marker": {
             "colorbar": {
              "outlinewidth": 0,
              "ticks": ""
             }
            },
            "type": "scatterternary"
           }
          ],
          "surface": [
           {
            "colorbar": {
             "outlinewidth": 0,
             "ticks": ""
            },
            "colorscale": [
             [
              0,
              "#0d0887"
             ],
             [
              0.1111111111111111,
              "#46039f"
             ],
             [
              0.2222222222222222,
              "#7201a8"
             ],
             [
              0.3333333333333333,
              "#9c179e"
             ],
             [
              0.4444444444444444,
              "#bd3786"
             ],
             [
              0.5555555555555556,
              "#d8576b"
             ],
             [
              0.6666666666666666,
              "#ed7953"
             ],
             [
              0.7777777777777778,
              "#fb9f3a"
             ],
             [
              0.8888888888888888,
              "#fdca26"
             ],
             [
              1,
              "#f0f921"
             ]
            ],
            "type": "surface"
           }
          ],
          "table": [
           {
            "cells": {
             "fill": {
              "color": "#EBF0F8"
             },
             "line": {
              "color": "white"
             }
            },
            "header": {
             "fill": {
              "color": "#C8D4E3"
             },
             "line": {
              "color": "white"
             }
            },
            "type": "table"
           }
          ]
         },
         "layout": {
          "annotationdefaults": {
           "arrowcolor": "#2a3f5f",
           "arrowhead": 0,
           "arrowwidth": 1
          },
          "autotypenumbers": "strict",
          "coloraxis": {
           "colorbar": {
            "outlinewidth": 0,
            "ticks": ""
           }
          },
          "colorscale": {
           "diverging": [
            [
             0,
             "#8e0152"
            ],
            [
             0.1,
             "#c51b7d"
            ],
            [
             0.2,
             "#de77ae"
            ],
            [
             0.3,
             "#f1b6da"
            ],
            [
             0.4,
             "#fde0ef"
            ],
            [
             0.5,
             "#f7f7f7"
            ],
            [
             0.6,
             "#e6f5d0"
            ],
            [
             0.7,
             "#b8e186"
            ],
            [
             0.8,
             "#7fbc41"
            ],
            [
             0.9,
             "#4d9221"
            ],
            [
             1,
             "#276419"
            ]
           ],
           "sequential": [
            [
             0,
             "#0d0887"
            ],
            [
             0.1111111111111111,
             "#46039f"
            ],
            [
             0.2222222222222222,
             "#7201a8"
            ],
            [
             0.3333333333333333,
             "#9c179e"
            ],
            [
             0.4444444444444444,
             "#bd3786"
            ],
            [
             0.5555555555555556,
             "#d8576b"
            ],
            [
             0.6666666666666666,
             "#ed7953"
            ],
            [
             0.7777777777777778,
             "#fb9f3a"
            ],
            [
             0.8888888888888888,
             "#fdca26"
            ],
            [
             1,
             "#f0f921"
            ]
           ],
           "sequentialminus": [
            [
             0,
             "#0d0887"
            ],
            [
             0.1111111111111111,
             "#46039f"
            ],
            [
             0.2222222222222222,
             "#7201a8"
            ],
            [
             0.3333333333333333,
             "#9c179e"
            ],
            [
             0.4444444444444444,
             "#bd3786"
            ],
            [
             0.5555555555555556,
             "#d8576b"
            ],
            [
             0.6666666666666666,
             "#ed7953"
            ],
            [
             0.7777777777777778,
             "#fb9f3a"
            ],
            [
             0.8888888888888888,
             "#fdca26"
            ],
            [
             1,
             "#f0f921"
            ]
           ]
          },
          "colorway": [
           "#636efa",
           "#EF553B",
           "#00cc96",
           "#ab63fa",
           "#FFA15A",
           "#19d3f3",
           "#FF6692",
           "#B6E880",
           "#FF97FF",
           "#FECB52"
          ],
          "font": {
           "color": "#2a3f5f"
          },
          "geo": {
           "bgcolor": "white",
           "lakecolor": "white",
           "landcolor": "#E5ECF6",
           "showlakes": true,
           "showland": true,
           "subunitcolor": "white"
          },
          "hoverlabel": {
           "align": "left"
          },
          "hovermode": "closest",
          "mapbox": {
           "style": "light"
          },
          "paper_bgcolor": "white",
          "plot_bgcolor": "#E5ECF6",
          "polar": {
           "angularaxis": {
            "gridcolor": "white",
            "linecolor": "white",
            "ticks": ""
           },
           "bgcolor": "#E5ECF6",
           "radialaxis": {
            "gridcolor": "white",
            "linecolor": "white",
            "ticks": ""
           }
          },
          "scene": {
           "xaxis": {
            "backgroundcolor": "#E5ECF6",
            "gridcolor": "white",
            "gridwidth": 2,
            "linecolor": "white",
            "showbackground": true,
            "ticks": "",
            "zerolinecolor": "white"
           },
           "yaxis": {
            "backgroundcolor": "#E5ECF6",
            "gridcolor": "white",
            "gridwidth": 2,
            "linecolor": "white",
            "showbackground": true,
            "ticks": "",
            "zerolinecolor": "white"
           },
           "zaxis": {
            "backgroundcolor": "#E5ECF6",
            "gridcolor": "white",
            "gridwidth": 2,
            "linecolor": "white",
            "showbackground": true,
            "ticks": "",
            "zerolinecolor": "white"
           }
          },
          "shapedefaults": {
           "line": {
            "color": "#2a3f5f"
           }
          },
          "ternary": {
           "aaxis": {
            "gridcolor": "white",
            "linecolor": "white",
            "ticks": ""
           },
           "baxis": {
            "gridcolor": "white",
            "linecolor": "white",
            "ticks": ""
           },
           "bgcolor": "#E5ECF6",
           "caxis": {
            "gridcolor": "white",
            "linecolor": "white",
            "ticks": ""
           }
          },
          "title": {
           "x": 0.05
          },
          "xaxis": {
           "automargin": true,
           "gridcolor": "white",
           "linecolor": "white",
           "ticks": "",
           "title": {
            "standoff": 15
           },
           "zerolinecolor": "white",
           "zerolinewidth": 2
          },
          "yaxis": {
           "automargin": true,
           "gridcolor": "white",
           "linecolor": "white",
           "ticks": "",
           "title": {
            "standoff": 15
           },
           "zerolinecolor": "white",
           "zerolinewidth": 2
          }
         }
        },
        "title": {
         "text": "Monthly Average Gas Price ($), California: 2000 - 2022"
        }
       }
      },
      "text/html": [
       "<div>                            <div id=\"e7d2856b-f5be-4884-9a19-bb3e9ea96b9c\" class=\"plotly-graph-div\" style=\"height:525px; width:100%;\"></div>            <script type=\"text/javascript\">                require([\"plotly\"], function(Plotly) {                    window.PLOTLYENV=window.PLOTLYENV || {};                                    if (document.getElementById(\"e7d2856b-f5be-4884-9a19-bb3e9ea96b9c\")) {                    Plotly.newPlot(                        \"e7d2856b-f5be-4884-9a19-bb3e9ea96b9c\",                        [{\"line\":{\"color\":\"blue\"},\"name\":\"fuel_mtrace\",\"opacity\":0.4,\"x\":[\"2022-04-01\",\"2022-03-01\",\"2022-02-01\",\"2022-01-01\",\"2021-12-01\",\"2021-11-01\",\"2021-10-01\",\"2021-09-01\",\"2021-08-01\",\"2021-07-01\",\"2021-06-01\",\"2021-05-01\",\"2021-04-01\",\"2021-03-01\",\"2021-02-01\",\"2021-01-01\",\"2020-12-01\",\"2020-11-01\",\"2020-10-01\",\"2020-09-01\",\"2020-08-01\",\"2020-07-01\",\"2020-06-01\",\"2020-05-01\",\"2020-04-01\",\"2020-03-01\",\"2020-02-01\",\"2020-01-01\",\"2019-12-01\",\"2019-11-01\",\"2019-10-01\",\"2019-09-01\",\"2019-08-01\",\"2019-07-01\",\"2019-06-01\",\"2019-05-01\",\"2019-04-01\",\"2019-03-01\",\"2019-02-01\",\"2019-01-01\",\"2018-12-01\",\"2018-11-01\",\"2018-10-01\",\"2018-09-01\",\"2018-08-01\",\"2018-07-01\",\"2018-06-01\",\"2018-05-01\",\"2018-04-01\",\"2018-03-01\",\"2018-02-01\",\"2018-01-01\",\"2017-12-01\",\"2017-11-01\",\"2017-10-01\",\"2017-09-01\",\"2017-08-01\",\"2017-07-01\",\"2017-06-01\",\"2017-05-01\",\"2017-04-01\",\"2017-03-01\",\"2017-02-01\",\"2017-01-01\",\"2016-12-01\",\"2016-11-01\",\"2016-10-01\",\"2016-09-01\",\"2016-08-01\",\"2016-07-01\",\"2016-06-01\",\"2016-05-01\",\"2016-04-01\",\"2016-03-01\",\"2016-02-01\",\"2016-01-01\",\"2015-12-01\",\"2015-11-01\",\"2015-10-01\",\"2015-09-01\",\"2015-08-01\",\"2015-07-01\",\"2015-06-01\",\"2015-05-01\",\"2015-04-01\",\"2015-03-01\",\"2015-02-01\",\"2015-01-01\",\"2014-12-01\",\"2014-11-01\",\"2014-10-01\",\"2014-09-01\",\"2014-08-01\",\"2014-07-01\",\"2014-06-01\",\"2014-05-01\",\"2014-04-01\",\"2014-03-01\",\"2014-02-01\",\"2014-01-01\",\"2013-12-01\",\"2013-11-01\",\"2013-10-01\",\"2013-09-01\",\"2013-08-01\",\"2013-07-01\",\"2013-06-01\",\"2013-05-01\",\"2013-04-01\",\"2013-03-01\",\"2013-02-01\",\"2013-01-01\",\"2012-12-01\",\"2012-11-01\",\"2012-10-01\",\"2012-09-01\",\"2012-08-01\",\"2012-07-01\",\"2012-06-01\",\"2012-05-01\",\"2012-04-01\",\"2012-03-01\",\"2012-02-01\",\"2012-01-01\",\"2011-12-01\",\"2011-11-01\",\"2011-10-01\",\"2011-09-01\",\"2011-08-01\",\"2011-07-01\",\"2011-06-01\",\"2011-05-01\",\"2011-04-01\",\"2011-03-01\",\"2011-02-01\",\"2011-01-01\",\"2010-12-01\",\"2010-11-01\",\"2010-10-01\",\"2010-09-01\",\"2010-08-01\",\"2010-07-01\",\"2010-06-01\",\"2010-05-01\",\"2010-04-01\",\"2010-03-01\",\"2010-02-01\",\"2010-01-01\",\"2009-12-01\",\"2009-11-01\",\"2009-10-01\",\"2009-09-01\",\"2009-08-01\",\"2009-07-01\",\"2009-06-01\",\"2009-05-01\",\"2009-04-01\",\"2009-03-01\",\"2009-02-01\",\"2009-01-01\",\"2008-12-01\",\"2008-11-01\",\"2008-10-01\",\"2008-09-01\",\"2008-08-01\",\"2008-07-01\",\"2008-06-01\",\"2008-05-01\",\"2008-04-01\",\"2008-03-01\",\"2008-02-01\",\"2008-01-01\",\"2007-12-01\",\"2007-11-01\",\"2007-10-01\",\"2007-09-01\",\"2007-08-01\",\"2007-07-01\",\"2007-06-01\",\"2007-05-01\",\"2007-04-01\",\"2007-03-01\",\"2007-02-01\",\"2007-01-01\",\"2006-12-01\",\"2006-11-01\",\"2006-10-01\",\"2006-09-01\",\"2006-08-01\",\"2006-07-01\",\"2006-06-01\",\"2006-05-01\",\"2006-04-01\",\"2006-03-01\",\"2006-02-01\",\"2006-01-01\",\"2005-12-01\",\"2005-11-01\",\"2005-10-01\",\"2005-09-01\",\"2005-08-01\",\"2005-07-01\",\"2005-06-01\",\"2005-05-01\",\"2005-04-01\",\"2005-03-01\",\"2005-02-01\",\"2005-01-01\",\"2004-12-01\",\"2004-11-01\",\"2004-10-01\",\"2004-09-01\",\"2004-08-01\",\"2004-07-01\",\"2004-06-01\",\"2004-05-01\",\"2004-04-01\",\"2004-03-01\",\"2004-02-01\",\"2004-01-01\",\"2003-12-01\",\"2003-11-01\",\"2003-10-01\",\"2003-09-01\",\"2003-08-01\",\"2003-07-01\",\"2003-06-01\",\"2003-05-01\",\"2003-04-01\",\"2003-03-01\",\"2003-02-01\",\"2003-01-01\",\"2002-12-01\",\"2002-11-01\",\"2002-10-01\",\"2002-09-01\",\"2002-08-01\",\"2002-07-01\",\"2002-06-01\",\"2002-05-01\",\"2002-04-01\",\"2002-03-01\",\"2002-02-01\",\"2002-01-01\",\"2001-12-01\",\"2001-11-01\",\"2001-10-01\",\"2001-09-01\",\"2001-08-01\",\"2001-07-01\",\"2001-06-01\",\"2001-05-01\",\"2001-04-01\",\"2001-03-01\",\"2001-02-01\",\"2001-01-01\",\"2000-12-01\",\"2000-11-01\",\"2000-10-01\",\"2000-09-01\",\"2000-08-01\",\"2000-07-01\",\"2000-06-01\",\"2000-05-01\"],\"y\":[5.692,5.655,4.66,4.584,4.597,4.598,4.4,4.31,4.319,4.253,4.182,4.068,3.911,3.781,3.434,3.262,3.143,3.115,3.137,3.174,3.156,3.102,2.972,2.771,2.827,3.262,3.447,3.489,3.61,3.944,4.116,3.687,3.555,3.668,3.787,4.019,3.894,3.342,3.236,3.232,3.368,3.632,3.76,3.588,3.556,3.605,3.673,3.69,3.617,3.476,3.418,3.269,3.187,3.294,3.137,3.22,3.073,3.005,3.08,3.101,3.067,3.059,2.946,2.848,2.738,2.788,2.862,2.803,2.745,2.911,2.93,2.855,2.822,2.679,2.477,2.823,2.776,2.819,2.945,3.175,3.594,3.812,3.596,3.804,3.261,3.388,2.756,2.596,2.916,3.234,3.585,3.821,3.961,4.11,4.163,4.22,4.21,3.984,3.726,3.666,3.642,3.641,3.829,3.989,3.919,4.056,4.05,4.051,4.031,4.192,4.127,3.678,3.628,3.893,4.458,4.211,4.109,3.821,4.133,4.353,4.292,4.414,4.027,3.747,3.648,3.848,3.89,3.971,3.823,3.844,3.965,4.229,4.206,4.002,3.576,3.389,3.297,3.205,3.146,3.064,3.186,3.171,3.134,3.136,3.138,3.104,2.993,3.065,2.964,3.006,3.062,3.169,3.057,2.92,2.969,2.531,2.377,2.239,2.265,2.051,1.871,2.507,3.44,3.842,4.128,4.511,4.531,4.015,3.846,3.609,3.231,3.296,3.353,3.394,3.112,2.922,2.948,3.174,3.329,3.485,3.339,3.105,2.713,2.616,2.587,2.508,2.593,2.937,3.212,3.26,3.26,3.337,2.925,2.624,2.54,2.424,2.319,2.57,2.926,3.032,2.721,2.559,2.41,2.52,2.596,2.346,2.163,2.016,2.143,2.35,2.376,2.115,2.131,2.233,2.322,2.298,2.185,2.143,1.914,1.722,1.681,1.74,1.839,2.068,1.913,1.789,1.809,1.89,2.092,2.15,1.853,1.662,1.585,1.624,1.579,1.627,1.637,1.648,1.633,1.617,1.657,1.507,1.319,1.231,1.204,1.403,1.592,1.708,1.608,1.817,1.975,1.993,1.837,1.738,1.682,1.646,1.726,1.811,1.856,1.869,1.72,1.754,1.669,null],\"type\":\"scatter\"}],                        {\"template\":{\"data\":{\"barpolar\":[{\"marker\":{\"line\":{\"color\":\"#E5ECF6\",\"width\":0.5},\"pattern\":{\"fillmode\":\"overlay\",\"size\":10,\"solidity\":0.2}},\"type\":\"barpolar\"}],\"bar\":[{\"error_x\":{\"color\":\"#2a3f5f\"},\"error_y\":{\"color\":\"#2a3f5f\"},\"marker\":{\"line\":{\"color\":\"#E5ECF6\",\"width\":0.5},\"pattern\":{\"fillmode\":\"overlay\",\"size\":10,\"solidity\":0.2}},\"type\":\"bar\"}],\"carpet\":[{\"aaxis\":{\"endlinecolor\":\"#2a3f5f\",\"gridcolor\":\"white\",\"linecolor\":\"white\",\"minorgridcolor\":\"white\",\"startlinecolor\":\"#2a3f5f\"},\"baxis\":{\"endlinecolor\":\"#2a3f5f\",\"gridcolor\":\"white\",\"linecolor\":\"white\",\"minorgridcolor\":\"white\",\"startlinecolor\":\"#2a3f5f\"},\"type\":\"carpet\"}],\"choropleth\":[{\"colorbar\":{\"outlinewidth\":0,\"ticks\":\"\"},\"type\":\"choropleth\"}],\"contourcarpet\":[{\"colorbar\":{\"outlinewidth\":0,\"ticks\":\"\"},\"type\":\"contourcarpet\"}],\"contour\":[{\"colorbar\":{\"outlinewidth\":0,\"ticks\":\"\"},\"colorscale\":[[0.0,\"#0d0887\"],[0.1111111111111111,\"#46039f\"],[0.2222222222222222,\"#7201a8\"],[0.3333333333333333,\"#9c179e\"],[0.4444444444444444,\"#bd3786\"],[0.5555555555555556,\"#d8576b\"],[0.6666666666666666,\"#ed7953\"],[0.7777777777777778,\"#fb9f3a\"],[0.8888888888888888,\"#fdca26\"],[1.0,\"#f0f921\"]],\"type\":\"contour\"}],\"heatmapgl\":[{\"colorbar\":{\"outlinewidth\":0,\"ticks\":\"\"},\"colorscale\":[[0.0,\"#0d0887\"],[0.1111111111111111,\"#46039f\"],[0.2222222222222222,\"#7201a8\"],[0.3333333333333333,\"#9c179e\"],[0.4444444444444444,\"#bd3786\"],[0.5555555555555556,\"#d8576b\"],[0.6666666666666666,\"#ed7953\"],[0.7777777777777778,\"#fb9f3a\"],[0.8888888888888888,\"#fdca26\"],[1.0,\"#f0f921\"]],\"type\":\"heatmapgl\"}],\"heatmap\":[{\"colorbar\":{\"outlinewidth\":0,\"ticks\":\"\"},\"colorscale\":[[0.0,\"#0d0887\"],[0.1111111111111111,\"#46039f\"],[0.2222222222222222,\"#7201a8\"],[0.3333333333333333,\"#9c179e\"],[0.4444444444444444,\"#bd3786\"],[0.5555555555555556,\"#d8576b\"],[0.6666666666666666,\"#ed7953\"],[0.7777777777777778,\"#fb9f3a\"],[0.8888888888888888,\"#fdca26\"],[1.0,\"#f0f921\"]],\"type\":\"heatmap\"}],\"histogram2dcontour\":[{\"colorbar\":{\"outlinewidth\":0,\"ticks\":\"\"},\"colorscale\":[[0.0,\"#0d0887\"],[0.1111111111111111,\"#46039f\"],[0.2222222222222222,\"#7201a8\"],[0.3333333333333333,\"#9c179e\"],[0.4444444444444444,\"#bd3786\"],[0.5555555555555556,\"#d8576b\"],[0.6666666666666666,\"#ed7953\"],[0.7777777777777778,\"#fb9f3a\"],[0.8888888888888888,\"#fdca26\"],[1.0,\"#f0f921\"]],\"type\":\"histogram2dcontour\"}],\"histogram2d\":[{\"colorbar\":{\"outlinewidth\":0,\"ticks\":\"\"},\"colorscale\":[[0.0,\"#0d0887\"],[0.1111111111111111,\"#46039f\"],[0.2222222222222222,\"#7201a8\"],[0.3333333333333333,\"#9c179e\"],[0.4444444444444444,\"#bd3786\"],[0.5555555555555556,\"#d8576b\"],[0.6666666666666666,\"#ed7953\"],[0.7777777777777778,\"#fb9f3a\"],[0.8888888888888888,\"#fdca26\"],[1.0,\"#f0f921\"]],\"type\":\"histogram2d\"}],\"histogram\":[{\"marker\":{\"pattern\":{\"fillmode\":\"overlay\",\"size\":10,\"solidity\":0.2}},\"type\":\"histogram\"}],\"mesh3d\":[{\"colorbar\":{\"outlinewidth\":0,\"ticks\":\"\"},\"type\":\"mesh3d\"}],\"parcoords\":[{\"line\":{\"colorbar\":{\"outlinewidth\":0,\"ticks\":\"\"}},\"type\":\"parcoords\"}],\"pie\":[{\"automargin\":true,\"type\":\"pie\"}],\"scatter3d\":[{\"line\":{\"colorbar\":{\"outlinewidth\":0,\"ticks\":\"\"}},\"marker\":{\"colorbar\":{\"outlinewidth\":0,\"ticks\":\"\"}},\"type\":\"scatter3d\"}],\"scattercarpet\":[{\"marker\":{\"colorbar\":{\"outlinewidth\":0,\"ticks\":\"\"}},\"type\":\"scattercarpet\"}],\"scattergeo\":[{\"marker\":{\"colorbar\":{\"outlinewidth\":0,\"ticks\":\"\"}},\"type\":\"scattergeo\"}],\"scattergl\":[{\"marker\":{\"colorbar\":{\"outlinewidth\":0,\"ticks\":\"\"}},\"type\":\"scattergl\"}],\"scattermapbox\":[{\"marker\":{\"colorbar\":{\"outlinewidth\":0,\"ticks\":\"\"}},\"type\":\"scattermapbox\"}],\"scatterpolargl\":[{\"marker\":{\"colorbar\":{\"outlinewidth\":0,\"ticks\":\"\"}},\"type\":\"scatterpolargl\"}],\"scatterpolar\":[{\"marker\":{\"colorbar\":{\"outlinewidth\":0,\"ticks\":\"\"}},\"type\":\"scatterpolar\"}],\"scatter\":[{\"fillpattern\":{\"fillmode\":\"overlay\",\"size\":10,\"solidity\":0.2},\"type\":\"scatter\"}],\"scatterternary\":[{\"marker\":{\"colorbar\":{\"outlinewidth\":0,\"ticks\":\"\"}},\"type\":\"scatterternary\"}],\"surface\":[{\"colorbar\":{\"outlinewidth\":0,\"ticks\":\"\"},\"colorscale\":[[0.0,\"#0d0887\"],[0.1111111111111111,\"#46039f\"],[0.2222222222222222,\"#7201a8\"],[0.3333333333333333,\"#9c179e\"],[0.4444444444444444,\"#bd3786\"],[0.5555555555555556,\"#d8576b\"],[0.6666666666666666,\"#ed7953\"],[0.7777777777777778,\"#fb9f3a\"],[0.8888888888888888,\"#fdca26\"],[1.0,\"#f0f921\"]],\"type\":\"surface\"}],\"table\":[{\"cells\":{\"fill\":{\"color\":\"#EBF0F8\"},\"line\":{\"color\":\"white\"}},\"header\":{\"fill\":{\"color\":\"#C8D4E3\"},\"line\":{\"color\":\"white\"}},\"type\":\"table\"}]},\"layout\":{\"annotationdefaults\":{\"arrowcolor\":\"#2a3f5f\",\"arrowhead\":0,\"arrowwidth\":1},\"autotypenumbers\":\"strict\",\"coloraxis\":{\"colorbar\":{\"outlinewidth\":0,\"ticks\":\"\"}},\"colorscale\":{\"diverging\":[[0,\"#8e0152\"],[0.1,\"#c51b7d\"],[0.2,\"#de77ae\"],[0.3,\"#f1b6da\"],[0.4,\"#fde0ef\"],[0.5,\"#f7f7f7\"],[0.6,\"#e6f5d0\"],[0.7,\"#b8e186\"],[0.8,\"#7fbc41\"],[0.9,\"#4d9221\"],[1,\"#276419\"]],\"sequential\":[[0.0,\"#0d0887\"],[0.1111111111111111,\"#46039f\"],[0.2222222222222222,\"#7201a8\"],[0.3333333333333333,\"#9c179e\"],[0.4444444444444444,\"#bd3786\"],[0.5555555555555556,\"#d8576b\"],[0.6666666666666666,\"#ed7953\"],[0.7777777777777778,\"#fb9f3a\"],[0.8888888888888888,\"#fdca26\"],[1.0,\"#f0f921\"]],\"sequentialminus\":[[0.0,\"#0d0887\"],[0.1111111111111111,\"#46039f\"],[0.2222222222222222,\"#7201a8\"],[0.3333333333333333,\"#9c179e\"],[0.4444444444444444,\"#bd3786\"],[0.5555555555555556,\"#d8576b\"],[0.6666666666666666,\"#ed7953\"],[0.7777777777777778,\"#fb9f3a\"],[0.8888888888888888,\"#fdca26\"],[1.0,\"#f0f921\"]]},\"colorway\":[\"#636efa\",\"#EF553B\",\"#00cc96\",\"#ab63fa\",\"#FFA15A\",\"#19d3f3\",\"#FF6692\",\"#B6E880\",\"#FF97FF\",\"#FECB52\"],\"font\":{\"color\":\"#2a3f5f\"},\"geo\":{\"bgcolor\":\"white\",\"lakecolor\":\"white\",\"landcolor\":\"#E5ECF6\",\"showlakes\":true,\"showland\":true,\"subunitcolor\":\"white\"},\"hoverlabel\":{\"align\":\"left\"},\"hovermode\":\"closest\",\"mapbox\":{\"style\":\"light\"},\"paper_bgcolor\":\"white\",\"plot_bgcolor\":\"#E5ECF6\",\"polar\":{\"angularaxis\":{\"gridcolor\":\"white\",\"linecolor\":\"white\",\"ticks\":\"\"},\"bgcolor\":\"#E5ECF6\",\"radialaxis\":{\"gridcolor\":\"white\",\"linecolor\":\"white\",\"ticks\":\"\"}},\"scene\":{\"xaxis\":{\"backgroundcolor\":\"#E5ECF6\",\"gridcolor\":\"white\",\"gridwidth\":2,\"linecolor\":\"white\",\"showbackground\":true,\"ticks\":\"\",\"zerolinecolor\":\"white\"},\"yaxis\":{\"backgroundcolor\":\"#E5ECF6\",\"gridcolor\":\"white\",\"gridwidth\":2,\"linecolor\":\"white\",\"showbackground\":true,\"ticks\":\"\",\"zerolinecolor\":\"white\"},\"zaxis\":{\"backgroundcolor\":\"#E5ECF6\",\"gridcolor\":\"white\",\"gridwidth\":2,\"linecolor\":\"white\",\"showbackground\":true,\"ticks\":\"\",\"zerolinecolor\":\"white\"}},\"shapedefaults\":{\"line\":{\"color\":\"#2a3f5f\"}},\"ternary\":{\"aaxis\":{\"gridcolor\":\"white\",\"linecolor\":\"white\",\"ticks\":\"\"},\"baxis\":{\"gridcolor\":\"white\",\"linecolor\":\"white\",\"ticks\":\"\"},\"bgcolor\":\"#E5ECF6\",\"caxis\":{\"gridcolor\":\"white\",\"linecolor\":\"white\",\"ticks\":\"\"}},\"title\":{\"x\":0.05},\"xaxis\":{\"automargin\":true,\"gridcolor\":\"white\",\"linecolor\":\"white\",\"ticks\":\"\",\"title\":{\"standoff\":15},\"zerolinecolor\":\"white\",\"zerolinewidth\":2},\"yaxis\":{\"automargin\":true,\"gridcolor\":\"white\",\"linecolor\":\"white\",\"ticks\":\"\",\"title\":{\"standoff\":15},\"zerolinecolor\":\"white\",\"zerolinewidth\":2}}},\"title\":{\"text\":\"Monthly Average Gas Price ($), California: 2000 - 2022\"}},                        {\"responsive\": true}                    ).then(function(){\n",
       "                            \n",
       "var gd = document.getElementById('e7d2856b-f5be-4884-9a19-bb3e9ea96b9c');\n",
       "var x = new MutationObserver(function (mutations, observer) {{\n",
       "        var display = window.getComputedStyle(gd).display;\n",
       "        if (!display || display === 'none') {{\n",
       "            console.log([gd, 'removed!']);\n",
       "            Plotly.purge(gd);\n",
       "            observer.disconnect();\n",
       "        }}\n",
       "}});\n",
       "\n",
       "// Listen for the removal of the full notebook cells\n",
       "var notebookContainer = gd.closest('#notebook-container');\n",
       "if (notebookContainer) {{\n",
       "    x.observe(notebookContainer, {childList: true});\n",
       "}}\n",
       "\n",
       "// Listen for the clearing of the current output cell\n",
       "var outputEl = gd.closest('.output');\n",
       "if (outputEl) {{\n",
       "    x.observe(outputEl, {childList: true});\n",
       "}}\n",
       "\n",
       "                        })                };                });            </script>        </div>"
      ]
     },
     "metadata": {},
     "output_type": "display_data"
    },
    {
     "name": "stdout",
     "output_type": "stream",
     "text": [
      "done\n"
     ]
    }
   ],
   "source": [
    "fuel_plot = plot_traces(fuel, 'fuel_m', 'Monthly Average Gas Price ($), California: 2000 - 2022')"
   ]
  },
  {
   "cell_type": "markdown",
   "metadata": {},
   "source": [
    "> <br>\n",
    ">\n",
    "> 3. Manipulating 'REGISTERED VEHICLES' file: \n",
    "> \n",
    "> <br>"
   ]
  },
  {
   "cell_type": "code",
   "execution_count": 48,
   "metadata": {},
   "outputs": [
    {
     "data": {
      "text/html": [
       "<div>\n",
       "<style scoped>\n",
       "    .dataframe tbody tr th:only-of-type {\n",
       "        vertical-align: middle;\n",
       "    }\n",
       "\n",
       "    .dataframe tbody tr th {\n",
       "        vertical-align: top;\n",
       "    }\n",
       "\n",
       "    .dataframe thead th {\n",
       "        text-align: right;\n",
       "    }\n",
       "</style>\n",
       "<table border=\"1\" class=\"dataframe\">\n",
       "  <thead>\n",
       "    <tr style=\"text-align: right;\">\n",
       "      <th></th>\n",
       "      <th>ds</th>\n",
       "      <th>cars</th>\n",
       "    </tr>\n",
       "  </thead>\n",
       "  <tbody>\n",
       "    <tr>\n",
       "      <th>0</th>\n",
       "      <td>2010-01-01</td>\n",
       "      <td>22286130</td>\n",
       "    </tr>\n",
       "    <tr>\n",
       "      <th>1</th>\n",
       "      <td>2011-01-01</td>\n",
       "      <td>22288061</td>\n",
       "    </tr>\n",
       "    <tr>\n",
       "      <th>2</th>\n",
       "      <td>2012-01-01</td>\n",
       "      <td>22502680</td>\n",
       "    </tr>\n",
       "    <tr>\n",
       "      <th>3</th>\n",
       "      <td>2013-01-01</td>\n",
       "      <td>23270577</td>\n",
       "    </tr>\n",
       "    <tr>\n",
       "      <th>4</th>\n",
       "      <td>2014-01-01</td>\n",
       "      <td>23899504</td>\n",
       "    </tr>\n",
       "  </tbody>\n",
       "</table>\n",
       "</div>"
      ],
      "text/plain": [
       "           ds      cars\n",
       "0  2010-01-01  22286130\n",
       "1  2011-01-01  22288061\n",
       "2  2012-01-01  22502680\n",
       "3  2013-01-01  23270577\n",
       "4  2014-01-01  23899504"
      ]
     },
     "execution_count": 48,
     "metadata": {},
     "output_type": "execute_result"
    }
   ],
   "source": [
    "filename = path + 'vehs.csv'\n",
    "vehs = pd.read_csv(filename)\n",
    "\n",
    "vehs.head()"
   ]
  },
  {
   "cell_type": "code",
   "execution_count": 62,
   "metadata": {},
   "outputs": [
    {
     "data": {
      "application/vnd.plotly.v1+json": {
       "config": {
        "linkText": "Export to plot.ly",
        "plotlyServerURL": "https://plot.ly",
        "showLink": false
       },
       "data": [
        {
         "line": {
          "color": "blue"
         },
         "name": "carstrace",
         "opacity": 0.4,
         "type": "scatter",
         "x": [
          "2010-01-01",
          "2011-01-01",
          "2012-01-01",
          "2013-01-01",
          "2014-01-01",
          "2015-01-01",
          "2016-01-01",
          "2017-01-01",
          "2018-01-01",
          "2019-01-01",
          "2020-01-01",
          "2021-01-01"
         ],
         "y": [
          22286130,
          22288061,
          22502680,
          23270577,
          23899504,
          24412289,
          25300683,
          28418039,
          28681493,
          29029787,
          28665934,
          29942517
         ]
        }
       ],
       "layout": {
        "template": {
         "data": {
          "bar": [
           {
            "error_x": {
             "color": "#2a3f5f"
            },
            "error_y": {
             "color": "#2a3f5f"
            },
            "marker": {
             "line": {
              "color": "#E5ECF6",
              "width": 0.5
             },
             "pattern": {
              "fillmode": "overlay",
              "size": 10,
              "solidity": 0.2
             }
            },
            "type": "bar"
           }
          ],
          "barpolar": [
           {
            "marker": {
             "line": {
              "color": "#E5ECF6",
              "width": 0.5
             },
             "pattern": {
              "fillmode": "overlay",
              "size": 10,
              "solidity": 0.2
             }
            },
            "type": "barpolar"
           }
          ],
          "carpet": [
           {
            "aaxis": {
             "endlinecolor": "#2a3f5f",
             "gridcolor": "white",
             "linecolor": "white",
             "minorgridcolor": "white",
             "startlinecolor": "#2a3f5f"
            },
            "baxis": {
             "endlinecolor": "#2a3f5f",
             "gridcolor": "white",
             "linecolor": "white",
             "minorgridcolor": "white",
             "startlinecolor": "#2a3f5f"
            },
            "type": "carpet"
           }
          ],
          "choropleth": [
           {
            "colorbar": {
             "outlinewidth": 0,
             "ticks": ""
            },
            "type": "choropleth"
           }
          ],
          "contour": [
           {
            "colorbar": {
             "outlinewidth": 0,
             "ticks": ""
            },
            "colorscale": [
             [
              0,
              "#0d0887"
             ],
             [
              0.1111111111111111,
              "#46039f"
             ],
             [
              0.2222222222222222,
              "#7201a8"
             ],
             [
              0.3333333333333333,
              "#9c179e"
             ],
             [
              0.4444444444444444,
              "#bd3786"
             ],
             [
              0.5555555555555556,
              "#d8576b"
             ],
             [
              0.6666666666666666,
              "#ed7953"
             ],
             [
              0.7777777777777778,
              "#fb9f3a"
             ],
             [
              0.8888888888888888,
              "#fdca26"
             ],
             [
              1,
              "#f0f921"
             ]
            ],
            "type": "contour"
           }
          ],
          "contourcarpet": [
           {
            "colorbar": {
             "outlinewidth": 0,
             "ticks": ""
            },
            "type": "contourcarpet"
           }
          ],
          "heatmap": [
           {
            "colorbar": {
             "outlinewidth": 0,
             "ticks": ""
            },
            "colorscale": [
             [
              0,
              "#0d0887"
             ],
             [
              0.1111111111111111,
              "#46039f"
             ],
             [
              0.2222222222222222,
              "#7201a8"
             ],
             [
              0.3333333333333333,
              "#9c179e"
             ],
             [
              0.4444444444444444,
              "#bd3786"
             ],
             [
              0.5555555555555556,
              "#d8576b"
             ],
             [
              0.6666666666666666,
              "#ed7953"
             ],
             [
              0.7777777777777778,
              "#fb9f3a"
             ],
             [
              0.8888888888888888,
              "#fdca26"
             ],
             [
              1,
              "#f0f921"
             ]
            ],
            "type": "heatmap"
           }
          ],
          "heatmapgl": [
           {
            "colorbar": {
             "outlinewidth": 0,
             "ticks": ""
            },
            "colorscale": [
             [
              0,
              "#0d0887"
             ],
             [
              0.1111111111111111,
              "#46039f"
             ],
             [
              0.2222222222222222,
              "#7201a8"
             ],
             [
              0.3333333333333333,
              "#9c179e"
             ],
             [
              0.4444444444444444,
              "#bd3786"
             ],
             [
              0.5555555555555556,
              "#d8576b"
             ],
             [
              0.6666666666666666,
              "#ed7953"
             ],
             [
              0.7777777777777778,
              "#fb9f3a"
             ],
             [
              0.8888888888888888,
              "#fdca26"
             ],
             [
              1,
              "#f0f921"
             ]
            ],
            "type": "heatmapgl"
           }
          ],
          "histogram": [
           {
            "marker": {
             "pattern": {
              "fillmode": "overlay",
              "size": 10,
              "solidity": 0.2
             }
            },
            "type": "histogram"
           }
          ],
          "histogram2d": [
           {
            "colorbar": {
             "outlinewidth": 0,
             "ticks": ""
            },
            "colorscale": [
             [
              0,
              "#0d0887"
             ],
             [
              0.1111111111111111,
              "#46039f"
             ],
             [
              0.2222222222222222,
              "#7201a8"
             ],
             [
              0.3333333333333333,
              "#9c179e"
             ],
             [
              0.4444444444444444,
              "#bd3786"
             ],
             [
              0.5555555555555556,
              "#d8576b"
             ],
             [
              0.6666666666666666,
              "#ed7953"
             ],
             [
              0.7777777777777778,
              "#fb9f3a"
             ],
             [
              0.8888888888888888,
              "#fdca26"
             ],
             [
              1,
              "#f0f921"
             ]
            ],
            "type": "histogram2d"
           }
          ],
          "histogram2dcontour": [
           {
            "colorbar": {
             "outlinewidth": 0,
             "ticks": ""
            },
            "colorscale": [
             [
              0,
              "#0d0887"
             ],
             [
              0.1111111111111111,
              "#46039f"
             ],
             [
              0.2222222222222222,
              "#7201a8"
             ],
             [
              0.3333333333333333,
              "#9c179e"
             ],
             [
              0.4444444444444444,
              "#bd3786"
             ],
             [
              0.5555555555555556,
              "#d8576b"
             ],
             [
              0.6666666666666666,
              "#ed7953"
             ],
             [
              0.7777777777777778,
              "#fb9f3a"
             ],
             [
              0.8888888888888888,
              "#fdca26"
             ],
             [
              1,
              "#f0f921"
             ]
            ],
            "type": "histogram2dcontour"
           }
          ],
          "mesh3d": [
           {
            "colorbar": {
             "outlinewidth": 0,
             "ticks": ""
            },
            "type": "mesh3d"
           }
          ],
          "parcoords": [
           {
            "line": {
             "colorbar": {
              "outlinewidth": 0,
              "ticks": ""
             }
            },
            "type": "parcoords"
           }
          ],
          "pie": [
           {
            "automargin": true,
            "type": "pie"
           }
          ],
          "scatter": [
           {
            "fillpattern": {
             "fillmode": "overlay",
             "size": 10,
             "solidity": 0.2
            },
            "type": "scatter"
           }
          ],
          "scatter3d": [
           {
            "line": {
             "colorbar": {
              "outlinewidth": 0,
              "ticks": ""
             }
            },
            "marker": {
             "colorbar": {
              "outlinewidth": 0,
              "ticks": ""
             }
            },
            "type": "scatter3d"
           }
          ],
          "scattercarpet": [
           {
            "marker": {
             "colorbar": {
              "outlinewidth": 0,
              "ticks": ""
             }
            },
            "type": "scattercarpet"
           }
          ],
          "scattergeo": [
           {
            "marker": {
             "colorbar": {
              "outlinewidth": 0,
              "ticks": ""
             }
            },
            "type": "scattergeo"
           }
          ],
          "scattergl": [
           {
            "marker": {
             "colorbar": {
              "outlinewidth": 0,
              "ticks": ""
             }
            },
            "type": "scattergl"
           }
          ],
          "scattermapbox": [
           {
            "marker": {
             "colorbar": {
              "outlinewidth": 0,
              "ticks": ""
             }
            },
            "type": "scattermapbox"
           }
          ],
          "scatterpolar": [
           {
            "marker": {
             "colorbar": {
              "outlinewidth": 0,
              "ticks": ""
             }
            },
            "type": "scatterpolar"
           }
          ],
          "scatterpolargl": [
           {
            "marker": {
             "colorbar": {
              "outlinewidth": 0,
              "ticks": ""
             }
            },
            "type": "scatterpolargl"
           }
          ],
          "scatterternary": [
           {
            "marker": {
             "colorbar": {
              "outlinewidth": 0,
              "ticks": ""
             }
            },
            "type": "scatterternary"
           }
          ],
          "surface": [
           {
            "colorbar": {
             "outlinewidth": 0,
             "ticks": ""
            },
            "colorscale": [
             [
              0,
              "#0d0887"
             ],
             [
              0.1111111111111111,
              "#46039f"
             ],
             [
              0.2222222222222222,
              "#7201a8"
             ],
             [
              0.3333333333333333,
              "#9c179e"
             ],
             [
              0.4444444444444444,
              "#bd3786"
             ],
             [
              0.5555555555555556,
              "#d8576b"
             ],
             [
              0.6666666666666666,
              "#ed7953"
             ],
             [
              0.7777777777777778,
              "#fb9f3a"
             ],
             [
              0.8888888888888888,
              "#fdca26"
             ],
             [
              1,
              "#f0f921"
             ]
            ],
            "type": "surface"
           }
          ],
          "table": [
           {
            "cells": {
             "fill": {
              "color": "#EBF0F8"
             },
             "line": {
              "color": "white"
             }
            },
            "header": {
             "fill": {
              "color": "#C8D4E3"
             },
             "line": {
              "color": "white"
             }
            },
            "type": "table"
           }
          ]
         },
         "layout": {
          "annotationdefaults": {
           "arrowcolor": "#2a3f5f",
           "arrowhead": 0,
           "arrowwidth": 1
          },
          "autotypenumbers": "strict",
          "coloraxis": {
           "colorbar": {
            "outlinewidth": 0,
            "ticks": ""
           }
          },
          "colorscale": {
           "diverging": [
            [
             0,
             "#8e0152"
            ],
            [
             0.1,
             "#c51b7d"
            ],
            [
             0.2,
             "#de77ae"
            ],
            [
             0.3,
             "#f1b6da"
            ],
            [
             0.4,
             "#fde0ef"
            ],
            [
             0.5,
             "#f7f7f7"
            ],
            [
             0.6,
             "#e6f5d0"
            ],
            [
             0.7,
             "#b8e186"
            ],
            [
             0.8,
             "#7fbc41"
            ],
            [
             0.9,
             "#4d9221"
            ],
            [
             1,
             "#276419"
            ]
           ],
           "sequential": [
            [
             0,
             "#0d0887"
            ],
            [
             0.1111111111111111,
             "#46039f"
            ],
            [
             0.2222222222222222,
             "#7201a8"
            ],
            [
             0.3333333333333333,
             "#9c179e"
            ],
            [
             0.4444444444444444,
             "#bd3786"
            ],
            [
             0.5555555555555556,
             "#d8576b"
            ],
            [
             0.6666666666666666,
             "#ed7953"
            ],
            [
             0.7777777777777778,
             "#fb9f3a"
            ],
            [
             0.8888888888888888,
             "#fdca26"
            ],
            [
             1,
             "#f0f921"
            ]
           ],
           "sequentialminus": [
            [
             0,
             "#0d0887"
            ],
            [
             0.1111111111111111,
             "#46039f"
            ],
            [
             0.2222222222222222,
             "#7201a8"
            ],
            [
             0.3333333333333333,
             "#9c179e"
            ],
            [
             0.4444444444444444,
             "#bd3786"
            ],
            [
             0.5555555555555556,
             "#d8576b"
            ],
            [
             0.6666666666666666,
             "#ed7953"
            ],
            [
             0.7777777777777778,
             "#fb9f3a"
            ],
            [
             0.8888888888888888,
             "#fdca26"
            ],
            [
             1,
             "#f0f921"
            ]
           ]
          },
          "colorway": [
           "#636efa",
           "#EF553B",
           "#00cc96",
           "#ab63fa",
           "#FFA15A",
           "#19d3f3",
           "#FF6692",
           "#B6E880",
           "#FF97FF",
           "#FECB52"
          ],
          "font": {
           "color": "#2a3f5f"
          },
          "geo": {
           "bgcolor": "white",
           "lakecolor": "white",
           "landcolor": "#E5ECF6",
           "showlakes": true,
           "showland": true,
           "subunitcolor": "white"
          },
          "hoverlabel": {
           "align": "left"
          },
          "hovermode": "closest",
          "mapbox": {
           "style": "light"
          },
          "paper_bgcolor": "white",
          "plot_bgcolor": "#E5ECF6",
          "polar": {
           "angularaxis": {
            "gridcolor": "white",
            "linecolor": "white",
            "ticks": ""
           },
           "bgcolor": "#E5ECF6",
           "radialaxis": {
            "gridcolor": "white",
            "linecolor": "white",
            "ticks": ""
           }
          },
          "scene": {
           "xaxis": {
            "backgroundcolor": "#E5ECF6",
            "gridcolor": "white",
            "gridwidth": 2,
            "linecolor": "white",
            "showbackground": true,
            "ticks": "",
            "zerolinecolor": "white"
           },
           "yaxis": {
            "backgroundcolor": "#E5ECF6",
            "gridcolor": "white",
            "gridwidth": 2,
            "linecolor": "white",
            "showbackground": true,
            "ticks": "",
            "zerolinecolor": "white"
           },
           "zaxis": {
            "backgroundcolor": "#E5ECF6",
            "gridcolor": "white",
            "gridwidth": 2,
            "linecolor": "white",
            "showbackground": true,
            "ticks": "",
            "zerolinecolor": "white"
           }
          },
          "shapedefaults": {
           "line": {
            "color": "#2a3f5f"
           }
          },
          "ternary": {
           "aaxis": {
            "gridcolor": "white",
            "linecolor": "white",
            "ticks": ""
           },
           "baxis": {
            "gridcolor": "white",
            "linecolor": "white",
            "ticks": ""
           },
           "bgcolor": "#E5ECF6",
           "caxis": {
            "gridcolor": "white",
            "linecolor": "white",
            "ticks": ""
           }
          },
          "title": {
           "x": 0.05
          },
          "xaxis": {
           "automargin": true,
           "gridcolor": "white",
           "linecolor": "white",
           "ticks": "",
           "title": {
            "standoff": 15
           },
           "zerolinecolor": "white",
           "zerolinewidth": 2
          },
          "yaxis": {
           "automargin": true,
           "gridcolor": "white",
           "linecolor": "white",
           "ticks": "",
           "title": {
            "standoff": 15
           },
           "zerolinecolor": "white",
           "zerolinewidth": 2
          }
         }
        },
        "title": {
         "text": "Estimated Count of Registered Cars CA: 2010 - 2022"
        }
       }
      },
      "text/html": [
       "<div>                            <div id=\"c73540cc-8513-430c-8859-130bf124657b\" class=\"plotly-graph-div\" style=\"height:525px; width:100%;\"></div>            <script type=\"text/javascript\">                require([\"plotly\"], function(Plotly) {                    window.PLOTLYENV=window.PLOTLYENV || {};                                    if (document.getElementById(\"c73540cc-8513-430c-8859-130bf124657b\")) {                    Plotly.newPlot(                        \"c73540cc-8513-430c-8859-130bf124657b\",                        [{\"line\":{\"color\":\"blue\"},\"name\":\"carstrace\",\"opacity\":0.4,\"x\":[\"2010-01-01\",\"2011-01-01\",\"2012-01-01\",\"2013-01-01\",\"2014-01-01\",\"2015-01-01\",\"2016-01-01\",\"2017-01-01\",\"2018-01-01\",\"2019-01-01\",\"2020-01-01\",\"2021-01-01\"],\"y\":[22286130,22288061,22502680,23270577,23899504,24412289,25300683,28418039,28681493,29029787,28665934,29942517],\"type\":\"scatter\"}],                        {\"template\":{\"data\":{\"barpolar\":[{\"marker\":{\"line\":{\"color\":\"#E5ECF6\",\"width\":0.5},\"pattern\":{\"fillmode\":\"overlay\",\"size\":10,\"solidity\":0.2}},\"type\":\"barpolar\"}],\"bar\":[{\"error_x\":{\"color\":\"#2a3f5f\"},\"error_y\":{\"color\":\"#2a3f5f\"},\"marker\":{\"line\":{\"color\":\"#E5ECF6\",\"width\":0.5},\"pattern\":{\"fillmode\":\"overlay\",\"size\":10,\"solidity\":0.2}},\"type\":\"bar\"}],\"carpet\":[{\"aaxis\":{\"endlinecolor\":\"#2a3f5f\",\"gridcolor\":\"white\",\"linecolor\":\"white\",\"minorgridcolor\":\"white\",\"startlinecolor\":\"#2a3f5f\"},\"baxis\":{\"endlinecolor\":\"#2a3f5f\",\"gridcolor\":\"white\",\"linecolor\":\"white\",\"minorgridcolor\":\"white\",\"startlinecolor\":\"#2a3f5f\"},\"type\":\"carpet\"}],\"choropleth\":[{\"colorbar\":{\"outlinewidth\":0,\"ticks\":\"\"},\"type\":\"choropleth\"}],\"contourcarpet\":[{\"colorbar\":{\"outlinewidth\":0,\"ticks\":\"\"},\"type\":\"contourcarpet\"}],\"contour\":[{\"colorbar\":{\"outlinewidth\":0,\"ticks\":\"\"},\"colorscale\":[[0.0,\"#0d0887\"],[0.1111111111111111,\"#46039f\"],[0.2222222222222222,\"#7201a8\"],[0.3333333333333333,\"#9c179e\"],[0.4444444444444444,\"#bd3786\"],[0.5555555555555556,\"#d8576b\"],[0.6666666666666666,\"#ed7953\"],[0.7777777777777778,\"#fb9f3a\"],[0.8888888888888888,\"#fdca26\"],[1.0,\"#f0f921\"]],\"type\":\"contour\"}],\"heatmapgl\":[{\"colorbar\":{\"outlinewidth\":0,\"ticks\":\"\"},\"colorscale\":[[0.0,\"#0d0887\"],[0.1111111111111111,\"#46039f\"],[0.2222222222222222,\"#7201a8\"],[0.3333333333333333,\"#9c179e\"],[0.4444444444444444,\"#bd3786\"],[0.5555555555555556,\"#d8576b\"],[0.6666666666666666,\"#ed7953\"],[0.7777777777777778,\"#fb9f3a\"],[0.8888888888888888,\"#fdca26\"],[1.0,\"#f0f921\"]],\"type\":\"heatmapgl\"}],\"heatmap\":[{\"colorbar\":{\"outlinewidth\":0,\"ticks\":\"\"},\"colorscale\":[[0.0,\"#0d0887\"],[0.1111111111111111,\"#46039f\"],[0.2222222222222222,\"#7201a8\"],[0.3333333333333333,\"#9c179e\"],[0.4444444444444444,\"#bd3786\"],[0.5555555555555556,\"#d8576b\"],[0.6666666666666666,\"#ed7953\"],[0.7777777777777778,\"#fb9f3a\"],[0.8888888888888888,\"#fdca26\"],[1.0,\"#f0f921\"]],\"type\":\"heatmap\"}],\"histogram2dcontour\":[{\"colorbar\":{\"outlinewidth\":0,\"ticks\":\"\"},\"colorscale\":[[0.0,\"#0d0887\"],[0.1111111111111111,\"#46039f\"],[0.2222222222222222,\"#7201a8\"],[0.3333333333333333,\"#9c179e\"],[0.4444444444444444,\"#bd3786\"],[0.5555555555555556,\"#d8576b\"],[0.6666666666666666,\"#ed7953\"],[0.7777777777777778,\"#fb9f3a\"],[0.8888888888888888,\"#fdca26\"],[1.0,\"#f0f921\"]],\"type\":\"histogram2dcontour\"}],\"histogram2d\":[{\"colorbar\":{\"outlinewidth\":0,\"ticks\":\"\"},\"colorscale\":[[0.0,\"#0d0887\"],[0.1111111111111111,\"#46039f\"],[0.2222222222222222,\"#7201a8\"],[0.3333333333333333,\"#9c179e\"],[0.4444444444444444,\"#bd3786\"],[0.5555555555555556,\"#d8576b\"],[0.6666666666666666,\"#ed7953\"],[0.7777777777777778,\"#fb9f3a\"],[0.8888888888888888,\"#fdca26\"],[1.0,\"#f0f921\"]],\"type\":\"histogram2d\"}],\"histogram\":[{\"marker\":{\"pattern\":{\"fillmode\":\"overlay\",\"size\":10,\"solidity\":0.2}},\"type\":\"histogram\"}],\"mesh3d\":[{\"colorbar\":{\"outlinewidth\":0,\"ticks\":\"\"},\"type\":\"mesh3d\"}],\"parcoords\":[{\"line\":{\"colorbar\":{\"outlinewidth\":0,\"ticks\":\"\"}},\"type\":\"parcoords\"}],\"pie\":[{\"automargin\":true,\"type\":\"pie\"}],\"scatter3d\":[{\"line\":{\"colorbar\":{\"outlinewidth\":0,\"ticks\":\"\"}},\"marker\":{\"colorbar\":{\"outlinewidth\":0,\"ticks\":\"\"}},\"type\":\"scatter3d\"}],\"scattercarpet\":[{\"marker\":{\"colorbar\":{\"outlinewidth\":0,\"ticks\":\"\"}},\"type\":\"scattercarpet\"}],\"scattergeo\":[{\"marker\":{\"colorbar\":{\"outlinewidth\":0,\"ticks\":\"\"}},\"type\":\"scattergeo\"}],\"scattergl\":[{\"marker\":{\"colorbar\":{\"outlinewidth\":0,\"ticks\":\"\"}},\"type\":\"scattergl\"}],\"scattermapbox\":[{\"marker\":{\"colorbar\":{\"outlinewidth\":0,\"ticks\":\"\"}},\"type\":\"scattermapbox\"}],\"scatterpolargl\":[{\"marker\":{\"colorbar\":{\"outlinewidth\":0,\"ticks\":\"\"}},\"type\":\"scatterpolargl\"}],\"scatterpolar\":[{\"marker\":{\"colorbar\":{\"outlinewidth\":0,\"ticks\":\"\"}},\"type\":\"scatterpolar\"}],\"scatter\":[{\"fillpattern\":{\"fillmode\":\"overlay\",\"size\":10,\"solidity\":0.2},\"type\":\"scatter\"}],\"scatterternary\":[{\"marker\":{\"colorbar\":{\"outlinewidth\":0,\"ticks\":\"\"}},\"type\":\"scatterternary\"}],\"surface\":[{\"colorbar\":{\"outlinewidth\":0,\"ticks\":\"\"},\"colorscale\":[[0.0,\"#0d0887\"],[0.1111111111111111,\"#46039f\"],[0.2222222222222222,\"#7201a8\"],[0.3333333333333333,\"#9c179e\"],[0.4444444444444444,\"#bd3786\"],[0.5555555555555556,\"#d8576b\"],[0.6666666666666666,\"#ed7953\"],[0.7777777777777778,\"#fb9f3a\"],[0.8888888888888888,\"#fdca26\"],[1.0,\"#f0f921\"]],\"type\":\"surface\"}],\"table\":[{\"cells\":{\"fill\":{\"color\":\"#EBF0F8\"},\"line\":{\"color\":\"white\"}},\"header\":{\"fill\":{\"color\":\"#C8D4E3\"},\"line\":{\"color\":\"white\"}},\"type\":\"table\"}]},\"layout\":{\"annotationdefaults\":{\"arrowcolor\":\"#2a3f5f\",\"arrowhead\":0,\"arrowwidth\":1},\"autotypenumbers\":\"strict\",\"coloraxis\":{\"colorbar\":{\"outlinewidth\":0,\"ticks\":\"\"}},\"colorscale\":{\"diverging\":[[0,\"#8e0152\"],[0.1,\"#c51b7d\"],[0.2,\"#de77ae\"],[0.3,\"#f1b6da\"],[0.4,\"#fde0ef\"],[0.5,\"#f7f7f7\"],[0.6,\"#e6f5d0\"],[0.7,\"#b8e186\"],[0.8,\"#7fbc41\"],[0.9,\"#4d9221\"],[1,\"#276419\"]],\"sequential\":[[0.0,\"#0d0887\"],[0.1111111111111111,\"#46039f\"],[0.2222222222222222,\"#7201a8\"],[0.3333333333333333,\"#9c179e\"],[0.4444444444444444,\"#bd3786\"],[0.5555555555555556,\"#d8576b\"],[0.6666666666666666,\"#ed7953\"],[0.7777777777777778,\"#fb9f3a\"],[0.8888888888888888,\"#fdca26\"],[1.0,\"#f0f921\"]],\"sequentialminus\":[[0.0,\"#0d0887\"],[0.1111111111111111,\"#46039f\"],[0.2222222222222222,\"#7201a8\"],[0.3333333333333333,\"#9c179e\"],[0.4444444444444444,\"#bd3786\"],[0.5555555555555556,\"#d8576b\"],[0.6666666666666666,\"#ed7953\"],[0.7777777777777778,\"#fb9f3a\"],[0.8888888888888888,\"#fdca26\"],[1.0,\"#f0f921\"]]},\"colorway\":[\"#636efa\",\"#EF553B\",\"#00cc96\",\"#ab63fa\",\"#FFA15A\",\"#19d3f3\",\"#FF6692\",\"#B6E880\",\"#FF97FF\",\"#FECB52\"],\"font\":{\"color\":\"#2a3f5f\"},\"geo\":{\"bgcolor\":\"white\",\"lakecolor\":\"white\",\"landcolor\":\"#E5ECF6\",\"showlakes\":true,\"showland\":true,\"subunitcolor\":\"white\"},\"hoverlabel\":{\"align\":\"left\"},\"hovermode\":\"closest\",\"mapbox\":{\"style\":\"light\"},\"paper_bgcolor\":\"white\",\"plot_bgcolor\":\"#E5ECF6\",\"polar\":{\"angularaxis\":{\"gridcolor\":\"white\",\"linecolor\":\"white\",\"ticks\":\"\"},\"bgcolor\":\"#E5ECF6\",\"radialaxis\":{\"gridcolor\":\"white\",\"linecolor\":\"white\",\"ticks\":\"\"}},\"scene\":{\"xaxis\":{\"backgroundcolor\":\"#E5ECF6\",\"gridcolor\":\"white\",\"gridwidth\":2,\"linecolor\":\"white\",\"showbackground\":true,\"ticks\":\"\",\"zerolinecolor\":\"white\"},\"yaxis\":{\"backgroundcolor\":\"#E5ECF6\",\"gridcolor\":\"white\",\"gridwidth\":2,\"linecolor\":\"white\",\"showbackground\":true,\"ticks\":\"\",\"zerolinecolor\":\"white\"},\"zaxis\":{\"backgroundcolor\":\"#E5ECF6\",\"gridcolor\":\"white\",\"gridwidth\":2,\"linecolor\":\"white\",\"showbackground\":true,\"ticks\":\"\",\"zerolinecolor\":\"white\"}},\"shapedefaults\":{\"line\":{\"color\":\"#2a3f5f\"}},\"ternary\":{\"aaxis\":{\"gridcolor\":\"white\",\"linecolor\":\"white\",\"ticks\":\"\"},\"baxis\":{\"gridcolor\":\"white\",\"linecolor\":\"white\",\"ticks\":\"\"},\"bgcolor\":\"#E5ECF6\",\"caxis\":{\"gridcolor\":\"white\",\"linecolor\":\"white\",\"ticks\":\"\"}},\"title\":{\"x\":0.05},\"xaxis\":{\"automargin\":true,\"gridcolor\":\"white\",\"linecolor\":\"white\",\"ticks\":\"\",\"title\":{\"standoff\":15},\"zerolinecolor\":\"white\",\"zerolinewidth\":2},\"yaxis\":{\"automargin\":true,\"gridcolor\":\"white\",\"linecolor\":\"white\",\"ticks\":\"\",\"title\":{\"standoff\":15},\"zerolinecolor\":\"white\",\"zerolinewidth\":2}}},\"title\":{\"text\":\"Estimated Count of Registered Cars CA: 2010 - 2022\"}},                        {\"responsive\": true}                    ).then(function(){\n",
       "                            \n",
       "var gd = document.getElementById('c73540cc-8513-430c-8859-130bf124657b');\n",
       "var x = new MutationObserver(function (mutations, observer) {{\n",
       "        var display = window.getComputedStyle(gd).display;\n",
       "        if (!display || display === 'none') {{\n",
       "            console.log([gd, 'removed!']);\n",
       "            Plotly.purge(gd);\n",
       "            observer.disconnect();\n",
       "        }}\n",
       "}});\n",
       "\n",
       "// Listen for the removal of the full notebook cells\n",
       "var notebookContainer = gd.closest('#notebook-container');\n",
       "if (notebookContainer) {{\n",
       "    x.observe(notebookContainer, {childList: true});\n",
       "}}\n",
       "\n",
       "// Listen for the clearing of the current output cell\n",
       "var outputEl = gd.closest('.output');\n",
       "if (outputEl) {{\n",
       "    x.observe(outputEl, {childList: true});\n",
       "}}\n",
       "\n",
       "                        })                };                });            </script>        </div>"
      ]
     },
     "metadata": {},
     "output_type": "display_data"
    },
    {
     "name": "stdout",
     "output_type": "stream",
     "text": [
      "done\n"
     ]
    }
   ],
   "source": [
    "cars_plot = plot_traces(vehs, 'cars', 'Estimated Count of Registered Cars CA: 2010 - 2022')"
   ]
  },
  {
   "cell_type": "markdown",
   "metadata": {},
   "source": [
    "> <br>\n",
    ">\n",
    "> 4. Manipulating 'CONSUMER DEBT' file: \n",
    "> \n",
    "> <br>"
   ]
  },
  {
   "cell_type": "code",
   "execution_count": 53,
   "metadata": {},
   "outputs": [
    {
     "data": {
      "text/html": [
       "<div>\n",
       "<style scoped>\n",
       "    .dataframe tbody tr th:only-of-type {\n",
       "        vertical-align: middle;\n",
       "    }\n",
       "\n",
       "    .dataframe tbody tr th {\n",
       "        vertical-align: top;\n",
       "    }\n",
       "\n",
       "    .dataframe thead th {\n",
       "        text-align: right;\n",
       "    }\n",
       "</style>\n",
       "<table border=\"1\" class=\"dataframe\">\n",
       "  <thead>\n",
       "    <tr style=\"text-align: right;\">\n",
       "      <th></th>\n",
       "      <th>ds</th>\n",
       "      <th>debt</th>\n",
       "    </tr>\n",
       "  </thead>\n",
       "  <tbody>\n",
       "    <tr>\n",
       "      <th>0</th>\n",
       "      <td>1943-01-01</td>\n",
       "      <td>6.57783</td>\n",
       "    </tr>\n",
       "    <tr>\n",
       "      <th>1</th>\n",
       "      <td>1943-02-01</td>\n",
       "      <td>6.46304</td>\n",
       "    </tr>\n",
       "    <tr>\n",
       "      <th>2</th>\n",
       "      <td>1943-03-01</td>\n",
       "      <td>6.23421</td>\n",
       "    </tr>\n",
       "    <tr>\n",
       "      <th>3</th>\n",
       "      <td>1943-04-01</td>\n",
       "      <td>6.12575</td>\n",
       "    </tr>\n",
       "    <tr>\n",
       "      <th>4</th>\n",
       "      <td>1943-05-01</td>\n",
       "      <td>5.93626</td>\n",
       "    </tr>\n",
       "  </tbody>\n",
       "</table>\n",
       "</div>"
      ],
      "text/plain": [
       "           ds     debt\n",
       "0  1943-01-01  6.57783\n",
       "1  1943-02-01  6.46304\n",
       "2  1943-03-01  6.23421\n",
       "3  1943-04-01  6.12575\n",
       "4  1943-05-01  5.93626"
      ]
     },
     "execution_count": 53,
     "metadata": {},
     "output_type": "execute_result"
    }
   ],
   "source": [
    "filename = path + 'debt.csv'\n",
    "debt = pd.read_csv(filename)\n",
    "\n",
    "debt.head()"
   ]
  },
  {
   "cell_type": "code",
   "execution_count": 63,
   "metadata": {},
   "outputs": [
    {
     "data": {
      "application/vnd.plotly.v1+json": {
       "config": {
        "linkText": "Export to plot.ly",
        "plotlyServerURL": "https://plot.ly",
        "showLink": false
       },
       "data": [
        {
         "line": {
          "color": "blue"
         },
         "name": "debttrace",
         "opacity": 0.4,
         "type": "scatter",
         "x": [
          "1943-01-01",
          "1943-02-01",
          "1943-03-01",
          "1943-04-01",
          "1943-05-01",
          "1943-06-01",
          "1943-07-01",
          "1943-08-01",
          "1943-09-01",
          "1943-10-01",
          "1943-11-01",
          "1943-12-01",
          "1944-01-01",
          "1944-02-01",
          "1944-03-01",
          "1944-04-01",
          "1944-05-01",
          "1944-06-01",
          "1944-07-01",
          "1944-08-01",
          "1944-09-01",
          "1944-10-01",
          "1944-11-01",
          "1944-12-01",
          "1945-01-01",
          "1945-02-01",
          "1945-03-01",
          "1945-04-01",
          "1945-05-01",
          "1945-06-01",
          "1945-07-01",
          "1945-08-01",
          "1945-09-01",
          "1945-10-01",
          "1945-11-01",
          "1945-12-01",
          "1946-01-01",
          "1946-02-01",
          "1946-03-01",
          "1946-04-01",
          "1946-05-01",
          "1946-06-01",
          "1946-07-01",
          "1946-08-01",
          "1946-09-01",
          "1946-10-01",
          "1946-11-01",
          "1946-12-01",
          "1947-01-01",
          "1947-02-01",
          "1947-03-01",
          "1947-04-01",
          "1947-05-01",
          "1947-06-01",
          "1947-07-01",
          "1947-08-01",
          "1947-09-01",
          "1947-10-01",
          "1947-11-01",
          "1947-12-01",
          "1948-01-01",
          "1948-02-01",
          "1948-03-01",
          "1948-04-01",
          "1948-05-01",
          "1948-06-01",
          "1948-07-01",
          "1948-08-01",
          "1948-09-01",
          "1948-10-01",
          "1948-11-01",
          "1948-12-01",
          "1949-01-01",
          "1949-02-01",
          "1949-03-01",
          "1949-04-01",
          "1949-05-01",
          "1949-06-01",
          "1949-07-01",
          "1949-08-01",
          "1949-09-01",
          "1949-10-01",
          "1949-11-01",
          "1949-12-01",
          "1950-01-01",
          "1950-02-01",
          "1950-03-01",
          "1950-04-01",
          "1950-05-01",
          "1950-06-01",
          "1950-07-01",
          "1950-08-01",
          "1950-09-01",
          "1950-10-01",
          "1950-11-01",
          "1950-12-01",
          "1951-01-01",
          "1951-02-01",
          "1951-03-01",
          "1951-04-01",
          "1951-05-01",
          "1951-06-01",
          "1951-07-01",
          "1951-08-01",
          "1951-09-01",
          "1951-10-01",
          "1951-11-01",
          "1951-12-01",
          "1952-01-01",
          "1952-02-01",
          "1952-03-01",
          "1952-04-01",
          "1952-05-01",
          "1952-06-01",
          "1952-07-01",
          "1952-08-01",
          "1952-09-01",
          "1952-10-01",
          "1952-11-01",
          "1952-12-01",
          "1953-01-01",
          "1953-02-01",
          "1953-03-01",
          "1953-04-01",
          "1953-05-01",
          "1953-06-01",
          "1953-07-01",
          "1953-08-01",
          "1953-09-01",
          "1953-10-01",
          "1953-11-01",
          "1953-12-01",
          "1954-01-01",
          "1954-02-01",
          "1954-03-01",
          "1954-04-01",
          "1954-05-01",
          "1954-06-01",
          "1954-07-01",
          "1954-08-01",
          "1954-09-01",
          "1954-10-01",
          "1954-11-01",
          "1954-12-01",
          "1955-01-01",
          "1955-02-01",
          "1955-03-01",
          "1955-04-01",
          "1955-05-01",
          "1955-06-01",
          "1955-07-01",
          "1955-08-01",
          "1955-09-01",
          "1955-10-01",
          "1955-11-01",
          "1955-12-01",
          "1956-01-01",
          "1956-02-01",
          "1956-03-01",
          "1956-04-01",
          "1956-05-01",
          "1956-06-01",
          "1956-07-01",
          "1956-08-01",
          "1956-09-01",
          "1956-10-01",
          "1956-11-01",
          "1956-12-01",
          "1957-01-01",
          "1957-02-01",
          "1957-03-01",
          "1957-04-01",
          "1957-05-01",
          "1957-06-01",
          "1957-07-01",
          "1957-08-01",
          "1957-09-01",
          "1957-10-01",
          "1957-11-01",
          "1957-12-01",
          "1958-01-01",
          "1958-02-01",
          "1958-03-01",
          "1958-04-01",
          "1958-05-01",
          "1958-06-01",
          "1958-07-01",
          "1958-08-01",
          "1958-09-01",
          "1958-10-01",
          "1958-11-01",
          "1958-12-01",
          "1959-01-01",
          "1959-02-01",
          "1959-03-01",
          "1959-04-01",
          "1959-05-01",
          "1959-06-01",
          "1959-07-01",
          "1959-08-01",
          "1959-09-01",
          "1959-10-01",
          "1959-11-01",
          "1959-12-01",
          "1960-01-01",
          "1960-02-01",
          "1960-03-01",
          "1960-04-01",
          "1960-05-01",
          "1960-06-01",
          "1960-07-01",
          "1960-08-01",
          "1960-09-01",
          "1960-10-01",
          "1960-11-01",
          "1960-12-01",
          "1961-01-01",
          "1961-02-01",
          "1961-03-01",
          "1961-04-01",
          "1961-05-01",
          "1961-06-01",
          "1961-07-01",
          "1961-08-01",
          "1961-09-01",
          "1961-10-01",
          "1961-11-01",
          "1961-12-01",
          "1962-01-01",
          "1962-02-01",
          "1962-03-01",
          "1962-04-01",
          "1962-05-01",
          "1962-06-01",
          "1962-07-01",
          "1962-08-01",
          "1962-09-01",
          "1962-10-01",
          "1962-11-01",
          "1962-12-01",
          "1963-01-01",
          "1963-02-01",
          "1963-03-01",
          "1963-04-01",
          "1963-05-01",
          "1963-06-01",
          "1963-07-01",
          "1963-08-01",
          "1963-09-01",
          "1963-10-01",
          "1963-11-01",
          "1963-12-01",
          "1964-01-01",
          "1964-02-01",
          "1964-03-01",
          "1964-04-01",
          "1964-05-01",
          "1964-06-01",
          "1964-07-01",
          "1964-08-01",
          "1964-09-01",
          "1964-10-01",
          "1964-11-01",
          "1964-12-01",
          "1965-01-01",
          "1965-02-01",
          "1965-03-01",
          "1965-04-01",
          "1965-05-01",
          "1965-06-01",
          "1965-07-01",
          "1965-08-01",
          "1965-09-01",
          "1965-10-01",
          "1965-11-01",
          "1965-12-01",
          "1966-01-01",
          "1966-02-01",
          "1966-03-01",
          "1966-04-01",
          "1966-05-01",
          "1966-06-01",
          "1966-07-01",
          "1966-08-01",
          "1966-09-01",
          "1966-10-01",
          "1966-11-01",
          "1966-12-01",
          "1967-01-01",
          "1967-02-01",
          "1967-03-01",
          "1967-04-01",
          "1967-05-01",
          "1967-06-01",
          "1967-07-01",
          "1967-08-01",
          "1967-09-01",
          "1967-10-01",
          "1967-11-01",
          "1967-12-01",
          "1968-01-01",
          "1968-02-01",
          "1968-03-01",
          "1968-04-01",
          "1968-05-01",
          "1968-06-01",
          "1968-07-01",
          "1968-08-01",
          "1968-09-01",
          "1968-10-01",
          "1968-11-01",
          "1968-12-01",
          "1969-01-01",
          "1969-02-01",
          "1969-03-01",
          "1969-04-01",
          "1969-05-01",
          "1969-06-01",
          "1969-07-01",
          "1969-08-01",
          "1969-09-01",
          "1969-10-01",
          "1969-11-01",
          "1969-12-01",
          "1970-01-01",
          "1970-02-01",
          "1970-03-01",
          "1970-04-01",
          "1970-05-01",
          "1970-06-01",
          "1970-07-01",
          "1970-08-01",
          "1970-09-01",
          "1970-10-01",
          "1970-11-01",
          "1970-12-01",
          "1971-01-01",
          "1971-02-01",
          "1971-03-01",
          "1971-04-01",
          "1971-05-01",
          "1971-06-01",
          "1971-07-01",
          "1971-08-01",
          "1971-09-01",
          "1971-10-01",
          "1971-11-01",
          "1971-12-01",
          "1972-01-01",
          "1972-02-01",
          "1972-03-01",
          "1972-04-01",
          "1972-05-01",
          "1972-06-01",
          "1972-07-01",
          "1972-08-01",
          "1972-09-01",
          "1972-10-01",
          "1972-11-01",
          "1972-12-01",
          "1973-01-01",
          "1973-02-01",
          "1973-03-01",
          "1973-04-01",
          "1973-05-01",
          "1973-06-01",
          "1973-07-01",
          "1973-08-01",
          "1973-09-01",
          "1973-10-01",
          "1973-11-01",
          "1973-12-01",
          "1974-01-01",
          "1974-02-01",
          "1974-03-01",
          "1974-04-01",
          "1974-05-01",
          "1974-06-01",
          "1974-07-01",
          "1974-08-01",
          "1974-09-01",
          "1974-10-01",
          "1974-11-01",
          "1974-12-01",
          "1975-01-01",
          "1975-02-01",
          "1975-03-01",
          "1975-04-01",
          "1975-05-01",
          "1975-06-01",
          "1975-07-01",
          "1975-08-01",
          "1975-09-01",
          "1975-10-01",
          "1975-11-01",
          "1975-12-01",
          "1976-01-01",
          "1976-02-01",
          "1976-03-01",
          "1976-04-01",
          "1976-05-01",
          "1976-06-01",
          "1976-07-01",
          "1976-08-01",
          "1976-09-01",
          "1976-10-01",
          "1976-11-01",
          "1976-12-01",
          "1977-01-01",
          "1977-02-01",
          "1977-03-01",
          "1977-04-01",
          "1977-05-01",
          "1977-06-01",
          "1977-07-01",
          "1977-08-01",
          "1977-09-01",
          "1977-10-01",
          "1977-11-01",
          "1977-12-01",
          "1978-01-01",
          "1978-02-01",
          "1978-03-01",
          "1978-04-01",
          "1978-05-01",
          "1978-06-01",
          "1978-07-01",
          "1978-08-01",
          "1978-09-01",
          "1978-10-01",
          "1978-11-01",
          "1978-12-01",
          "1979-01-01",
          "1979-02-01",
          "1979-03-01",
          "1979-04-01",
          "1979-05-01",
          "1979-06-01",
          "1979-07-01",
          "1979-08-01",
          "1979-09-01",
          "1979-10-01",
          "1979-11-01",
          "1979-12-01",
          "1980-01-01",
          "1980-02-01",
          "1980-03-01",
          "1980-04-01",
          "1980-05-01",
          "1980-06-01",
          "1980-07-01",
          "1980-08-01",
          "1980-09-01",
          "1980-10-01",
          "1980-11-01",
          "1980-12-01",
          "1981-01-01",
          "1981-02-01",
          "1981-03-01",
          "1981-04-01",
          "1981-05-01",
          "1981-06-01",
          "1981-07-01",
          "1981-08-01",
          "1981-09-01",
          "1981-10-01",
          "1981-11-01",
          "1981-12-01",
          "1982-01-01",
          "1982-02-01",
          "1982-03-01",
          "1982-04-01",
          "1982-05-01",
          "1982-06-01",
          "1982-07-01",
          "1982-08-01",
          "1982-09-01",
          "1982-10-01",
          "1982-11-01",
          "1982-12-01",
          "1983-01-01",
          "1983-02-01",
          "1983-03-01",
          "1983-04-01",
          "1983-05-01",
          "1983-06-01",
          "1983-07-01",
          "1983-08-01",
          "1983-09-01",
          "1983-10-01",
          "1983-11-01",
          "1983-12-01",
          "1984-01-01",
          "1984-02-01",
          "1984-03-01",
          "1984-04-01",
          "1984-05-01",
          "1984-06-01",
          "1984-07-01",
          "1984-08-01",
          "1984-09-01",
          "1984-10-01",
          "1984-11-01",
          "1984-12-01",
          "1985-01-01",
          "1985-02-01",
          "1985-03-01",
          "1985-04-01",
          "1985-05-01",
          "1985-06-01",
          "1985-07-01",
          "1985-08-01",
          "1985-09-01",
          "1985-10-01",
          "1985-11-01",
          "1985-12-01",
          "1986-01-01",
          "1986-02-01",
          "1986-03-01",
          "1986-04-01",
          "1986-05-01",
          "1986-06-01",
          "1986-07-01",
          "1986-08-01",
          "1986-09-01",
          "1986-10-01",
          "1986-11-01",
          "1986-12-01",
          "1987-01-01",
          "1987-02-01",
          "1987-03-01",
          "1987-04-01",
          "1987-05-01",
          "1987-06-01",
          "1987-07-01",
          "1987-08-01",
          "1987-09-01",
          "1987-10-01",
          "1987-11-01",
          "1987-12-01",
          "1988-01-01",
          "1988-02-01",
          "1988-03-01",
          "1988-04-01",
          "1988-05-01",
          "1988-06-01",
          "1988-07-01",
          "1988-08-01",
          "1988-09-01",
          "1988-10-01",
          "1988-11-01",
          "1988-12-01",
          "1989-01-01",
          "1989-02-01",
          "1989-03-01",
          "1989-04-01",
          "1989-05-01",
          "1989-06-01",
          "1989-07-01",
          "1989-08-01",
          "1989-09-01",
          "1989-10-01",
          "1989-11-01",
          "1989-12-01",
          "1990-01-01",
          "1990-02-01",
          "1990-03-01",
          "1990-04-01",
          "1990-05-01",
          "1990-06-01",
          "1990-07-01",
          "1990-08-01",
          "1990-09-01",
          "1990-10-01",
          "1990-11-01",
          "1990-12-01",
          "1991-01-01",
          "1991-02-01",
          "1991-03-01",
          "1991-04-01",
          "1991-05-01",
          "1991-06-01",
          "1991-07-01",
          "1991-08-01",
          "1991-09-01",
          "1991-10-01",
          "1991-11-01",
          "1991-12-01",
          "1992-01-01",
          "1992-02-01",
          "1992-03-01",
          "1992-04-01",
          "1992-05-01",
          "1992-06-01",
          "1992-07-01",
          "1992-08-01",
          "1992-09-01",
          "1992-10-01",
          "1992-11-01",
          "1992-12-01",
          "1993-01-01",
          "1993-02-01",
          "1993-03-01",
          "1993-04-01",
          "1993-05-01",
          "1993-06-01",
          "1993-07-01",
          "1993-08-01",
          "1993-09-01",
          "1993-10-01",
          "1993-11-01",
          "1993-12-01",
          "1994-01-01",
          "1994-02-01",
          "1994-03-01",
          "1994-04-01",
          "1994-05-01",
          "1994-06-01",
          "1994-07-01",
          "1994-08-01",
          "1994-09-01",
          "1994-10-01",
          "1994-11-01",
          "1994-12-01",
          "1995-01-01",
          "1995-02-01",
          "1995-03-01",
          "1995-04-01",
          "1995-05-01",
          "1995-06-01",
          "1995-07-01",
          "1995-08-01",
          "1995-09-01",
          "1995-10-01",
          "1995-11-01",
          "1995-12-01",
          "1996-01-01",
          "1996-02-01",
          "1996-03-01",
          "1996-04-01",
          "1996-05-01",
          "1996-06-01",
          "1996-07-01",
          "1996-08-01",
          "1996-09-01",
          "1996-10-01",
          "1996-11-01",
          "1996-12-01",
          "1997-01-01",
          "1997-02-01",
          "1997-03-01",
          "1997-04-01",
          "1997-05-01",
          "1997-06-01",
          "1997-07-01",
          "1997-08-01",
          "1997-09-01",
          "1997-10-01",
          "1997-11-01",
          "1997-12-01",
          "1998-01-01",
          "1998-02-01",
          "1998-03-01",
          "1998-04-01",
          "1998-05-01",
          "1998-06-01",
          "1998-07-01",
          "1998-08-01",
          "1998-09-01",
          "1998-10-01",
          "1998-11-01",
          "1998-12-01",
          "1999-01-01",
          "1999-02-01",
          "1999-03-01",
          "1999-04-01",
          "1999-05-01",
          "1999-06-01",
          "1999-07-01",
          "1999-08-01",
          "1999-09-01",
          "1999-10-01",
          "1999-11-01",
          "1999-12-01",
          "2000-01-01",
          "2000-02-01",
          "2000-03-01",
          "2000-04-01",
          "2000-05-01",
          "2000-06-01",
          "2000-07-01",
          "2000-08-01",
          "2000-09-01",
          "2000-10-01",
          "2000-11-01",
          "2000-12-01",
          "2001-01-01",
          "2001-02-01",
          "2001-03-01",
          "2001-04-01",
          "2001-05-01",
          "2001-06-01",
          "2001-07-01",
          "2001-08-01",
          "2001-09-01",
          "2001-10-01",
          "2001-11-01",
          "2001-12-01",
          "2002-01-01",
          "2002-02-01",
          "2002-03-01",
          "2002-04-01",
          "2002-05-01",
          "2002-06-01",
          "2002-07-01",
          "2002-08-01",
          "2002-09-01",
          "2002-10-01",
          "2002-11-01",
          "2002-12-01",
          "2003-01-01",
          "2003-02-01",
          "2003-03-01",
          "2003-04-01",
          "2003-05-01",
          "2003-06-01",
          "2003-07-01",
          "2003-08-01",
          "2003-09-01",
          "2003-10-01",
          "2003-11-01",
          "2003-12-01",
          "2004-01-01",
          "2004-02-01",
          "2004-03-01",
          "2004-04-01",
          "2004-05-01",
          "2004-06-01",
          "2004-07-01",
          "2004-08-01",
          "2004-09-01",
          "2004-10-01",
          "2004-11-01",
          "2004-12-01",
          "2005-01-01",
          "2005-02-01",
          "2005-03-01",
          "2005-04-01",
          "2005-05-01",
          "2005-06-01",
          "2005-07-01",
          "2005-08-01",
          "2005-09-01",
          "2005-10-01",
          "2005-11-01",
          "2005-12-01",
          "2006-01-01",
          "2006-02-01",
          "2006-03-01",
          "2006-04-01",
          "2006-05-01",
          "2006-06-01",
          "2006-07-01",
          "2006-08-01",
          "2006-09-01",
          "2006-10-01",
          "2006-11-01",
          "2006-12-01",
          "2007-01-01",
          "2007-02-01",
          "2007-03-01",
          "2007-04-01",
          "2007-05-01",
          "2007-06-01",
          "2007-07-01",
          "2007-08-01",
          "2007-09-01",
          "2007-10-01",
          "2007-11-01",
          "2007-12-01",
          "2008-01-01",
          "2008-02-01",
          "2008-03-01",
          "2008-04-01",
          "2008-05-01",
          "2008-06-01",
          "2008-07-01",
          "2008-08-01",
          "2008-09-01",
          "2008-10-01",
          "2008-11-01",
          "2008-12-01",
          "2009-01-01",
          "2009-02-01",
          "2009-03-01",
          "2009-04-01",
          "2009-05-01",
          "2009-06-01",
          "2009-07-01",
          "2009-08-01",
          "2009-09-01",
          "2009-10-01",
          "2009-11-01",
          "2009-12-01",
          "2010-01-01",
          "2010-02-01",
          "2010-03-01",
          "2010-04-01",
          "2010-05-01",
          "2010-06-01",
          "2010-07-01",
          "2010-08-01",
          "2010-09-01",
          "2010-10-01",
          "2010-11-01",
          "2010-12-01",
          "2011-01-01",
          "2011-02-01",
          "2011-03-01",
          "2011-04-01",
          "2011-05-01",
          "2011-06-01",
          "2011-07-01",
          "2011-08-01",
          "2011-09-01",
          "2011-10-01",
          "2011-11-01",
          "2011-12-01",
          "2012-01-01",
          "2012-02-01",
          "2012-03-01",
          "2012-04-01",
          "2012-05-01",
          "2012-06-01",
          "2012-07-01",
          "2012-08-01",
          "2012-09-01",
          "2012-10-01",
          "2012-11-01",
          "2012-12-01",
          "2013-01-01",
          "2013-02-01",
          "2013-03-01",
          "2013-04-01",
          "2013-05-01",
          "2013-06-01",
          "2013-07-01",
          "2013-08-01",
          "2013-09-01",
          "2013-10-01",
          "2013-11-01",
          "2013-12-01",
          "2014-01-01",
          "2014-02-01",
          "2014-03-01",
          "2014-04-01",
          "2014-05-01",
          "2014-06-01",
          "2014-07-01",
          "2014-08-01",
          "2014-09-01",
          "2014-10-01",
          "2014-11-01",
          "2014-12-01",
          "2015-01-01",
          "2015-02-01",
          "2015-03-01",
          "2015-04-01",
          "2015-05-01",
          "2015-06-01",
          "2015-07-01",
          "2015-08-01",
          "2015-09-01",
          "2015-10-01",
          "2015-11-01",
          "2015-12-01",
          "2016-01-01",
          "2016-02-01",
          "2016-03-01",
          "2016-04-01",
          "2016-05-01",
          "2016-06-01",
          "2016-07-01",
          "2016-08-01",
          "2016-09-01",
          "2016-10-01",
          "2016-11-01",
          "2016-12-01",
          "2017-01-01",
          "2017-02-01",
          "2017-03-01",
          "2017-04-01",
          "2017-05-01",
          "2017-06-01",
          "2017-07-01",
          "2017-08-01",
          "2017-09-01",
          "2017-10-01",
          "2017-11-01",
          "2017-12-01",
          "2018-01-01",
          "2018-02-01",
          "2018-03-01",
          "2018-04-01",
          "2018-05-01",
          "2018-06-01",
          "2018-07-01",
          "2018-08-01",
          "2018-09-01",
          "2018-10-01",
          "2018-11-01",
          "2018-12-01",
          "2019-01-01",
          "2019-02-01",
          "2019-03-01",
          "2019-04-01",
          "2019-05-01",
          "2019-06-01",
          "2019-07-01",
          "2019-08-01",
          "2019-09-01",
          "2019-10-01",
          "2019-11-01",
          "2019-12-01",
          "2020-01-01",
          "2020-02-01",
          "2020-03-01",
          "2020-04-01",
          "2020-05-01",
          "2020-06-01",
          "2020-07-01",
          "2020-08-01",
          "2020-09-01",
          "2020-10-01",
          "2020-11-01",
          "2020-12-01",
          "2021-01-01",
          "2021-02-01",
          "2021-03-01",
          "2021-04-01",
          "2021-05-01",
          "2021-06-01",
          "2021-07-01",
          "2021-08-01",
          "2021-09-01",
          "2021-10-01",
          "2021-11-01",
          "2021-12-01",
          "2022-01-01",
          "2022-02-01",
          "2022-03-01"
         ],
         "y": [
          6.57783,
          6.46304,
          6.23421,
          6.12575,
          5.93626,
          5.82223,
          5.71837,
          5.63875,
          5.64759,
          5.65074,
          5.57687,
          5.46252,
          5.39857,
          5.35436,
          5.37036,
          5.37918,
          5.4305,
          5.46779,
          5.4982,
          5.53396,
          5.54923,
          5.56593,
          5.5701,
          5.58569,
          5.60273,
          5.57381,
          5.66769,
          5.58245,
          5.60525,
          5.70445,
          5.74878,
          5.76701,
          5.75827,
          5.93202,
          6.09555,
          6.56705,
          6.50451,
          6.76595,
          7.00545,
          7.33322,
          7.53237,
          7.70221,
          7.93364,
          8.34516,
          8.5996,
          8.89514,
          9.21828,
          9.44439,
          9.7702,
          10.089,
          10.34585,
          10.64594,
          10.92631,
          11.13565,
          11.36412,
          11.58288,
          11.8603,
          12.20513,
          12.53487,
          12.85562,
          13.22861,
          13.52428,
          13.92124,
          14.26407,
          14.50028,
          14.77527,
          15.04157,
          15.2297,
          15.51514,
          15.57962,
          15.60337,
          15.80323,
          15.9017,
          16.00926,
          16.09298,
          16.4132,
          16.6381,
          16.86093,
          17.0611,
          17.35549,
          17.69516,
          18.02132,
          18.43599,
          18.77221,
          19.05087,
          19.37163,
          19.73483,
          20.14838,
          20.62168,
          21.11884,
          22.08629,
          22.72826,
          23.17157,
          23.24215,
          23.25856,
          23.22916,
          23.7976,
          24.10942,
          24.28096,
          24.07615,
          23.99488,
          23.84103,
          23.70657,
          23.94011,
          24.09829,
          24.28801,
          24.63974,
          24.62795,
          24.80192,
          25.15192,
          25.19558,
          25.54805,
          26.14647,
          26.76243,
          27.21019,
          27.46878,
          27.86982,
          28.49656,
          29.04911,
          29.68558,
          30.47945,
          30.88661,
          31.63933,
          32.11735,
          32.43182,
          32.50158,
          32.7923,
          33.06061,
          33.25574,
          33.48228,
          33.55831,
          33.69692,
          34.0649,
          33.70135,
          33.50766,
          33.7065,
          33.7048,
          33.81539,
          34.0572,
          34.00956,
          34.13728,
          34.36337,
          34.60856,
          35.02827,
          35.37251,
          35.92541,
          36.53032,
          37.23521,
          37.73678,
          38.53667,
          39.02943,
          39.73277,
          40.39419,
          40.83366,
          41.36682,
          41.86903,
          42.12013,
          42.56107,
          43.20525,
          43.38397,
          43.79961,
          44.05363,
          44.17342,
          44.49886,
          44.77898,
          44.93415,
          45.40079,
          45.44824,
          45.7005,
          46.04224,
          46.2453,
          46.51742,
          46.83804,
          47.00029,
          47.36847,
          47.64621,
          47.74148,
          47.879,
          47.95967,
          48.07827,
          48.29247,
          48.09752,
          47.77344,
          47.6625,
          47.61828,
          47.50736,
          47.55228,
          47.59298,
          47.71292,
          47.82317,
          47.98748,
          48.39435,
          48.96116,
          49.51371,
          50.00773,
          50.46343,
          51.00724,
          51.67544,
          52.35685,
          53.03853,
          53.68375,
          54.36595,
          54.79481,
          56.01068,
          56.01558,
          56.36463,
          56.86288,
          57.7114,
          57.95103,
          58.38706,
          58.74671,
          58.94715,
          59.36465,
          59.62899,
          59.87401,
          60.02531,
          60.67185,
          60.31013,
          60.45546,
          60.07587,
          60.17969,
          60.33475,
          60.39598,
          60.61948,
          60.88309,
          61.15822,
          61.74829,
          62.24853,
          62.2828,
          62.64035,
          63.12857,
          63.86691,
          64.60104,
          65.13742,
          65.51218,
          66.05512,
          66.43833,
          67.02888,
          67.6421,
          68.12672,
          68.65646,
          69.37675,
          70.07341,
          70.80161,
          71.33514,
          71.87559,
          72.71645,
          73.57616,
          74.16977,
          75.11295,
          75.60692,
          76.58145,
          77.46136,
          78.33623,
          79.24041,
          79.90816,
          80.83452,
          81.42818,
          82.2945,
          82.97305,
          83.92197,
          84.53018,
          84.94403,
          85.95957,
          87.18259,
          88.15204,
          88.91607,
          90.04741,
          90.88588,
          91.83009,
          92.69463,
          93.2871,
          94.12648,
          94.80453,
          95.40527,
          95.95472,
          97.03072,
          97.75836,
          98.44639,
          98.80509,
          99.30544,
          99.78867,
          100.06144,
          100.5867,
          100.67245,
          100.95307,
          101.43735,
          101.78822,
          102.19855,
          102.36259,
          102.73216,
          102.88594,
          103.1514,
          103.74104,
          104.09425,
          104.67752,
          105.17229,
          105.44072,
          106.29661,
          106.84264,
          106.7724,
          107.92842,
          108.68905,
          109.59758,
          110.37701,
          111.06785,
          112.1237,
          112.84495,
          113.75424,
          115.22826,
          116.19605,
          117.39909,
          118.22598,
          119.44904,
          120.43148,
          121.52369,
          122.56481,
          123.38066,
          124.00398,
          124.60868,
          125.31914,
          126.01972,
          126.56923,
          127.15618,
          127.80299,
          128.19115,
          128.28,
          128.37472,
          128.53404,
          129.18543,
          129.85691,
          130.1846,
          130.85083,
          131.11307,
          130.80743,
          131.55155,
          134.16406,
          134.93292,
          135.73629,
          136.99253,
          137.84093,
          138.76893,
          139.90802,
          141.25209,
          142.76657,
          143.92676,
          145.63484,
          146.93018,
          147.66048,
          148.92454,
          150.77106,
          152.32195,
          154.19949,
          156.15301,
          157.27992,
          158.93936,
          160.55329,
          162.22503,
          164.10159,
          166.1891,
          169.29467,
          171.60183,
          173.90894,
          175.76268,
          178.12795,
          180.42927,
          182.3182,
          184.32651,
          185.34551,
          187.47609,
          189.3088,
          190.08631,
          191.31247,
          192.51536,
          193.35799,
          194.60355,
          195.8699,
          196.8878,
          198.29354,
          199.3168,
          199.61712,
          199.53477,
          199.25468,
          198.91784,
          199.0636,
          199.50775,
          199.10994,
          198.74286,
          198.73721,
          196.04336,
          197.57936,
          198.21159,
          199.42896,
          200.43428,
          201.49288,
          204.002,
          205.52079,
          206.70929,
          208.33857,
          210.50006,
          211.40742,
          213.2401,
          215.2727,
          216.50986,
          218.70878,
          220.8671,
          222.80491,
          225.72159,
          225.73315,
          228.52821,
          232.34827,
          235.59405,
          239.01809,
          242.40858,
          245.48106,
          248.47453,
          251.2618,
          255.41564,
          258.77291,
          260.5627,
          262.76532,
          265.73802,
          270.26281,
          274.13698,
          279.25657,
          285.10077,
          288.80554,
          292.81311,
          296.17942,
          298.81249,
          302.7302,
          306.10039,
          309.90309,
          313.52378,
          317.20074,
          320.94487,
          325.17739,
          328.17274,
          331.98999,
          335.78546,
          339.44975,
          343.2513,
          346.38941,
          348.58911,
          350.4757,
          353.05623,
          353.04211,
          351.28721,
          348.64454,
          346.69696,
          347.07137,
          347.54601,
          348.16314,
          349.59772,
          350.00449,
          351.92005,
          353.02932,
          354.74499,
          357.12713,
          359.13287,
          361.2328,
          362.74346,
          364.67773,
          365.15446,
          369.59574,
          370.45671,
          371.75991,
          371.30144,
          375.16736,
          376.37707,
          376.88541,
          378.63428,
          380.4388,
          381.98562,
          382.4471,
          382.86264,
          384.35525,
          384.96719,
          386.76665,
          389.84874,
          391.82773,
          392.36096,
          395.58305,
          398.42671,
          399.95372,
          404.8326,
          409.47521,
          413.99357,
          417.82094,
          423.773,
          429.97738,
          437.06886,
          441.99113,
          451.90703,
          456.55016,
          462.14122,
          472.44428,
          480.99454,
          487.1488,
          494.11763,
          498.4964,
          504.65866,
          510.15408,
          517.27898,
          523.97936,
          532.44843,
          541.75718,
          549.34871,
          555.84205,
          561.2066,
          567.653,
          573.29931,
          582.14837,
          588.30745,
          594.47775,
          599.71123,
          605.70302,
          610.67829,
          613.37662,
          619.65773,
          625.81996,
          630.05583,
          635.15095,
          638.90439,
          646.02316,
          653.78729,
          653.7673,
          654.75024,
          653.26748,
          652.5323,
          651.19767,
          656.40142,
          658.47003,
          662.8975,
          667.65979,
          672.22514,
          676.21116,
          681.18446,
          684.71004,
          686.31877,
          692.27095,
          696.38729,
          700.7012,
          705.86805,
          710.04585,
          713.18919,
          716.11302,
          721.53558,
          722.94769,
          726.10533,
          729.66007,
          731.91776,
          749.02308,
          752.893,
          760.01834,
          764.71245,
          769.2757,
          773.22711,
          776.26008,
          778.8765,
          781.82209,
          785.54565,
          790.29725,
          794.61218,
          797.71486,
          798.77319,
          798.74809,
          798.74701,
          799.75103,
          802.89274,
          806.8875,
          808.75857,
          810.43623,
          812.65511,
          813.66266,
          808.23057,
          806.6005,
          807.03043,
          808.35183,
          807.81895,
          807.83216,
          805.99466,
          804.02756,
          802.02192,
          800.88934,
          798.61698,
          798.27498,
          798.02897,
          798.98271,
          799.64038,
          799.44211,
          797.65814,
          797.6679,
          797.27631,
          798.06816,
          799.8238,
          800.1989,
          799.55599,
          802.69798,
          806.11869,
          809.32543,
          814.05892,
          813.65629,
          819.75694,
          819.75905,
          823.81181,
          829.51873,
          834.23553,
          840.60298,
          847.61663,
          856.52342,
          865.65058,
          872.02182,
          880.35286,
          891.33316,
          900.98953,
          912.8637,
          924.21602,
          931.13474,
          944.80317,
          957.3756,
          968.46871,
          981.42611,
          997.30174,
          1010.39504,
          1018.55911,
          1033.63209,
          1043.69517,
          1057.47083,
          1069.37791,
          1077.737,
          1089.60205,
          1106.61268,
          1113.52851,
          1132.16017,
          1140.74436,
          1153.2703,
          1163.09378,
          1171.68426,
          1180.9031,
          1191.11369,
          1200.95002,
          1211.89736,
          1220.503,
          1225.27176,
          1231.3361,
          1242.42191,
          1253.43709,
          1258.36528,
          1261.85081,
          1264.14634,
          1274.08738,
          1278.67842,
          1282.85852,
          1288.78203,
          1294.21924,
          1301.63497,
          1309.38939,
          1312.45718,
          1324.75733,
          1320.04402,
          1324.34272,
          1332.90344,
          1360.45629,
          1363.08086,
          1373.94233,
          1380.72085,
          1386.66645,
          1397.28973,
          1405.39666,
          1408.44269,
          1420.99644,
          1431.23693,
          1441.31459,
          1450.87882,
          1457.67057,
          1468.14661,
          1479.31532,
          1492.3776,
          1503.22661,
          1511.05926,
          1517.28183,
          1525.33442,
          1531.10596,
          1538.52018,
          1549.18529,
          1561.45069,
          1570.52774,
          1583.50792,
          1609.54804,
          1629.75144,
          1651.6154,
          1669.00081,
          1684.59932,
          1700.94454,
          1716.96972,
          1729.85168,
          1748.70202,
          1760.54184,
          1773.09833,
          1781.17746,
          1792.36809,
          1797.35057,
          1806.35904,
          1814.25238,
          1829.84026,
          1857.84279,
          1867.85287,
          1867.41869,
          1881.90537,
          1894.69033,
          1903.95799,
          1914.61399,
          1927.18098,
          1939.2114,
          1947.50009,
          1950.65139,
          1957.1513,
          1965.17913,
          1972.11221,
          1982.56131,
          1993.40569,
          2001.20815,
          2014.09978,
          2027.50251,
          2033.26841,
          2040.06439,
          2049.12434,
          2057.09079,
          2065.4951,
          2066.40009,
          2077.36069,
          2088.24304,
          2095.34036,
          2109.72032,
          2112.71615,
          2120.83915,
          2127.98941,
          2137.09298,
          2143.43512,
          2160.1483,
          2176.71934,
          2183.74635,
          2192.24617,
          2196.77763,
          2211.55871,
          2220.19919,
          2232.53538,
          2232.67152,
          2247.83343,
          2257.23094,
          2267.04488,
          2271.63328,
          2276.84314,
          2283.66127,
          2290.92813,
          2367.47108,
          2374.97732,
          2385.80789,
          2397.6806,
          2407.16145,
          2395.81318,
          2403.09925,
          2415.73203,
          2426.81323,
          2429.39986,
          2440.74907,
          2456.7157,
          2457.94558,
          2470.04992,
          2484.43318,
          2493.72977,
          2510.01606,
          2519.12104,
          2533.66767,
          2552.76707,
          2566.99536,
          2582.32603,
          2597.6493,
          2609.47653,
          2619.42765,
          2634.49642,
          2645.60364,
          2654.24323,
          2660.19315,
          2662.40952,
          2665.32126,
          2662.23778,
          2657.38913,
          2660.7295,
          2651.48139,
          2643.78896,
          2647.02886,
          2638.53274,
          2622.82785,
          2615.97301,
          2610.01078,
          2591.47541,
          2590.85498,
          2582.12601,
          2576.59439,
          2563.42273,
          2551.56929,
          2555.01664,
          2543.50802,
          2530.02428,
          2536.55195,
          2532.76479,
          2521.68794,
          2518.41641,
          2521.1048,
          2520.42213,
          2522.09423,
          2530.106,
          2531.23226,
          2646.81126,
          2657.3601,
          2663.77992,
          2672.03136,
          2679.97392,
          2683.971,
          2693.0883,
          2717.49471,
          2709.1147,
          2720.06046,
          2727.95336,
          2746.76076,
          2756.22486,
          2769.93098,
          2777.80358,
          2791.56594,
          2802.54618,
          2818.39729,
          2829.85078,
          2840.09463,
          2857.10779,
          2865.78973,
          2881.76267,
          2903.31606,
          2912.90502,
          2930.70325,
          2950.55705,
          2961.00546,
          2972.09059,
          2986.93636,
          3000.13761,
          3015.14301,
          3029.98525,
          3045.91769,
          3062.67334,
          3076.9589,
          3090.46778,
          3110.22039,
          3127.59853,
          3145.2723,
          3169.33472,
          3187.75716,
          3205.13244,
          3227.40499,
          3243.46835,
          3259.48813,
          3269.65745,
          3283.68655,
          3309.53985,
          3316.71672,
          3332.9446,
          3357.4702,
          3379.35387,
          3396.24822,
          3420.42657,
          3439.28145,
          3453.86482,
          3481.2455,
          3497.67601,
          3512.73828,
          3400.22322,
          3418.76263,
          3436.24154,
          3464.86358,
          3484.75416,
          3502.63631,
          3520.78974,
          3539.34564,
          3561.04875,
          3581.72467,
          3597.62748,
          3619.27278,
          3636.43566,
          3653.34721,
          3669.97675,
          3685.36911,
          3700.00266,
          3714.14277,
          3727.13111,
          3743.42625,
          3755.18326,
          3770.17252,
          3794.37975,
          3816.53782,
          3830.7516,
          3848.40498,
          3864.42182,
          3876.81378,
          3885.88106,
          3902.72837,
          3901.81229,
          3924.34812,
          3943.09734,
          3955.67622,
          3974.99595,
          3992.03819,
          4007.04192,
          4027.30516,
          4040.91476,
          4053.38213,
          4072.88953,
          4085.97845,
          4094.05554,
          4117.32358,
          4131.68886,
          4144.27761,
          4162.38074,
          4164.56602,
          4192.19141,
          4208.14529,
          4220.87962,
          4208.19841,
          4146.96379,
          4127.30503,
          4137.15766,
          4152.1851,
          4146.75756,
          4161.81818,
          4166.67937,
          4172.50029,
          4184.92179,
          4193.3259,
          4212.34656,
          4228.57478,
          4247.53476,
          4274.43942,
          4297.81691,
          4313.84352,
          4332.10115,
          4355.8509,
          4376.99098,
          4408.96983,
          4431.91715,
          4448.88285,
          4486.57969,
          4539.01445
         ]
        }
       ],
       "layout": {
        "template": {
         "data": {
          "bar": [
           {
            "error_x": {
             "color": "#2a3f5f"
            },
            "error_y": {
             "color": "#2a3f5f"
            },
            "marker": {
             "line": {
              "color": "#E5ECF6",
              "width": 0.5
             },
             "pattern": {
              "fillmode": "overlay",
              "size": 10,
              "solidity": 0.2
             }
            },
            "type": "bar"
           }
          ],
          "barpolar": [
           {
            "marker": {
             "line": {
              "color": "#E5ECF6",
              "width": 0.5
             },
             "pattern": {
              "fillmode": "overlay",
              "size": 10,
              "solidity": 0.2
             }
            },
            "type": "barpolar"
           }
          ],
          "carpet": [
           {
            "aaxis": {
             "endlinecolor": "#2a3f5f",
             "gridcolor": "white",
             "linecolor": "white",
             "minorgridcolor": "white",
             "startlinecolor": "#2a3f5f"
            },
            "baxis": {
             "endlinecolor": "#2a3f5f",
             "gridcolor": "white",
             "linecolor": "white",
             "minorgridcolor": "white",
             "startlinecolor": "#2a3f5f"
            },
            "type": "carpet"
           }
          ],
          "choropleth": [
           {
            "colorbar": {
             "outlinewidth": 0,
             "ticks": ""
            },
            "type": "choropleth"
           }
          ],
          "contour": [
           {
            "colorbar": {
             "outlinewidth": 0,
             "ticks": ""
            },
            "colorscale": [
             [
              0,
              "#0d0887"
             ],
             [
              0.1111111111111111,
              "#46039f"
             ],
             [
              0.2222222222222222,
              "#7201a8"
             ],
             [
              0.3333333333333333,
              "#9c179e"
             ],
             [
              0.4444444444444444,
              "#bd3786"
             ],
             [
              0.5555555555555556,
              "#d8576b"
             ],
             [
              0.6666666666666666,
              "#ed7953"
             ],
             [
              0.7777777777777778,
              "#fb9f3a"
             ],
             [
              0.8888888888888888,
              "#fdca26"
             ],
             [
              1,
              "#f0f921"
             ]
            ],
            "type": "contour"
           }
          ],
          "contourcarpet": [
           {
            "colorbar": {
             "outlinewidth": 0,
             "ticks": ""
            },
            "type": "contourcarpet"
           }
          ],
          "heatmap": [
           {
            "colorbar": {
             "outlinewidth": 0,
             "ticks": ""
            },
            "colorscale": [
             [
              0,
              "#0d0887"
             ],
             [
              0.1111111111111111,
              "#46039f"
             ],
             [
              0.2222222222222222,
              "#7201a8"
             ],
             [
              0.3333333333333333,
              "#9c179e"
             ],
             [
              0.4444444444444444,
              "#bd3786"
             ],
             [
              0.5555555555555556,
              "#d8576b"
             ],
             [
              0.6666666666666666,
              "#ed7953"
             ],
             [
              0.7777777777777778,
              "#fb9f3a"
             ],
             [
              0.8888888888888888,
              "#fdca26"
             ],
             [
              1,
              "#f0f921"
             ]
            ],
            "type": "heatmap"
           }
          ],
          "heatmapgl": [
           {
            "colorbar": {
             "outlinewidth": 0,
             "ticks": ""
            },
            "colorscale": [
             [
              0,
              "#0d0887"
             ],
             [
              0.1111111111111111,
              "#46039f"
             ],
             [
              0.2222222222222222,
              "#7201a8"
             ],
             [
              0.3333333333333333,
              "#9c179e"
             ],
             [
              0.4444444444444444,
              "#bd3786"
             ],
             [
              0.5555555555555556,
              "#d8576b"
             ],
             [
              0.6666666666666666,
              "#ed7953"
             ],
             [
              0.7777777777777778,
              "#fb9f3a"
             ],
             [
              0.8888888888888888,
              "#fdca26"
             ],
             [
              1,
              "#f0f921"
             ]
            ],
            "type": "heatmapgl"
           }
          ],
          "histogram": [
           {
            "marker": {
             "pattern": {
              "fillmode": "overlay",
              "size": 10,
              "solidity": 0.2
             }
            },
            "type": "histogram"
           }
          ],
          "histogram2d": [
           {
            "colorbar": {
             "outlinewidth": 0,
             "ticks": ""
            },
            "colorscale": [
             [
              0,
              "#0d0887"
             ],
             [
              0.1111111111111111,
              "#46039f"
             ],
             [
              0.2222222222222222,
              "#7201a8"
             ],
             [
              0.3333333333333333,
              "#9c179e"
             ],
             [
              0.4444444444444444,
              "#bd3786"
             ],
             [
              0.5555555555555556,
              "#d8576b"
             ],
             [
              0.6666666666666666,
              "#ed7953"
             ],
             [
              0.7777777777777778,
              "#fb9f3a"
             ],
             [
              0.8888888888888888,
              "#fdca26"
             ],
             [
              1,
              "#f0f921"
             ]
            ],
            "type": "histogram2d"
           }
          ],
          "histogram2dcontour": [
           {
            "colorbar": {
             "outlinewidth": 0,
             "ticks": ""
            },
            "colorscale": [
             [
              0,
              "#0d0887"
             ],
             [
              0.1111111111111111,
              "#46039f"
             ],
             [
              0.2222222222222222,
              "#7201a8"
             ],
             [
              0.3333333333333333,
              "#9c179e"
             ],
             [
              0.4444444444444444,
              "#bd3786"
             ],
             [
              0.5555555555555556,
              "#d8576b"
             ],
             [
              0.6666666666666666,
              "#ed7953"
             ],
             [
              0.7777777777777778,
              "#fb9f3a"
             ],
             [
              0.8888888888888888,
              "#fdca26"
             ],
             [
              1,
              "#f0f921"
             ]
            ],
            "type": "histogram2dcontour"
           }
          ],
          "mesh3d": [
           {
            "colorbar": {
             "outlinewidth": 0,
             "ticks": ""
            },
            "type": "mesh3d"
           }
          ],
          "parcoords": [
           {
            "line": {
             "colorbar": {
              "outlinewidth": 0,
              "ticks": ""
             }
            },
            "type": "parcoords"
           }
          ],
          "pie": [
           {
            "automargin": true,
            "type": "pie"
           }
          ],
          "scatter": [
           {
            "fillpattern": {
             "fillmode": "overlay",
             "size": 10,
             "solidity": 0.2
            },
            "type": "scatter"
           }
          ],
          "scatter3d": [
           {
            "line": {
             "colorbar": {
              "outlinewidth": 0,
              "ticks": ""
             }
            },
            "marker": {
             "colorbar": {
              "outlinewidth": 0,
              "ticks": ""
             }
            },
            "type": "scatter3d"
           }
          ],
          "scattercarpet": [
           {
            "marker": {
             "colorbar": {
              "outlinewidth": 0,
              "ticks": ""
             }
            },
            "type": "scattercarpet"
           }
          ],
          "scattergeo": [
           {
            "marker": {
             "colorbar": {
              "outlinewidth": 0,
              "ticks": ""
             }
            },
            "type": "scattergeo"
           }
          ],
          "scattergl": [
           {
            "marker": {
             "colorbar": {
              "outlinewidth": 0,
              "ticks": ""
             }
            },
            "type": "scattergl"
           }
          ],
          "scattermapbox": [
           {
            "marker": {
             "colorbar": {
              "outlinewidth": 0,
              "ticks": ""
             }
            },
            "type": "scattermapbox"
           }
          ],
          "scatterpolar": [
           {
            "marker": {
             "colorbar": {
              "outlinewidth": 0,
              "ticks": ""
             }
            },
            "type": "scatterpolar"
           }
          ],
          "scatterpolargl": [
           {
            "marker": {
             "colorbar": {
              "outlinewidth": 0,
              "ticks": ""
             }
            },
            "type": "scatterpolargl"
           }
          ],
          "scatterternary": [
           {
            "marker": {
             "colorbar": {
              "outlinewidth": 0,
              "ticks": ""
             }
            },
            "type": "scatterternary"
           }
          ],
          "surface": [
           {
            "colorbar": {
             "outlinewidth": 0,
             "ticks": ""
            },
            "colorscale": [
             [
              0,
              "#0d0887"
             ],
             [
              0.1111111111111111,
              "#46039f"
             ],
             [
              0.2222222222222222,
              "#7201a8"
             ],
             [
              0.3333333333333333,
              "#9c179e"
             ],
             [
              0.4444444444444444,
              "#bd3786"
             ],
             [
              0.5555555555555556,
              "#d8576b"
             ],
             [
              0.6666666666666666,
              "#ed7953"
             ],
             [
              0.7777777777777778,
              "#fb9f3a"
             ],
             [
              0.8888888888888888,
              "#fdca26"
             ],
             [
              1,
              "#f0f921"
             ]
            ],
            "type": "surface"
           }
          ],
          "table": [
           {
            "cells": {
             "fill": {
              "color": "#EBF0F8"
             },
             "line": {
              "color": "white"
             }
            },
            "header": {
             "fill": {
              "color": "#C8D4E3"
             },
             "line": {
              "color": "white"
             }
            },
            "type": "table"
           }
          ]
         },
         "layout": {
          "annotationdefaults": {
           "arrowcolor": "#2a3f5f",
           "arrowhead": 0,
           "arrowwidth": 1
          },
          "autotypenumbers": "strict",
          "coloraxis": {
           "colorbar": {
            "outlinewidth": 0,
            "ticks": ""
           }
          },
          "colorscale": {
           "diverging": [
            [
             0,
             "#8e0152"
            ],
            [
             0.1,
             "#c51b7d"
            ],
            [
             0.2,
             "#de77ae"
            ],
            [
             0.3,
             "#f1b6da"
            ],
            [
             0.4,
             "#fde0ef"
            ],
            [
             0.5,
             "#f7f7f7"
            ],
            [
             0.6,
             "#e6f5d0"
            ],
            [
             0.7,
             "#b8e186"
            ],
            [
             0.8,
             "#7fbc41"
            ],
            [
             0.9,
             "#4d9221"
            ],
            [
             1,
             "#276419"
            ]
           ],
           "sequential": [
            [
             0,
             "#0d0887"
            ],
            [
             0.1111111111111111,
             "#46039f"
            ],
            [
             0.2222222222222222,
             "#7201a8"
            ],
            [
             0.3333333333333333,
             "#9c179e"
            ],
            [
             0.4444444444444444,
             "#bd3786"
            ],
            [
             0.5555555555555556,
             "#d8576b"
            ],
            [
             0.6666666666666666,
             "#ed7953"
            ],
            [
             0.7777777777777778,
             "#fb9f3a"
            ],
            [
             0.8888888888888888,
             "#fdca26"
            ],
            [
             1,
             "#f0f921"
            ]
           ],
           "sequentialminus": [
            [
             0,
             "#0d0887"
            ],
            [
             0.1111111111111111,
             "#46039f"
            ],
            [
             0.2222222222222222,
             "#7201a8"
            ],
            [
             0.3333333333333333,
             "#9c179e"
            ],
            [
             0.4444444444444444,
             "#bd3786"
            ],
            [
             0.5555555555555556,
             "#d8576b"
            ],
            [
             0.6666666666666666,
             "#ed7953"
            ],
            [
             0.7777777777777778,
             "#fb9f3a"
            ],
            [
             0.8888888888888888,
             "#fdca26"
            ],
            [
             1,
             "#f0f921"
            ]
           ]
          },
          "colorway": [
           "#636efa",
           "#EF553B",
           "#00cc96",
           "#ab63fa",
           "#FFA15A",
           "#19d3f3",
           "#FF6692",
           "#B6E880",
           "#FF97FF",
           "#FECB52"
          ],
          "font": {
           "color": "#2a3f5f"
          },
          "geo": {
           "bgcolor": "white",
           "lakecolor": "white",
           "landcolor": "#E5ECF6",
           "showlakes": true,
           "showland": true,
           "subunitcolor": "white"
          },
          "hoverlabel": {
           "align": "left"
          },
          "hovermode": "closest",
          "mapbox": {
           "style": "light"
          },
          "paper_bgcolor": "white",
          "plot_bgcolor": "#E5ECF6",
          "polar": {
           "angularaxis": {
            "gridcolor": "white",
            "linecolor": "white",
            "ticks": ""
           },
           "bgcolor": "#E5ECF6",
           "radialaxis": {
            "gridcolor": "white",
            "linecolor": "white",
            "ticks": ""
           }
          },
          "scene": {
           "xaxis": {
            "backgroundcolor": "#E5ECF6",
            "gridcolor": "white",
            "gridwidth": 2,
            "linecolor": "white",
            "showbackground": true,
            "ticks": "",
            "zerolinecolor": "white"
           },
           "yaxis": {
            "backgroundcolor": "#E5ECF6",
            "gridcolor": "white",
            "gridwidth": 2,
            "linecolor": "white",
            "showbackground": true,
            "ticks": "",
            "zerolinecolor": "white"
           },
           "zaxis": {
            "backgroundcolor": "#E5ECF6",
            "gridcolor": "white",
            "gridwidth": 2,
            "linecolor": "white",
            "showbackground": true,
            "ticks": "",
            "zerolinecolor": "white"
           }
          },
          "shapedefaults": {
           "line": {
            "color": "#2a3f5f"
           }
          },
          "ternary": {
           "aaxis": {
            "gridcolor": "white",
            "linecolor": "white",
            "ticks": ""
           },
           "baxis": {
            "gridcolor": "white",
            "linecolor": "white",
            "ticks": ""
           },
           "bgcolor": "#E5ECF6",
           "caxis": {
            "gridcolor": "white",
            "linecolor": "white",
            "ticks": ""
           }
          },
          "title": {
           "x": 0.05
          },
          "xaxis": {
           "automargin": true,
           "gridcolor": "white",
           "linecolor": "white",
           "ticks": "",
           "title": {
            "standoff": 15
           },
           "zerolinecolor": "white",
           "zerolinewidth": 2
          },
          "yaxis": {
           "automargin": true,
           "gridcolor": "white",
           "linecolor": "white",
           "ticks": "",
           "title": {
            "standoff": 15
           },
           "zerolinecolor": "white",
           "zerolinewidth": 2
          }
         }
        },
        "title": {
         "text": "Consumer Debt ($), 1943 - 2022 (not adjusted for inflation, via Fed Reserve)"
        }
       }
      },
      "text/html": [
       "<div>                            <div id=\"3a53b647-46be-4932-b493-50f74d854ebd\" class=\"plotly-graph-div\" style=\"height:525px; width:100%;\"></div>            <script type=\"text/javascript\">                require([\"plotly\"], function(Plotly) {                    window.PLOTLYENV=window.PLOTLYENV || {};                                    if (document.getElementById(\"3a53b647-46be-4932-b493-50f74d854ebd\")) {                    Plotly.newPlot(                        \"3a53b647-46be-4932-b493-50f74d854ebd\",                        [{\"line\":{\"color\":\"blue\"},\"name\":\"debttrace\",\"opacity\":0.4,\"x\":[\"1943-01-01\",\"1943-02-01\",\"1943-03-01\",\"1943-04-01\",\"1943-05-01\",\"1943-06-01\",\"1943-07-01\",\"1943-08-01\",\"1943-09-01\",\"1943-10-01\",\"1943-11-01\",\"1943-12-01\",\"1944-01-01\",\"1944-02-01\",\"1944-03-01\",\"1944-04-01\",\"1944-05-01\",\"1944-06-01\",\"1944-07-01\",\"1944-08-01\",\"1944-09-01\",\"1944-10-01\",\"1944-11-01\",\"1944-12-01\",\"1945-01-01\",\"1945-02-01\",\"1945-03-01\",\"1945-04-01\",\"1945-05-01\",\"1945-06-01\",\"1945-07-01\",\"1945-08-01\",\"1945-09-01\",\"1945-10-01\",\"1945-11-01\",\"1945-12-01\",\"1946-01-01\",\"1946-02-01\",\"1946-03-01\",\"1946-04-01\",\"1946-05-01\",\"1946-06-01\",\"1946-07-01\",\"1946-08-01\",\"1946-09-01\",\"1946-10-01\",\"1946-11-01\",\"1946-12-01\",\"1947-01-01\",\"1947-02-01\",\"1947-03-01\",\"1947-04-01\",\"1947-05-01\",\"1947-06-01\",\"1947-07-01\",\"1947-08-01\",\"1947-09-01\",\"1947-10-01\",\"1947-11-01\",\"1947-12-01\",\"1948-01-01\",\"1948-02-01\",\"1948-03-01\",\"1948-04-01\",\"1948-05-01\",\"1948-06-01\",\"1948-07-01\",\"1948-08-01\",\"1948-09-01\",\"1948-10-01\",\"1948-11-01\",\"1948-12-01\",\"1949-01-01\",\"1949-02-01\",\"1949-03-01\",\"1949-04-01\",\"1949-05-01\",\"1949-06-01\",\"1949-07-01\",\"1949-08-01\",\"1949-09-01\",\"1949-10-01\",\"1949-11-01\",\"1949-12-01\",\"1950-01-01\",\"1950-02-01\",\"1950-03-01\",\"1950-04-01\",\"1950-05-01\",\"1950-06-01\",\"1950-07-01\",\"1950-08-01\",\"1950-09-01\",\"1950-10-01\",\"1950-11-01\",\"1950-12-01\",\"1951-01-01\",\"1951-02-01\",\"1951-03-01\",\"1951-04-01\",\"1951-05-01\",\"1951-06-01\",\"1951-07-01\",\"1951-08-01\",\"1951-09-01\",\"1951-10-01\",\"1951-11-01\",\"1951-12-01\",\"1952-01-01\",\"1952-02-01\",\"1952-03-01\",\"1952-04-01\",\"1952-05-01\",\"1952-06-01\",\"1952-07-01\",\"1952-08-01\",\"1952-09-01\",\"1952-10-01\",\"1952-11-01\",\"1952-12-01\",\"1953-01-01\",\"1953-02-01\",\"1953-03-01\",\"1953-04-01\",\"1953-05-01\",\"1953-06-01\",\"1953-07-01\",\"1953-08-01\",\"1953-09-01\",\"1953-10-01\",\"1953-11-01\",\"1953-12-01\",\"1954-01-01\",\"1954-02-01\",\"1954-03-01\",\"1954-04-01\",\"1954-05-01\",\"1954-06-01\",\"1954-07-01\",\"1954-08-01\",\"1954-09-01\",\"1954-10-01\",\"1954-11-01\",\"1954-12-01\",\"1955-01-01\",\"1955-02-01\",\"1955-03-01\",\"1955-04-01\",\"1955-05-01\",\"1955-06-01\",\"1955-07-01\",\"1955-08-01\",\"1955-09-01\",\"1955-10-01\",\"1955-11-01\",\"1955-12-01\",\"1956-01-01\",\"1956-02-01\",\"1956-03-01\",\"1956-04-01\",\"1956-05-01\",\"1956-06-01\",\"1956-07-01\",\"1956-08-01\",\"1956-09-01\",\"1956-10-01\",\"1956-11-01\",\"1956-12-01\",\"1957-01-01\",\"1957-02-01\",\"1957-03-01\",\"1957-04-01\",\"1957-05-01\",\"1957-06-01\",\"1957-07-01\",\"1957-08-01\",\"1957-09-01\",\"1957-10-01\",\"1957-11-01\",\"1957-12-01\",\"1958-01-01\",\"1958-02-01\",\"1958-03-01\",\"1958-04-01\",\"1958-05-01\",\"1958-06-01\",\"1958-07-01\",\"1958-08-01\",\"1958-09-01\",\"1958-10-01\",\"1958-11-01\",\"1958-12-01\",\"1959-01-01\",\"1959-02-01\",\"1959-03-01\",\"1959-04-01\",\"1959-05-01\",\"1959-06-01\",\"1959-07-01\",\"1959-08-01\",\"1959-09-01\",\"1959-10-01\",\"1959-11-01\",\"1959-12-01\",\"1960-01-01\",\"1960-02-01\",\"1960-03-01\",\"1960-04-01\",\"1960-05-01\",\"1960-06-01\",\"1960-07-01\",\"1960-08-01\",\"1960-09-01\",\"1960-10-01\",\"1960-11-01\",\"1960-12-01\",\"1961-01-01\",\"1961-02-01\",\"1961-03-01\",\"1961-04-01\",\"1961-05-01\",\"1961-06-01\",\"1961-07-01\",\"1961-08-01\",\"1961-09-01\",\"1961-10-01\",\"1961-11-01\",\"1961-12-01\",\"1962-01-01\",\"1962-02-01\",\"1962-03-01\",\"1962-04-01\",\"1962-05-01\",\"1962-06-01\",\"1962-07-01\",\"1962-08-01\",\"1962-09-01\",\"1962-10-01\",\"1962-11-01\",\"1962-12-01\",\"1963-01-01\",\"1963-02-01\",\"1963-03-01\",\"1963-04-01\",\"1963-05-01\",\"1963-06-01\",\"1963-07-01\",\"1963-08-01\",\"1963-09-01\",\"1963-10-01\",\"1963-11-01\",\"1963-12-01\",\"1964-01-01\",\"1964-02-01\",\"1964-03-01\",\"1964-04-01\",\"1964-05-01\",\"1964-06-01\",\"1964-07-01\",\"1964-08-01\",\"1964-09-01\",\"1964-10-01\",\"1964-11-01\",\"1964-12-01\",\"1965-01-01\",\"1965-02-01\",\"1965-03-01\",\"1965-04-01\",\"1965-05-01\",\"1965-06-01\",\"1965-07-01\",\"1965-08-01\",\"1965-09-01\",\"1965-10-01\",\"1965-11-01\",\"1965-12-01\",\"1966-01-01\",\"1966-02-01\",\"1966-03-01\",\"1966-04-01\",\"1966-05-01\",\"1966-06-01\",\"1966-07-01\",\"1966-08-01\",\"1966-09-01\",\"1966-10-01\",\"1966-11-01\",\"1966-12-01\",\"1967-01-01\",\"1967-02-01\",\"1967-03-01\",\"1967-04-01\",\"1967-05-01\",\"1967-06-01\",\"1967-07-01\",\"1967-08-01\",\"1967-09-01\",\"1967-10-01\",\"1967-11-01\",\"1967-12-01\",\"1968-01-01\",\"1968-02-01\",\"1968-03-01\",\"1968-04-01\",\"1968-05-01\",\"1968-06-01\",\"1968-07-01\",\"1968-08-01\",\"1968-09-01\",\"1968-10-01\",\"1968-11-01\",\"1968-12-01\",\"1969-01-01\",\"1969-02-01\",\"1969-03-01\",\"1969-04-01\",\"1969-05-01\",\"1969-06-01\",\"1969-07-01\",\"1969-08-01\",\"1969-09-01\",\"1969-10-01\",\"1969-11-01\",\"1969-12-01\",\"1970-01-01\",\"1970-02-01\",\"1970-03-01\",\"1970-04-01\",\"1970-05-01\",\"1970-06-01\",\"1970-07-01\",\"1970-08-01\",\"1970-09-01\",\"1970-10-01\",\"1970-11-01\",\"1970-12-01\",\"1971-01-01\",\"1971-02-01\",\"1971-03-01\",\"1971-04-01\",\"1971-05-01\",\"1971-06-01\",\"1971-07-01\",\"1971-08-01\",\"1971-09-01\",\"1971-10-01\",\"1971-11-01\",\"1971-12-01\",\"1972-01-01\",\"1972-02-01\",\"1972-03-01\",\"1972-04-01\",\"1972-05-01\",\"1972-06-01\",\"1972-07-01\",\"1972-08-01\",\"1972-09-01\",\"1972-10-01\",\"1972-11-01\",\"1972-12-01\",\"1973-01-01\",\"1973-02-01\",\"1973-03-01\",\"1973-04-01\",\"1973-05-01\",\"1973-06-01\",\"1973-07-01\",\"1973-08-01\",\"1973-09-01\",\"1973-10-01\",\"1973-11-01\",\"1973-12-01\",\"1974-01-01\",\"1974-02-01\",\"1974-03-01\",\"1974-04-01\",\"1974-05-01\",\"1974-06-01\",\"1974-07-01\",\"1974-08-01\",\"1974-09-01\",\"1974-10-01\",\"1974-11-01\",\"1974-12-01\",\"1975-01-01\",\"1975-02-01\",\"1975-03-01\",\"1975-04-01\",\"1975-05-01\",\"1975-06-01\",\"1975-07-01\",\"1975-08-01\",\"1975-09-01\",\"1975-10-01\",\"1975-11-01\",\"1975-12-01\",\"1976-01-01\",\"1976-02-01\",\"1976-03-01\",\"1976-04-01\",\"1976-05-01\",\"1976-06-01\",\"1976-07-01\",\"1976-08-01\",\"1976-09-01\",\"1976-10-01\",\"1976-11-01\",\"1976-12-01\",\"1977-01-01\",\"1977-02-01\",\"1977-03-01\",\"1977-04-01\",\"1977-05-01\",\"1977-06-01\",\"1977-07-01\",\"1977-08-01\",\"1977-09-01\",\"1977-10-01\",\"1977-11-01\",\"1977-12-01\",\"1978-01-01\",\"1978-02-01\",\"1978-03-01\",\"1978-04-01\",\"1978-05-01\",\"1978-06-01\",\"1978-07-01\",\"1978-08-01\",\"1978-09-01\",\"1978-10-01\",\"1978-11-01\",\"1978-12-01\",\"1979-01-01\",\"1979-02-01\",\"1979-03-01\",\"1979-04-01\",\"1979-05-01\",\"1979-06-01\",\"1979-07-01\",\"1979-08-01\",\"1979-09-01\",\"1979-10-01\",\"1979-11-01\",\"1979-12-01\",\"1980-01-01\",\"1980-02-01\",\"1980-03-01\",\"1980-04-01\",\"1980-05-01\",\"1980-06-01\",\"1980-07-01\",\"1980-08-01\",\"1980-09-01\",\"1980-10-01\",\"1980-11-01\",\"1980-12-01\",\"1981-01-01\",\"1981-02-01\",\"1981-03-01\",\"1981-04-01\",\"1981-05-01\",\"1981-06-01\",\"1981-07-01\",\"1981-08-01\",\"1981-09-01\",\"1981-10-01\",\"1981-11-01\",\"1981-12-01\",\"1982-01-01\",\"1982-02-01\",\"1982-03-01\",\"1982-04-01\",\"1982-05-01\",\"1982-06-01\",\"1982-07-01\",\"1982-08-01\",\"1982-09-01\",\"1982-10-01\",\"1982-11-01\",\"1982-12-01\",\"1983-01-01\",\"1983-02-01\",\"1983-03-01\",\"1983-04-01\",\"1983-05-01\",\"1983-06-01\",\"1983-07-01\",\"1983-08-01\",\"1983-09-01\",\"1983-10-01\",\"1983-11-01\",\"1983-12-01\",\"1984-01-01\",\"1984-02-01\",\"1984-03-01\",\"1984-04-01\",\"1984-05-01\",\"1984-06-01\",\"1984-07-01\",\"1984-08-01\",\"1984-09-01\",\"1984-10-01\",\"1984-11-01\",\"1984-12-01\",\"1985-01-01\",\"1985-02-01\",\"1985-03-01\",\"1985-04-01\",\"1985-05-01\",\"1985-06-01\",\"1985-07-01\",\"1985-08-01\",\"1985-09-01\",\"1985-10-01\",\"1985-11-01\",\"1985-12-01\",\"1986-01-01\",\"1986-02-01\",\"1986-03-01\",\"1986-04-01\",\"1986-05-01\",\"1986-06-01\",\"1986-07-01\",\"1986-08-01\",\"1986-09-01\",\"1986-10-01\",\"1986-11-01\",\"1986-12-01\",\"1987-01-01\",\"1987-02-01\",\"1987-03-01\",\"1987-04-01\",\"1987-05-01\",\"1987-06-01\",\"1987-07-01\",\"1987-08-01\",\"1987-09-01\",\"1987-10-01\",\"1987-11-01\",\"1987-12-01\",\"1988-01-01\",\"1988-02-01\",\"1988-03-01\",\"1988-04-01\",\"1988-05-01\",\"1988-06-01\",\"1988-07-01\",\"1988-08-01\",\"1988-09-01\",\"1988-10-01\",\"1988-11-01\",\"1988-12-01\",\"1989-01-01\",\"1989-02-01\",\"1989-03-01\",\"1989-04-01\",\"1989-05-01\",\"1989-06-01\",\"1989-07-01\",\"1989-08-01\",\"1989-09-01\",\"1989-10-01\",\"1989-11-01\",\"1989-12-01\",\"1990-01-01\",\"1990-02-01\",\"1990-03-01\",\"1990-04-01\",\"1990-05-01\",\"1990-06-01\",\"1990-07-01\",\"1990-08-01\",\"1990-09-01\",\"1990-10-01\",\"1990-11-01\",\"1990-12-01\",\"1991-01-01\",\"1991-02-01\",\"1991-03-01\",\"1991-04-01\",\"1991-05-01\",\"1991-06-01\",\"1991-07-01\",\"1991-08-01\",\"1991-09-01\",\"1991-10-01\",\"1991-11-01\",\"1991-12-01\",\"1992-01-01\",\"1992-02-01\",\"1992-03-01\",\"1992-04-01\",\"1992-05-01\",\"1992-06-01\",\"1992-07-01\",\"1992-08-01\",\"1992-09-01\",\"1992-10-01\",\"1992-11-01\",\"1992-12-01\",\"1993-01-01\",\"1993-02-01\",\"1993-03-01\",\"1993-04-01\",\"1993-05-01\",\"1993-06-01\",\"1993-07-01\",\"1993-08-01\",\"1993-09-01\",\"1993-10-01\",\"1993-11-01\",\"1993-12-01\",\"1994-01-01\",\"1994-02-01\",\"1994-03-01\",\"1994-04-01\",\"1994-05-01\",\"1994-06-01\",\"1994-07-01\",\"1994-08-01\",\"1994-09-01\",\"1994-10-01\",\"1994-11-01\",\"1994-12-01\",\"1995-01-01\",\"1995-02-01\",\"1995-03-01\",\"1995-04-01\",\"1995-05-01\",\"1995-06-01\",\"1995-07-01\",\"1995-08-01\",\"1995-09-01\",\"1995-10-01\",\"1995-11-01\",\"1995-12-01\",\"1996-01-01\",\"1996-02-01\",\"1996-03-01\",\"1996-04-01\",\"1996-05-01\",\"1996-06-01\",\"1996-07-01\",\"1996-08-01\",\"1996-09-01\",\"1996-10-01\",\"1996-11-01\",\"1996-12-01\",\"1997-01-01\",\"1997-02-01\",\"1997-03-01\",\"1997-04-01\",\"1997-05-01\",\"1997-06-01\",\"1997-07-01\",\"1997-08-01\",\"1997-09-01\",\"1997-10-01\",\"1997-11-01\",\"1997-12-01\",\"1998-01-01\",\"1998-02-01\",\"1998-03-01\",\"1998-04-01\",\"1998-05-01\",\"1998-06-01\",\"1998-07-01\",\"1998-08-01\",\"1998-09-01\",\"1998-10-01\",\"1998-11-01\",\"1998-12-01\",\"1999-01-01\",\"1999-02-01\",\"1999-03-01\",\"1999-04-01\",\"1999-05-01\",\"1999-06-01\",\"1999-07-01\",\"1999-08-01\",\"1999-09-01\",\"1999-10-01\",\"1999-11-01\",\"1999-12-01\",\"2000-01-01\",\"2000-02-01\",\"2000-03-01\",\"2000-04-01\",\"2000-05-01\",\"2000-06-01\",\"2000-07-01\",\"2000-08-01\",\"2000-09-01\",\"2000-10-01\",\"2000-11-01\",\"2000-12-01\",\"2001-01-01\",\"2001-02-01\",\"2001-03-01\",\"2001-04-01\",\"2001-05-01\",\"2001-06-01\",\"2001-07-01\",\"2001-08-01\",\"2001-09-01\",\"2001-10-01\",\"2001-11-01\",\"2001-12-01\",\"2002-01-01\",\"2002-02-01\",\"2002-03-01\",\"2002-04-01\",\"2002-05-01\",\"2002-06-01\",\"2002-07-01\",\"2002-08-01\",\"2002-09-01\",\"2002-10-01\",\"2002-11-01\",\"2002-12-01\",\"2003-01-01\",\"2003-02-01\",\"2003-03-01\",\"2003-04-01\",\"2003-05-01\",\"2003-06-01\",\"2003-07-01\",\"2003-08-01\",\"2003-09-01\",\"2003-10-01\",\"2003-11-01\",\"2003-12-01\",\"2004-01-01\",\"2004-02-01\",\"2004-03-01\",\"2004-04-01\",\"2004-05-01\",\"2004-06-01\",\"2004-07-01\",\"2004-08-01\",\"2004-09-01\",\"2004-10-01\",\"2004-11-01\",\"2004-12-01\",\"2005-01-01\",\"2005-02-01\",\"2005-03-01\",\"2005-04-01\",\"2005-05-01\",\"2005-06-01\",\"2005-07-01\",\"2005-08-01\",\"2005-09-01\",\"2005-10-01\",\"2005-11-01\",\"2005-12-01\",\"2006-01-01\",\"2006-02-01\",\"2006-03-01\",\"2006-04-01\",\"2006-05-01\",\"2006-06-01\",\"2006-07-01\",\"2006-08-01\",\"2006-09-01\",\"2006-10-01\",\"2006-11-01\",\"2006-12-01\",\"2007-01-01\",\"2007-02-01\",\"2007-03-01\",\"2007-04-01\",\"2007-05-01\",\"2007-06-01\",\"2007-07-01\",\"2007-08-01\",\"2007-09-01\",\"2007-10-01\",\"2007-11-01\",\"2007-12-01\",\"2008-01-01\",\"2008-02-01\",\"2008-03-01\",\"2008-04-01\",\"2008-05-01\",\"2008-06-01\",\"2008-07-01\",\"2008-08-01\",\"2008-09-01\",\"2008-10-01\",\"2008-11-01\",\"2008-12-01\",\"2009-01-01\",\"2009-02-01\",\"2009-03-01\",\"2009-04-01\",\"2009-05-01\",\"2009-06-01\",\"2009-07-01\",\"2009-08-01\",\"2009-09-01\",\"2009-10-01\",\"2009-11-01\",\"2009-12-01\",\"2010-01-01\",\"2010-02-01\",\"2010-03-01\",\"2010-04-01\",\"2010-05-01\",\"2010-06-01\",\"2010-07-01\",\"2010-08-01\",\"2010-09-01\",\"2010-10-01\",\"2010-11-01\",\"2010-12-01\",\"2011-01-01\",\"2011-02-01\",\"2011-03-01\",\"2011-04-01\",\"2011-05-01\",\"2011-06-01\",\"2011-07-01\",\"2011-08-01\",\"2011-09-01\",\"2011-10-01\",\"2011-11-01\",\"2011-12-01\",\"2012-01-01\",\"2012-02-01\",\"2012-03-01\",\"2012-04-01\",\"2012-05-01\",\"2012-06-01\",\"2012-07-01\",\"2012-08-01\",\"2012-09-01\",\"2012-10-01\",\"2012-11-01\",\"2012-12-01\",\"2013-01-01\",\"2013-02-01\",\"2013-03-01\",\"2013-04-01\",\"2013-05-01\",\"2013-06-01\",\"2013-07-01\",\"2013-08-01\",\"2013-09-01\",\"2013-10-01\",\"2013-11-01\",\"2013-12-01\",\"2014-01-01\",\"2014-02-01\",\"2014-03-01\",\"2014-04-01\",\"2014-05-01\",\"2014-06-01\",\"2014-07-01\",\"2014-08-01\",\"2014-09-01\",\"2014-10-01\",\"2014-11-01\",\"2014-12-01\",\"2015-01-01\",\"2015-02-01\",\"2015-03-01\",\"2015-04-01\",\"2015-05-01\",\"2015-06-01\",\"2015-07-01\",\"2015-08-01\",\"2015-09-01\",\"2015-10-01\",\"2015-11-01\",\"2015-12-01\",\"2016-01-01\",\"2016-02-01\",\"2016-03-01\",\"2016-04-01\",\"2016-05-01\",\"2016-06-01\",\"2016-07-01\",\"2016-08-01\",\"2016-09-01\",\"2016-10-01\",\"2016-11-01\",\"2016-12-01\",\"2017-01-01\",\"2017-02-01\",\"2017-03-01\",\"2017-04-01\",\"2017-05-01\",\"2017-06-01\",\"2017-07-01\",\"2017-08-01\",\"2017-09-01\",\"2017-10-01\",\"2017-11-01\",\"2017-12-01\",\"2018-01-01\",\"2018-02-01\",\"2018-03-01\",\"2018-04-01\",\"2018-05-01\",\"2018-06-01\",\"2018-07-01\",\"2018-08-01\",\"2018-09-01\",\"2018-10-01\",\"2018-11-01\",\"2018-12-01\",\"2019-01-01\",\"2019-02-01\",\"2019-03-01\",\"2019-04-01\",\"2019-05-01\",\"2019-06-01\",\"2019-07-01\",\"2019-08-01\",\"2019-09-01\",\"2019-10-01\",\"2019-11-01\",\"2019-12-01\",\"2020-01-01\",\"2020-02-01\",\"2020-03-01\",\"2020-04-01\",\"2020-05-01\",\"2020-06-01\",\"2020-07-01\",\"2020-08-01\",\"2020-09-01\",\"2020-10-01\",\"2020-11-01\",\"2020-12-01\",\"2021-01-01\",\"2021-02-01\",\"2021-03-01\",\"2021-04-01\",\"2021-05-01\",\"2021-06-01\",\"2021-07-01\",\"2021-08-01\",\"2021-09-01\",\"2021-10-01\",\"2021-11-01\",\"2021-12-01\",\"2022-01-01\",\"2022-02-01\",\"2022-03-01\"],\"y\":[6.57783,6.46304,6.23421,6.12575,5.93626,5.82223,5.71837,5.63875,5.64759,5.65074,5.57687,5.46252,5.39857,5.35436,5.37036,5.37918,5.4305,5.46779,5.4982,5.53396,5.54923,5.56593,5.5701,5.58569,5.60273,5.57381,5.66769,5.58245,5.60525,5.70445,5.74878,5.76701,5.75827,5.93202,6.09555,6.56705,6.50451,6.76595,7.00545,7.33322,7.53237,7.70221,7.93364,8.34516,8.5996,8.89514,9.21828,9.44439,9.7702,10.089,10.34585,10.64594,10.92631,11.13565,11.36412,11.58288,11.8603,12.20513,12.53487,12.85562,13.22861,13.52428,13.92124,14.26407,14.50028,14.77527,15.04157,15.2297,15.51514,15.57962,15.60337,15.80323,15.9017,16.00926,16.09298,16.4132,16.6381,16.86093,17.0611,17.35549,17.69516,18.02132,18.43599,18.77221,19.05087,19.37163,19.73483,20.14838,20.62168,21.11884,22.08629,22.72826,23.17157,23.24215,23.25856,23.22916,23.7976,24.10942,24.28096,24.07615,23.99488,23.84103,23.70657,23.94011,24.09829,24.28801,24.63974,24.62795,24.80192,25.15192,25.19558,25.54805,26.14647,26.76243,27.21019,27.46878,27.86982,28.49656,29.04911,29.68558,30.47945,30.88661,31.63933,32.11735,32.43182,32.50158,32.7923,33.06061,33.25574,33.48228,33.55831,33.69692,34.0649,33.70135,33.50766,33.7065,33.7048,33.81539,34.0572,34.00956,34.13728,34.36337,34.60856,35.02827,35.37251,35.92541,36.53032,37.23521,37.73678,38.53667,39.02943,39.73277,40.39419,40.83366,41.36682,41.86903,42.12013,42.56107,43.20525,43.38397,43.79961,44.05363,44.17342,44.49886,44.77898,44.93415,45.40079,45.44824,45.7005,46.04224,46.2453,46.51742,46.83804,47.00029,47.36847,47.64621,47.74148,47.879,47.95967,48.07827,48.29247,48.09752,47.77344,47.6625,47.61828,47.50736,47.55228,47.59298,47.71292,47.82317,47.98748,48.39435,48.96116,49.51371,50.00773,50.46343,51.00724,51.67544,52.35685,53.03853,53.68375,54.36595,54.79481,56.01068,56.01558,56.36463,56.86288,57.7114,57.95103,58.38706,58.74671,58.94715,59.36465,59.62899,59.87401,60.02531,60.67185,60.31013,60.45546,60.07587,60.17969,60.33475,60.39598,60.61948,60.88309,61.15822,61.74829,62.24853,62.2828,62.64035,63.12857,63.86691,64.60104,65.13742,65.51218,66.05512,66.43833,67.02888,67.6421,68.12672,68.65646,69.37675,70.07341,70.80161,71.33514,71.87559,72.71645,73.57616,74.16977,75.11295,75.60692,76.58145,77.46136,78.33623,79.24041,79.90816,80.83452,81.42818,82.2945,82.97305,83.92197,84.53018,84.94403,85.95957,87.18259,88.15204,88.91607,90.04741,90.88588,91.83009,92.69463,93.2871,94.12648,94.80453,95.40527,95.95472,97.03072,97.75836,98.44639,98.80509,99.30544,99.78867,100.06144,100.5867,100.67245,100.95307,101.43735,101.78822,102.19855,102.36259,102.73216,102.88594,103.1514,103.74104,104.09425,104.67752,105.17229,105.44072,106.29661,106.84264,106.7724,107.92842,108.68905,109.59758,110.37701,111.06785,112.1237,112.84495,113.75424,115.22826,116.19605,117.39909,118.22598,119.44904,120.43148,121.52369,122.56481,123.38066,124.00398,124.60868,125.31914,126.01972,126.56923,127.15618,127.80299,128.19115,128.28,128.37472,128.53404,129.18543,129.85691,130.1846,130.85083,131.11307,130.80743,131.55155,134.16406,134.93292,135.73629,136.99253,137.84093,138.76893,139.90802,141.25209,142.76657,143.92676,145.63484,146.93018,147.66048,148.92454,150.77106,152.32195,154.19949,156.15301,157.27992,158.93936,160.55329,162.22503,164.10159,166.1891,169.29467,171.60183,173.90894,175.76268,178.12795,180.42927,182.3182,184.32651,185.34551,187.47609,189.3088,190.08631,191.31247,192.51536,193.35799,194.60355,195.8699,196.8878,198.29354,199.3168,199.61712,199.53477,199.25468,198.91784,199.0636,199.50775,199.10994,198.74286,198.73721,196.04336,197.57936,198.21159,199.42896,200.43428,201.49288,204.002,205.52079,206.70929,208.33857,210.50006,211.40742,213.2401,215.2727,216.50986,218.70878,220.8671,222.80491,225.72159,225.73315,228.52821,232.34827,235.59405,239.01809,242.40858,245.48106,248.47453,251.2618,255.41564,258.77291,260.5627,262.76532,265.73802,270.26281,274.13698,279.25657,285.10077,288.80554,292.81311,296.17942,298.81249,302.7302,306.10039,309.90309,313.52378,317.20074,320.94487,325.17739,328.17274,331.98999,335.78546,339.44975,343.2513,346.38941,348.58911,350.4757,353.05623,353.04211,351.28721,348.64454,346.69696,347.07137,347.54601,348.16314,349.59772,350.00449,351.92005,353.02932,354.74499,357.12713,359.13287,361.2328,362.74346,364.67773,365.15446,369.59574,370.45671,371.75991,371.30144,375.16736,376.37707,376.88541,378.63428,380.4388,381.98562,382.4471,382.86264,384.35525,384.96719,386.76665,389.84874,391.82773,392.36096,395.58305,398.42671,399.95372,404.8326,409.47521,413.99357,417.82094,423.773,429.97738,437.06886,441.99113,451.90703,456.55016,462.14122,472.44428,480.99454,487.1488,494.11763,498.4964,504.65866,510.15408,517.27898,523.97936,532.44843,541.75718,549.34871,555.84205,561.2066,567.653,573.29931,582.14837,588.30745,594.47775,599.71123,605.70302,610.67829,613.37662,619.65773,625.81996,630.05583,635.15095,638.90439,646.02316,653.78729,653.7673,654.75024,653.26748,652.5323,651.19767,656.40142,658.47003,662.8975,667.65979,672.22514,676.21116,681.18446,684.71004,686.31877,692.27095,696.38729,700.7012,705.86805,710.04585,713.18919,716.11302,721.53558,722.94769,726.10533,729.66007,731.91776,749.02308,752.893,760.01834,764.71245,769.2757,773.22711,776.26008,778.8765,781.82209,785.54565,790.29725,794.61218,797.71486,798.77319,798.74809,798.74701,799.75103,802.89274,806.8875,808.75857,810.43623,812.65511,813.66266,808.23057,806.6005,807.03043,808.35183,807.81895,807.83216,805.99466,804.02756,802.02192,800.88934,798.61698,798.27498,798.02897,798.98271,799.64038,799.44211,797.65814,797.6679,797.27631,798.06816,799.8238,800.1989,799.55599,802.69798,806.11869,809.32543,814.05892,813.65629,819.75694,819.75905,823.81181,829.51873,834.23553,840.60298,847.61663,856.52342,865.65058,872.02182,880.35286,891.33316,900.98953,912.8637,924.21602,931.13474,944.80317,957.3756,968.46871,981.42611,997.30174,1010.39504,1018.55911,1033.63209,1043.69517,1057.47083,1069.37791,1077.737,1089.60205,1106.61268,1113.52851,1132.16017,1140.74436,1153.2703,1163.09378,1171.68426,1180.9031,1191.11369,1200.95002,1211.89736,1220.503,1225.27176,1231.3361,1242.42191,1253.43709,1258.36528,1261.85081,1264.14634,1274.08738,1278.67842,1282.85852,1288.78203,1294.21924,1301.63497,1309.38939,1312.45718,1324.75733,1320.04402,1324.34272,1332.90344,1360.45629,1363.08086,1373.94233,1380.72085,1386.66645,1397.28973,1405.39666,1408.44269,1420.99644,1431.23693,1441.31459,1450.87882,1457.67057,1468.14661,1479.31532,1492.3776,1503.22661,1511.05926,1517.28183,1525.33442,1531.10596,1538.52018,1549.18529,1561.45069,1570.52774,1583.50792,1609.54804,1629.75144,1651.6154,1669.00081,1684.59932,1700.94454,1716.96972,1729.85168,1748.70202,1760.54184,1773.09833,1781.17746,1792.36809,1797.35057,1806.35904,1814.25238,1829.84026,1857.84279,1867.85287,1867.41869,1881.90537,1894.69033,1903.95799,1914.61399,1927.18098,1939.2114,1947.50009,1950.65139,1957.1513,1965.17913,1972.11221,1982.56131,1993.40569,2001.20815,2014.09978,2027.50251,2033.26841,2040.06439,2049.12434,2057.09079,2065.4951,2066.40009,2077.36069,2088.24304,2095.34036,2109.72032,2112.71615,2120.83915,2127.98941,2137.09298,2143.43512,2160.1483,2176.71934,2183.74635,2192.24617,2196.77763,2211.55871,2220.19919,2232.53538,2232.67152,2247.83343,2257.23094,2267.04488,2271.63328,2276.84314,2283.66127,2290.92813,2367.47108,2374.97732,2385.80789,2397.6806,2407.16145,2395.81318,2403.09925,2415.73203,2426.81323,2429.39986,2440.74907,2456.7157,2457.94558,2470.04992,2484.43318,2493.72977,2510.01606,2519.12104,2533.66767,2552.76707,2566.99536,2582.32603,2597.6493,2609.47653,2619.42765,2634.49642,2645.60364,2654.24323,2660.19315,2662.40952,2665.32126,2662.23778,2657.38913,2660.7295,2651.48139,2643.78896,2647.02886,2638.53274,2622.82785,2615.97301,2610.01078,2591.47541,2590.85498,2582.12601,2576.59439,2563.42273,2551.56929,2555.01664,2543.50802,2530.02428,2536.55195,2532.76479,2521.68794,2518.41641,2521.1048,2520.42213,2522.09423,2530.106,2531.23226,2646.81126,2657.3601,2663.77992,2672.03136,2679.97392,2683.971,2693.0883,2717.49471,2709.1147,2720.06046,2727.95336,2746.76076,2756.22486,2769.93098,2777.80358,2791.56594,2802.54618,2818.39729,2829.85078,2840.09463,2857.10779,2865.78973,2881.76267,2903.31606,2912.90502,2930.70325,2950.55705,2961.00546,2972.09059,2986.93636,3000.13761,3015.14301,3029.98525,3045.91769,3062.67334,3076.9589,3090.46778,3110.22039,3127.59853,3145.2723,3169.33472,3187.75716,3205.13244,3227.40499,3243.46835,3259.48813,3269.65745,3283.68655,3309.53985,3316.71672,3332.9446,3357.4702,3379.35387,3396.24822,3420.42657,3439.28145,3453.86482,3481.2455,3497.67601,3512.73828,3400.22322,3418.76263,3436.24154,3464.86358,3484.75416,3502.63631,3520.78974,3539.34564,3561.04875,3581.72467,3597.62748,3619.27278,3636.43566,3653.34721,3669.97675,3685.36911,3700.00266,3714.14277,3727.13111,3743.42625,3755.18326,3770.17252,3794.37975,3816.53782,3830.7516,3848.40498,3864.42182,3876.81378,3885.88106,3902.72837,3901.81229,3924.34812,3943.09734,3955.67622,3974.99595,3992.03819,4007.04192,4027.30516,4040.91476,4053.38213,4072.88953,4085.97845,4094.05554,4117.32358,4131.68886,4144.27761,4162.38074,4164.56602,4192.19141,4208.14529,4220.87962,4208.19841,4146.96379,4127.30503,4137.15766,4152.1851,4146.75756,4161.81818,4166.67937,4172.50029,4184.92179,4193.3259,4212.34656,4228.57478,4247.53476,4274.43942,4297.81691,4313.84352,4332.10115,4355.8509,4376.99098,4408.96983,4431.91715,4448.88285,4486.57969,4539.01445],\"type\":\"scatter\"}],                        {\"template\":{\"data\":{\"barpolar\":[{\"marker\":{\"line\":{\"color\":\"#E5ECF6\",\"width\":0.5},\"pattern\":{\"fillmode\":\"overlay\",\"size\":10,\"solidity\":0.2}},\"type\":\"barpolar\"}],\"bar\":[{\"error_x\":{\"color\":\"#2a3f5f\"},\"error_y\":{\"color\":\"#2a3f5f\"},\"marker\":{\"line\":{\"color\":\"#E5ECF6\",\"width\":0.5},\"pattern\":{\"fillmode\":\"overlay\",\"size\":10,\"solidity\":0.2}},\"type\":\"bar\"}],\"carpet\":[{\"aaxis\":{\"endlinecolor\":\"#2a3f5f\",\"gridcolor\":\"white\",\"linecolor\":\"white\",\"minorgridcolor\":\"white\",\"startlinecolor\":\"#2a3f5f\"},\"baxis\":{\"endlinecolor\":\"#2a3f5f\",\"gridcolor\":\"white\",\"linecolor\":\"white\",\"minorgridcolor\":\"white\",\"startlinecolor\":\"#2a3f5f\"},\"type\":\"carpet\"}],\"choropleth\":[{\"colorbar\":{\"outlinewidth\":0,\"ticks\":\"\"},\"type\":\"choropleth\"}],\"contourcarpet\":[{\"colorbar\":{\"outlinewidth\":0,\"ticks\":\"\"},\"type\":\"contourcarpet\"}],\"contour\":[{\"colorbar\":{\"outlinewidth\":0,\"ticks\":\"\"},\"colorscale\":[[0.0,\"#0d0887\"],[0.1111111111111111,\"#46039f\"],[0.2222222222222222,\"#7201a8\"],[0.3333333333333333,\"#9c179e\"],[0.4444444444444444,\"#bd3786\"],[0.5555555555555556,\"#d8576b\"],[0.6666666666666666,\"#ed7953\"],[0.7777777777777778,\"#fb9f3a\"],[0.8888888888888888,\"#fdca26\"],[1.0,\"#f0f921\"]],\"type\":\"contour\"}],\"heatmapgl\":[{\"colorbar\":{\"outlinewidth\":0,\"ticks\":\"\"},\"colorscale\":[[0.0,\"#0d0887\"],[0.1111111111111111,\"#46039f\"],[0.2222222222222222,\"#7201a8\"],[0.3333333333333333,\"#9c179e\"],[0.4444444444444444,\"#bd3786\"],[0.5555555555555556,\"#d8576b\"],[0.6666666666666666,\"#ed7953\"],[0.7777777777777778,\"#fb9f3a\"],[0.8888888888888888,\"#fdca26\"],[1.0,\"#f0f921\"]],\"type\":\"heatmapgl\"}],\"heatmap\":[{\"colorbar\":{\"outlinewidth\":0,\"ticks\":\"\"},\"colorscale\":[[0.0,\"#0d0887\"],[0.1111111111111111,\"#46039f\"],[0.2222222222222222,\"#7201a8\"],[0.3333333333333333,\"#9c179e\"],[0.4444444444444444,\"#bd3786\"],[0.5555555555555556,\"#d8576b\"],[0.6666666666666666,\"#ed7953\"],[0.7777777777777778,\"#fb9f3a\"],[0.8888888888888888,\"#fdca26\"],[1.0,\"#f0f921\"]],\"type\":\"heatmap\"}],\"histogram2dcontour\":[{\"colorbar\":{\"outlinewidth\":0,\"ticks\":\"\"},\"colorscale\":[[0.0,\"#0d0887\"],[0.1111111111111111,\"#46039f\"],[0.2222222222222222,\"#7201a8\"],[0.3333333333333333,\"#9c179e\"],[0.4444444444444444,\"#bd3786\"],[0.5555555555555556,\"#d8576b\"],[0.6666666666666666,\"#ed7953\"],[0.7777777777777778,\"#fb9f3a\"],[0.8888888888888888,\"#fdca26\"],[1.0,\"#f0f921\"]],\"type\":\"histogram2dcontour\"}],\"histogram2d\":[{\"colorbar\":{\"outlinewidth\":0,\"ticks\":\"\"},\"colorscale\":[[0.0,\"#0d0887\"],[0.1111111111111111,\"#46039f\"],[0.2222222222222222,\"#7201a8\"],[0.3333333333333333,\"#9c179e\"],[0.4444444444444444,\"#bd3786\"],[0.5555555555555556,\"#d8576b\"],[0.6666666666666666,\"#ed7953\"],[0.7777777777777778,\"#fb9f3a\"],[0.8888888888888888,\"#fdca26\"],[1.0,\"#f0f921\"]],\"type\":\"histogram2d\"}],\"histogram\":[{\"marker\":{\"pattern\":{\"fillmode\":\"overlay\",\"size\":10,\"solidity\":0.2}},\"type\":\"histogram\"}],\"mesh3d\":[{\"colorbar\":{\"outlinewidth\":0,\"ticks\":\"\"},\"type\":\"mesh3d\"}],\"parcoords\":[{\"line\":{\"colorbar\":{\"outlinewidth\":0,\"ticks\":\"\"}},\"type\":\"parcoords\"}],\"pie\":[{\"automargin\":true,\"type\":\"pie\"}],\"scatter3d\":[{\"line\":{\"colorbar\":{\"outlinewidth\":0,\"ticks\":\"\"}},\"marker\":{\"colorbar\":{\"outlinewidth\":0,\"ticks\":\"\"}},\"type\":\"scatter3d\"}],\"scattercarpet\":[{\"marker\":{\"colorbar\":{\"outlinewidth\":0,\"ticks\":\"\"}},\"type\":\"scattercarpet\"}],\"scattergeo\":[{\"marker\":{\"colorbar\":{\"outlinewidth\":0,\"ticks\":\"\"}},\"type\":\"scattergeo\"}],\"scattergl\":[{\"marker\":{\"colorbar\":{\"outlinewidth\":0,\"ticks\":\"\"}},\"type\":\"scattergl\"}],\"scattermapbox\":[{\"marker\":{\"colorbar\":{\"outlinewidth\":0,\"ticks\":\"\"}},\"type\":\"scattermapbox\"}],\"scatterpolargl\":[{\"marker\":{\"colorbar\":{\"outlinewidth\":0,\"ticks\":\"\"}},\"type\":\"scatterpolargl\"}],\"scatterpolar\":[{\"marker\":{\"colorbar\":{\"outlinewidth\":0,\"ticks\":\"\"}},\"type\":\"scatterpolar\"}],\"scatter\":[{\"fillpattern\":{\"fillmode\":\"overlay\",\"size\":10,\"solidity\":0.2},\"type\":\"scatter\"}],\"scatterternary\":[{\"marker\":{\"colorbar\":{\"outlinewidth\":0,\"ticks\":\"\"}},\"type\":\"scatterternary\"}],\"surface\":[{\"colorbar\":{\"outlinewidth\":0,\"ticks\":\"\"},\"colorscale\":[[0.0,\"#0d0887\"],[0.1111111111111111,\"#46039f\"],[0.2222222222222222,\"#7201a8\"],[0.3333333333333333,\"#9c179e\"],[0.4444444444444444,\"#bd3786\"],[0.5555555555555556,\"#d8576b\"],[0.6666666666666666,\"#ed7953\"],[0.7777777777777778,\"#fb9f3a\"],[0.8888888888888888,\"#fdca26\"],[1.0,\"#f0f921\"]],\"type\":\"surface\"}],\"table\":[{\"cells\":{\"fill\":{\"color\":\"#EBF0F8\"},\"line\":{\"color\":\"white\"}},\"header\":{\"fill\":{\"color\":\"#C8D4E3\"},\"line\":{\"color\":\"white\"}},\"type\":\"table\"}]},\"layout\":{\"annotationdefaults\":{\"arrowcolor\":\"#2a3f5f\",\"arrowhead\":0,\"arrowwidth\":1},\"autotypenumbers\":\"strict\",\"coloraxis\":{\"colorbar\":{\"outlinewidth\":0,\"ticks\":\"\"}},\"colorscale\":{\"diverging\":[[0,\"#8e0152\"],[0.1,\"#c51b7d\"],[0.2,\"#de77ae\"],[0.3,\"#f1b6da\"],[0.4,\"#fde0ef\"],[0.5,\"#f7f7f7\"],[0.6,\"#e6f5d0\"],[0.7,\"#b8e186\"],[0.8,\"#7fbc41\"],[0.9,\"#4d9221\"],[1,\"#276419\"]],\"sequential\":[[0.0,\"#0d0887\"],[0.1111111111111111,\"#46039f\"],[0.2222222222222222,\"#7201a8\"],[0.3333333333333333,\"#9c179e\"],[0.4444444444444444,\"#bd3786\"],[0.5555555555555556,\"#d8576b\"],[0.6666666666666666,\"#ed7953\"],[0.7777777777777778,\"#fb9f3a\"],[0.8888888888888888,\"#fdca26\"],[1.0,\"#f0f921\"]],\"sequentialminus\":[[0.0,\"#0d0887\"],[0.1111111111111111,\"#46039f\"],[0.2222222222222222,\"#7201a8\"],[0.3333333333333333,\"#9c179e\"],[0.4444444444444444,\"#bd3786\"],[0.5555555555555556,\"#d8576b\"],[0.6666666666666666,\"#ed7953\"],[0.7777777777777778,\"#fb9f3a\"],[0.8888888888888888,\"#fdca26\"],[1.0,\"#f0f921\"]]},\"colorway\":[\"#636efa\",\"#EF553B\",\"#00cc96\",\"#ab63fa\",\"#FFA15A\",\"#19d3f3\",\"#FF6692\",\"#B6E880\",\"#FF97FF\",\"#FECB52\"],\"font\":{\"color\":\"#2a3f5f\"},\"geo\":{\"bgcolor\":\"white\",\"lakecolor\":\"white\",\"landcolor\":\"#E5ECF6\",\"showlakes\":true,\"showland\":true,\"subunitcolor\":\"white\"},\"hoverlabel\":{\"align\":\"left\"},\"hovermode\":\"closest\",\"mapbox\":{\"style\":\"light\"},\"paper_bgcolor\":\"white\",\"plot_bgcolor\":\"#E5ECF6\",\"polar\":{\"angularaxis\":{\"gridcolor\":\"white\",\"linecolor\":\"white\",\"ticks\":\"\"},\"bgcolor\":\"#E5ECF6\",\"radialaxis\":{\"gridcolor\":\"white\",\"linecolor\":\"white\",\"ticks\":\"\"}},\"scene\":{\"xaxis\":{\"backgroundcolor\":\"#E5ECF6\",\"gridcolor\":\"white\",\"gridwidth\":2,\"linecolor\":\"white\",\"showbackground\":true,\"ticks\":\"\",\"zerolinecolor\":\"white\"},\"yaxis\":{\"backgroundcolor\":\"#E5ECF6\",\"gridcolor\":\"white\",\"gridwidth\":2,\"linecolor\":\"white\",\"showbackground\":true,\"ticks\":\"\",\"zerolinecolor\":\"white\"},\"zaxis\":{\"backgroundcolor\":\"#E5ECF6\",\"gridcolor\":\"white\",\"gridwidth\":2,\"linecolor\":\"white\",\"showbackground\":true,\"ticks\":\"\",\"zerolinecolor\":\"white\"}},\"shapedefaults\":{\"line\":{\"color\":\"#2a3f5f\"}},\"ternary\":{\"aaxis\":{\"gridcolor\":\"white\",\"linecolor\":\"white\",\"ticks\":\"\"},\"baxis\":{\"gridcolor\":\"white\",\"linecolor\":\"white\",\"ticks\":\"\"},\"bgcolor\":\"#E5ECF6\",\"caxis\":{\"gridcolor\":\"white\",\"linecolor\":\"white\",\"ticks\":\"\"}},\"title\":{\"x\":0.05},\"xaxis\":{\"automargin\":true,\"gridcolor\":\"white\",\"linecolor\":\"white\",\"ticks\":\"\",\"title\":{\"standoff\":15},\"zerolinecolor\":\"white\",\"zerolinewidth\":2},\"yaxis\":{\"automargin\":true,\"gridcolor\":\"white\",\"linecolor\":\"white\",\"ticks\":\"\",\"title\":{\"standoff\":15},\"zerolinecolor\":\"white\",\"zerolinewidth\":2}}},\"title\":{\"text\":\"Consumer Debt ($), 1943 - 2022 (not adjusted for inflation, via Fed Reserve)\"}},                        {\"responsive\": true}                    ).then(function(){\n",
       "                            \n",
       "var gd = document.getElementById('3a53b647-46be-4932-b493-50f74d854ebd');\n",
       "var x = new MutationObserver(function (mutations, observer) {{\n",
       "        var display = window.getComputedStyle(gd).display;\n",
       "        if (!display || display === 'none') {{\n",
       "            console.log([gd, 'removed!']);\n",
       "            Plotly.purge(gd);\n",
       "            observer.disconnect();\n",
       "        }}\n",
       "}});\n",
       "\n",
       "// Listen for the removal of the full notebook cells\n",
       "var notebookContainer = gd.closest('#notebook-container');\n",
       "if (notebookContainer) {{\n",
       "    x.observe(notebookContainer, {childList: true});\n",
       "}}\n",
       "\n",
       "// Listen for the clearing of the current output cell\n",
       "var outputEl = gd.closest('.output');\n",
       "if (outputEl) {{\n",
       "    x.observe(outputEl, {childList: true});\n",
       "}}\n",
       "\n",
       "                        })                };                });            </script>        </div>"
      ]
     },
     "metadata": {},
     "output_type": "display_data"
    },
    {
     "name": "stdout",
     "output_type": "stream",
     "text": [
      "done\n"
     ]
    }
   ],
   "source": [
    "debt_plot = plot_traces(debt, 'debt', 'Consumer Debt ($), 1943 - 2022 (not adjusted for inflation, via Fed Reserve)')"
   ]
  },
  {
   "cell_type": "markdown",
   "metadata": {},
   "source": [
    "> <br>\n",
    ">\n",
    "> 5. Manipulating 'POPULATION' file: \n",
    "> \n",
    "> <br>"
   ]
  }
 ],
 "metadata": {
  "interpreter": {
   "hash": "81f1dbfc92a047ffeff9f895a5dd14eda2a7b66728c7461a2bd50ee55648b736"
  },
  "kernelspec": {
   "display_name": "Python 3.8.9 64-bit",
   "language": "python",
   "name": "python3"
  },
  "language_info": {
   "codemirror_mode": {
    "name": "ipython",
    "version": 3
   },
   "file_extension": ".py",
   "mimetype": "text/x-python",
   "name": "python",
   "nbconvert_exporter": "python",
   "pygments_lexer": "ipython3",
   "version": "3.8.9"
  },
  "orig_nbformat": 4
 },
 "nbformat": 4,
 "nbformat_minor": 2
}
