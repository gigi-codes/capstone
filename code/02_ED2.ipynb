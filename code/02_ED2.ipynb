{
 "cells": [
  {
   "cell_type": "markdown",
   "metadata": {},
   "source": [
    "# 2.2 | Daily BART EDA\n",
    "---\n",
    "* [01 API Data Requests](01_API_pulls.ipynb)\n",
    "* [01.1 Additional BART Data](01_v2_bart.ipynb.ipynb)\n",
    "* [02 Initial EDA](02_EDA.ipynb)\n",
    "* _[02.2 EDA for Daily Ridership](02_EDA.ipynb)_\n",
    "* [03 First Model: Prophet](03_prophet.ipynb)\n",
    "---"
   ]
  },
  {
   "cell_type": "markdown",
   "metadata": {},
   "source": [
    "# PLOTLY NOTES \n",
    "* reinstall `ipywidgets` if needed\n",
    "* confirm plotly is working ( via [Facebook Prophet Issue # 1753 on GitHub](https://github.com/facebook/prophet/issues/1753) )\n",
    "```python\n",
    "\n",
    "import plotly.offline as py\n",
    "import plotly.graph_objs as go\n",
    "\n",
    "py.init_notebook_mode()\n",
    "\n",
    "trace0 = go.Scatter(\n",
    "  x=[1, 2, 3, 4],\n",
    "  y=[10, 15, 13, 17]\n",
    ")\n",
    "data = go.Data([trace0])\n",
    "\n",
    "py.iplot(data)\n",
    "\n",
    "```\n"
   ]
  },
  {
   "cell_type": "code",
   "execution_count": null,
   "metadata": {},
   "outputs": [],
   "source": [
    "##### BASIC IMPORTS \n",
    "import numpy as np\n",
    "import pandas as pd\n",
    "import matplotlib.pyplot as plt\n",
    "import plotly\n",
    "import plotly.offline as py\n",
    "import plotly.graph_objs as go\n",
    "import plotly.express as px\n",
    "import plotly.io as pio"
   ]
  },
  {
   "cell_type": "code",
   "execution_count": null,
   "metadata": {},
   "outputs": [],
   "source": [
    "pio.templates.default = \"plotly_dark\""
   ]
  },
  {
   "cell_type": "code",
   "execution_count": null,
   "metadata": {},
   "outputs": [],
   "source": [
    "# import plotly.offline as py\n",
    "# import plotly.graph_objs as go\n",
    "\n",
    "# from plotly.offline import init_notebook_mode, iplot\n",
    "# init_notebook_mode(connected=True)  # for plots to render in jupyter notebook\n",
    "\n",
    "# py.init_notebook_mode()\n",
    "# py.iplot(data)"
   ]
  },
  {
   "cell_type": "code",
   "execution_count": 4,
   "metadata": {},
   "outputs": [],
   "source": [
    "# CUSTOM IMPORTS AND SETTINGS \n",
    "pd.options.display.max_columns = 90                     # view settings\n",
    "pd.options.display.max_rows = 100\n",
    "\n",
    "path = '../data/processed/'"
   ]
  },
  {
   "cell_type": "code",
   "execution_count": 8,
   "metadata": {},
   "outputs": [],
   "source": [
    "# function to covert to datetimeinedex \n",
    "def date_index(df): \n",
    "    df['date'] = pd.to_datetime(df['d'])\n",
    "    df = df.set_index('date')\n",
    "    df.rename(columns = {'ridership' : 'y'}, inplace = True)\n",
    "    \n",
    "    # bart.index = bart['date']\n",
    "    # bart.sort_index(inplace=True)\n",
    "\n",
    "    return(df)"
   ]
  },
  {
   "cell_type": "code",
   "execution_count": 9,
   "metadata": {},
   "outputs": [],
   "source": [
    "# function to output HTML to embed in wordpress\n",
    "def plot_out(filename, figname):\n",
    "    import plotly as plt\n",
    "    out_text = plt.offline.plot(figname, include_plotlyjs=False, output_type='div');\n",
    "\n",
    "    with open(filename, 'w', encoding='utf-8') as f:\n",
    "        f.write(out_text)"
   ]
  },
  {
   "cell_type": "code",
   "execution_count": 12,
   "metadata": {},
   "outputs": [
    {
     "data": {
      "text/html": [
       "<div>\n",
       "<style scoped>\n",
       "    .dataframe tbody tr th:only-of-type {\n",
       "        vertical-align: middle;\n",
       "    }\n",
       "\n",
       "    .dataframe tbody tr th {\n",
       "        vertical-align: top;\n",
       "    }\n",
       "\n",
       "    .dataframe thead th {\n",
       "        text-align: right;\n",
       "    }\n",
       "</style>\n",
       "<table border=\"1\" class=\"dataframe\">\n",
       "  <thead>\n",
       "    <tr style=\"text-align: right;\">\n",
       "      <th></th>\n",
       "      <th>ridership</th>\n",
       "      <th>ds</th>\n",
       "    </tr>\n",
       "  </thead>\n",
       "  <tbody>\n",
       "    <tr>\n",
       "      <th>0</th>\n",
       "      <td>124162.0</td>\n",
       "      <td>2011-01-01</td>\n",
       "    </tr>\n",
       "    <tr>\n",
       "      <th>1</th>\n",
       "      <td>93666.0</td>\n",
       "      <td>2011-01-02</td>\n",
       "    </tr>\n",
       "    <tr>\n",
       "      <th>2</th>\n",
       "      <td>285891.0</td>\n",
       "      <td>2011-01-03</td>\n",
       "    </tr>\n",
       "    <tr>\n",
       "      <th>3</th>\n",
       "      <td>322306.0</td>\n",
       "      <td>2011-01-04</td>\n",
       "    </tr>\n",
       "    <tr>\n",
       "      <th>4</th>\n",
       "      <td>327006.0</td>\n",
       "      <td>2011-01-05</td>\n",
       "    </tr>\n",
       "  </tbody>\n",
       "</table>\n",
       "</div>"
      ],
      "text/plain": [
       "   ridership          ds\n",
       "0   124162.0  2011-01-01\n",
       "1    93666.0  2011-01-02\n",
       "2   285891.0  2011-01-03\n",
       "3   322306.0  2011-01-04\n",
       "4   327006.0  2011-01-05"
      ]
     },
     "execution_count": 12,
     "metadata": {},
     "output_type": "execute_result"
    }
   ],
   "source": [
    "bart.head()"
   ]
  },
  {
   "cell_type": "code",
   "execution_count": 10,
   "metadata": {},
   "outputs": [
    {
     "ename": "KeyError",
     "evalue": "'d'",
     "output_type": "error",
     "traceback": [
      "\u001b[0;31m---------------------------------------------------------------------------\u001b[0m",
      "\u001b[0;31mKeyError\u001b[0m                                  Traceback (most recent call last)",
      "File \u001b[0;32m~/my_git/05_capstone/newenv/lib/python3.8/site-packages/pandas/core/indexes/base.py:3081\u001b[0m, in \u001b[0;36mIndex.get_loc\u001b[0;34m(self, key, method, tolerance)\u001b[0m\n\u001b[1;32m   3080\u001b[0m \u001b[39mtry\u001b[39;00m:\n\u001b[0;32m-> 3081\u001b[0m     \u001b[39mreturn\u001b[39;00m \u001b[39mself\u001b[39;49m\u001b[39m.\u001b[39;49m_engine\u001b[39m.\u001b[39;49mget_loc(casted_key)\n\u001b[1;32m   3082\u001b[0m \u001b[39mexcept\u001b[39;00m \u001b[39mKeyError\u001b[39;00m \u001b[39mas\u001b[39;00m err:\n",
      "File \u001b[0;32mpandas/_libs/index.pyx:70\u001b[0m, in \u001b[0;36mpandas._libs.index.IndexEngine.get_loc\u001b[0;34m()\u001b[0m\n",
      "File \u001b[0;32mpandas/_libs/index.pyx:101\u001b[0m, in \u001b[0;36mpandas._libs.index.IndexEngine.get_loc\u001b[0;34m()\u001b[0m\n",
      "File \u001b[0;32mpandas/_libs/hashtable_class_helper.pxi:4554\u001b[0m, in \u001b[0;36mpandas._libs.hashtable.PyObjectHashTable.get_item\u001b[0;34m()\u001b[0m\n",
      "File \u001b[0;32mpandas/_libs/hashtable_class_helper.pxi:4562\u001b[0m, in \u001b[0;36mpandas._libs.hashtable.PyObjectHashTable.get_item\u001b[0;34m()\u001b[0m\n",
      "\u001b[0;31mKeyError\u001b[0m: 'd'",
      "\nThe above exception was the direct cause of the following exception:\n",
      "\u001b[0;31mKeyError\u001b[0m                                  Traceback (most recent call last)",
      "\u001b[1;32m/Users/gx/my_git/05_capstone/code/02_ED2.ipynb Cell 9\u001b[0m in \u001b[0;36m<cell line: 4>\u001b[0;34m()\u001b[0m\n\u001b[1;32m      <a href='vscode-notebook-cell:/Users/gx/my_git/05_capstone/code/02_ED2.ipynb#ch0000008?line=1'>2</a>\u001b[0m filename \u001b[39m=\u001b[39m path \u001b[39m+\u001b[39m \u001b[39m'\u001b[39m\u001b[39mbart_daily.csv\u001b[39m\u001b[39m'\u001b[39m\n\u001b[1;32m      <a href='vscode-notebook-cell:/Users/gx/my_git/05_capstone/code/02_ED2.ipynb#ch0000008?line=2'>3</a>\u001b[0m bart \u001b[39m=\u001b[39m pd\u001b[39m.\u001b[39mread_csv(filename)\n\u001b[0;32m----> <a href='vscode-notebook-cell:/Users/gx/my_git/05_capstone/code/02_ED2.ipynb#ch0000008?line=3'>4</a>\u001b[0m bart \u001b[39m=\u001b[39m date_index(bart)\n\u001b[1;32m      <a href='vscode-notebook-cell:/Users/gx/my_git/05_capstone/code/02_ED2.ipynb#ch0000008?line=4'>5</a>\u001b[0m split_date \u001b[39m=\u001b[39m \u001b[39m'\u001b[39m\u001b[39m2020-03-20\u001b[39m\u001b[39m'\u001b[39m\n",
      "\u001b[1;32m/Users/gx/my_git/05_capstone/code/02_ED2.ipynb Cell 9\u001b[0m in \u001b[0;36mdate_index\u001b[0;34m(df)\u001b[0m\n\u001b[1;32m      <a href='vscode-notebook-cell:/Users/gx/my_git/05_capstone/code/02_ED2.ipynb#ch0000008?line=1'>2</a>\u001b[0m \u001b[39mdef\u001b[39;00m \u001b[39mdate_index\u001b[39m(df): \n\u001b[0;32m----> <a href='vscode-notebook-cell:/Users/gx/my_git/05_capstone/code/02_ED2.ipynb#ch0000008?line=2'>3</a>\u001b[0m     df[\u001b[39m'\u001b[39m\u001b[39mdate\u001b[39m\u001b[39m'\u001b[39m] \u001b[39m=\u001b[39m pd\u001b[39m.\u001b[39mto_datetime(df[\u001b[39m'\u001b[39;49m\u001b[39md\u001b[39;49m\u001b[39m'\u001b[39;49m])\n\u001b[1;32m      <a href='vscode-notebook-cell:/Users/gx/my_git/05_capstone/code/02_ED2.ipynb#ch0000008?line=3'>4</a>\u001b[0m     df \u001b[39m=\u001b[39m df\u001b[39m.\u001b[39mset_index(\u001b[39m'\u001b[39m\u001b[39mdate\u001b[39m\u001b[39m'\u001b[39m)\n\u001b[1;32m      <a href='vscode-notebook-cell:/Users/gx/my_git/05_capstone/code/02_ED2.ipynb#ch0000008?line=4'>5</a>\u001b[0m     df\u001b[39m.\u001b[39mrename(columns \u001b[39m=\u001b[39m {\u001b[39m'\u001b[39m\u001b[39mridership\u001b[39m\u001b[39m'\u001b[39m : \u001b[39m'\u001b[39m\u001b[39my\u001b[39m\u001b[39m'\u001b[39m}, inplace \u001b[39m=\u001b[39m \u001b[39mTrue\u001b[39;00m)\n",
      "File \u001b[0;32m~/my_git/05_capstone/newenv/lib/python3.8/site-packages/pandas/core/frame.py:3024\u001b[0m, in \u001b[0;36mDataFrame.__getitem__\u001b[0;34m(self, key)\u001b[0m\n\u001b[1;32m   3022\u001b[0m \u001b[39mif\u001b[39;00m \u001b[39mself\u001b[39m\u001b[39m.\u001b[39mcolumns\u001b[39m.\u001b[39mnlevels \u001b[39m>\u001b[39m \u001b[39m1\u001b[39m:\n\u001b[1;32m   3023\u001b[0m     \u001b[39mreturn\u001b[39;00m \u001b[39mself\u001b[39m\u001b[39m.\u001b[39m_getitem_multilevel(key)\n\u001b[0;32m-> 3024\u001b[0m indexer \u001b[39m=\u001b[39m \u001b[39mself\u001b[39;49m\u001b[39m.\u001b[39;49mcolumns\u001b[39m.\u001b[39;49mget_loc(key)\n\u001b[1;32m   3025\u001b[0m \u001b[39mif\u001b[39;00m is_integer(indexer):\n\u001b[1;32m   3026\u001b[0m     indexer \u001b[39m=\u001b[39m [indexer]\n",
      "File \u001b[0;32m~/my_git/05_capstone/newenv/lib/python3.8/site-packages/pandas/core/indexes/base.py:3083\u001b[0m, in \u001b[0;36mIndex.get_loc\u001b[0;34m(self, key, method, tolerance)\u001b[0m\n\u001b[1;32m   3081\u001b[0m         \u001b[39mreturn\u001b[39;00m \u001b[39mself\u001b[39m\u001b[39m.\u001b[39m_engine\u001b[39m.\u001b[39mget_loc(casted_key)\n\u001b[1;32m   3082\u001b[0m     \u001b[39mexcept\u001b[39;00m \u001b[39mKeyError\u001b[39;00m \u001b[39mas\u001b[39;00m err:\n\u001b[0;32m-> 3083\u001b[0m         \u001b[39mraise\u001b[39;00m \u001b[39mKeyError\u001b[39;00m(key) \u001b[39mfrom\u001b[39;00m \u001b[39merr\u001b[39;00m\n\u001b[1;32m   3085\u001b[0m \u001b[39mif\u001b[39;00m tolerance \u001b[39mis\u001b[39;00m \u001b[39mnot\u001b[39;00m \u001b[39mNone\u001b[39;00m:\n\u001b[1;32m   3086\u001b[0m     tolerance \u001b[39m=\u001b[39m \u001b[39mself\u001b[39m\u001b[39m.\u001b[39m_convert_tolerance(tolerance, np\u001b[39m.\u001b[39masarray(key))\n",
      "\u001b[0;31mKeyError\u001b[0m: 'd'"
     ]
    }
   ],
   "source": [
    "# open file\n",
    "filename = path + 'bart_daily.csv'\n",
    "bart = pd.read_csv(filename)\n",
    "bart = date_index(bart)\n",
    "split_date = '2020-03-20'"
   ]
  },
  {
   "cell_type": "code",
   "execution_count": null,
   "metadata": {},
   "outputs": [],
   "source": [
    "# add columns: day name and COVID note\n",
    "bart['day'] = bart.index.day_name()\n",
    "bart['covid'] = 'Pre-COVID'\n",
    "bart['covid'][split_date:] = 'Post-03/20'"
   ]
  },
  {
   "cell_type": "code",
   "execution_count": null,
   "metadata": {},
   "outputs": [],
   "source": [
    "bart.head()"
   ]
  },
  {
   "cell_type": "code",
   "execution_count": null,
   "metadata": {},
   "outputs": [],
   "source": [
    "bart.info()"
   ]
  },
  {
   "cell_type": "code",
   "execution_count": null,
   "metadata": {},
   "outputs": [],
   "source": [
    "bart.describe()"
   ]
  },
  {
   "cell_type": "code",
   "execution_count": null,
   "metadata": {},
   "outputs": [],
   "source": [
    "df = bart\n",
    "\n",
    "fig = px.histogram(df, \n",
    "        x = 'day', \n",
    "        y = 'y', \n",
    "        color = 'covid',\n",
    "        # marginal='rug', # or violin, rug, box\n",
    "        histfunc = 'avg',\n",
    "        hover_data = df.columns, \n",
    "        labels = {\n",
    "                'y' : 'Number of Daily Exits', \n",
    "                'day': 'Day of Week' })\n",
    "fig.update_layout(\n",
    "        title={\n",
    "                'text': 'BART Daily Ridership by Day of Week, Pre-COVID and After',\n",
    "                'y': 0.9,\n",
    "                'x': 0.5,\n",
    "                'xanchor': 'center',\n",
    "                'yanchor': 'top'}, \n",
    "        legend = dict(\n",
    "                orientation = 'h', \n",
    "                title = None, \n",
    "                y = 1.),        # location of legend above chart or within\n",
    "        barmode = 'overlay', \n",
    "        ) \n",
    "fig.update_traces(opacity=0.80)\n",
    "fig.update_xaxes(categoryorder = 'total ascending')\n",
    "fig.show()\n",
    "\n",
    "fig.layout.images = [dict(\n",
    "        source='https://blog.giovannaguevara.net/wp-content/uploads/2020/02/siteLogo.png',\n",
    "        xref=\"paper\", yref=\"paper\",\n",
    "        x=0.1, y=1.05,\n",
    "        sizex=0.4, sizey=0.4,\n",
    "        xanchor=\"center\", yanchor=\"bottom\"\n",
    "      )]\n",
    "\n",
    "# output HTML for embed\n",
    "fname = 'avg_rid.txt'\n",
    "plot_out(fname, fig)"
   ]
  },
  {
   "cell_type": "code",
   "execution_count": null,
   "metadata": {},
   "outputs": [],
   "source": [
    "df = bart[:split_date]\n",
    "fig = px.violin (df, \n",
    "    y = 'y', \n",
    "    x = 'day',\n",
    "    labels = {\n",
    "        'y' : 'Number of Daily Exits, Avg', \n",
    "        'day': 'Day of Week'})\n",
    "fig.update_layout(\n",
    "    title={\n",
    "        'text': 'BART Daily Ridership by Day of Week, Jan 2011 - Feb 2022',\n",
    "        'y':0.9,\n",
    "        'x':0.5,\n",
    "        'xanchor': 'center',\n",
    "        'yanchor': 'top'})\n",
    "fig.update_xaxes(categoryorder = 'total ascending')\n",
    "fig.show()\n",
    "\n",
    "# output HTML for embed\n",
    "fname = 'violin_pre.txt'\n",
    "plot_out(fname, fig)"
   ]
  },
  {
   "cell_type": "code",
   "execution_count": null,
   "metadata": {},
   "outputs": [],
   "source": [
    "df = bart[split_date:]\n",
    "fig = px.violin (df, \n",
    "    y = 'y', \n",
    "    x = 'day',\n",
    "    labels = {\n",
    "        'y' : 'Number of Daily Exits, Avg', \n",
    "        'day': 'Day of Week'})\n",
    "fig.update_layout(\n",
    "    title={\n",
    "        'text': 'BART Daily Ridership by Day of Week, March 20, 2020 - June 3, 2022',\n",
    "        'y':0.9,\n",
    "        'x':0.5,\n",
    "        'xanchor': 'center',\n",
    "        'yanchor': 'top'})\n",
    "fig.update_xaxes(categoryorder = 'total ascending')\n",
    "fig.show()\n",
    "\n",
    "# output HTML for embed\n",
    "fname = 'violin_post.txt'\n",
    "plot_out(fname, fig)"
   ]
  },
  {
   "cell_type": "code",
   "execution_count": null,
   "metadata": {},
   "outputs": [],
   "source": [
    "# descriptives pre-covid\n",
    "desc = bart[:split_date].groupby(['day']).describe()\n",
    "desc"
   ]
  },
  {
   "cell_type": "code",
   "execution_count": null,
   "metadata": {},
   "outputs": [],
   "source": [
    "# descriptives pre-covid\n",
    "desc_post = bart[split_date:].groupby(['day']).describe()\n",
    "desc_post"
   ]
  },
  {
   "cell_type": "code",
   "execution_count": null,
   "metadata": {},
   "outputs": [],
   "source": [
    "# Events for top-10 ridership dates\n",
    "notes = [\n",
    "    'SF Giants Parade (2012) & Halloween', \n",
    "    'Warriors Parade (2015), Oakland', \n",
    "    'Super Bowl L Village (2016)', \n",
    "    'Warriors Parade, Oakland (2017)', \n",
    "    'SF Giants Parade (2014) & Halloween', \n",
    "    'Warriors Parade, Oakland (2018)', \n",
    "    'Super Bowl L Village (2016)', \n",
    "    'Bay Bridge multi-day closure for (new) eastern span (2013)', \n",
    "    'Super Bowl L Village (2016)', \n",
    "    '??? Oakland A\\'s AML wildcard Game 6??? (2016)'\n",
    "]"
   ]
  },
  {
   "cell_type": "code",
   "execution_count": null,
   "metadata": {},
   "outputs": [],
   "source": [
    "# top 10 filter\n",
    "filter_n = 10\n",
    "top_n = bart.sort_values(by = ['y'], ascending = False).head(filter_n)[['day', 'y']]\n",
    "top_n['notes'] = notes\n",
    "top_n.reset_index(inplace = True)\n",
    "top_n.head()"
   ]
  },
  {
   "cell_type": "code",
   "execution_count": null,
   "metadata": {},
   "outputs": [],
   "source": [
    "df = top_n\n",
    "fig = px.bar(df, \n",
    "        x = 'y', \n",
    "        y = df.index, \n",
    "        orientation='h', \n",
    "        # hover_data = ['day', 'date'], \n",
    "        text = 'notes',\n",
    "    labels = {\n",
    "        'y': 'Total Exits', \n",
    "        'x': 'Date & Event'},\n",
    "        )\n",
    "\n",
    "fig.update_layout(\n",
    "    hovermode = 'y',\n",
    "    title={\n",
    "        'text': 'Top 10 Ridership Events',\n",
    "        'y':0.9,\n",
    "        'x':0.5,\n",
    "        'xanchor': 'center',\n",
    "        'yanchor': 'top'},\n",
    "        )\n",
    "fig.update_traces(hovertemplate=None)        \n",
    "fig.update_xaxes(categoryorder = 'total ascending')\n",
    "fig.show()\n",
    "\n",
    "fname = 'top_10.txt'\n",
    "plot_out(fname, fig)"
   ]
  },
  {
   "cell_type": "code",
   "execution_count": null,
   "metadata": {},
   "outputs": [],
   "source": [
    "fig = go.Figure(go.Scatter(\n",
    "            y = bart.y,\n",
    "            x = bart.ds.tolist(),\n",
    "            orientation='h'))\n",
    "\n",
    "fig.update_layout(\n",
    "    title={\n",
    "        'text': \"BART Daily Ridership, Jan 2011 - May 2022\",\n",
    "        'y':0.9,\n",
    "        'x':0.5,\n",
    "        'xanchor': 'center',\n",
    "        'yanchor': 'top'})\n",
    "fig.show()\n",
    "\n",
    "fname = 'all_daily.txt'\n",
    "plot_out(fname, fig)"
   ]
  }
 ],
 "metadata": {
  "kernelspec": {
   "display_name": "Python 3.8.9 ('newenv')",
   "language": "python",
   "name": "python3"
  },
  "language_info": {
   "codemirror_mode": {
    "name": "ipython",
    "version": 3
   },
   "file_extension": ".py",
   "mimetype": "text/x-python",
   "name": "python",
   "nbconvert_exporter": "python",
   "pygments_lexer": "ipython3",
   "version": "3.8.9"
  },
  "orig_nbformat": 4,
  "vscode": {
   "interpreter": {
    "hash": "54cd39fd9ba0db70c26ee1f2e491e152bd9a28fb5822b400132d331233796439"
   }
  }
 },
 "nbformat": 4,
 "nbformat_minor": 2
}
